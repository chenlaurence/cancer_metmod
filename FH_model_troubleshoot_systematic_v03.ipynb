{
 "cells": [
  {
   "cell_type": "code",
   "execution_count": 1,
   "metadata": {
    "collapsed": true
   },
   "outputs": [],
   "source": [
    "# Changes:\n",
    "# nh4 is now also -1000, and changed glucose to -100\n",
    "# Set \"MMMm\" and \"OCOAT1m\" rxn bounds to 0\n",
    "# Also, make sure EX_pi_e is also -1000, not sure if it is or not, but it shouldn't be limiting.\n",
    "# 5/26/16 shut off SUCOASm when setting up model\n",
    "# 5/26/16 Remove 5aop sink to verify\n",
    "# 5/28/16 turned SUCOA1sm back on\n",
    "# 6/4/16 Added DM_atp_c demand and constrained the lb to 0.9*1.07 or 0.0177 as obtained from maxing DM_atp_c via calculatefluxes\n",
    "# 6/8/16 tried to fix objective -- going to max DM_atp_c"
   ]
  },
  {
   "cell_type": "markdown",
   "metadata": {},
   "source": [
    "Dan -- 06/03\n",
    "\n",
    "First, use the metabolite uptakes and growth rates from one of the NCI60 lines (back from calculate fluxes). I'm not sure that it will matter which one you use.\n",
    "Be sure to constrain the growth rate both lower and upper bounds to the same value (with the 'b' argument).\n",
    "Then, change the objective to DM_atp_c and maximize that - extract a value of maybe like 0.9 of that maximum and constrain the lower bound on DM_atp_c to that value.\n",
    "Finally, change the objective back to growth and do pFBA to estimate the flux state. See if the TCA cycle looks more 'normal' now.\n",
    "If things are looking more normal, retry the ranking analysis and see if that had an effect (probably still want to KO both FUM and FUMm)."
   ]
  },
  {
   "cell_type": "markdown",
   "metadata": {},
   "source": [
    "### 5/28 Dan's directions: we need to fix the TCA cycle of the normal model.\n",
    "#### Action: Figure out where PDH flux is going -- what fluxes are using accoa_m\n",
    "\n",
    "* ACACT1m\n",
    "* ACCOACrm\n",
    "* ACGSm\n",
    "* ASPNATm\n",
    "* GLYATm\n",
    "* HMGCOASim"
   ]
  },
  {
   "cell_type": "markdown",
   "metadata": {},
   "source": [
    "### More systematic way of troubleshooting the FH model\n",
    "\n",
    "#### Overview of FH case:\n",
    "KO of mitochondrial FH should lead to build up of succoa. This buildup of succoa should feed into the heme synthesis cycle and cause an increase in heme synthesis pathway.\n",
    "\n",
    "#### Problem with our model: \n",
    "We see no increase in pheme\n",
    "\n",
    "#### Troubleshooting efforts thus far:\n",
    "* Set up the model to try to turn on the heme pathway.\n",
    "* KO both FUM and FUMm since the model may be trying to use both.\n",
    "* Track the flow of metabolites starting from malate, through succoa, through the heme synthesis pathway\n",
    "\n",
    "#### New troubleshooting trial and errors:\n",
    "* (1) Going to try KO FUM (non-mitochondrial) in healthy state since there is 0 flux going through FUMm -- a modeling eror since TCA cycle is in the mitochondria. Result: We see a noticeable backup in the TCA cycle from FUMm to SUCD1m. However, there is no flux going through SUCOAS1m. Action: Need to find source of where succ is leaving and force it through SUCOA1sm\n",
    "\n",
    "* (2) Going to find where else succ_m can go since it's not going into SUCOAS1m. Results: All flux from SUCD1m is going into SUCCtm. Action: Shut off SUCCtm when setting up the model and observe\n",
    "\n",
    "* (3) Shut off SUCCtm and run model. Results: Flux is properly forced through heme synthesis when FH is KO.\n",
    "\n",
    "#### Results after finishing (3):\n",
    "Pheme is properly synthesized after FH KO. However, no pheme synthesis in normal healthy state so there is no \"differential\" but only an activation of pheme production.\n"
   ]
  },
  {
   "cell_type": "code",
   "execution_count": 2,
   "metadata": {
    "collapsed": false
   },
   "outputs": [
    {
     "name": "stderr",
     "output_type": "stream",
     "text": [
      "cobra/io/__init__.py:17 \u001b[1;31mUserWarning\u001b[0m: cobra.io.sbml requires libsbml\n",
      "cobra/io/mat.py:136 \u001b[1;31mFutureWarning\u001b[0m: elementwise == comparison failed and returning scalar instead; this will raise an error or perform elementwise comparison in the future.\n"
     ]
    }
   ],
   "source": [
    "from cobra import Reaction\n",
    "import escher\n",
    "import escher.urls\n",
    "import cobra\n",
    "import cobra.test\n",
    "import json\n",
    "import os\n",
    "import string\n",
    "from IPython.display import HTML\n",
    "from cobra.flux_analysis.parsimonious import optimize_minimal_flux\n",
    "model = cobra.io.load_matlab_model('/Users/LAURENCE/Desktop/Senior Design/RECON1', 'RECON1')"
   ]
  },
  {
   "cell_type": "code",
   "execution_count": 3,
   "metadata": {
    "collapsed": false
   },
   "outputs": [
    {
     "name": "stdout",
     "output_type": "stream",
     "text": [
      "['DM_etha_c', 'EX_peplys_e', 'EX_Tyr_ggn_e', 'EX_arg__L_e', 'EX_asn__L_e', 'EX_asp__L_e', 'EX_chol_e', 'EX_cl_e', 'EX_glc__D_e', 'EX_gln__L_e', 'EX_gly_e', 'EX_h_e', 'EX_h2o_e', 'EX_ile__L_e', 'EX_k_e', 'EX_leu__L_e', 'EX_lys__L_e', 'EX_na1_e', 'EX_nh4_e', 'EX_o2_e', 'EX_phe__L_e', 'EX_pi_e', 'EX_pro__L_e', 'EX_ser__L_e', 'EX_thr__L_e', 'EX_trp__L_e', 'EX_tyr__L_e', 'EX_val__L_e']\n"
     ]
    }
   ],
   "source": [
    "#creat ethanalamine demand\n",
    "#metabolite is etha_c\n",
    "\n",
    "DM_etha_c = Reaction('DM_etha_c')\n",
    "DM_etha_c.name = DM_etha_c\n",
    "\n",
    "etha_c = model.metabolites.get_by_id('etha_c')\n",
    "\n",
    "DM_etha_c.add_metabolites({etha_c: -1})\n",
    "model.add_reaction(DM_etha_c)\n",
    "\n",
    "#create a transporter for this\n",
    "\n",
    "Tyr_ggnt = Reaction('Tyr_ggnt')\n",
    "Tyr_ggnt.name = Tyr_ggnt\n",
    "\n",
    "Tyr_ggn_e = model.metabolites.get_by_id('Tyr_ggn_e')\n",
    "Tyr_ggn_c = model.metabolites.get_by_id('Tyr_ggn_c')\n",
    "\n",
    "Tyr_ggnt.add_metabolites({Tyr_ggn_e: -1, Tyr_ggn_c: 1})\n",
    "model.add_reaction(Tyr_ggnt)\n",
    "\n",
    "DM_etha_c.lower_bound = -1\n",
    "Tyr_ggnt.lower_bound = -1000\n",
    "\n",
    "except_EX_names = '''DM_etha_c, EX_peplys_e, EX_Tyr_ggn_e, EX_arg__L_e, EX_asn__L_e, EX_asp__L_e, EX_chol_e, EX_cl_e, EX_glc__D_e, EX_gln__L_e, EX_gly_e, EX_h_e, EX_h2o_e, EX_ile__L_e, EX_k_e, EX_leu__L_e, EX_lys__L_e, EX_na1_e, EX_nh4_e, EX_o2_e, EX_phe__L_e, EX_pi_e, EX_pro__L_e, EX_ser__L_e, EX_thr__L_e, EX_trp__L_e, EX_tyr__L_e, EX_val__L_e'''\n",
    "except_EX_names_split = except_EX_names.split(', ')\n",
    "print except_EX_names_split\n",
    "\n",
    "# Changing all lower bounds to 0 except the given reactions above\n",
    "\n",
    "for a in model.reactions[1188:1591]:\n",
    "    a.lower_bound = 0\n",
    "\n",
    "model.reactions.get_by_id('EX_yvite_e').lower_bound = 0\n",
    "model.reactions.get_by_id('EX_10fthf5glu_e').lower_bound = 0\n",
    "    \n",
    "for b in model.reactions[1188:1591]:\n",
    "    for c in range(len(except_EX_names_split)):  \n",
    "        if b.id  == except_EX_names_split[c]:\n",
    "            b.lower_bound = -1\n",
    "            \n",
    "biomass_NCI60 = Reaction('biomass_NCI60')\n",
    "biomass_NCI60.name = biomass_NCI60\n",
    "\n",
    "ala_L_c = model.metabolites.get_by_id('ala__L_c')\n",
    "arg_L_c = model.metabolites.get_by_id('arg__L_c')\n",
    "asn_L_c = model.metabolites.get_by_id('asn__L_c')\n",
    "asp_L_c = model.metabolites.get_by_id('asp__L_c')\n",
    "atp_c = model.metabolites.get_by_id('atp_c')\n",
    "clpn_hs_c = model.metabolites.get_by_id('clpn_hs_c')\n",
    "ctp_c = model.metabolites.get_by_id('ctp_c')\n",
    "dag_hs_c = model.metabolites.get_by_id('dag_hs_c')\n",
    "datp_c = model.metabolites.get_by_id('datp_c')\n",
    "dctp_c = model.metabolites.get_by_id('dctp_c')\n",
    "dgtp_c = model.metabolites.get_by_id('dgtp_c')\n",
    "dttp_c = model.metabolites.get_by_id('dttp_c')\n",
    "gln_L_c = model.metabolites.get_by_id('gln__L_c')\n",
    "glu_L_c = model.metabolites.get_by_id('glu__L_c')\n",
    "gly_c = model.metabolites.get_by_id('gly_c')\n",
    "glygn2_c = model.metabolites.get_by_id('glygn2_c')\n",
    "gtp_c = model.metabolites.get_by_id('gtp_c')\n",
    "h2o_c = model.metabolites.get_by_id('h2o_c')\n",
    "hdca_c = model.metabolites.get_by_id('hdca_c')\n",
    "hdcea_c = model.metabolites.get_by_id('hdcea_c')\n",
    "ile_L_c = model.metabolites.get_by_id('ile__L_c')\n",
    "leu_L_c = model.metabolites.get_by_id('leu__L_c')\n",
    "lpchol_hs_c = model.metabolites.get_by_id('lpchol_hs_c')\n",
    "lys_L_c = model.metabolites.get_by_id('lys__L_c')\n",
    "mag_hs_c = model.metabolites.get_by_id('mag_hs_c')\n",
    "ocdca_c = model.metabolites.get_by_id('ocdca_c')\n",
    "ocdcea_c = model.metabolites.get_by_id('ocdcea_c')\n",
    "pa_hs_c = model.metabolites.get_by_id('pa_hs_c')\n",
    "pail_hs_c = model.metabolites.get_by_id('pail_hs_c')\n",
    "pchol_hs_c = model.metabolites.get_by_id('pchol_hs_c')\n",
    "pe_hs_c = model.metabolites.get_by_id('pe_hs_c')\n",
    "phe_L_c = model.metabolites.get_by_id('phe__L_c')\n",
    "ps_hs_c = model.metabolites.get_by_id('ps_hs_c')\n",
    "ser_L_c = model.metabolites.get_by_id('ser__L_c')\n",
    "sphmyln_hs_c = model.metabolites.get_by_id('sphmyln_hs_c')\n",
    "thr_L_c = model.metabolites.get_by_id('thr__L_c')\n",
    "trp_L_c = model.metabolites.get_by_id('trp__L_c')\n",
    "tyr_L_c = model.metabolites.get_by_id('tyr__L_c')\n",
    "utp_c = model.metabolites.get_by_id('utp_c')\n",
    "val_L_c = model.metabolites.get_by_id('val__L_c')\n",
    "pro_L_m = model.metabolites.get_by_id('pro__L_m')\n",
    "chsterol_r = model.metabolites.get_by_id('chsterol_r')\n",
    "xolest_hs_r = model.metabolites.get_by_id('xolest_hs_r')\n",
    "adp_c = model.metabolites.get_by_id('adp_c')\n",
    "h_c = model.metabolites.get_by_id('h_c')\n",
    "pi_c = model.metabolites.get_by_id('pi_c')\n",
    "\n",
    "#remove ocdca and ocdcea\n",
    "# added xolest value to cholesterol in biomass and remove xolest\n",
    "\n",
    "biomass_NCI60.add_metabolites({ala_L_c: -0.587929, arg_L_c: -0.380280, asn_L_c: -0.323313, asp_L_c: -0.261396, \n",
    "                               atp_c: -35.033540, clpn_hs_c: -0.000624, ctp_c: -0.033435, dag_hs_c: -0.001032, \n",
    "                               datp_c: -0.014557, dctp_c: -0.009770, dgtp_c: -0.009748, dttp_c: -0.014546,\n",
    "                               gln_L_c: -0.319051, glu_L_c: -0.387401, gly_c: -0.504294, glygn2_c: -0.034479,\n",
    "                               gtp_c: -0.055967, h2o_c: -35.000000, hdca_c: -0.008293, hdcea_c: -0.003315, \n",
    "                               ile_L_c: -0.319813, leu_L_c: -0.548692, lpchol_hs_c: -0.002470, lys_L_c: -0.552717, \n",
    "                               mag_hs_c: -0.001456, pa_hs_c: -0.010645,\n",
    "                               pail_hs_c: -0.005016, pchol_hs_c: -0.022878, pe_hs_c: -0.018211, phe_L_c: -0.170743,\n",
    "                               ps_hs_c: -0.006808, ser_L_c: -0.385852, sphmyln_hs_c: -0.010215, thr_L_c: -0.378004, \n",
    "                               trp_L_c: -0.039847, tyr_L_c: -0.150141, utp_c: -0.063323, val_L_c: -0.385554,\n",
    "                               pro_L_m: -0.237850, chsterol_r: -0.054102,  adp_c: 35.000000, \n",
    "                               h_c: 35.000000, pi_c: 35.000000})\n",
    "\n",
    "model.add_reaction(biomass_NCI60)\n",
    "my_objective = model.reactions.get_by_id('biomass_NCI60')\n",
    "model.change_objective(my_objective)"
   ]
  },
  {
   "cell_type": "markdown",
   "metadata": {},
   "source": [
    "### Adding and constraining DM_atp_c\n",
    "\n",
    "\n",
    "atp+h2o->adp+pi+h\n"
   ]
  },
  {
   "cell_type": "code",
   "execution_count": 4,
   "metadata": {
    "collapsed": true
   },
   "outputs": [],
   "source": [
    "# Adding DM_atp_c reaction\n",
    "\n",
    "DM_atp_c = Reaction('DM_atp_c')\n",
    "DM_atp_c.name = DM_atp_c\n",
    "\n",
    "atp_c = model.metabolites.get_by_id('atp_c')\n",
    "adp_c = model.metabolites.get_by_id('adp_c')\n",
    "h2o_c = model.metabolites.get_by_id('h2o_c')\n",
    "h_c = model.metabolites.get_by_id('h_c')\n",
    "pi_c = model.metabolites.get_by_id('pi_c')\n",
    "\n",
    "\n",
    "DM_atp_c.add_metabolites({atp_c: -1, h2o_c: -1, adp_c: 1, pi_c: 1, h_c: 1})\n",
    "model.add_reaction(DM_atp_c)\n",
    "\n",
    "# Setting lower bounds for DM_atp_c as per Dan\n",
    "\n",
    "#model.reactions.get_by_id('DM_atp_c').lower_bound = 0.9*1.07"
   ]
  },
  {
   "cell_type": "markdown",
   "metadata": {},
   "source": [
    "### Feeding the cell w fe2, o2, h, and nh4 for heme"
   ]
  },
  {
   "cell_type": "code",
   "execution_count": 5,
   "metadata": {
    "collapsed": false
   },
   "outputs": [],
   "source": [
    "model.reactions.get_by_id('EX_h_e').lower_bound = -1000\n",
    "model.reactions.get_by_id('EX_o2_e').lower_bound = -1000\n",
    "model.reactions.get_by_id('EX_fe2_e').lower_bound = -1000\n",
    "model.reactions.get_by_id('EX_nh4_e').lower_bound = -1000"
   ]
  },
  {
   "cell_type": "markdown",
   "metadata": {},
   "source": [
    "### Setting glucose to -100"
   ]
  },
  {
   "cell_type": "code",
   "execution_count": 6,
   "metadata": {
    "collapsed": false
   },
   "outputs": [],
   "source": [
    "model.reactions.get_by_id('EX_glc__D_e').lower_bound = -100"
   ]
  },
  {
   "cell_type": "markdown",
   "metadata": {},
   "source": [
    "### Setting EX_pi_e to not be limiting, initially lb was -1"
   ]
  },
  {
   "cell_type": "code",
   "execution_count": 7,
   "metadata": {
    "collapsed": false
   },
   "outputs": [],
   "source": [
    "model.reactions.get_by_id('EX_pi_e').lower_bound = -1000"
   ]
  },
  {
   "cell_type": "markdown",
   "metadata": {},
   "source": [
    "### Set \"MMMm\", \"OCOAT1m\", rxn bounds to 0"
   ]
  },
  {
   "cell_type": "code",
   "execution_count": null,
   "metadata": {
    "collapsed": false
   },
   "outputs": [],
   "source": [
    "model.reactions.get_by_id('MMMm').lower_bound = 0\n",
    "model.reactions.get_by_id('MMMm').upper_bound = 0\n",
    "\n",
    "model.reactions.get_by_id('OCOAT1m').lower_bound = 0\n",
    "model.reactions.get_by_id('OCOAT1m').upper_bound = 0\n",
    "\n",
    "'''model.reactions.get_by_id('SUCOASm').lower_bound = 0\n",
    "model.reactions.get_by_id('SUCOASm').upper_bound = 0'''"
   ]
  },
  {
   "cell_type": "markdown",
   "metadata": {
    "collapsed": true
   },
   "source": [
    "## (1)  KO FUM non mitochondrial"
   ]
  },
  {
   "cell_type": "code",
   "execution_count": 8,
   "metadata": {
    "collapsed": true
   },
   "outputs": [],
   "source": [
    "model.reactions.get_by_id('FUM').lower_bound = 0\n",
    "model.reactions.get_by_id('FUM').upper_bound = 0"
   ]
  },
  {
   "cell_type": "markdown",
   "metadata": {},
   "source": [
    "## (3) Shut off SUCCtm"
   ]
  },
  {
   "cell_type": "code",
   "execution_count": null,
   "metadata": {
    "collapsed": true
   },
   "outputs": [],
   "source": [
    "model.reactions.get_by_id('SUCCtm').lower_bound = 0\n",
    "model.reactions.get_by_id('SUCCtm').upper_bound = 0"
   ]
  },
  {
   "cell_type": "markdown",
   "metadata": {},
   "source": [
    "### Finding the \"healthy\" flux of FH\n",
    "http://bigg.ucsd.edu/universal/reactions/FUM\n",
    "##### Fumarate Hydratase named Fumarase as per Bigg (FUM)"
   ]
  },
  {
   "cell_type": "markdown",
   "metadata": {},
   "source": [
    "### Set DM_atp_c as objective"
   ]
  },
  {
   "cell_type": "code",
   "execution_count": 31,
   "metadata": {
    "collapsed": false
   },
   "outputs": [],
   "source": [
    "model.change_objective(model.reactions.get_by_id('DM_atp_c'))"
   ]
  },
  {
   "cell_type": "code",
   "execution_count": 32,
   "metadata": {
    "collapsed": false
   },
   "outputs": [
    {
     "data": {
      "text/plain": [
       "1.0"
      ]
     },
     "execution_count": 32,
     "metadata": {},
     "output_type": "execute_result"
    }
   ],
   "source": [
    "model.reactions.get_by_id('DM_atp_c').objective_coefficient"
   ]
  },
  {
   "cell_type": "code",
   "execution_count": 33,
   "metadata": {
    "collapsed": true
   },
   "outputs": [],
   "source": [
    "solution = model.optimize()"
   ]
  },
  {
   "cell_type": "code",
   "execution_count": 34,
   "metadata": {
    "collapsed": false
   },
   "outputs": [
    {
     "data": {
      "text/plain": [
       "1000.0"
      ]
     },
     "execution_count": 34,
     "metadata": {},
     "output_type": "execute_result"
    }
   ],
   "source": [
    "solution.f"
   ]
  },
  {
   "cell_type": "code",
   "execution_count": 35,
   "metadata": {
    "collapsed": false
   },
   "outputs": [
    {
     "data": {
      "text/plain": [
       "1000.0"
      ]
     },
     "execution_count": 35,
     "metadata": {},
     "output_type": "execute_result"
    }
   ],
   "source": [
    "solution.x_dict['DM_atp_c']"
   ]
  },
  {
   "cell_type": "code",
   "execution_count": 28,
   "metadata": {
    "collapsed": false
   },
   "outputs": [],
   "source": [
    "# objective troubleshoot\n",
    "\n",
    "coeff_array = [0]*len(model.reactions)\n",
    "counter = 0\n",
    "for i in model.reactions:\n",
    "    coeff_array[counter] = model.reactions.get_by_id(str(i)).objective_coefficient\n",
    "    counter = counter + 1\n",
    "    "
   ]
  },
  {
   "cell_type": "code",
   "execution_count": 30,
   "metadata": {
    "collapsed": true
   },
   "outputs": [],
   "source": [
    "# objective troubleshoot\n",
    "\n",
    "import csv\n",
    "from itertools import izip\n",
    "\n",
    "with open('objective_coeff.csv', 'wb') as f:\n",
    "    writer = csv.writer(f)\n",
    "    writer.writerows(izip(model.reactions, coeff_array))"
   ]
  },
  {
   "cell_type": "code",
   "execution_count": null,
   "metadata": {
    "collapsed": true
   },
   "outputs": [],
   "source": []
  },
  {
   "cell_type": "code",
   "execution_count": null,
   "metadata": {
    "collapsed": true
   },
   "outputs": [],
   "source": []
  },
  {
   "cell_type": "code",
   "execution_count": 12,
   "metadata": {
    "collapsed": false
   },
   "outputs": [
    {
     "data": {
      "text/plain": [
       "1.8092441499250427"
      ]
     },
     "execution_count": 12,
     "metadata": {},
     "output_type": "execute_result"
    }
   ],
   "source": [
    "solution.f"
   ]
  },
  {
   "cell_type": "code",
   "execution_count": 13,
   "metadata": {
    "collapsed": false
   },
   "outputs": [
    {
     "data": {
      "text/plain": [
       "0.0"
      ]
     },
     "execution_count": 13,
     "metadata": {},
     "output_type": "execute_result"
    }
   ],
   "source": [
    "solution.x_dict['DM_atp_c']"
   ]
  },
  {
   "cell_type": "code",
   "execution_count": null,
   "metadata": {
    "collapsed": true
   },
   "outputs": [],
   "source": [
    "p_solution = cobra.flux_analysis.parsimonious.optimize_minimal_flux(model)"
   ]
  },
  {
   "cell_type": "code",
   "execution_count": null,
   "metadata": {
    "collapsed": false
   },
   "outputs": [],
   "source": [
    "p_solution.f"
   ]
  },
  {
   "cell_type": "code",
   "execution_count": null,
   "metadata": {
    "collapsed": true
   },
   "outputs": [],
   "source": []
  },
  {
   "cell_type": "code",
   "execution_count": null,
   "metadata": {
    "collapsed": true
   },
   "outputs": [],
   "source": []
  },
  {
   "cell_type": "code",
   "execution_count": null,
   "metadata": {
    "collapsed": false
   },
   "outputs": [],
   "source": [
    "p_solution.x_dict['DM_atp_c']"
   ]
  },
  {
   "cell_type": "code",
   "execution_count": null,
   "metadata": {
    "collapsed": false
   },
   "outputs": [],
   "source": [
    "model.reactions.get_by_id('FUMm')\n",
    "p_solution.x_dict['FUMm']"
   ]
  },
  {
   "cell_type": "code",
   "execution_count": null,
   "metadata": {
    "collapsed": false
   },
   "outputs": [],
   "source": [
    "print \"the normal flux of FH is %f in a healthy cell when optimized for growth\" %(p_solution.x_dict['FUMm'])"
   ]
  },
  {
   "cell_type": "markdown",
   "metadata": {},
   "source": [
    "### Adding Malate (mal__L_m) sink reaction that has the same flux as normal FH flux determined via pFBA"
   ]
  },
  {
   "cell_type": "code",
   "execution_count": null,
   "metadata": {
    "collapsed": false
   },
   "outputs": [],
   "source": [
    "'''mal__L_m = model.metabolites.get_by_id('mal__L_m')\n",
    "mal__L_m_sink = Reaction('mal__L_m_sink')\n",
    "mal__L_m_sink.name = mal__L_m_sink\n",
    "mal__L_m_sink.add_metabolites({mal__L_m: -1})\n",
    "model.add_reaction(mal__L_m_sink)'''"
   ]
  },
  {
   "cell_type": "code",
   "execution_count": null,
   "metadata": {
    "collapsed": false
   },
   "outputs": [],
   "source": [
    "'''# constraining the sink flux to that of normal FH flux\n",
    "model.reactions.get_by_id(\"mal__L_m_sink\").upper_bound = p_solution.x_dict['FUM']\n",
    "model.reactions.get_by_id(\"mal__L_m_sink\").lower_bound = p_solution.x_dict['FUM']'''"
   ]
  },
  {
   "cell_type": "markdown",
   "metadata": {},
   "source": [
    "### Constraining FH flux"
   ]
  },
  {
   "cell_type": "code",
   "execution_count": null,
   "metadata": {
    "collapsed": true
   },
   "outputs": [],
   "source": [
    "model.reactions.get_by_id(\"FUMm\").upper_bound = p_solution.x_dict['FUMm']\n",
    "model.reactions.get_by_id(\"FUMm\").lower_bound = p_solution.x_dict['FUMm']"
   ]
  },
  {
   "cell_type": "code",
   "execution_count": null,
   "metadata": {
    "collapsed": false
   },
   "outputs": [],
   "source": [
    "print model.reactions.get_by_id(\"FUMm\").upper_bound\n",
    "print model.reactions.get_by_id(\"FUMm\").lower_bound"
   ]
  },
  {
   "cell_type": "markdown",
   "metadata": {},
   "source": [
    "## Create and set  5aop_m  flux thing as objective"
   ]
  },
  {
   "cell_type": "code",
   "execution_count": null,
   "metadata": {
    "collapsed": false
   },
   "outputs": [],
   "source": [
    "'''fiveaop_m = model.metabolites.get_by_id('5aop_m')\n",
    "fiveaop_m_sink = Reaction('fiveaop_m_sink')\n",
    "fiveaop_m_sink.name = fiveaop_m_sink\n",
    "fiveaop_m_sink.add_metabolites({fiveaop_m: -1})\n",
    "model.add_reaction(fiveaop_m_sink)\n",
    "\n",
    "my_objective = model.reactions.get_by_id('fiveaop_m_sink')\n",
    "model.change_objective(my_objective)'''"
   ]
  },
  {
   "cell_type": "markdown",
   "metadata": {},
   "source": [
    "## pFBA with 5aop and malate sink"
   ]
  },
  {
   "cell_type": "code",
   "execution_count": null,
   "metadata": {
    "collapsed": true
   },
   "outputs": [],
   "source": [
    "p_solution = cobra.flux_analysis.parsimonious.optimize_minimal_flux(model)"
   ]
  },
  {
   "cell_type": "code",
   "execution_count": null,
   "metadata": {
    "collapsed": false
   },
   "outputs": [],
   "source": [
    "p_solution.x_dict['SUCOAS1m']"
   ]
  },
  {
   "cell_type": "markdown",
   "metadata": {},
   "source": [
    "## Knocking out ARGSS"
   ]
  },
  {
   "cell_type": "code",
   "execution_count": null,
   "metadata": {
    "collapsed": true
   },
   "outputs": [],
   "source": [
    "# FH KO\n",
    "model.reactions.get_by_id(\"FUM\").upper_bound = 0\n",
    "model.reactions.get_by_id(\"FUM\").lower_bound = 0\n",
    "\n",
    "model.reactions.get_by_id(\"FUMm\").upper_bound = 0\n",
    "model.reactions.get_by_id(\"FUMm\").lower_bound = 0"
   ]
  },
  {
   "cell_type": "code",
   "execution_count": null,
   "metadata": {
    "collapsed": false
   },
   "outputs": [],
   "source": [
    "# Now calculate the pFBA\n",
    "p_solution_FHKO = cobra.flux_analysis.parsimonious.optimize_minimal_flux(model)"
   ]
  },
  {
   "cell_type": "markdown",
   "metadata": {
    "collapsed": true
   },
   "source": [
    "## Getting the diff between 2 pFBA solns"
   ]
  },
  {
   "cell_type": "code",
   "execution_count": null,
   "metadata": {
    "collapsed": false
   },
   "outputs": [],
   "source": [
    "#p_solution_KO - p_solution_normal\n",
    "p_solution_diff = {key: p_solution_FHKO.x_dict[key] - p_solution.x_dict.get(key, 0) for key in p_solution_FHKO.x_dict.keys()}"
   ]
  },
  {
   "cell_type": "markdown",
   "metadata": {},
   "source": [
    "## Plotting the difference"
   ]
  },
  {
   "cell_type": "code",
   "execution_count": null,
   "metadata": {
    "collapsed": false
   },
   "outputs": [],
   "source": [
    "b = escher.Builder(map_json='/Users/LAURENCE/Desktop/Senior Design/RECON1.Central.json',\n",
    "                   reaction_data=p_solution_diff,\n",
    "                   # color and size according to the absolute value\n",
    "                   reaction_styles=['color', 'size', 'abs', 'text'],\n",
    "                   # change the default colors\n",
    "                   reaction_scale=[{'type': 'min', 'color': 'red', 'size': 4},\n",
    "                                   {'type': 'mean', 'color': 'green', 'size': 20},\n",
    "                                   {'type': 'max', 'color': 'blue', 'size': 40}],\n",
    "                   # only show the primary metabolites\n",
    "                   hide_secondary_metabolites=True)\n",
    "b.display_in_notebook(scroll_behavior='pan')"
   ]
  },
  {
   "cell_type": "code",
   "execution_count": null,
   "metadata": {
    "collapsed": true
   },
   "outputs": [],
   "source": []
  },
  {
   "cell_type": "code",
   "execution_count": null,
   "metadata": {
    "collapsed": false
   },
   "outputs": [],
   "source": [
    "# For some reason FUMm has flux going through it in KO model\n",
    "\n",
    "print p_solution.x_dict['FUMm']\n",
    "print p_solution_FHKO.x_dict['FUMm']\n",
    "\n",
    "print p_solution.x_dict['FUM']\n",
    "print p_solution_FHKO.x_dict['FUM']"
   ]
  },
  {
   "cell_type": "markdown",
   "metadata": {},
   "source": [
    "## (2) -- it appears that all flux from SUCD1m is going into SUCCtm"
   ]
  },
  {
   "cell_type": "code",
   "execution_count": null,
   "metadata": {
    "collapsed": false
   },
   "outputs": [],
   "source": [
    "# This indicates that flux is going through SUCD1m normally (without maxing 5aop) and has flux when FH is KO\n",
    "\n",
    "print p_solution.x_dict['SUCD1m']\n",
    "print p_solution_FHKO.x_dict['SUCD1m']\n",
    "\n",
    "# Possible fluxes that uses succ_m:\n",
    "# OCOAT1m, SSALxm (fluxes both 0), SUCCtm (fluxes both 0), SUCOASm (both fluxes SUCOASm)\n",
    "# NOTE: OCAOT1m was already shut off\n",
    "# ACTION: shut off SUCOASm when setting up the model\n",
    "\n",
    "print p_solution.x_dict['OCOAT1m']\n",
    "print p_solution_FHKO.x_dict['OCOAT1m']\n",
    "\n",
    "print p_solution.x_dict['SSALxm']\n",
    "print p_solution_FHKO.x_dict['SSALxm']\n",
    "\n",
    "print p_solution.x_dict['SUCCtm']\n",
    "print p_solution_FHKO.x_dict['SUCCtm']"
   ]
  },
  {
   "cell_type": "code",
   "execution_count": null,
   "metadata": {
    "collapsed": false
   },
   "outputs": [],
   "source": [
    "model.reactions.get_by_id('MALSO3tm')\n",
    "model.reactions.get_by_id('MALSO4tm')\n",
    "model.reactions.get_by_id('MALtm')\n",
    "model.reactions.get_by_id('MALTSULtm')\n",
    "model.reactions.get_by_id('MALSO3tm')\n",
    "model.reactions.get_by_id('ME1m')\n",
    "# the only p_solution_FHKO with a flux other than malate is MALtm\n",
    "# seems like a relatively high flux state for a cell...\n",
    "print \"MALtm flux normal:   \" + str(p_solution.x_dict['MALtm'])\n",
    "print \"MALtm flux KO:   \" + str(p_solution_FHKO.x_dict['MALtm'])"
   ]
  },
  {
   "cell_type": "code",
   "execution_count": null,
   "metadata": {
    "collapsed": false
   },
   "outputs": [],
   "source": [
    "# Nothing is going through SUCOA1sm\n",
    "\n",
    "model.reactions.get_by_id('SUCOAS1m')\n",
    "print p_solution.x_dict['SUCOAS1m']\n",
    "print p_solution_FHKO.x_dict['SUCOAS1m']"
   ]
  },
  {
   "cell_type": "code",
   "execution_count": null,
   "metadata": {
    "collapsed": false
   },
   "outputs": [],
   "source": [
    "# 5aop sink is the same value\n",
    "\n",
    "#print p_solution.x_dict['fiveaop_m_sink']\n",
    "#print p_solution_FHKO.x_dict['fiveaop_m_sink']"
   ]
  },
  {
   "cell_type": "code",
   "execution_count": null,
   "metadata": {
    "collapsed": false
   },
   "outputs": [],
   "source": [
    "print p_solution.x_dict['ALASm']\n",
    "print p_solution_FHKO.x_dict['ALASm']"
   ]
  },
  {
   "cell_type": "code",
   "execution_count": null,
   "metadata": {
    "collapsed": false
   },
   "outputs": [],
   "source": [
    "print p_solution.x_dict['HMBS']\n",
    "print p_solution_FHKO.x_dict['HMBS']\n",
    "\n",
    "print p_solution.x_dict['5AOPtm']\n",
    "print p_solution_FHKO.x_dict['5AOPtm']\n",
    "\n",
    "print p_solution.x_dict['PPBNGS']\n",
    "print p_solution_FHKO.x_dict['PPBNGS']\n",
    "\n",
    "print p_solution.x_dict['HMBS']\n",
    "print p_solution_FHKO.x_dict['HMBS']\n",
    "\n",
    "print p_solution.x_dict['UPP3S']\n",
    "print p_solution_FHKO.x_dict['UPP3S']\n",
    "\n",
    "print p_solution.x_dict['UPPDC1']\n",
    "print p_solution_FHKO.x_dict['UPPDC1']\n",
    "\n",
    "print p_solution.x_dict['CPPPGO']\n",
    "print p_solution_FHKO.x_dict['CPPPGO']\n",
    "\n",
    "print p_solution.x_dict['PPPGOm']\n",
    "print p_solution_FHKO.x_dict['PPPGOm']"
   ]
  },
  {
   "cell_type": "code",
   "execution_count": null,
   "metadata": {
    "collapsed": false
   },
   "outputs": [],
   "source": [
    "# This is the soln producing pheme\n",
    "print p_solution.x_dict['FCLTm']\n",
    "print p_solution_FHKO.x_dict['FCLTm']"
   ]
  },
  {
   "cell_type": "markdown",
   "metadata": {},
   "source": [
    "## Escher map of fluxes of normal model (only FUM, non-mitochondrial, is KO)"
   ]
  },
  {
   "cell_type": "code",
   "execution_count": null,
   "metadata": {
    "collapsed": false
   },
   "outputs": [],
   "source": [
    "b = escher.Builder(map_json='/Users/LAURENCE/Desktop/Senior Design/RECON1.Central.json',\n",
    "                   reaction_data=p_solution.x_dict,\n",
    "                   # color and size according to the absolute value\n",
    "                   reaction_styles=['color', 'size', 'abs', 'text'],\n",
    "                   # change the default colors\n",
    "                   reaction_scale=[{'type': 'min', 'color': 'red', 'size': 4},\n",
    "                                   {'type': 'mean', 'color': 'green', 'size': 20},\n",
    "                                   {'type': 'max', 'color': 'blue', 'size': 40}],\n",
    "                   # only show the primary metabolites\n",
    "                   hide_secondary_metabolites=True)\n",
    "b.display_in_notebook(scroll_behavior='pan')"
   ]
  },
  {
   "cell_type": "code",
   "execution_count": null,
   "metadata": {
    "collapsed": false
   },
   "outputs": [],
   "source": [
    "model.reactions.get_by_id('SUCOASm').lower_bound"
   ]
  },
  {
   "cell_type": "code",
   "execution_count": null,
   "metadata": {
    "collapsed": false
   },
   "outputs": [],
   "source": [
    "model.reactions.get_by_id('SUCOASm').upper_bound"
   ]
  },
  {
   "cell_type": "markdown",
   "metadata": {
    "collapsed": true
   },
   "source": [
    "### Which fluxes are using accoa_m?\n",
    "Potential:\n",
    "* ACACT1m\n",
    "* ACCOACrm\n",
    "* ACGSm\n",
    "* ASPNATm\n",
    "* GLYATm\n",
    "* HMGCOASim"
   ]
  },
  {
   "cell_type": "code",
   "execution_count": null,
   "metadata": {
    "collapsed": false
   },
   "outputs": [],
   "source": [
    "print \"PDHm flux:   \" + str(p_solution.x_dict['PDHm'])\n"
   ]
  },
  {
   "cell_type": "code",
   "execution_count": null,
   "metadata": {
    "collapsed": false
   },
   "outputs": [],
   "source": [
    "print \"ACACT1m flux:   \" + str(p_solution.x_dict['ACACT1m'])\n",
    "print \"ACCOACrm flux:   \" + str(p_solution.x_dict['ACCOACrm'])\n",
    "print \"ACGSm flux:   \" + str(p_solution.x_dict['ACGSm'])\n",
    "print \"ASPNATm flux:   \" + str(p_solution.x_dict['ASPNATm'])\n",
    "print \"GLYATm flux:   \" + str(p_solution.x_dict['GLYATm'])\n",
    "print \"HMGCOASim flux:   \" + str(p_solution.x_dict['HMGCOASim'])"
   ]
  },
  {
   "cell_type": "code",
   "execution_count": null,
   "metadata": {
    "collapsed": false
   },
   "outputs": [],
   "source": [
    "p_solution.x_dict['ACACT10m']"
   ]
  },
  {
   "cell_type": "code",
   "execution_count": null,
   "metadata": {
    "collapsed": true
   },
   "outputs": [],
   "source": [
    "'''<Reaction ACACT1r_copy1 at 0x1096ea850>,\n",
    " <Reaction ACACT10m at 0x1096ea910>,\n",
    " <Reaction ACACT1r_copy2 at 0x1096ea990>,\n",
    " <Reaction ACACT1m at 0x1096eaa50>,\n",
    " <Reaction ACACT1x at 0x1096eab90>,\n",
    " <Reaction ACACT4p at 0x1096eac50>,\n",
    " <Reaction ACACT5p at 0x1096ead10>,\n",
    " <Reaction ACACT6p at 0x1096eadd0>,\n",
    " <Reaction ACACT7p at 0x1096eae90>,\n",
    " <Reaction ACACT8p at 0x1096eaf50>,\n",
    " <Reaction ACACT9p at 0x1096fb050>,\n",
    " <Reaction ACACt2 at 0x1096fb110>,\n",
    " <Reaction ACACt2m at 0x1096fb250>,\n",
    " <Reaction ACACtx at 0x1096fb310>,'''"
   ]
  },
  {
   "cell_type": "code",
   "execution_count": null,
   "metadata": {
    "collapsed": true
   },
   "outputs": [],
   "source": [
    "import csv\n",
    "from itertools import izip\n",
    "\n",
    "with open('FH_troubleshoot_fluxes.csv', 'wb') as f:\n",
    "    writer = csv.writer(f)\n",
    "    writer.writerows(izip(model.reactions, p_solution.x))"
   ]
  },
  {
   "cell_type": "code",
   "execution_count": null,
   "metadata": {
    "collapsed": true
   },
   "outputs": [],
   "source": []
  }
 ],
 "metadata": {
  "kernelspec": {
   "display_name": "Python 2",
   "language": "python",
   "name": "python2"
  },
  "language_info": {
   "codemirror_mode": {
    "name": "ipython",
    "version": 2
   },
   "file_extension": ".py",
   "mimetype": "text/x-python",
   "name": "python",
   "nbconvert_exporter": "python",
   "pygments_lexer": "ipython2",
   "version": "2.7.11"
  }
 },
 "nbformat": 4,
 "nbformat_minor": 0
}
