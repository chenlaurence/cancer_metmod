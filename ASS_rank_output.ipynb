{
 "cells": [
  {
   "cell_type": "code",
   "execution_count": 1,
   "metadata": {
    "collapsed": false
   },
   "outputs": [
    {
     "name": "stderr",
     "output_type": "stream",
     "text": [
      "cobra/io/__init__.py:17 \u001b[1;31mUserWarning\u001b[0m: cobra.io.sbml requires libsbml\n"
     ]
    }
   ],
   "source": [
    "import escher\n",
    "import escher.urls\n",
    "import cobra\n",
    "import cobra.test\n",
    "import json\n",
    "import os\n",
    "from IPython.display import HTML\n",
    "\n",
    "# Make this local\n",
    "b = escher.Builder(map_json='/Users/LAURENCE/Desktop/Senior Design/RECON1.Central.json')\n",
    "#b.display_in_browser(scroll_behavior='pan')"
   ]
  },
  {
   "cell_type": "code",
   "execution_count": 2,
   "metadata": {
    "collapsed": false
   },
   "outputs": [
    {
     "name": "stdout",
     "output_type": "stream",
     "text": [
      "Growth rate: 3.20\n",
      "This is the flux of ARGSS in healthy cell optimizing for growth:   241.458508558\n"
     ]
    },
    {
     "name": "stderr",
     "output_type": "stream",
     "text": [
      "cobra/io/mat.py:136 \u001b[1;31mFutureWarning\u001b[0m: elementwise == comparison failed and returning scalar instead; this will raise an error or perform elementwise comparison in the future.\n"
     ]
    }
   ],
   "source": [
    "model = cobra.io.load_matlab_model('/Users/LAURENCE/Desktop/Senior Design/modelRecon2', 'modelRecon2')\n",
    "solution = model.optimize()\n",
    "print('Growth rate: %.2f' % solution.f)\n",
    "print \"This is the flux of ARGSS in healthy cell optimizing for growth:   \" + str(solution.x_dict['ARGSS'])"
   ]
  },
  {
   "cell_type": "code",
   "execution_count": 3,
   "metadata": {
    "collapsed": false
   },
   "outputs": [],
   "source": [
    "from cobra.flux_analysis.parsimonious import optimize_minimal_flux\n",
    "p_solution = cobra.flux_analysis.parsimonious.optimize_minimal_flux(model)"
   ]
  },
  {
   "cell_type": "code",
   "execution_count": 4,
   "metadata": {
    "collapsed": false
   },
   "outputs": [
    {
     "name": "stdout",
     "output_type": "stream",
     "text": [
      "241.458508558\n",
      "0.0\n"
     ]
    }
   ],
   "source": [
    "print solution.x_dict['ARGSS']\n",
    "print p_solution.x_dict['ARGSS']"
   ]
  },
  {
   "cell_type": "code",
   "execution_count": 5,
   "metadata": {
    "collapsed": false
   },
   "outputs": [
    {
     "name": "stdout",
     "output_type": "stream",
     "text": [
      "Initial lower bound:   -1.0\n",
      "Initial upper bound:   1000.0\n"
     ]
    }
   ],
   "source": [
    "print \"Initial lower bound:   \" + str(model.reactions[model.reactions.index('EX_arg_L(e)')].lower_bound)\n",
    "print \"Initial upper bound:   \" + str(model.reactions[model.reactions.index('EX_arg_L(e)')].upper_bound)"
   ]
  },
  {
   "cell_type": "code",
   "execution_count": 9,
   "metadata": {
    "collapsed": false
   },
   "outputs": [
    {
     "name": "stdout",
     "output_type": "stream",
     "text": [
      "New lower bound:   0\n",
      "New lower bound:   0\n"
     ]
    }
   ],
   "source": [
    "model.reactions[model.reactions.index('EX_arg_L(e)')].lower_bound = 0\n",
    "model.reactions[model.reactions.index('EX_arg_L(e)')].upper_bound = 0\n",
    "print \"New lower bound:   \" + str(model.reactions[model.reactions.index('EX_arg_L(e)')].lower_bound)\n",
    "print \"New lower bound:   \" + str(model.reactions[model.reactions.index('EX_arg_L(e)')].upper_bound)"
   ]
  },
  {
   "cell_type": "code",
   "execution_count": 10,
   "metadata": {
    "collapsed": false
   },
   "outputs": [],
   "source": [
    "solution_0ex_arg = model.optimize()\n",
    "p_solution_0ex_arg = cobra.flux_analysis.parsimonious.optimize_minimal_flux(model)"
   ]
  },
  {
   "cell_type": "code",
   "execution_count": 11,
   "metadata": {
    "collapsed": false
   },
   "outputs": [
    {
     "name": "stdout",
     "output_type": "stream",
     "text": [
      "18.9924745753\n",
      "0.0\n"
     ]
    }
   ],
   "source": [
    "print solution_0ex_arg.x_dict['ARGSS']\n",
    "print p_solution_0ex_arg.x_dict['ARGSS']"
   ]
  },
  {
   "cell_type": "code",
   "execution_count": null,
   "metadata": {
    "collapsed": true
   },
   "outputs": [],
   "source": []
  }
 ],
 "metadata": {
  "kernelspec": {
   "display_name": "Python 2",
   "language": "python",
   "name": "python2"
  },
  "language_info": {
   "codemirror_mode": {
    "name": "ipython",
    "version": 2
   },
   "file_extension": ".py",
   "mimetype": "text/x-python",
   "name": "python",
   "nbconvert_exporter": "python",
   "pygments_lexer": "ipython2",
   "version": "2.7.11"
  }
 },
 "nbformat": 4,
 "nbformat_minor": 0
}
