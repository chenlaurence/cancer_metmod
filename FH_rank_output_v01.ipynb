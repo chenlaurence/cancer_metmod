{
 "cells": [
  {
   "cell_type": "code",
   "execution_count": null,
   "metadata": {
    "collapsed": false
   },
   "outputs": [],
   "source": [
    "from cobra import Reaction\n",
    "import escher\n",
    "import escher.urls\n",
    "import cobra\n",
    "import cobra.test\n",
    "import json\n",
    "import os\n",
    "import string\n",
    "from IPython.display import HTML\n",
    "from cobra import Model, Reaction, Metabolite\n",
    "from cobra.flux_analysis.parsimonious import optimize_minimal_flux\n",
    "model = cobra.io.load_matlab_model('/Users/LAURENCE/Desktop/Senior Design/RECON1', 'RECON1')"
   ]
  },
  {
   "cell_type": "markdown",
   "metadata": {},
   "source": [
    "## 6/24/16 changes\n",
    "\n",
    "\n",
    "Can you try setting the lower bound on \n",
    "FTHFLi, \n",
    "FTHFL, and \n",
    "FTHFLm to 0 and recalculating the flux?\n",
    "\n",
    "The ones to set the lower bound to 0 are FTHFLi and FHTHLmi."
   ]
  },
  {
   "cell_type": "markdown",
   "metadata": {},
   "source": [
    "# 6/16/16 changes\n",
    "#Omar re-ran MATLAB calculate fluxes and got new values. Objective set as ATP isntead of growth\n",
    "#DM_ATP = 7.9939, biomass = 0.0177, EX_glc = -0.4882 --> result: not a huge change. need to look into constraining AA\n",
    "\n",
    "EX_arg__L_e = 0.0022\n",
    "EX_asn__L_e = -0.0058\n",
    "EX_asp__L_e = -0.0081\n",
    "EX_chol_e = -6.2386e-04\n",
    "EX_gln__L_e = -0.1202\n",
    "EX_gly_e =  -0.0019\n",
    "EX_ile__L_e = -0.0081\n",
    "EX_leu__L_e =   -0.0110\n",
    "EX_lys__L_e =   -0.0111\n",
    "EX_phe__L_e =  -0.0040\n",
    "EX_pro__L_e =  0.0045\n",
    "EX_ser__L_e =  -0.0167\n",
    "EX_trp__L_e = -0.0013\n",
    "EX_tyr__L_e = -0.0068\n",
    "EX_val__L_e =  -0.0079\n"
   ]
  },
  {
   "cell_type": "code",
   "execution_count": null,
   "metadata": {
    "collapsed": true
   },
   "outputs": [],
   "source": [
    "# Changes:\n",
    "# nh4 is now also -1000, and changed glucose to -100\n",
    "# Set \"MMMm\" and \"OCOAT1m\" rxn bounds to 0\n",
    "#http://localhost:8888/notebooks/Desktop/Senior%20Design/FH_model_troubleshoot_systematic_v03.ipynb# Also, make sure EX_pi_e is also -1000, not sure if it is or not, but it shouldn't be limiting.\n",
    "# 5/26/16 shut off SUCOASm when setting up model\n",
    "# 5/26/16 Remove 5aop sink to verify\n",
    "# 5/28/16 turned SUCOA1sm back on\n",
    "# 6/4/16 Added DM_atp_c demand and constrained the lb to 0.9*1.07 or 0.0177 as obtained from maxing DM_atp_c via calculatefluxes\n",
    "# 6/8/16 tried to fix objective -- going to max DM_atp_c\n",
    "# 6/11/16 constrained glucose to -0.4293 and growth to 0.018"
   ]
  },
  {
   "cell_type": "code",
   "execution_count": null,
   "metadata": {
    "collapsed": true
   },
   "outputs": [],
   "source": [
    "#Changes round 2:\n",
    "# (2.1) 6/14/16 -- make BILDGLCURte and BILGLCURte irreversible forward by setting lb to 0 since it's infeasible\n",
    "# (2.2)6/14/16 Replace all h_c's with h_i's in the reactions ATPS4m, CYOOm2, NADH2-u10m, CYOR-u10m"
   ]
  },
  {
   "cell_type": "markdown",
   "metadata": {},
   "source": [
    "Dan -- 06/03\n",
    "\n",
    "First, use the metabolite uptakes and growth rates from one of the NCI60 lines (back from calculate fluxes). I'm not sure that it will matter which one you use.\n",
    "Be sure to constrain the growth rate both lower and upper bounds to the same value (with the 'b' argument).\n",
    "Then, change the objective to DM_atp_c and maximize that - extract a value of maybe like 0.9 of that maximum and constrain the lower bound on DM_atp_c to that value.\n",
    "Finally, change the objective back to growth and do pFBA to estimate the flux state. See if the TCA cycle looks more 'normal' now.\n",
    "If things are looking more normal, retry the ranking analysis and see if that had an effect (probably still want to KO both FUM and FUMm)."
   ]
  },
  {
   "cell_type": "markdown",
   "metadata": {},
   "source": [
    "### 5/28 Dan's directions: we need to fix the TCA cycle of the normal model.\n",
    "#### Action: Figure out where PDH flux is going -- what fluxes are using accoa_m\n",
    "\n",
    "* ACACT1m\n",
    "* ACCOACrm\n",
    "* ACGSm\n",
    "* ASPNATm\n",
    "* GLYATm\n",
    "* HMGCOASim"
   ]
  },
  {
   "cell_type": "markdown",
   "metadata": {},
   "source": [
    "### More systematic way of troubleshooting the FH model\n",
    "\n",
    "#### Overview of FH case:\n",
    "KO of mitochondrial FH should lead to build up of succoa. This buildup of succoa should feed into the heme synthesis cycle and cause an increase in heme synthesis pathway.\n",
    "\n",
    "#### Problem with our model: \n",
    "We see no increase in pheme\n",
    "\n",
    "#### Troubleshooting efforts thus far:\n",
    "* Set up the model to try to turn on the heme pathway.\n",
    "* KO both FUM and FUMm since the model may be trying to use both.\n",
    "* Track the flow of metabolites starting from malate, through succoa, through the heme synthesis pathway\n",
    "\n",
    "#### New troubleshooting trial and errors:\n",
    "* (1) Going to try KO FUM (non-mitochondrial) in healthy state since there is 0 flux going through FUMm -- a modeling eror since TCA cycle is in the mitochondria. Result: We see a noticeable backup in the TCA cycle from FUMm to SUCD1m. However, there is no flux going through SUCOAS1m. Action: Need to find source of where succ is leaving and force it through SUCOA1sm\n",
    "\n",
    "* (2) Going to find where else succ_m can go since it's not going into SUCOAS1m. Results: All flux from SUCD1m is going into SUCCtm. Action: Shut off SUCCtm when setting up the model and observe\n",
    "\n",
    "* (3) Shut off SUCCtm and run model. Results: Flux is properly forced through heme synthesis when FH is KO.\n",
    "\n",
    "#### Results after finishing (3):\n",
    "Pheme is properly synthesized after FH KO. However, no pheme synthesis in normal healthy state so there is no \"differential\" but only an activation of pheme production.\n"
   ]
  },
  {
   "cell_type": "code",
   "execution_count": null,
   "metadata": {
    "collapsed": false
   },
   "outputs": [],
   "source": [
    "#creat ethanalamine demand\n",
    "#metabolite is etha_c\n",
    "\n",
    "DM_etha_c = Reaction('DM_etha_c')\n",
    "DM_etha_c.name = DM_etha_c\n",
    "\n",
    "etha_c = model.metabolites.get_by_id('etha_c')\n",
    "\n",
    "DM_etha_c.add_metabolites({etha_c: -1})\n",
    "model.add_reaction(DM_etha_c)\n",
    "\n",
    "#create a transporter for this\n",
    "\n",
    "Tyr_ggnt = Reaction('Tyr_ggnt')\n",
    "Tyr_ggnt.name = Tyr_ggnt\n",
    "\n",
    "Tyr_ggn_e = model.metabolites.get_by_id('Tyr_ggn_e')\n",
    "Tyr_ggn_c = model.metabolites.get_by_id('Tyr_ggn_c')\n",
    "\n",
    "Tyr_ggnt.add_metabolites({Tyr_ggn_e: -1, Tyr_ggn_c: 1})\n",
    "model.add_reaction(Tyr_ggnt)\n",
    "\n",
    "DM_etha_c.lower_bound = -1\n",
    "Tyr_ggnt.lower_bound = -1000\n",
    "\n",
    "except_EX_names = '''DM_etha_c, EX_peplys_e, EX_Tyr_ggn_e, EX_arg__L_e, EX_asn__L_e, EX_asp__L_e, EX_chol_e, EX_cl_e, EX_glc__D_e, EX_gln__L_e, EX_gly_e, EX_h_e, EX_h2o_e, EX_ile__L_e, EX_k_e, EX_leu__L_e, EX_lys__L_e, EX_na1_e, EX_nh4_e, EX_o2_e, EX_phe__L_e, EX_pi_e, EX_pro__L_e, EX_ser__L_e, EX_thr__L_e, EX_trp__L_e, EX_tyr__L_e, EX_val__L_e'''\n",
    "except_EX_names_split = except_EX_names.split(', ')\n",
    "print except_EX_names_split\n",
    "\n",
    "# Changing all lower bounds to 0 except the given reactions above\n",
    "\n",
    "for a in model.reactions[1188:1591]:\n",
    "    a.lower_bound = 0\n",
    "\n",
    "model.reactions.get_by_id('EX_yvite_e').lower_bound = 0\n",
    "model.reactions.get_by_id('EX_10fthf5glu_e').lower_bound = 0\n",
    "    \n",
    "for b in model.reactions[1188:1591]:\n",
    "    for c in range(len(except_EX_names_split)):  \n",
    "        if b.id  == except_EX_names_split[c]:\n",
    "            b.lower_bound = -1\n",
    "            \n",
    "biomass_NCI60 = Reaction('biomass_NCI60')\n",
    "biomass_NCI60.name = biomass_NCI60\n",
    "\n",
    "ala_L_c = model.metabolites.get_by_id('ala__L_c')\n",
    "arg_L_c = model.metabolites.get_by_id('arg__L_c')\n",
    "asn_L_c = model.metabolites.get_by_id('asn__L_c')\n",
    "asp_L_c = model.metabolites.get_by_id('asp__L_c')\n",
    "atp_c = model.metabolites.get_by_id('atp_c')\n",
    "clpn_hs_c = model.metabolites.get_by_id('clpn_hs_c')\n",
    "ctp_c = model.metabolites.get_by_id('ctp_c')\n",
    "dag_hs_c = model.metabolites.get_by_id('dag_hs_c')\n",
    "datp_c = model.metabolites.get_by_id('datp_c')\n",
    "dctp_c = model.metabolites.get_by_id('dctp_c')\n",
    "dgtp_c = model.metabolites.get_by_id('dgtp_c')\n",
    "dttp_c = model.metabolites.get_by_id('dttp_c')\n",
    "gln_L_c = model.metabolites.get_by_id('gln__L_c')\n",
    "glu_L_c = model.metabolites.get_by_id('glu__L_c')\n",
    "gly_c = model.metabolites.get_by_id('gly_c')\n",
    "glygn2_c = model.metabolites.get_by_id('glygn2_c')\n",
    "gtp_c = model.metabolites.get_by_id('gtp_c')\n",
    "h2o_c = model.metabolites.get_by_id('h2o_c')\n",
    "hdca_c = model.metabolites.get_by_id('hdca_c')\n",
    "hdcea_c = model.metabolites.get_by_id('hdcea_c')\n",
    "ile_L_c = model.metabolites.get_by_id('ile__L_c')\n",
    "leu_L_c = model.metabolites.get_by_id('leu__L_c')\n",
    "lpchol_hs_c = model.metabolites.get_by_id('lpchol_hs_c')\n",
    "lys_L_c = model.metabolites.get_by_id('lys__L_c')\n",
    "mag_hs_c = model.metabolites.get_by_id('mag_hs_c')\n",
    "ocdca_c = model.metabolites.get_by_id('ocdca_c')\n",
    "ocdcea_c = model.metabolites.get_by_id('ocdcea_c')\n",
    "pa_hs_c = model.metabolites.get_by_id('pa_hs_c')\n",
    "pail_hs_c = model.metabolites.get_by_id('pail_hs_c')\n",
    "pchol_hs_c = model.metabolites.get_by_id('pchol_hs_c')\n",
    "pe_hs_c = model.metabolites.get_by_id('pe_hs_c')\n",
    "phe_L_c = model.metabolites.get_by_id('phe__L_c')\n",
    "ps_hs_c = model.metabolites.get_by_id('ps_hs_c')\n",
    "ser_L_c = model.metabolites.get_by_id('ser__L_c')\n",
    "sphmyln_hs_c = model.metabolites.get_by_id('sphmyln_hs_c')\n",
    "thr_L_c = model.metabolites.get_by_id('thr__L_c')\n",
    "trp_L_c = model.metabolites.get_by_id('trp__L_c')\n",
    "tyr_L_c = model.metabolites.get_by_id('tyr__L_c')\n",
    "utp_c = model.metabolites.get_by_id('utp_c')\n",
    "val_L_c = model.metabolites.get_by_id('val__L_c')\n",
    "pro_L_m = model.metabolites.get_by_id('pro__L_m')\n",
    "chsterol_r = model.metabolites.get_by_id('chsterol_r')\n",
    "xolest_hs_r = model.metabolites.get_by_id('xolest_hs_r')\n",
    "adp_c = model.metabolites.get_by_id('adp_c')\n",
    "h_c = model.metabolites.get_by_id('h_c')\n",
    "pi_c = model.metabolites.get_by_id('pi_c')\n",
    "\n",
    "#remove ocdca and ocdcea\n",
    "# added xolest value to cholesterol in biomass and remove xolest\n",
    "\n",
    "biomass_NCI60.add_metabolites({ala_L_c: -0.587929, arg_L_c: -0.380280, asn_L_c: -0.323313, asp_L_c: -0.261396, \n",
    "                               atp_c: -35.033540, clpn_hs_c: -0.000624, ctp_c: -0.033435, dag_hs_c: -0.001032, \n",
    "                               datp_c: -0.014557, dctp_c: -0.009770, dgtp_c: -0.009748, dttp_c: -0.014546,\n",
    "                               gln_L_c: -0.319051, glu_L_c: -0.387401, gly_c: -0.504294, glygn2_c: -0.034479,\n",
    "                               gtp_c: -0.055967, h2o_c: -35.000000, hdca_c: -0.008293, hdcea_c: -0.003315, \n",
    "                               ile_L_c: -0.319813, leu_L_c: -0.548692, lpchol_hs_c: -0.002470, lys_L_c: -0.552717, \n",
    "                               mag_hs_c: -0.001456, pa_hs_c: -0.010645,\n",
    "                               pail_hs_c: -0.005016, pchol_hs_c: -0.022878, pe_hs_c: -0.018211, phe_L_c: -0.170743,\n",
    "                               ps_hs_c: -0.006808, ser_L_c: -0.385852, sphmyln_hs_c: -0.010215, thr_L_c: -0.378004, \n",
    "                               trp_L_c: -0.039847, tyr_L_c: -0.150141, utp_c: -0.063323, val_L_c: -0.385554,\n",
    "                               pro_L_m: -0.237850, chsterol_r: -0.054102,  adp_c: 35.000000, \n",
    "                               h_c: 35.000000, pi_c: 35.000000})\n",
    "\n",
    "model.add_reaction(biomass_NCI60)\n",
    "my_objective = model.reactions.get_by_id('biomass_NCI60')\n",
    "model.change_objective(my_objective)"
   ]
  },
  {
   "cell_type": "markdown",
   "metadata": {},
   "source": [
    "### Adding and constraining DM_atp_c\n",
    "\n",
    "\n",
    "atp+h2o->adp+pi+h\n"
   ]
  },
  {
   "cell_type": "code",
   "execution_count": null,
   "metadata": {
    "collapsed": true
   },
   "outputs": [],
   "source": [
    "# Adding DM_atp_c reaction\n",
    "\n",
    "DM_atp_c = Reaction('DM_atp_c')\n",
    "DM_atp_c.name = DM_atp_c\n",
    "\n",
    "atp_c = model.metabolites.get_by_id('atp_c')\n",
    "adp_c = model.metabolites.get_by_id('adp_c')\n",
    "h2o_c = model.metabolites.get_by_id('h2o_c')\n",
    "h_c = model.metabolites.get_by_id('h_c')\n",
    "pi_c = model.metabolites.get_by_id('pi_c')\n",
    "\n",
    "\n",
    "DM_atp_c.add_metabolites({atp_c: -1, h2o_c: -1, adp_c: 1, pi_c: 1, h_c: 1})\n",
    "model.add_reaction(DM_atp_c)\n",
    "\n",
    "# Setting lower bounds for DM_atp_c as per Dan\n",
    "\n",
    "#model.reactions.get_by_id('DM_atp_c').lower_bound = 0.9*7.9939"
   ]
  },
  {
   "cell_type": "markdown",
   "metadata": {},
   "source": [
    "### Feeding the cell w fe2, o2, h, and nh4 for heme"
   ]
  },
  {
   "cell_type": "code",
   "execution_count": null,
   "metadata": {
    "collapsed": false
   },
   "outputs": [],
   "source": [
    "model.reactions.get_by_id('EX_h_e').lower_bound = -1000\n",
    "model.reactions.get_by_id('EX_o2_e').lower_bound = -1000\n",
    "model.reactions.get_by_id('EX_fe2_e').lower_bound = -1000\n",
    "model.reactions.get_by_id('EX_nh4_e').lower_bound = -1000"
   ]
  },
  {
   "cell_type": "markdown",
   "metadata": {},
   "source": [
    "### Setting glucose to -100 (to -0.4293  as per calculate fluxes 6/11/11)"
   ]
  },
  {
   "cell_type": "code",
   "execution_count": null,
   "metadata": {
    "collapsed": false
   },
   "outputs": [],
   "source": [
    "model.reactions.get_by_id('EX_glc__D_e').lower_bound = -0.4882"
   ]
  },
  {
   "cell_type": "code",
   "execution_count": null,
   "metadata": {
    "collapsed": true
   },
   "outputs": [],
   "source": [
    "# constrained as per calculate fluxes \n",
    "model.reactions.get_by_id('biomass_NCI60').lower_bound = 0.0177\n",
    "model.reactions.get_by_id('biomass_NCI60').upper_bound = 0.0177"
   ]
  },
  {
   "cell_type": "markdown",
   "metadata": {},
   "source": [
    "### Setting EX_pi_e to not be limiting, initially lb was -1"
   ]
  },
  {
   "cell_type": "code",
   "execution_count": null,
   "metadata": {
    "collapsed": false
   },
   "outputs": [],
   "source": [
    "model.reactions.get_by_id('EX_pi_e').lower_bound = -1000"
   ]
  },
  {
   "cell_type": "code",
   "execution_count": null,
   "metadata": {
    "collapsed": true
   },
   "outputs": [],
   "source": [
    "# 6/16/16 Changing amino acid uptake constraints\n",
    "\n",
    "model.reactions.get_by_id('EX_arg__L_e').lower_bound = -0.0022\n",
    "\n",
    "model.reactions.get_by_id('EX_asn__L_e').lower_bound = -0.0058\n",
    "model.reactions.get_by_id('EX_asp__L_e').lower_bound = -0.0081\n",
    "model.reactions.get_by_id('EX_chol_e').lower_bound = -0.00062386\n",
    "model.reactions.get_by_id('EX_gln__L_e').lower_bound = -0.1202\n",
    "model.reactions.get_by_id('EX_gly_e').lower_bound = -0.0019\n",
    "model.reactions.get_by_id('EX_ile__L_e').lower_bound = -0.0081\n",
    "model.reactions.get_by_id('EX_leu__L_e').lower_bound = -0.0110\n",
    "model.reactions.get_by_id('EX_lys__L_e').lower_bound = -0.0111\n",
    "model.reactions.get_by_id('EX_phe__L_e').lower_bound = -0.0040\n",
    "\n",
    "model.reactions.get_by_id('EX_pro__L_e').lower_bound = -0.0045\n",
    "\n",
    "model.reactions.get_by_id('EX_ser__L_e').lower_bound = -0.0167\n",
    "model.reactions.get_by_id('EX_trp__L_e').lower_bound = -0.0013\n",
    "model.reactions.get_by_id('EX_tyr__L_e').lower_bound = -0.0068\n",
    "model.reactions.get_by_id('EX_val__L_e').lower_bound = -0.0079"
   ]
  },
  {
   "cell_type": "code",
   "execution_count": null,
   "metadata": {
    "collapsed": false
   },
   "outputs": [],
   "source": [
    "#6/24/16 lowerbound changes\n",
    "\n",
    "model.reactions.get_by_id('FTHFLi').lower_bound = 0\n",
    "model.reactions.get_by_id('FTHFLmi').lower_bound = 0\n"
   ]
  },
  {
   "cell_type": "markdown",
   "metadata": {
    "collapsed": true
   },
   "source": [
    "## (1)  KO FUM non mitochondrial"
   ]
  },
  {
   "cell_type": "code",
   "execution_count": null,
   "metadata": {
    "collapsed": true
   },
   "outputs": [],
   "source": [
    "model.reactions.get_by_id('FUM').lower_bound = 0\n",
    "model.reactions.get_by_id('FUM').upper_bound = 0"
   ]
  },
  {
   "cell_type": "markdown",
   "metadata": {},
   "source": [
    "# 6/14/16 Changes"
   ]
  },
  {
   "cell_type": "markdown",
   "metadata": {},
   "source": [
    "## (2.1) Make BILGLCURte and the D one irreversible forward by setting lb to 0 (6/14/16)"
   ]
  },
  {
   "cell_type": "code",
   "execution_count": null,
   "metadata": {
    "collapsed": false
   },
   "outputs": [],
   "source": [
    "model.reactions.get_by_id('BILGLCURte').lower_bound = 0\n",
    "model.reactions.get_by_id('BILDGLCURte').lower_bound = 0\n",
    "print model.reactions.get_by_id('BILGLCURte').lower_bound"
   ]
  },
  {
   "cell_type": "markdown",
   "metadata": {},
   "source": [
    "## (2.2) Trying to add metabolite h_i to model"
   ]
  },
  {
   "cell_type": "code",
   "execution_count": null,
   "metadata": {
    "collapsed": false
   },
   "outputs": [],
   "source": [
    "h_i = Metabolite('h_i', formula='h', name='h_i', compartment='i')\n",
    "model.add_metabolites(h_i)"
   ]
  },
  {
   "cell_type": "markdown",
   "metadata": {},
   "source": [
    "## (2.2) Add CYOOm2 and replace h_c's with h_i's"
   ]
  },
  {
   "cell_type": "markdown",
   "metadata": {},
   "source": [
    "#### ATPS4m"
   ]
  },
  {
   "cell_type": "code",
   "execution_count": null,
   "metadata": {
    "collapsed": false
   },
   "outputs": [],
   "source": [
    "print \"initial:   \" + model.reactions.get_by_id('ATPS4m').reaction\n",
    "# delete reaction\n",
    "model.remove_reactions('ATPS4m')\n",
    "\n",
    "# re-add the reaction while replacing h_c with h_i\n",
    "ATPS4m = Reaction('ATPS4m')\n",
    "ATPS4m.name = ATPS4m\n",
    "\n",
    "adp_m = model.metabolites.get_by_id('adp_m')\n",
    "h_i = model.metabolites.get_by_id('h_i')\n",
    "pi_m = model.metabolites.get_by_id('pi_m')\n",
    "h2o_m = model.metabolites.get_by_id('h2o_m')\n",
    "h_m = model.metabolites.get_by_id('h_m')\n",
    "atp_m = model.metabolites.get_by_id('atp_m')\n",
    "\n",
    "ATPS4m.add_metabolites({adp_m: -1, h_i: -4, pi_m: -1, h2o_m: 1, h_m: 3, atp_m: 1})\n",
    "model.add_reaction(ATPS4m)\n",
    "\n",
    "print \"replaced with:   \" + model.reactions.get_by_id('ATPS4m').reaction"
   ]
  },
  {
   "cell_type": "markdown",
   "metadata": {},
   "source": [
    "#### Deleting CYOOm3"
   ]
  },
  {
   "cell_type": "code",
   "execution_count": null,
   "metadata": {
    "collapsed": true
   },
   "outputs": [],
   "source": [
    "model.remove_reactions('CYOOm3')"
   ]
  },
  {
   "cell_type": "markdown",
   "metadata": {},
   "source": [
    "#### Adding CYOOm2"
   ]
  },
  {
   "cell_type": "code",
   "execution_count": null,
   "metadata": {
    "collapsed": false
   },
   "outputs": [],
   "source": [
    "CYOOm2 = Reaction('CYOOm2')\n",
    "CYOOm2.name = CYOOm2\n",
    "\n",
    "h_m = model.metabolites.get_by_id('h_m')\n",
    "o2_m = model.metabolites.get_by_id('o2_m')\n",
    "focytC_m = model.metabolites.get_by_id('focytC_m')\n",
    "h_i = model.metabolites.get_by_id('h_i')\n",
    "h2o_m = model.metabolites.get_by_id('h2o_m')\n",
    "ficytC_m = model.metabolites.get_by_id('ficytC_m')\n",
    "\n",
    "\n",
    "CYOOm2.add_metabolites({h_m: -8, o2_m: -1, focytC_m: -4, h_i: 4, h2o_m: 2, ficytC_m: 4})\n",
    "model.add_reaction(CYOOm2)\n",
    "\n",
    "print \"rxn:   \" + model.reactions.get_by_id('CYOOm2').reaction"
   ]
  },
  {
   "cell_type": "markdown",
   "metadata": {},
   "source": [
    "#### Replacing NADH2_u10m"
   ]
  },
  {
   "cell_type": "code",
   "execution_count": null,
   "metadata": {
    "collapsed": false
   },
   "outputs": [],
   "source": [
    "print \"initial:   \" + model.reactions.get_by_id('NADH2_u10m').reaction\n",
    "# delete reaction\n",
    "model.remove_reactions('NADH2_u10m')\n",
    "\n",
    "# re-add the reaction while replacing h_c with h_i\n",
    "NADH2_u10m = Reaction('NADH2_u10m')\n",
    "NADH2_u10m.name = NADH2_u10m\n",
    "\n",
    "q10_m = model.metabolites.get_by_id('q10_m')\n",
    "h_m = model.metabolites.get_by_id('h_m')\n",
    "nadh_m = model.metabolites.get_by_id('nadh_m')\n",
    "nad_m = model.metabolites.get_by_id('nad_m')\n",
    "h_i = model.metabolites.get_by_id('h_i')\n",
    "q10h2_m = model.metabolites.get_by_id('q10h2_m')\n",
    "\n",
    "\n",
    "\n",
    "NADH2_u10m.add_metabolites({q10_m: -1, h_m: -5, nadh_m: -1, nad_m: 1, h_i: 4, q10h2_m: 1})\n",
    "model.add_reaction(NADH2_u10m)\n",
    "\n",
    "print \"replaced with:   \" + model.reactions.get_by_id('NADH2_u10m').reaction"
   ]
  },
  {
   "cell_type": "markdown",
   "metadata": {},
   "source": [
    "#### Replacing CYOR_u10m"
   ]
  },
  {
   "cell_type": "code",
   "execution_count": null,
   "metadata": {
    "collapsed": false
   },
   "outputs": [],
   "source": [
    "print \"initial:   \" + model.reactions.get_by_id('CYOR_u10m').reaction\n",
    "# delete reaction\n",
    "model.remove_reactions('CYOR_u10m')\n",
    "\n",
    "# re-add the reaction while replacing h_c with h_i\n",
    "CYOR_u10m = Reaction('CYOR_u10m')\n",
    "CYOR_u10m.name = NADH2_u10m\n",
    "\n",
    "ficytC_m = model.metabolites.get_by_id('ficytC_m')\n",
    "h_m = model.metabolites.get_by_id('h_m')\n",
    "q10h2_m = model.metabolites.get_by_id('q10h2_m')\n",
    "q10_m = model.metabolites.get_by_id('q10_m')\n",
    "focytC_m = model.metabolites.get_by_id('focytC_m')\n",
    "h_i = model.metabolites.get_by_id('h_i')\n",
    "\n",
    "\n",
    "CYOR_u10m.add_metabolites({ficytC_m: -2, h_m: -2, q10h2_m: -1, q10_m: 1, focytC_m: 2, h_i: 4})\n",
    "model.add_reaction(CYOR_u10m)\n",
    "\n",
    "print \"replaced with:   \" + model.reactions.get_by_id('CYOR_u10m').reaction"
   ]
  },
  {
   "cell_type": "code",
   "execution_count": null,
   "metadata": {
    "collapsed": false
   },
   "outputs": [],
   "source": [
    "p_solution = cobra.flux_analysis.parsimonious.optimize_minimal_flux(model)"
   ]
  },
  {
   "cell_type": "code",
   "execution_count": null,
   "metadata": {
    "collapsed": false
   },
   "outputs": [],
   "source": [
    "print \"the normal flux of FH is %f in a healthy cell when optimized for growth\" %(p_solution.x_dict['FUMm'])"
   ]
  },
  {
   "cell_type": "markdown",
   "metadata": {},
   "source": [
    "### Adding Malate (mal__L_m) sink reaction that has the same flux as normal FH flux determined via pFBA"
   ]
  },
  {
   "cell_type": "code",
   "execution_count": null,
   "metadata": {
    "collapsed": false
   },
   "outputs": [],
   "source": [
    "'''mal__L_m = model.metabolites.get_by_id('mal__L_m')\n",
    "mal__L_m_sink = Reaction('mal__L_m_sink')\n",
    "mal__L_m_sink.name = mal__L_m_sink\n",
    "mal__L_m_sink.add_metabolites({mal__L_m: -1})\n",
    "model.add_reaction(mal__L_m_sink)'''"
   ]
  },
  {
   "cell_type": "code",
   "execution_count": null,
   "metadata": {
    "collapsed": false
   },
   "outputs": [],
   "source": [
    "'''# constraining the sink flux to that of normal FH flux\n",
    "model.reactions.get_by_id(\"mal__L_m_sink\").upper_bound = p_solution.x_dict['FUM']\n",
    "model.reactions.get_by_id(\"mal__L_m_sink\").lower_bound = p_solution.x_dict['FUM']'''"
   ]
  },
  {
   "cell_type": "markdown",
   "metadata": {},
   "source": [
    "### Constraining FH flux"
   ]
  },
  {
   "cell_type": "code",
   "execution_count": null,
   "metadata": {
    "collapsed": true
   },
   "outputs": [],
   "source": [
    "model.reactions.get_by_id(\"FUMm\").upper_bound = p_solution.x_dict['FUMm']\n",
    "model.reactions.get_by_id(\"FUMm\").lower_bound = p_solution.x_dict['FUMm']"
   ]
  },
  {
   "cell_type": "code",
   "execution_count": null,
   "metadata": {
    "collapsed": false
   },
   "outputs": [],
   "source": [
    "print model.reactions.get_by_id(\"FUMm\").upper_bound\n",
    "print model.reactions.get_by_id(\"FUMm\").lower_bound"
   ]
  },
  {
   "cell_type": "markdown",
   "metadata": {},
   "source": [
    "## Create and set  5aop_m  flux thing as objective"
   ]
  },
  {
   "cell_type": "code",
   "execution_count": null,
   "metadata": {
    "collapsed": false
   },
   "outputs": [],
   "source": [
    "'''fiveaop_m = model.metabolites.get_by_id('5aop_m')\n",
    "fiveaop_m_sink = Reaction('fiveaop_m_sink')\n",
    "fiveaop_m_sink.name = fiveaop_m_sink\n",
    "fiveaop_m_sink.add_metabolites({fiveaop_m: -1})\n",
    "model.add_reaction(fiveaop_m_sink)\n",
    "\n",
    "my_objective = model.reactions.get_by_id('fiveaop_m_sink')\n",
    "model.change_objective(my_objective)'''"
   ]
  },
  {
   "cell_type": "markdown",
   "metadata": {},
   "source": [
    "## pFBA with 5aop and malate sink"
   ]
  },
  {
   "cell_type": "code",
   "execution_count": null,
   "metadata": {
    "collapsed": true
   },
   "outputs": [],
   "source": [
    "'''p_solution = cobra.flux_analysis.parsimonious.optimize_minimal_flux(model)'''"
   ]
  },
  {
   "cell_type": "markdown",
   "metadata": {},
   "source": [
    "## Knocking out FH"
   ]
  },
  {
   "cell_type": "code",
   "execution_count": null,
   "metadata": {
    "collapsed": true
   },
   "outputs": [],
   "source": [
    "# FH KO\n",
    "model.reactions.get_by_id(\"FUM\").upper_bound = 0\n",
    "model.reactions.get_by_id(\"FUM\").lower_bound = 0\n",
    "\n",
    "model.reactions.get_by_id(\"FUMm\").upper_bound = 0\n",
    "model.reactions.get_by_id(\"FUMm\").lower_bound = 0"
   ]
  },
  {
   "cell_type": "code",
   "execution_count": null,
   "metadata": {
    "collapsed": false
   },
   "outputs": [],
   "source": [
    "# Now calculate the pFBA\n",
    "p_solution_FHKO = cobra.flux_analysis.parsimonious.optimize_minimal_flux(model)"
   ]
  },
  {
   "cell_type": "code",
   "execution_count": null,
   "metadata": {
    "collapsed": false
   },
   "outputs": [],
   "source": [
    "# This is the soln producing pheme\n",
    "print p_solution.x_dict['FCLTm']\n",
    "print p_solution_FHKO.x_dict['FCLTm']"
   ]
  },
  {
   "cell_type": "markdown",
   "metadata": {
    "collapsed": true
   },
   "source": [
    "## Algorithim init flux"
   ]
  },
  {
   "cell_type": "code",
   "execution_count": null,
   "metadata": {
    "collapsed": true
   },
   "outputs": [],
   "source": [
    "# working copy!\n",
    "# This creates an array of modified met names since I'm getting errors accessing model.metabolites[i].id in some of the code\n",
    "\n",
    "\n",
    "newmet_array = [0] * len(model.metabolites)\n",
    "met_count = 0\n",
    "for i in range(len(model.metabolites)):\n",
    "    newmet_array[met_count] = string.replace(model.metabolites[i].id, \" \", \"_\")\n",
    "    met_count = met_count + 1"
   ]
  },
  {
   "cell_type": "code",
   "execution_count": null,
   "metadata": {
    "collapsed": false
   },
   "outputs": [],
   "source": [
    "# creates an empty dict to store DM_rxns as keys and the p_solution.f values\n",
    "normal_maxmet_dict = {}\n",
    "\n",
    "for i in range(len(model.metabolites)):\n",
    "\n",
    "    # this part creates a demand reaction for each metabolite\n",
    "    temp_DM = 'DM_' + str(newmet_array[i])\n",
    "    \n",
    "    # this nested for loop tries to catch if a demand reaction already exists in the model\n",
    "    for ii in model.reactions:\n",
    "        if temp_DM == str(ii):\n",
    "            # this part sets the newly created demand as the objective\n",
    "            my_objective = model.reactions.get_by_id(str(temp_DM))\n",
    "            model.change_objective(my_objective)\n",
    "\n",
    "            # this part runs pFBA on the new demand\n",
    "            p_solution = cobra.flux_analysis.parsimonious.optimize_minimal_flux(model)\n",
    "\n",
    "            # this stores the demand flux into a dictionary where its demand rxn is the key\n",
    "            normal_maxmet_dict[str(temp_DM)] = p_solution.f\n",
    "\n",
    "            # this deletes the demand at the end of each iteration\n",
    "            model.reactions.get_by_id(str(temp_DM)).delete()\n",
    "            \n",
    "    temp_DM = Reaction(str(temp_DM))\n",
    "    newmet_array[i] = model.metabolites.get_by_id(model.metabolites[i].id)\n",
    "    temp_DM.add_metabolites({newmet_array[i]: -1})\n",
    "    model.add_reaction(temp_DM)\n",
    "    \n",
    "    # this part sets the newly created demand as the objective\n",
    "    my_objective = model.reactions.get_by_id(str(temp_DM))\n",
    "    model.change_objective(my_objective)\n",
    "    \n",
    "    # this part runs pFBA on the new demand\n",
    "    p_solution = cobra.flux_analysis.parsimonious.optimize_minimal_flux(model)\n",
    "    \n",
    "    # this stores the demand flux into a dictionary where its demand rxn is the key\n",
    "    normal_maxmet_dict[str(temp_DM)] = p_solution.f\n",
    "    \n",
    "    # this deletes the demand at the end of each iteration\n",
    "    model.reactions.get_by_id(str(temp_DM)).delete()"
   ]
  },
  {
   "cell_type": "code",
   "execution_count": null,
   "metadata": {
    "collapsed": true
   },
   "outputs": [],
   "source": []
  },
  {
   "cell_type": "markdown",
   "metadata": {},
   "source": [
    "## Algorithm KO flux"
   ]
  },
  {
   "cell_type": "code",
   "execution_count": null,
   "metadata": {
    "collapsed": true
   },
   "outputs": [],
   "source": [
    "# FUMm KO\n",
    "\n",
    "model.reactions.get_by_id(\"FUMm\").upper_bound = 0\n",
    "model.reactions.get_by_id(\"FUMm\").lower_bound = 0"
   ]
  },
  {
   "cell_type": "code",
   "execution_count": null,
   "metadata": {
    "collapsed": true
   },
   "outputs": [],
   "source": [
    "# working copy!\n",
    "# This creates an array of modified met names since I'm getting errors accessing model.metabolites[i].id in some of the code\n",
    "\n",
    "\n",
    "newmet_array = [0] * len(model.metabolites)\n",
    "met_count = 0\n",
    "for i in range(len(model.metabolites)):\n",
    "    newmet_array[met_count] = string.replace(model.metabolites[i].id, \" \", \"_\")\n",
    "    met_count = met_count + 1"
   ]
  },
  {
   "cell_type": "code",
   "execution_count": null,
   "metadata": {
    "collapsed": true
   },
   "outputs": [],
   "source": [
    "# creates an empty dict to store DM_rxns as keys and the p_solution.f values\n",
    "ARGSSKO_maxmet_dict = {}\n",
    "\n",
    "for i in range(len(model.metabolites)):\n",
    "    \n",
    "    # this part creates a demand reaction for each metabolite\n",
    "    temp_DM = 'DM_' + str(newmet_array[i])\n",
    "    \n",
    "    # this nested for loop tries to catch if a demand reaction already exists in the model\n",
    "    for ii in model.reactions:\n",
    "        if temp_DM == str(ii):\n",
    "            # this part sets the newly created demand as the objective\n",
    "            my_objective = model.reactions.get_by_id(str(temp_DM))\n",
    "            model.change_objective(my_objective)\n",
    "\n",
    "            # this part runs pFBA on the new demand\n",
    "            p_solution = cobra.flux_analysis.parsimonious.optimize_minimal_flux(model)\n",
    "\n",
    "            # this stores the demand flux into a dictionary where its demand rxn is the key\n",
    "            ARGSSKO_maxmet_dict[str(temp_DM)] = p_solution.f\n",
    "\n",
    "            # this deletes the demand at the end of each iteration\n",
    "            model.reactions.get_by_id(str(temp_DM)).delete()\n",
    "            \n",
    "    temp_DM = Reaction(str(temp_DM))\n",
    "    newmet_array[i] = model.metabolites.get_by_id(model.metabolites[i].id)\n",
    "    temp_DM.add_metabolites({newmet_array[i]: -1})\n",
    "    model.add_reaction(temp_DM)\n",
    "    \n",
    "    # this part sets the newly created demand as the objective\n",
    "    my_objective = model.reactions.get_by_id(str(temp_DM))\n",
    "    model.change_objective(my_objective)\n",
    "    \n",
    "    # this part runs pFBA on the new demand\n",
    "    p_solution = cobra.flux_analysis.parsimonious.optimize_minimal_flux(model)\n",
    "    \n",
    "    # this stores the demand flux into a dictionary where its demand rxn is the key\n",
    "    ARGSSKO_maxmet_dict[str(temp_DM)] = p_solution.f\n",
    "    \n",
    "    # this deletes the demand at the end of each iteration\n",
    "    model.reactions.get_by_id(str(temp_DM)).delete()"
   ]
  },
  {
   "cell_type": "code",
   "execution_count": null,
   "metadata": {
    "collapsed": true
   },
   "outputs": [],
   "source": []
  },
  {
   "cell_type": "code",
   "execution_count": null,
   "metadata": {
    "collapsed": true
   },
   "outputs": [],
   "source": []
  },
  {
   "cell_type": "code",
   "execution_count": null,
   "metadata": {
    "collapsed": true
   },
   "outputs": [],
   "source": []
  },
  {
   "cell_type": "code",
   "execution_count": null,
   "metadata": {
    "collapsed": true
   },
   "outputs": [],
   "source": []
  },
  {
   "cell_type": "code",
   "execution_count": null,
   "metadata": {
    "collapsed": true
   },
   "outputs": [],
   "source": [
    "# This combines the normal_flux solutions and KO_flux solutions into one dictionary\n",
    "# The same key, the reaction, and stores 2 flux values as a list to the dic key where [0] is normal and [1] is KO\n",
    "\n",
    "combined_dic = {key: {'init_flux': normal_maxmet_dict[key], 'KO_flux': ARGSSKO_maxmet_dict[key]} for key in ARGSSKO_maxmet_dict if key in normal_maxmet_dict}"
   ]
  },
  {
   "cell_type": "code",
   "execution_count": null,
   "metadata": {
    "collapsed": true
   },
   "outputs": [],
   "source": [
    "G1 = {}\n",
    "G2 = {}\n",
    "G3 = {}\n",
    "\n",
    "for rxn, flux in combined_dic.iteritems():\n",
    "    # if both init and final are 0, stored into group 1\n",
    "    if flux['init_flux'] == 0 and flux['KO_flux'] == 0:\n",
    "        G1[rxn] = {'init_flux': flux['init_flux'], 'KO_flux': flux['KO_flux']}\n",
    "        \n",
    "    # if both init and final are non-zero, stored into group 1\n",
    "    if flux['init_flux'] != 0 and flux['KO_flux'] != 0:\n",
    "        G1[rxn] = {'init_flux': flux['init_flux'], 'KO_flux': flux['KO_flux']}\n",
    "        \n",
    "    # if init is 0 and final is non-zero, stored into group 2\n",
    "    if flux['init_flux'] == 0 and flux['KO_flux'] != 0:\n",
    "        G2[rxn] = {'init_flux': flux['init_flux'], 'KO_flux': flux['KO_flux']}\n",
    "        \n",
    "    # if init is non-zero and final is 0, stored into group 3\n",
    "    if flux['init_flux'] != 0 and flux['KO_flux'] == 0:\n",
    "        G3[rxn] = {'init_flux': flux['init_flux'], 'KO_flux': flux['KO_flux']}"
   ]
  },
  {
   "cell_type": "code",
   "execution_count": null,
   "metadata": {
    "collapsed": true
   },
   "outputs": [],
   "source": [
    "# Execute divisions using this function\n",
    "# This catches divisions of denominator 0 and just outputs 0\n",
    "def safe_div(x,y):\n",
    "    if y == 0:\n",
    "        return 0\n",
    "    return x / y"
   ]
  },
  {
   "cell_type": "code",
   "execution_count": null,
   "metadata": {
    "collapsed": true
   },
   "outputs": [],
   "source": [
    "# This is the first step of normalization\n",
    "# This is the flux of KO - initial flux\n",
    "G1_output_norm_dic = {a: {'init_flux': b['init_flux'], 'KO_flux': b['KO_flux'], 'normalized_flux':\n",
    "                       safe_div((b['KO_flux']-b['init_flux']),b['init_flux']), \n",
    "                          'absolute_normalized_flux': abs(safe_div((b['KO_flux']-b['init_flux']),b['init_flux']))} for a,b in G1.iteritems()}"
   ]
  },
  {
   "cell_type": "code",
   "execution_count": null,
   "metadata": {
    "collapsed": true
   },
   "outputs": [],
   "source": [
    "# Ranks based on criteria by creating an ordered dictionary\n",
    "# G1 -- normalized flux ranking (ratio)\n",
    "import operator\n",
    "import collections\n",
    "\n",
    "\n",
    "G1_descending = collections.OrderedDict(sorted(G1_output_norm_dic.items(),\n",
    "                                               key=lambda kv: kv[1]['absolute_normalized_flux'], reverse=True))\n"
   ]
  },
  {
   "cell_type": "code",
   "execution_count": null,
   "metadata": {
    "collapsed": true
   },
   "outputs": [],
   "source": [
    "# writing ARGSSKO_maxmet_dict as a .csv file\n",
    "\n",
    "metabolite_demand_dic = [0] * len(ARGSSKO_maxmet_dict)\n",
    "init_flux_out_dic = [0] * len(ARGSSKO_maxmet_dict)\n",
    "KO_flux_out_dic = [0] * len(ARGSSKO_maxmet_dict)\n",
    "normalized_flux_out_dic = [0] * len(ARGSSKO_maxmet_dict)\n",
    "absolute_normalized_flux_out_dic = [0] * len(ARGSSKO_maxmet_dict)\n",
    "\n",
    "metabolite_demand_count = 0\n",
    "init_flux_count = 0\n",
    "KO_flux_count = 0\n",
    "normalized_flux_count = 0\n",
    "absolute_normalized_flux_count = 0\n",
    "\n",
    "for key, value in G1_descending.iteritems():\n",
    "    metabolite_demand_dic[metabolite_demand_count] = key\n",
    "    metabolite_demand_count = metabolite_demand_count + 1\n",
    "    \n",
    "for a, b in G1_descending.iteritems():\n",
    "    init_flux_out_dic[init_flux_count] = b['init_flux']\n",
    "    init_flux_count = init_flux_count + 1\n",
    "    \n",
    "for c, d in G1_descending.iteritems():\n",
    "    KO_flux_out_dic[KO_flux_count] = d['KO_flux']\n",
    "    KO_flux_count = KO_flux_count + 1\n",
    "    \n",
    "\n",
    "for e, f in G1_descending.iteritems():\n",
    "    normalized_flux_out_dic[normalized_flux_count] = f['normalized_flux']\n",
    "    normalized_flux_count = normalized_flux_count + 1  \n",
    "    \n",
    "for g, h in G1_descending.iteritems():\n",
    "    absolute_normalized_flux_out_dic[absolute_normalized_flux_count] = h['absolute_normalized_flux']\n",
    "    absolute_normalized_flux_count = absolute_normalized_flux_count + 1  \n"
   ]
  },
  {
   "cell_type": "code",
   "execution_count": null,
   "metadata": {
    "collapsed": true
   },
   "outputs": [],
   "source": [
    "# this saves the array into a .csv file as named\n",
    "\n",
    "import csv\n",
    "from itertools import izip\n",
    "\n",
    "with open('FH_G1_ranked_fluxes.csv', 'wb') as f:\n",
    "    writer = csv.writer(f)\n",
    "    writer.writerow(['metabolite_demand', 'init_flux', 'KO_flux', 'normalized_flux', 'absolute_normalized_flux'])\n",
    "    writer.writerows(izip(metabolite_demand_dic, init_flux_out_dic, KO_flux_out_dic, normalized_flux_out_dic, absolute_normalized_flux_out_dic))"
   ]
  },
  {
   "cell_type": "code",
   "execution_count": null,
   "metadata": {
    "collapsed": true
   },
   "outputs": [],
   "source": [
    "p_solution = cobra.flux_analysis.parsimonious.optimize_minimal_flux(model)"
   ]
  },
  {
   "cell_type": "code",
   "execution_count": null,
   "metadata": {
    "collapsed": false
   },
   "outputs": [],
   "source": [
    "b = escher.Builder(map_json='/Users/LAURENCE/Desktop/Senior Design/RECON1.Central.json',\n",
    "                   reaction_data=p_solution.x_dict,\n",
    "                   # color and size according to the absolute value\n",
    "                   reaction_styles=['color', 'size', 'abs', 'text'],\n",
    "                   # change the default colors\n",
    "                   reaction_scale=[{'type': 'min', 'color': 'red', 'size': 4},\n",
    "                                   {'type': 'mean', 'color': 'green', 'size': 20},\n",
    "                                   {'type': 'max', 'color': 'blue', 'size': 40}],\n",
    "                   # only show the primary metabolites\n",
    "                   hide_secondary_metabolites=True)\n",
    "b.display_in_notebook(scroll_behavior='pan')"
   ]
  },
  {
   "cell_type": "code",
   "execution_count": null,
   "metadata": {
    "collapsed": true
   },
   "outputs": [],
   "source": []
  }
 ],
 "metadata": {
  "kernelspec": {
   "display_name": "Python 2",
   "language": "python",
   "name": "python2"
  },
  "language_info": {
   "codemirror_mode": {
    "name": "ipython",
    "version": 2
   },
   "file_extension": ".py",
   "mimetype": "text/x-python",
   "name": "python",
   "nbconvert_exporter": "python",
   "pygments_lexer": "ipython2",
   "version": "2.7.11"
  }
 },
 "nbformat": 4,
 "nbformat_minor": 0
}
