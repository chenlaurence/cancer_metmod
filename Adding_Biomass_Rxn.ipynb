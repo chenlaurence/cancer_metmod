{
 "cells": [
  {
   "cell_type": "markdown",
   "metadata": {},
   "source": [
    "### Biomass rxn obtained from curModel output by MATLAB"
   ]
  },
  {
   "cell_type": "markdown",
   "metadata": {},
   "source": [
    "0.587929 ala_L[c] + 0.380280 arg_L[c] + 0.323313 asn_L[c] + 0.261396 asp_L[c] + 35.033540 atp[c] + 0.000624 clpn_hs[c] + 0.033435 ctp[c] + 0.001032 dag_hs[c] + 0.014557 datp[c] + 0.009770 dctp[c] + 0.009748 dgtp[c] + 0.014546 dttp[c] + 0.319051 gln_L[c] + 0.387401 glu_L[c] + 0.504294 gly[c] + 0.034479 glygn2[c] + 0.055967 gtp[c] + 35.000000 h2o[c] + 0.008293 hdca[c] + 0.003315 hdcea[c] + 0.319813 ile_L[c] + 0.548692 leu_L[c] + 0.002470 lpchol_hs[c] + 0.552717 lys_L[c] + 0.001456 mag_hs[c] + 0.004961 ocdca[c] + 0.028085 ocdcea[c] + 0.010645 pa_hs[c] + 0.005016 pail_hs[c] + 0.022878 pchol_hs[c] + 0.018211 pe_hs[c] + 0.170743 phe_L[c] + 0.006808 ps_hs[c] + 0.385852 ser_L[c] + 0.010215 sphmyln_hs[c] + 0.378004 thr_L[c] + 0.039847 trp_L[c] + 0.150141 tyr_L[c] + 0.063323 utp[c] + 0.385554 val_L[c] + 0.237850 pro_L[m] + 0.029185 chsterol[r] + 0.024917 xolest_hs[r] =>\t35.000000 adp[c] + 35.000000 h[c] + 35.000000 pi[c] "
   ]
  },
  {
   "cell_type": "code",
   "execution_count": 1,
   "metadata": {
    "collapsed": false
   },
   "outputs": [
    {
     "name": "stderr",
     "output_type": "stream",
     "text": [
      "cobra/io/__init__.py:17 \u001b[1;31mUserWarning\u001b[0m: cobra.io.sbml requires libsbml\n",
      "cobra/io/mat.py:136 \u001b[1;31mFutureWarning\u001b[0m: elementwise == comparison failed and returning scalar instead; this will raise an error or perform elementwise comparison in the future.\n"
     ]
    }
   ],
   "source": [
    "from cobra import Reaction\n",
    "import escher\n",
    "import escher.urls\n",
    "import cobra\n",
    "import cobra.test\n",
    "import json\n",
    "import os\n",
    "from IPython.display import HTML\n",
    "model = cobra.io.load_matlab_model('/Users/LAURENCE/Desktop/Senior Design/RECON1', 'RECON1')"
   ]
  },
  {
   "cell_type": "code",
   "execution_count": 2,
   "metadata": {
    "collapsed": false
   },
   "outputs": [
    {
     "name": "stdout",
     "output_type": "stream",
     "text": [
      "['EX_Tyr_ggn_e', 'EX_peplys_e', 'EX_glc__D_e', 'EX_gln__L_e', 'EX_ser__L_e', 'EX_trp__L_e', 'EX_his__L_e', 'EX_met__L_e', 'EX_phe__L_e', 'EX_thr__L_e', 'EX_val__L_e', 'EX_ile__L_e', 'EX_leu__L_e', 'EX_lys__L_e', 'EX_o2_e', 'EX_h2o_e', 'EX_h_e', 'EX_k_e', 'EX_na_e', 'EX_ca2_e', 'EX_chol_e', 'EX_hco3_e', 'EX_nh4_e', 'EX_pi_e', 'EX_so4_e']\n"
     ]
    }
   ],
   "source": [
    "# Setting EX lower bounds to 0\n",
    "except_EX_names = '''EX_Tyr_ggn_e, EX_peplys_e, EX_glc__D_e, EX_gln__L_e, EX_ser__L_e, EX_trp__L_e, EX_his__L_e, EX_met__L_e, EX_phe__L_e, EX_thr__L_e, EX_val__L_e, EX_ile__L_e, EX_leu__L_e, EX_lys__L_e, EX_o2_e, EX_h2o_e, EX_h_e, EX_k_e, EX_na_e, EX_ca2_e, EX_chol_e, EX_hco3_e, EX_nh4_e, EX_pi_e, EX_so4_e'''\n",
    "except_EX_names_split = except_EX_names.split(', ')\n",
    "print except_EX_names_split"
   ]
  },
  {
   "cell_type": "code",
   "execution_count": 3,
   "metadata": {
    "collapsed": true
   },
   "outputs": [],
   "source": [
    "# Changing all lower bounds to 0 except the given reactions above\n",
    "\n",
    "for a in model.reactions[1188:1591]:\n",
    "    a.lower_bound = 0\n",
    "\n",
    "for b in model.reactions[1188:1591]:\n",
    "    for c in range(len(except_EX_names_split)):  \n",
    "        if b.id  == except_EX_names_split[c]:\n",
    "            b.lower_bound = -1"
   ]
  },
  {
   "cell_type": "code",
   "execution_count": 4,
   "metadata": {
    "collapsed": true
   },
   "outputs": [],
   "source": [
    "biomass_NCI60 = Reaction('biomass_NCI60')\n",
    "biomass_NCI60.name = biomass_NCI60"
   ]
  },
  {
   "cell_type": "code",
   "execution_count": 5,
   "metadata": {
    "collapsed": false
   },
   "outputs": [],
   "source": [
    "ala_L_c = model.metabolites.get_by_id('ala__L_c')\n",
    "arg_L_c = model.metabolites.get_by_id('arg__L_c')\n",
    "asn_L_c = model.metabolites.get_by_id('asn__L_c')\n",
    "asp_L_c = model.metabolites.get_by_id('asp__L_c')\n",
    "atp_c = model.metabolites.get_by_id('atp_c')\n",
    "clpn_hs_c = model.metabolites.get_by_id('clpn_hs_c')\n",
    "ctp_c = model.metabolites.get_by_id('ctp_c')\n",
    "dag_hs_c = model.metabolites.get_by_id('dag_hs_c')\n",
    "datp_c = model.metabolites.get_by_id('datp_c')\n",
    "dctp_c = model.metabolites.get_by_id('dctp_c')\n",
    "dgtp_c = model.metabolites.get_by_id('dgtp_c')\n",
    "dttp_c = model.metabolites.get_by_id('dttp_c')\n",
    "gln_L_c = model.metabolites.get_by_id('gln__L_c')\n",
    "glu_L_c = model.metabolites.get_by_id('glu__L_c')\n",
    "gly_c = model.metabolites.get_by_id('gly_c')\n",
    "glygn2_c = model.metabolites.get_by_id('glygn2_c')\n",
    "gtp_c = model.metabolites.get_by_id('gtp_c')\n",
    "h2o_c = model.metabolites.get_by_id('h2o_c')\n",
    "hdca_c = model.metabolites.get_by_id('hdca_c')\n",
    "hdcea_c = model.metabolites.get_by_id('hdcea_c')\n",
    "ile_L_c = model.metabolites.get_by_id('ile__L_c')\n",
    "leu_L_c = model.metabolites.get_by_id('leu__L_c')\n",
    "lpchol_hs_c = model.metabolites.get_by_id('lpchol_hs_c')\n",
    "lys_L_c = model.metabolites.get_by_id('lys__L_c')\n",
    "mag_hs_c = model.metabolites.get_by_id('mag_hs_c')\n",
    "ocdca_c = model.metabolites.get_by_id('ocdca_c')\n",
    "ocdcea_c = model.metabolites.get_by_id('ocdcea_c')\n",
    "pa_hs_c = model.metabolites.get_by_id('pa_hs_c')\n",
    "pail_hs_c = model.metabolites.get_by_id('pail_hs_c')\n",
    "pchol_hs_c = model.metabolites.get_by_id('pchol_hs_c')\n",
    "pe_hs_c = model.metabolites.get_by_id('pe_hs_c')\n",
    "phe_L_c = model.metabolites.get_by_id('phe__L_c')\n",
    "ps_hs_c = model.metabolites.get_by_id('ps_hs_c')\n",
    "ser_L_c = model.metabolites.get_by_id('ser__L_c')\n",
    "sphmyln_hs_c = model.metabolites.get_by_id('sphmyln_hs_c')\n",
    "thr_L_c = model.metabolites.get_by_id('thr__L_c')\n",
    "trp_L_c = model.metabolites.get_by_id('trp__L_c')\n",
    "tyr_L_c = model.metabolites.get_by_id('tyr__L_c')\n",
    "utp_c = model.metabolites.get_by_id('utp_c')\n",
    "val_L_c = model.metabolites.get_by_id('val__L_c')\n",
    "pro_L_m = model.metabolites.get_by_id('pro__L_m')\n",
    "chsterol_r = model.metabolites.get_by_id('chsterol_r')\n",
    "xolest_hs_r = model.metabolites.get_by_id('xolest_hs_r')\n",
    "adp_c = model.metabolites.get_by_id('adp_c')\n",
    "h_c = model.metabolites.get_by_id('h_c')\n",
    "pi_c = model.metabolites.get_by_id('pi_c')"
   ]
  },
  {
   "cell_type": "code",
   "execution_count": 6,
   "metadata": {
    "collapsed": false
   },
   "outputs": [],
   "source": [
    "biomass_NCI60.add_metabolites({ala_L_c: -0.587929, arg_L_c: -0.380280, asn_L_c: -0.323313, asp_L_c: -0.261396, \n",
    "                               atp_c: -35.033540, clpn_hs_c: -0.000624, ctp_c: -0.033435, dag_hs_c: -0.001032, \n",
    "                               datp_c: -0.014557, dctp_c: -0.009770, dgtp_c: -0.009748, dttp_c: -0.014546,\n",
    "                               gln_L_c: -0.319051, glu_L_c: -0.387401, gly_c: -0.504294, glygn2_c: -0.034479,\n",
    "                               gtp_c: -0.055967, h2o_c: -35.000000, hdca_c: -0.008293, hdcea_c: -0.003315, \n",
    "                               ile_L_c: -0.319813, leu_L_c: -0.548692, lpchol_hs_c: -0.002470, lys_L_c: -0.552717, \n",
    "                               mag_hs_c: -0.001456, ocdca_c: -0.004961, ocdcea_c: -0.028085, pa_hs_c: -0.010645,\n",
    "                               pail_hs_c: -0.005016, pchol_hs_c: -0.022878, pe_hs_c: -0.018211, phe_L_c: -0.170743,\n",
    "                               ps_hs_c: -0.006808, ser_L_c: -0.385852, sphmyln_hs_c: -0.010215, thr_L_c: -0.378004, \n",
    "                               trp_L_c: -0.039847, tyr_L_c: -0.150141, utp_c: -0.063323, val_L_c: -0.385554,\n",
    "                               pro_L_m: -0.237850, chsterol_r: -0.029185, xolest_hs_r: -0.024917, adp_c: 35.000000, \n",
    "                               h_c: 35.000000, pi_c: 35.000000})"
   ]
  },
  {
   "cell_type": "code",
   "execution_count": 7,
   "metadata": {
    "collapsed": true
   },
   "outputs": [],
   "source": [
    "model.add_reaction(biomass_NCI60)"
   ]
  },
  {
   "cell_type": "code",
   "execution_count": 11,
   "metadata": {
    "collapsed": false
   },
   "outputs": [],
   "source": [
    "my_objective = model.reactions.get_by_id('biomass_NCI60')\n",
    "model.change_objective(my_objective)"
   ]
  },
  {
   "cell_type": "code",
   "execution_count": 12,
   "metadata": {
    "collapsed": false
   },
   "outputs": [
    {
     "data": {
      "text/plain": [
       "'0.039847 trp__L_c + 0.029185 chsterol_r + 0.008293 hdca_c + 0.170743 phe__L_c + 0.378004 thr__L_c + 35.0 h2o_c + 0.001456 mag_hs_c + 0.548692 leu__L_c + 0.319813 ile__L_c + 0.587929 ala__L_c + 0.000624 clpn_hs_c + 0.055967 gtp_c + 0.010215 sphmyln_hs_c + 0.014546 dttp_c + 0.004961 ocdca_c + 0.009748 dgtp_c + 0.001032 dag_hs_c + 0.022878 pchol_hs_c + 0.323313 asn__L_c + 0.033435 ctp_c + 0.385554 val__L_c + 0.00977 dctp_c + 0.024917 xolest_hs_r + 0.063323 utp_c + 0.006808 ps_hs_c + 0.014557 datp_c + 0.003315 hdcea_c + 0.010645 pa_hs_c + 0.38028 arg__L_c + 0.319051 gln__L_c + 0.261396 asp__L_c + 0.387401 glu__L_c + 0.552717 lys__L_c + 0.028085 ocdcea_c + 0.504294 gly_c + 0.018211 pe_hs_c + 0.150141 tyr__L_c + 0.23785 pro__L_m + 0.005016 pail_hs_c + 0.034479 glygn2_c + 35.03354 atp_c + 0.00247 lpchol_hs_c + 0.385852 ser__L_c --> 35.0 pi_c + 35.0 h_c + 35.0 adp_c'"
      ]
     },
     "execution_count": 12,
     "metadata": {},
     "output_type": "execute_result"
    }
   ],
   "source": [
    "model.reactions.get_by_id('biomass_NCI60').reaction"
   ]
  },
  {
   "cell_type": "code",
   "execution_count": 13,
   "metadata": {
    "collapsed": false
   },
   "outputs": [
    {
     "name": "stdout",
     "output_type": "stream",
     "text": [
      "Growth rate: 0.00\n"
     ]
    }
   ],
   "source": [
    "solution = model.optimize()\n",
    "print('Growth rate: %.2f' % solution.f)"
   ]
  },
  {
   "cell_type": "code",
   "execution_count": 14,
   "metadata": {
    "collapsed": false
   },
   "outputs": [
    {
     "name": "stdout",
     "output_type": "stream",
     "text": [
      "Growth rate: 0.00\n"
     ]
    }
   ],
   "source": [
    "from cobra.flux_analysis.parsimonious import optimize_minimal_flux\n",
    "p_solution = cobra.flux_analysis.parsimonious.optimize_minimal_flux(model)\n",
    "print('Growth rate: %.2f' % p_solution.f)"
   ]
  },
  {
   "cell_type": "code",
   "execution_count": null,
   "metadata": {
    "collapsed": true
   },
   "outputs": [],
   "source": []
  }
 ],
 "metadata": {
  "kernelspec": {
   "display_name": "Python 2",
   "language": "python",
   "name": "python2"
  },
  "language_info": {
   "codemirror_mode": {
    "name": "ipython",
    "version": 2
   },
   "file_extension": ".py",
   "mimetype": "text/x-python",
   "name": "python",
   "nbconvert_exporter": "python",
   "pygments_lexer": "ipython2",
   "version": "2.7.11"
  }
 },
 "nbformat": 4,
 "nbformat_minor": 0
}
