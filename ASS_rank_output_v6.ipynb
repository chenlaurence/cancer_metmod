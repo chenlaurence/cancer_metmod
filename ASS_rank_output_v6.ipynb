{
 "cells": [
  {
   "cell_type": "code",
   "execution_count": 1,
   "metadata": {
    "collapsed": false
   },
   "outputs": [
    {
     "name": "stderr",
     "output_type": "stream",
     "text": [
      "cobra/io/__init__.py:17 \u001b[1;31mUserWarning\u001b[0m: cobra.io.sbml requires libsbml\n",
      "cobra/io/mat.py:136 \u001b[1;31mFutureWarning\u001b[0m: elementwise == comparison failed and returning scalar instead; this will raise an error or perform elementwise comparison in the future.\n"
     ]
    }
   ],
   "source": [
    "from cobra import Reaction\n",
    "import escher\n",
    "import escher.urls\n",
    "import cobra\n",
    "import cobra.test\n",
    "import json\n",
    "import os\n",
    "import string\n",
    "from IPython.display import HTML\n",
    "from cobra.flux_analysis.parsimonious import optimize_minimal_flux\n",
    "model = cobra.io.load_matlab_model('/Users/LAURENCE/Desktop/Senior Design/RECON1', 'RECON1')"
   ]
  },
  {
   "cell_type": "code",
   "execution_count": 2,
   "metadata": {
    "collapsed": true
   },
   "outputs": [],
   "source": [
    "ala_L_c = model.metabolites.get_by_id('ala__L_c')\n",
    "arg_L_c = model.metabolites.get_by_id('arg__L_c')\n",
    "asn_L_c = model.metabolites.get_by_id('asn__L_c')\n",
    "asp_L_c = model.metabolites.get_by_id('asp__L_c')\n",
    "atp_c = model.metabolites.get_by_id('atp_c')\n",
    "clpn_hs_c = model.metabolites.get_by_id('clpn_hs_c')\n",
    "ctp_c = model.metabolites.get_by_id('ctp_c')\n",
    "dag_hs_c = model.metabolites.get_by_id('dag_hs_c')\n",
    "datp_c = model.metabolites.get_by_id('datp_c')\n",
    "dctp_c = model.metabolites.get_by_id('dctp_c')\n",
    "dgtp_c = model.metabolites.get_by_id('dgtp_c')\n",
    "dttp_c = model.metabolites.get_by_id('dttp_c')\n",
    "gln_L_c = model.metabolites.get_by_id('gln__L_c')\n",
    "glu_L_c = model.metabolites.get_by_id('glu__L_c')\n",
    "gly_c = model.metabolites.get_by_id('gly_c')\n",
    "glygn2_c = model.metabolites.get_by_id('glygn2_c')\n",
    "gtp_c = model.metabolites.get_by_id('gtp_c')\n",
    "h2o_c = model.metabolites.get_by_id('h2o_c')\n",
    "hdca_c = model.metabolites.get_by_id('hdca_c')\n",
    "hdcea_c = model.metabolites.get_by_id('hdcea_c')\n",
    "ile_L_c = model.metabolites.get_by_id('ile__L_c')\n",
    "leu_L_c = model.metabolites.get_by_id('leu__L_c')\n",
    "lpchol_hs_c = model.metabolites.get_by_id('lpchol_hs_c')\n",
    "lys_L_c = model.metabolites.get_by_id('lys__L_c')\n",
    "mag_hs_c = model.metabolites.get_by_id('mag_hs_c')\n",
    "ocdca_c = model.metabolites.get_by_id('ocdca_c')\n",
    "ocdcea_c = model.metabolites.get_by_id('ocdcea_c')\n",
    "pa_hs_c = model.metabolites.get_by_id('pa_hs_c')\n",
    "pail_hs_c = model.metabolites.get_by_id('pail_hs_c')\n",
    "pchol_hs_c = model.metabolites.get_by_id('pchol_hs_c')\n",
    "pe_hs_c = model.metabolites.get_by_id('pe_hs_c')\n",
    "phe_L_c = model.metabolites.get_by_id('phe__L_c')\n",
    "ps_hs_c = model.metabolites.get_by_id('ps_hs_c')\n",
    "ser_L_c = model.metabolites.get_by_id('ser__L_c')\n",
    "sphmyln_hs_c = model.metabolites.get_by_id('sphmyln_hs_c')\n",
    "thr_L_c = model.metabolites.get_by_id('thr__L_c')\n",
    "trp_L_c = model.metabolites.get_by_id('trp__L_c')\n",
    "tyr_L_c = model.metabolites.get_by_id('tyr__L_c')\n",
    "utp_c = model.metabolites.get_by_id('utp_c')\n",
    "val_L_c = model.metabolites.get_by_id('val__L_c')\n",
    "pro_L_m = model.metabolites.get_by_id('pro__L_m')\n",
    "chsterol_r = model.metabolites.get_by_id('chsterol_r')\n",
    "xolest_hs_r = model.metabolites.get_by_id('xolest_hs_r')\n",
    "adp_c = model.metabolites.get_by_id('adp_c')\n",
    "h_c = model.metabolites.get_by_id('h_c')\n",
    "pi_c = model.metabolites.get_by_id('pi_c')"
   ]
  },
  {
   "cell_type": "code",
   "execution_count": 3,
   "metadata": {
    "collapsed": false
   },
   "outputs": [
    {
     "name": "stdout",
     "output_type": "stream",
     "text": [
      "['DM_etha_c', 'EX_peplys_e', 'EX_Tyr_ggn_e', 'EX_arg__L_e', 'EX_asn__L_e', 'EX_asp__L_e', 'EX_chol_e', 'EX_cl_e', 'EX_glc__D_e', 'EX_gln__L_e', 'EX_gly_e', 'EX_h_e', 'EX_h2o_e', 'EX_ile__L_e', 'EX_k_e', 'EX_leu__L_e', 'EX_lys__L_e', 'EX_na1_e', 'EX_nh4_e', 'EX_o2_e', 'EX_phe__L_e', 'EX_pi_e', 'EX_pro__L_e', 'EX_ser__L_e', 'EX_thr__L_e', 'EX_trp__L_e', 'EX_tyr__L_e', 'EX_val__L_e']\n"
     ]
    }
   ],
   "source": [
    "#creat ethanalamine demand\n",
    "#metabolite is etha_c\n",
    "\n",
    "DM_etha_c = Reaction('DM_etha_c')\n",
    "DM_etha_c.name = DM_etha_c\n",
    "\n",
    "etha_c = model.metabolites.get_by_id('etha_c')\n",
    "\n",
    "DM_etha_c.add_metabolites({etha_c: -1})\n",
    "model.add_reaction(DM_etha_c)\n",
    "\n",
    "#create a transporter for this\n",
    "\n",
    "Tyr_ggnt = Reaction('Tyr_ggnt')\n",
    "Tyr_ggnt.name = Tyr_ggnt\n",
    "\n",
    "Tyr_ggn_e = model.metabolites.get_by_id('Tyr_ggn_e')\n",
    "Tyr_ggn_c = model.metabolites.get_by_id('Tyr_ggn_c')\n",
    "\n",
    "Tyr_ggnt.add_metabolites({Tyr_ggn_e: -1, Tyr_ggn_c: 1})\n",
    "model.add_reaction(Tyr_ggnt)\n",
    "\n",
    "DM_etha_c.lower_bound = -1\n",
    "Tyr_ggnt.lower_bound = -1000\n",
    "\n",
    "except_EX_names = '''DM_etha_c, EX_peplys_e, EX_Tyr_ggn_e, EX_arg__L_e, EX_asn__L_e, EX_asp__L_e, EX_chol_e, EX_cl_e, EX_glc__D_e, EX_gln__L_e, EX_gly_e, EX_h_e, EX_h2o_e, EX_ile__L_e, EX_k_e, EX_leu__L_e, EX_lys__L_e, EX_na1_e, EX_nh4_e, EX_o2_e, EX_phe__L_e, EX_pi_e, EX_pro__L_e, EX_ser__L_e, EX_thr__L_e, EX_trp__L_e, EX_tyr__L_e, EX_val__L_e'''\n",
    "except_EX_names_split = except_EX_names.split(', ')\n",
    "print except_EX_names_split\n",
    "\n",
    "# Changing all lower bounds to 0 except the given reactions above\n",
    "\n",
    "for a in model.reactions[1188:1591]:\n",
    "    a.lower_bound = 0\n",
    "\n",
    "for b in model.reactions[1188:1591]:\n",
    "    for c in range(len(except_EX_names_split)):  \n",
    "        if b.id  == except_EX_names_split[c]:\n",
    "            b.lower_bound = -1\n",
    "            \n",
    "biomass_NCI60 = Reaction('biomass_NCI60')\n",
    "biomass_NCI60.name = biomass_NCI60\n",
    "\n",
    "ala_L_c = model.metabolites.get_by_id('ala__L_c')\n",
    "arg_L_c = model.metabolites.get_by_id('arg__L_c')\n",
    "asn_L_c = model.metabolites.get_by_id('asn__L_c')\n",
    "asp_L_c = model.metabolites.get_by_id('asp__L_c')\n",
    "atp_c = model.metabolites.get_by_id('atp_c')\n",
    "clpn_hs_c = model.metabolites.get_by_id('clpn_hs_c')\n",
    "ctp_c = model.metabolites.get_by_id('ctp_c')\n",
    "dag_hs_c = model.metabolites.get_by_id('dag_hs_c')\n",
    "datp_c = model.metabolites.get_by_id('datp_c')\n",
    "dctp_c = model.metabolites.get_by_id('dctp_c')\n",
    "dgtp_c = model.metabolites.get_by_id('dgtp_c')\n",
    "dttp_c = model.metabolites.get_by_id('dttp_c')\n",
    "gln_L_c = model.metabolites.get_by_id('gln__L_c')\n",
    "glu_L_c = model.metabolites.get_by_id('glu__L_c')\n",
    "gly_c = model.metabolites.get_by_id('gly_c')\n",
    "glygn2_c = model.metabolites.get_by_id('glygn2_c')\n",
    "gtp_c = model.metabolites.get_by_id('gtp_c')\n",
    "h2o_c = model.metabolites.get_by_id('h2o_c')\n",
    "hdca_c = model.metabolites.get_by_id('hdca_c')\n",
    "hdcea_c = model.metabolites.get_by_id('hdcea_c')\n",
    "ile_L_c = model.metabolites.get_by_id('ile__L_c')\n",
    "leu_L_c = model.metabolites.get_by_id('leu__L_c')\n",
    "lpchol_hs_c = model.metabolites.get_by_id('lpchol_hs_c')\n",
    "lys_L_c = model.metabolites.get_by_id('lys__L_c')\n",
    "mag_hs_c = model.metabolites.get_by_id('mag_hs_c')\n",
    "ocdca_c = model.metabolites.get_by_id('ocdca_c')\n",
    "ocdcea_c = model.metabolites.get_by_id('ocdcea_c')\n",
    "pa_hs_c = model.metabolites.get_by_id('pa_hs_c')\n",
    "pail_hs_c = model.metabolites.get_by_id('pail_hs_c')\n",
    "pchol_hs_c = model.metabolites.get_by_id('pchol_hs_c')\n",
    "pe_hs_c = model.metabolites.get_by_id('pe_hs_c')\n",
    "phe_L_c = model.metabolites.get_by_id('phe__L_c')\n",
    "ps_hs_c = model.metabolites.get_by_id('ps_hs_c')\n",
    "ser_L_c = model.metabolites.get_by_id('ser__L_c')\n",
    "sphmyln_hs_c = model.metabolites.get_by_id('sphmyln_hs_c')\n",
    "thr_L_c = model.metabolites.get_by_id('thr__L_c')\n",
    "trp_L_c = model.metabolites.get_by_id('trp__L_c')\n",
    "tyr_L_c = model.metabolites.get_by_id('tyr__L_c')\n",
    "utp_c = model.metabolites.get_by_id('utp_c')\n",
    "val_L_c = model.metabolites.get_by_id('val__L_c')\n",
    "pro_L_m = model.metabolites.get_by_id('pro__L_m')\n",
    "chsterol_r = model.metabolites.get_by_id('chsterol_r')\n",
    "xolest_hs_r = model.metabolites.get_by_id('xolest_hs_r')\n",
    "adp_c = model.metabolites.get_by_id('adp_c')\n",
    "h_c = model.metabolites.get_by_id('h_c')\n",
    "pi_c = model.metabolites.get_by_id('pi_c')\n",
    "\n",
    "#remove ocdca and ocdcea\n",
    "# added xolest value to cholesterol in biomass and remove xolest\n",
    "\n",
    "biomass_NCI60.add_metabolites({ala_L_c: -0.587929, arg_L_c: -0.380280, asn_L_c: -0.323313, asp_L_c: -0.261396, \n",
    "                               atp_c: -35.033540, clpn_hs_c: -0.000624, ctp_c: -0.033435, dag_hs_c: -0.001032, \n",
    "                               datp_c: -0.014557, dctp_c: -0.009770, dgtp_c: -0.009748, dttp_c: -0.014546,\n",
    "                               gln_L_c: -0.319051, glu_L_c: -0.387401, gly_c: -0.504294, glygn2_c: -0.034479,\n",
    "                               gtp_c: -0.055967, h2o_c: -35.000000, hdca_c: -0.008293, hdcea_c: -0.003315, \n",
    "                               ile_L_c: -0.319813, leu_L_c: -0.548692, lpchol_hs_c: -0.002470, lys_L_c: -0.552717, \n",
    "                               mag_hs_c: -0.001456, pa_hs_c: -0.010645,\n",
    "                               pail_hs_c: -0.005016, pchol_hs_c: -0.022878, pe_hs_c: -0.018211, phe_L_c: -0.170743,\n",
    "                               ps_hs_c: -0.006808, ser_L_c: -0.385852, sphmyln_hs_c: -0.010215, thr_L_c: -0.378004, \n",
    "                               trp_L_c: -0.039847, tyr_L_c: -0.150141, utp_c: -0.063323, val_L_c: -0.385554,\n",
    "                               pro_L_m: -0.237850, chsterol_r: -0.054102,  adp_c: 35.000000, \n",
    "                               h_c: 35.000000, pi_c: 35.000000})\n",
    "\n",
    "model.add_reaction(biomass_NCI60)\n",
    "my_objective = model.reactions.get_by_id('biomass_NCI60')\n",
    "model.change_objective(my_objective)"
   ]
  },
  {
   "cell_type": "markdown",
   "metadata": {},
   "source": [
    "### Actively choosing not to force ARGSS"
   ]
  },
  {
   "cell_type": "code",
   "execution_count": 4,
   "metadata": {
    "collapsed": true
   },
   "outputs": [],
   "source": [
    "# setting arginine uptake to 0\n",
    "\n",
    "#model.reactions[model.reactions.index('EX_arg__L_e')].lower_bound = 0"
   ]
  },
  {
   "cell_type": "markdown",
   "metadata": {},
   "source": [
    "## For loop through each metabolite"
   ]
  },
  {
   "cell_type": "code",
   "execution_count": 5,
   "metadata": {
    "collapsed": true
   },
   "outputs": [],
   "source": [
    "# working copy!\n",
    "# This creates an array of modified met names since I'm getting errors accessing model.metabolites[i].id in some of the code\n",
    "\n",
    "\n",
    "newmet_array = [0] * len(model.metabolites)\n",
    "met_count = 0\n",
    "for i in range(len(model.metabolites)):\n",
    "    newmet_array[met_count] = string.replace(model.metabolites[i].id, \" \", \"_\")\n",
    "    met_count = met_count + 1"
   ]
  },
  {
   "cell_type": "code",
   "execution_count": 6,
   "metadata": {
    "collapsed": false
   },
   "outputs": [],
   "source": [
    "# creates an empty dict to store DM_rxns as keys and the p_solution.f values\n",
    "normal_maxmet_dict = {}\n",
    "\n",
    "#for i in length(model.metabolites):\n",
    "for i in range(30):\n",
    "    \n",
    "    # this part creates a demand reaction for each metabolite\n",
    "    temp_DM = 'DM_' + str(newmet_array[i])\n",
    "    \n",
    "    # this nested for loop tries to catch if a demand reaction already exists in the model\n",
    "    for ii in model.reactions:\n",
    "        if temp_DM == str(ii):\n",
    "            # this part sets the newly created demand as the objective\n",
    "            my_objective = model.reactions.get_by_id(str(temp_DM))\n",
    "            model.change_objective(my_objective)\n",
    "\n",
    "            # this part runs pFBA on the new demand\n",
    "            p_solution = cobra.flux_analysis.parsimonious.optimize_minimal_flux(model)\n",
    "\n",
    "            # this stores the demand flux into a dictionary where its demand rxn is the key\n",
    "            normal_maxmet_dict[str(temp_DM)] = p_solution.f\n",
    "\n",
    "            # this deletes the demand at the end of each iteration\n",
    "            model.reactions.get_by_id(str(temp_DM)).delete()\n",
    "            \n",
    "    temp_DM = Reaction(str(temp_DM))\n",
    "    newmet_array[i] = model.metabolites.get_by_id(model.metabolites[i].id)\n",
    "    temp_DM.add_metabolites({newmet_array[i]: -1})\n",
    "    model.add_reaction(temp_DM)\n",
    "    \n",
    "    # this part sets the newly created demand as the objective\n",
    "    my_objective = model.reactions.get_by_id(str(temp_DM))\n",
    "    model.change_objective(my_objective)\n",
    "    \n",
    "    # this part runs pFBA on the new demand\n",
    "    p_solution = cobra.flux_analysis.parsimonious.optimize_minimal_flux(model)\n",
    "    \n",
    "    # this stores the demand flux into a dictionary where its demand rxn is the key\n",
    "    normal_maxmet_dict[str(temp_DM)] = p_solution.f\n",
    "    \n",
    "    # this deletes the demand at the end of each iteration\n",
    "    model.reactions.get_by_id(str(temp_DM)).delete()"
   ]
  },
  {
   "cell_type": "code",
   "execution_count": 7,
   "metadata": {
    "collapsed": false
   },
   "outputs": [
    {
     "data": {
      "text/plain": [
       "{'DM_10fthf5glu_c': 0.0,\n",
       " 'DM_10fthf5glu_l': 0.0,\n",
       " 'DM_10fthf5glu_m': 0.0,\n",
       " 'DM_10fthf6glu_c': 0.0,\n",
       " 'DM_10fthf6glu_l': 0.0,\n",
       " 'DM_10fthf6glu_m': 0.0,\n",
       " 'DM_10fthf7glu_c': 0.0,\n",
       " 'DM_10fthf7glu_l': 0.0,\n",
       " 'DM_10fthf7glu_m': 0.0,\n",
       " 'DM_10fthf_c': 0.0,\n",
       " 'DM_10fthf_l': 0.0,\n",
       " 'DM_10fthf_m': 0.0,\n",
       " 'DM_11docrtsl_c': 0.0,\n",
       " 'DM_11docrtsl_m': 0.0,\n",
       " 'DM_11docrtsl_r': 0.0,\n",
       " 'DM_11docrtstrn_c': 0.0,\n",
       " 'DM_11docrtstrn_m': 0.0,\n",
       " 'DM_11docrtstrn_r': 0.0,\n",
       " 'DM_13dampp_c': 0.6666666666666666,\n",
       " 'DM_1mncam_c': 0.33333333333333337,\n",
       " 'DM_1mncam_e': 0.3333333333333333,\n",
       " 'DM_adp_c': 0.49999999999999867,\n",
       " 'DM_atp_c': 0.33333333333333437,\n",
       " 'DM_bamppald_c': 0.5,\n",
       " 'DM_h2o2_c': 1.0,\n",
       " 'DM_h2o_c': 1000.0,\n",
       " 'DM_h_c': 1000.0,\n",
       " 'DM_nh4_c': 1000.0,\n",
       " 'DM_o2_c': 1.0,\n",
       " 'DM_pi_c': 1.0}"
      ]
     },
     "execution_count": 7,
     "metadata": {},
     "output_type": "execute_result"
    }
   ],
   "source": [
    "normal_maxmet_dict"
   ]
  },
  {
   "cell_type": "code",
   "execution_count": 10,
   "metadata": {
    "collapsed": false
   },
   "outputs": [
    {
     "data": {
      "text/plain": [
       "0"
      ]
     },
     "execution_count": 10,
     "metadata": {},
     "output_type": "execute_result"
    }
   ],
   "source": [
    "model.reactions[model.reactions.index('EX_h2o2_e')].lower_bound"
   ]
  },
  {
   "cell_type": "markdown",
   "metadata": {},
   "source": [
    "## Knocking out ARGSS"
   ]
  },
  {
   "cell_type": "code",
   "execution_count": null,
   "metadata": {
    "collapsed": true
   },
   "outputs": [],
   "source": [
    "# ARGSS KO\n",
    "\n",
    "model.reactions.get_by_id(\"ARGSS\").upper_bound = 0\n",
    "model.reactions.get_by_id(\"ARGSS\").lower_bound = 0\n",
    "\n",
    "# set external arginine uptake back to original state given by model\n",
    "model.reactions[model.reactions.index('EX_arg__L_e')].lower_bound = -1\n",
    "\n",
    "# set objective back to growth\n",
    "my_objective = model.reactions.get_by_id('biomass_NCI60')"
   ]
  },
  {
   "cell_type": "code",
   "execution_count": null,
   "metadata": {
    "collapsed": false
   },
   "outputs": [],
   "source": [
    "p_solution = cobra.flux_analysis.parsimonious.optimize_minimal_flux(model)\n",
    "ARGSSKO_biomass_growth = p_solution.f\n",
    "ARGSSKO_biomass_ADK1 = p_solution.x_dict['ADK1']\n",
    "print('Growth rate of ARGSS KO optimized for growth: %.2f' % p_solution.f)\n",
    "print \"This is the flux of ADK1 in ARGSS KO optimizing for growth:   \" + str(p_solution.x_dict['ADK1'])"
   ]
  },
  {
   "cell_type": "code",
   "execution_count": null,
   "metadata": {
    "collapsed": false
   },
   "outputs": [],
   "source": [
    "# set objective to ADK1 (NTP Synthesis)\n",
    "my_objective = model.reactions.get_by_id('ADK1')\n",
    "p_solution = cobra.flux_analysis.parsimonious.optimize_minimal_flux(model)\n",
    "ARGSSKO_ADK1_growth = p_solution.f\n",
    "ARGSSKO_ADK1_ADK1 = p_solution.x_dict['ADK1']\n",
    "KO_fluxes = p_solution.x_dict\n",
    "print('Growth rate of ARGSS KO optimized for ADK1 (NTP Synthesis): %.2f' % p_solution.f)\n",
    "print \"This is the flux of ADK1 in ARGSS KO optimizing for ADK1 (NTP Synthesis):   \" + str(p_solution.x_dict['ADK1'])"
   ]
  }
 ],
 "metadata": {
  "kernelspec": {
   "display_name": "Python 2",
   "language": "python",
   "name": "python2"
  },
  "language_info": {
   "codemirror_mode": {
    "name": "ipython",
    "version": 2
   },
   "file_extension": ".py",
   "mimetype": "text/x-python",
   "name": "python",
   "nbconvert_exporter": "python",
   "pygments_lexer": "ipython2",
   "version": "2.7.11"
  }
 },
 "nbformat": 4,
 "nbformat_minor": 0
}
