{
 "cells": [
  {
   "cell_type": "code",
   "execution_count": 1,
   "metadata": {
    "collapsed": true
   },
   "outputs": [],
   "source": [
    "import pandas as pd"
   ]
  },
  {
   "cell_type": "code",
   "execution_count": 23,
   "metadata": {
    "collapsed": false
   },
   "outputs": [
    {
     "data": {
      "text/plain": [
       "3049    NP_446464\n",
       "3050          NaN\n",
       "Name: u_refseq, dtype: object"
      ]
     },
     "execution_count": 23,
     "metadata": {},
     "output_type": "execute_result"
    }
   ],
   "source": [
    "GP = pd.read_csv('DF_GEMPRO.csv', index_col=0)\n",
    "# forcing gene IDs to be read as strings\n",
    "GP['m_gene_original'] = GP['m_gene_original'].astype(str)\n",
    "GP['m_gene_entrez'] = GP['m_gene_entrez'].astype(str)\n",
    "GP['m_gene_isoform'] = GP['m_gene_isoform'].astype(str)\n",
    "# this searches for an ID and prints out which row it is in\n",
    "# gene_id = raw_input(\"What is the uniprot ID?   \") # this can be modified to ask for gene original, entrez, uniprot, isoform id, refseq etc.\n",
    "gene_entrez = '445'\n",
    "GP[GP.m_gene_entrez == gene_entrez]['u_refseq']"
   ]
  },
  {
   "cell_type": "code",
   "execution_count": 24,
   "metadata": {
    "collapsed": false
   },
   "outputs": [
    {
     "data": {
      "text/plain": [
       "pandas.core.series.Series"
      ]
     },
     "execution_count": 24,
     "metadata": {},
     "output_type": "execute_result"
    }
   ],
   "source": [
    "type(GP[GP.m_gene_entrez == gene_entrez]['u_refseq'])"
   ]
  },
  {
   "cell_type": "code",
   "execution_count": null,
   "metadata": {
    "collapsed": true
   },
   "outputs": [],
   "source": []
  }
 ],
 "metadata": {
  "kernelspec": {
   "display_name": "Python 2",
   "language": "python",
   "name": "python2"
  },
  "language_info": {
   "codemirror_mode": {
    "name": "ipython",
    "version": 2
   },
   "file_extension": ".py",
   "mimetype": "text/x-python",
   "name": "python",
   "nbconvert_exporter": "python",
   "pygments_lexer": "ipython2",
   "version": "2.7.11"
  }
 },
 "nbformat": 4,
 "nbformat_minor": 0
}
