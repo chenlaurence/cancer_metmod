{
 "cells": [
  {
   "cell_type": "code",
   "execution_count": 1,
   "metadata": {
    "collapsed": true
   },
   "outputs": [],
   "source": [
    "%matplotlib inline\n",
    "import matplotlib.pyplot as plt\n",
    "import numpy as np"
   ]
  },
  {
   "cell_type": "code",
   "execution_count": 2,
   "metadata": {
    "collapsed": false
   },
   "outputs": [
    {
     "data": {
      "image/png": "[encoded data removed]",
      "text/plain": [
       "<matplotlib.figure.Figure at 0x10fe04f90>"
      ]
     },
     "metadata": {},
     "output_type": "display_data"
    }
   ],
   "source": [
    "t = np.arange(0.0, 2.0, 0.01)\n",
    "s = np.sin(2*np.pi*t)\n",
    "plt.plot(t, s)\n",
    "\n",
    "plt.grid(True)\n",
    "plt.show()"
   ]
  },
  {
   "cell_type": "markdown",
   "metadata": {},
   "source": [
    "Documentation again http://blog.rousek.name/2015/11/29/adventure-with-matplotlib-virtualenv-and-macosx/\n",
    "\n",
    "1. Go to your virtual environment project folder (in my case sd_venv)\n",
    "2. make a virtual environment (mine is called env)\n",
    "    virtualenv -p /usr/bin/python2.7 env\n",
    "3. Copy and paste the content of the following cell (for ENV, join the absolute path of your virtual environment directory) and save it as frameworkpython in side of env/bin (or the bin folder of your virtual environement)\n",
    "4. make that file executable by running this\n",
    "    chmod +x env/bin/frameworkpython \n",
    "5. activate your virtual environment\n",
    "    source env/bin/activate\n",
    "6. pip install matplotlib\n",
    "7. pip install jupyter\n",
    "8. activate notebook using: env/bin/jupyter-notebook\n",
    "9. test using the above code\n"
   ]
  },
  {
   "cell_type": "raw",
   "metadata": {},
   "source": [
    "#!/bin/bash\n",
    "\n",
    "# what real Python executable to use\n",
    "PYVER=2.7\n",
    "PATHTOPYTHON=/usr/local/bin/\n",
    "PYTHON=${PATHTOPYTHON}python${PYVER}\n",
    "\n",
    "# find the root of the virtualenv, it should be the parent of the dir this script is in\n",
    "ENV=`$PYTHON -c \"import os; print os.path.abspath(os.path.join(~/sd_venv/env))\"`\n",
    "\n",
    "# now run Python with the virtualenv set as Python's HOME\n",
    "export PYTHONHOME=$ENV\n",
    "exec $PYTHON \"$@\""
   ]
  },
  {
   "cell_type": "code",
   "execution_count": null,
   "metadata": {
    "collapsed": true
   },
   "outputs": [],
   "source": []
  }
 ],
 "metadata": {
  "kernelspec": {
   "display_name": "Python 2",
   "language": "python",
   "name": "python2"
  },
  "language_info": {
   "codemirror_mode": {
    "name": "ipython",
    "version": 2
   },
   "file_extension": ".py",
   "mimetype": "text/x-python",
   "name": "python",
   "nbconvert_exporter": "python",
   "pygments_lexer": "ipython2",
   "version": "2.7.10"
  }
 },
 "nbformat": 4,
 "nbformat_minor": 0
}
