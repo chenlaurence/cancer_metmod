{
 "cells": [
  {
   "cell_type": "code",
   "execution_count": 16,
   "metadata": {
    "collapsed": true
   },
   "outputs": [],
   "source": [
    "# Changes:\n",
    "# nh4 is now also -1000, and changed glucose to -100\n",
    "# Set \"MMMm\" and \"OCOAT1m\" rxn bounds to 0\n",
    "# Also, make sure EX_pi_e is also -1000, not sure if it is or not, but it shouldn't be limiting."
   ]
  },
  {
   "cell_type": "code",
   "execution_count": 17,
   "metadata": {
    "collapsed": false
   },
   "outputs": [],
   "source": [
    "from cobra import Reaction\n",
    "import escher\n",
    "import escher.urls\n",
    "import cobra\n",
    "import cobra.test\n",
    "import json\n",
    "import os\n",
    "import string\n",
    "from IPython.display import HTML\n",
    "from cobra.flux_analysis.parsimonious import optimize_minimal_flux\n",
    "model = cobra.io.load_matlab_model('/Users/LAURENCE/Desktop/Senior Design/RECON1', 'RECON1')"
   ]
  },
  {
   "cell_type": "code",
   "execution_count": 18,
   "metadata": {
    "collapsed": false
   },
   "outputs": [
    {
     "name": "stdout",
     "output_type": "stream",
     "text": [
      "['DM_etha_c', 'EX_peplys_e', 'EX_Tyr_ggn_e', 'EX_arg__L_e', 'EX_asn__L_e', 'EX_asp__L_e', 'EX_chol_e', 'EX_cl_e', 'EX_glc__D_e', 'EX_gln__L_e', 'EX_gly_e', 'EX_h_e', 'EX_h2o_e', 'EX_ile__L_e', 'EX_k_e', 'EX_leu__L_e', 'EX_lys__L_e', 'EX_na1_e', 'EX_nh4_e', 'EX_o2_e', 'EX_phe__L_e', 'EX_pi_e', 'EX_pro__L_e', 'EX_ser__L_e', 'EX_thr__L_e', 'EX_trp__L_e', 'EX_tyr__L_e', 'EX_val__L_e']\n"
     ]
    }
   ],
   "source": [
    "#creat ethanalamine demand\n",
    "#metabolite is etha_c\n",
    "\n",
    "DM_etha_c = Reaction('DM_etha_c')\n",
    "DM_etha_c.name = DM_etha_c\n",
    "\n",
    "etha_c = model.metabolites.get_by_id('etha_c')\n",
    "\n",
    "DM_etha_c.add_metabolites({etha_c: -1})\n",
    "model.add_reaction(DM_etha_c)\n",
    "\n",
    "#create a transporter for this\n",
    "\n",
    "Tyr_ggnt = Reaction('Tyr_ggnt')\n",
    "Tyr_ggnt.name = Tyr_ggnt\n",
    "\n",
    "Tyr_ggn_e = model.metabolites.get_by_id('Tyr_ggn_e')\n",
    "Tyr_ggn_c = model.metabolites.get_by_id('Tyr_ggn_c')\n",
    "\n",
    "Tyr_ggnt.add_metabolites({Tyr_ggn_e: -1, Tyr_ggn_c: 1})\n",
    "model.add_reaction(Tyr_ggnt)\n",
    "\n",
    "DM_etha_c.lower_bound = -1\n",
    "Tyr_ggnt.lower_bound = -1000\n",
    "\n",
    "except_EX_names = '''DM_etha_c, EX_peplys_e, EX_Tyr_ggn_e, EX_arg__L_e, EX_asn__L_e, EX_asp__L_e, EX_chol_e, EX_cl_e, EX_glc__D_e, EX_gln__L_e, EX_gly_e, EX_h_e, EX_h2o_e, EX_ile__L_e, EX_k_e, EX_leu__L_e, EX_lys__L_e, EX_na1_e, EX_nh4_e, EX_o2_e, EX_phe__L_e, EX_pi_e, EX_pro__L_e, EX_ser__L_e, EX_thr__L_e, EX_trp__L_e, EX_tyr__L_e, EX_val__L_e'''\n",
    "except_EX_names_split = except_EX_names.split(', ')\n",
    "print except_EX_names_split\n",
    "\n",
    "# Changing all lower bounds to 0 except the given reactions above\n",
    "\n",
    "for a in model.reactions[1188:1591]:\n",
    "    a.lower_bound = 0\n",
    "\n",
    "model.reactions.get_by_id('EX_yvite_e').lower_bound = 0\n",
    "model.reactions.get_by_id('EX_10fthf5glu_e').lower_bound = 0\n",
    "    \n",
    "for b in model.reactions[1188:1591]:\n",
    "    for c in range(len(except_EX_names_split)):  \n",
    "        if b.id  == except_EX_names_split[c]:\n",
    "            b.lower_bound = -1\n",
    "            \n",
    "biomass_NCI60 = Reaction('biomass_NCI60')\n",
    "biomass_NCI60.name = biomass_NCI60\n",
    "\n",
    "ala_L_c = model.metabolites.get_by_id('ala__L_c')\n",
    "arg_L_c = model.metabolites.get_by_id('arg__L_c')\n",
    "asn_L_c = model.metabolites.get_by_id('asn__L_c')\n",
    "asp_L_c = model.metabolites.get_by_id('asp__L_c')\n",
    "atp_c = model.metabolites.get_by_id('atp_c')\n",
    "clpn_hs_c = model.metabolites.get_by_id('clpn_hs_c')\n",
    "ctp_c = model.metabolites.get_by_id('ctp_c')\n",
    "dag_hs_c = model.metabolites.get_by_id('dag_hs_c')\n",
    "datp_c = model.metabolites.get_by_id('datp_c')\n",
    "dctp_c = model.metabolites.get_by_id('dctp_c')\n",
    "dgtp_c = model.metabolites.get_by_id('dgtp_c')\n",
    "dttp_c = model.metabolites.get_by_id('dttp_c')\n",
    "gln_L_c = model.metabolites.get_by_id('gln__L_c')\n",
    "glu_L_c = model.metabolites.get_by_id('glu__L_c')\n",
    "gly_c = model.metabolites.get_by_id('gly_c')\n",
    "glygn2_c = model.metabolites.get_by_id('glygn2_c')\n",
    "gtp_c = model.metabolites.get_by_id('gtp_c')\n",
    "h2o_c = model.metabolites.get_by_id('h2o_c')\n",
    "hdca_c = model.metabolites.get_by_id('hdca_c')\n",
    "hdcea_c = model.metabolites.get_by_id('hdcea_c')\n",
    "ile_L_c = model.metabolites.get_by_id('ile__L_c')\n",
    "leu_L_c = model.metabolites.get_by_id('leu__L_c')\n",
    "lpchol_hs_c = model.metabolites.get_by_id('lpchol_hs_c')\n",
    "lys_L_c = model.metabolites.get_by_id('lys__L_c')\n",
    "mag_hs_c = model.metabolites.get_by_id('mag_hs_c')\n",
    "ocdca_c = model.metabolites.get_by_id('ocdca_c')\n",
    "ocdcea_c = model.metabolites.get_by_id('ocdcea_c')\n",
    "pa_hs_c = model.metabolites.get_by_id('pa_hs_c')\n",
    "pail_hs_c = model.metabolites.get_by_id('pail_hs_c')\n",
    "pchol_hs_c = model.metabolites.get_by_id('pchol_hs_c')\n",
    "pe_hs_c = model.metabolites.get_by_id('pe_hs_c')\n",
    "phe_L_c = model.metabolites.get_by_id('phe__L_c')\n",
    "ps_hs_c = model.metabolites.get_by_id('ps_hs_c')\n",
    "ser_L_c = model.metabolites.get_by_id('ser__L_c')\n",
    "sphmyln_hs_c = model.metabolites.get_by_id('sphmyln_hs_c')\n",
    "thr_L_c = model.metabolites.get_by_id('thr__L_c')\n",
    "trp_L_c = model.metabolites.get_by_id('trp__L_c')\n",
    "tyr_L_c = model.metabolites.get_by_id('tyr__L_c')\n",
    "utp_c = model.metabolites.get_by_id('utp_c')\n",
    "val_L_c = model.metabolites.get_by_id('val__L_c')\n",
    "pro_L_m = model.metabolites.get_by_id('pro__L_m')\n",
    "chsterol_r = model.metabolites.get_by_id('chsterol_r')\n",
    "xolest_hs_r = model.metabolites.get_by_id('xolest_hs_r')\n",
    "adp_c = model.metabolites.get_by_id('adp_c')\n",
    "h_c = model.metabolites.get_by_id('h_c')\n",
    "pi_c = model.metabolites.get_by_id('pi_c')\n",
    "\n",
    "#remove ocdca and ocdcea\n",
    "# added xolest value to cholesterol in biomass and remove xolest\n",
    "\n",
    "biomass_NCI60.add_metabolites({ala_L_c: -0.587929, arg_L_c: -0.380280, asn_L_c: -0.323313, asp_L_c: -0.261396, \n",
    "                               atp_c: -35.033540, clpn_hs_c: -0.000624, ctp_c: -0.033435, dag_hs_c: -0.001032, \n",
    "                               datp_c: -0.014557, dctp_c: -0.009770, dgtp_c: -0.009748, dttp_c: -0.014546,\n",
    "                               gln_L_c: -0.319051, glu_L_c: -0.387401, gly_c: -0.504294, glygn2_c: -0.034479,\n",
    "                               gtp_c: -0.055967, h2o_c: -35.000000, hdca_c: -0.008293, hdcea_c: -0.003315, \n",
    "                               ile_L_c: -0.319813, leu_L_c: -0.548692, lpchol_hs_c: -0.002470, lys_L_c: -0.552717, \n",
    "                               mag_hs_c: -0.001456, pa_hs_c: -0.010645,\n",
    "                               pail_hs_c: -0.005016, pchol_hs_c: -0.022878, pe_hs_c: -0.018211, phe_L_c: -0.170743,\n",
    "                               ps_hs_c: -0.006808, ser_L_c: -0.385852, sphmyln_hs_c: -0.010215, thr_L_c: -0.378004, \n",
    "                               trp_L_c: -0.039847, tyr_L_c: -0.150141, utp_c: -0.063323, val_L_c: -0.385554,\n",
    "                               pro_L_m: -0.237850, chsterol_r: -0.054102,  adp_c: 35.000000, \n",
    "                               h_c: 35.000000, pi_c: 35.000000})\n",
    "\n",
    "model.add_reaction(biomass_NCI60)\n",
    "my_objective = model.reactions.get_by_id('biomass_NCI60')\n",
    "model.change_objective(my_objective)"
   ]
  },
  {
   "cell_type": "markdown",
   "metadata": {},
   "source": [
    "### Feeding the cell w fe2, o2, h, and nh4 for heme"
   ]
  },
  {
   "cell_type": "code",
   "execution_count": 19,
   "metadata": {
    "collapsed": false
   },
   "outputs": [],
   "source": [
    "model.reactions.get_by_id('EX_h_e').lower_bound = -1000\n",
    "model.reactions.get_by_id('EX_o2_e').lower_bound = -1000\n",
    "model.reactions.get_by_id('EX_fe2_e').lower_bound = -1000\n",
    "model.reactions.get_by_id('EX_nh4_e').lower_bound = -1000"
   ]
  },
  {
   "cell_type": "markdown",
   "metadata": {},
   "source": [
    "### Setting glucose to -100"
   ]
  },
  {
   "cell_type": "code",
   "execution_count": 20,
   "metadata": {
    "collapsed": false
   },
   "outputs": [],
   "source": [
    "model.reactions.get_by_id('EX_glc__D_e').lower_bound = -100"
   ]
  },
  {
   "cell_type": "markdown",
   "metadata": {},
   "source": [
    "### Setting EX_pi_e to not be limiting, initially lb was -1"
   ]
  },
  {
   "cell_type": "code",
   "execution_count": 21,
   "metadata": {
    "collapsed": false
   },
   "outputs": [],
   "source": [
    "model.reactions.get_by_id('EX_pi_e').lower_bound = -1000"
   ]
  },
  {
   "cell_type": "markdown",
   "metadata": {},
   "source": [
    "### Set \"MMMm\" and \"OCOAT1m\" rxn bounds to 0"
   ]
  },
  {
   "cell_type": "code",
   "execution_count": 22,
   "metadata": {
    "collapsed": false
   },
   "outputs": [],
   "source": [
    "model.reactions.get_by_id('MMMm').lower_bound = 0\n",
    "model.reactions.get_by_id('MMMm').upper_bound = 0\n",
    "\n",
    "model.reactions.get_by_id('OCOAT1m').lower_bound = 0\n",
    "model.reactions.get_by_id('OCOAT1m').upper_bound = 0\n"
   ]
  },
  {
   "cell_type": "markdown",
   "metadata": {},
   "source": [
    "### Finding the \"healthy\" flux of FH\n",
    "http://bigg.ucsd.edu/universal/reactions/FUM\n",
    "##### Fumarate Hydratase named Fumarase as per Bigg (FUM)"
   ]
  },
  {
   "cell_type": "code",
   "execution_count": 23,
   "metadata": {
    "collapsed": true
   },
   "outputs": [],
   "source": [
    "p_solution = cobra.flux_analysis.parsimonious.optimize_minimal_flux(model)"
   ]
  },
  {
   "cell_type": "code",
   "execution_count": 24,
   "metadata": {
    "collapsed": false
   },
   "outputs": [
    {
     "data": {
      "text/plain": [
       "1.500440309718469"
      ]
     },
     "execution_count": 24,
     "metadata": {},
     "output_type": "execute_result"
    }
   ],
   "source": [
    "model.reactions.get_by_id('FUM')\n",
    "p_solution.x_dict['FUM']"
   ]
  },
  {
   "cell_type": "code",
   "execution_count": 25,
   "metadata": {
    "collapsed": false
   },
   "outputs": [
    {
     "name": "stdout",
     "output_type": "stream",
     "text": [
      "the normal flux of FH is 1.500440 in a healthy cell when optimized for growth\n"
     ]
    }
   ],
   "source": [
    "print \"the normal flux of FH is %f in a healthy cell when optimized for growth\" %(p_solution.x_dict['FUM'])"
   ]
  },
  {
   "cell_type": "markdown",
   "metadata": {},
   "source": [
    "### Adding Malate (mal__L_m) sink reaction that has the same flux as normal FH flux determined via pFBA"
   ]
  },
  {
   "cell_type": "code",
   "execution_count": 26,
   "metadata": {
    "collapsed": true
   },
   "outputs": [],
   "source": [
    "mal__L_m = model.metabolites.get_by_id('mal__L_m')\n",
    "mal__L_m_sink = Reaction('mal__L_m_sink')\n",
    "mal__L_m_sink.name = mal__L_m_sink\n",
    "mal__L_m_sink.add_metabolites({mal__L_m: -1})\n",
    "model.add_reaction(mal__L_m_sink)"
   ]
  },
  {
   "cell_type": "code",
   "execution_count": 27,
   "metadata": {
    "collapsed": false
   },
   "outputs": [
    {
     "data": {
      "text/plain": [
       "3745"
      ]
     },
     "execution_count": 27,
     "metadata": {},
     "output_type": "execute_result"
    }
   ],
   "source": [
    "model.reactions.index('mal__L_m_sink')"
   ]
  },
  {
   "cell_type": "code",
   "execution_count": 28,
   "metadata": {
    "collapsed": false
   },
   "outputs": [],
   "source": [
    "# constraining the sink flux to that of normal FH flux\n",
    "model.reactions.get_by_id(\"mal__L_m_sink\").upper_bound = p_solution.x_dict['FUM']\n",
    "model.reactions.get_by_id(\"mal__L_m_sink\").lower_bound = p_solution.x_dict['FUM']"
   ]
  },
  {
   "cell_type": "markdown",
   "metadata": {},
   "source": [
    "### Constraining FH flux"
   ]
  },
  {
   "cell_type": "code",
   "execution_count": 29,
   "metadata": {
    "collapsed": true
   },
   "outputs": [],
   "source": [
    "model.reactions.get_by_id(\"FUM\").upper_bound = p_solution.x_dict['FUM']\n",
    "model.reactions.get_by_id(\"FUM\").lower_bound = p_solution.x_dict['FUM']"
   ]
  },
  {
   "cell_type": "code",
   "execution_count": 30,
   "metadata": {
    "collapsed": false
   },
   "outputs": [
    {
     "name": "stdout",
     "output_type": "stream",
     "text": [
      "1.50044030972\n",
      "1.50044030972\n"
     ]
    }
   ],
   "source": [
    "print model.reactions.get_by_id(\"FUM\").upper_bound\n",
    "print model.reactions.get_by_id(\"FUM\").lower_bound"
   ]
  },
  {
   "cell_type": "markdown",
   "metadata": {},
   "source": [
    "## Create and set  5aop_m  flux thing as objective"
   ]
  },
  {
   "cell_type": "code",
   "execution_count": 31,
   "metadata": {
    "collapsed": true
   },
   "outputs": [],
   "source": [
    "fiveaop_m = model.metabolites.get_by_id('5aop_m')\n",
    "fiveaop_m_sink = Reaction('fiveaop_m_sink')\n",
    "fiveaop_m_sink.name = fiveaop_m_sink\n",
    "fiveaop_m_sink.add_metabolites({fiveaop_m: -1})\n",
    "model.add_reaction(fiveaop_m_sink)\n",
    "\n",
    "my_objective = model.reactions.get_by_id('fiveaop_m_sink')\n",
    "model.change_objective(my_objective)"
   ]
  },
  {
   "cell_type": "markdown",
   "metadata": {},
   "source": [
    "## pFBA with 5aop and malate sink"
   ]
  },
  {
   "cell_type": "code",
   "execution_count": 32,
   "metadata": {
    "collapsed": true
   },
   "outputs": [],
   "source": [
    "p_solution = cobra.flux_analysis.parsimonious.optimize_minimal_flux(model)"
   ]
  },
  {
   "cell_type": "markdown",
   "metadata": {},
   "source": [
    "## Knocking out ARGSS"
   ]
  },
  {
   "cell_type": "code",
   "execution_count": 33,
   "metadata": {
    "collapsed": true
   },
   "outputs": [],
   "source": [
    "# ARGSS KO\n",
    "\n",
    "model.reactions.get_by_id(\"FUM\").upper_bound = 0\n",
    "model.reactions.get_by_id(\"FUM\").lower_bound = 0\n"
   ]
  },
  {
   "cell_type": "code",
   "execution_count": 34,
   "metadata": {
    "collapsed": true
   },
   "outputs": [],
   "source": [
    "# Now calculate the pFBA\n",
    "p_solution_FHKO = cobra.flux_analysis.parsimonious.optimize_minimal_flux(model)"
   ]
  },
  {
   "cell_type": "code",
   "execution_count": null,
   "metadata": {
    "collapsed": true
   },
   "outputs": [],
   "source": []
  },
  {
   "cell_type": "code",
   "execution_count": null,
   "metadata": {
    "collapsed": true
   },
   "outputs": [],
   "source": []
  }
 ],
 "metadata": {
  "kernelspec": {
   "display_name": "Python 2",
   "language": "python",
   "name": "python2"
  },
  "language_info": {
   "codemirror_mode": {
    "name": "ipython",
    "version": 2
   },
   "file_extension": ".py",
   "mimetype": "text/x-python",
   "name": "python",
   "nbconvert_exporter": "python",
   "pygments_lexer": "ipython2",
   "version": "2.7.11"
  }
 },
 "nbformat": 4,
 "nbformat_minor": 0
}
