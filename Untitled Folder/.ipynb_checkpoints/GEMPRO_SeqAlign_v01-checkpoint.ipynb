{
 "cells": [
  {
   "cell_type": "markdown",
   "metadata": {},
   "source": [
    "### Loading GEM-PRO dataframe"
   ]
  },
  {
   "cell_type": "code",
   "execution_count": 9,
   "metadata": {
    "collapsed": true
   },
   "outputs": [],
   "source": [
    "import pandas as pd"
   ]
  },
  {
   "cell_type": "code",
   "execution_count": 10,
   "metadata": {
    "collapsed": false
   },
   "outputs": [
    {
     "data": {
      "text/html": [
       "<div>\n",
       "<table border=\"1\" class=\"dataframe\">\n",
       "  <thead>\n",
       "    <tr style=\"text-align: right;\">\n",
       "      <th></th>\n",
       "      <th>m_gene_original</th>\n",
       "      <th>m_gene_entrez</th>\n",
       "      <th>m_gene_isoform</th>\n",
       "      <th>u_uniprot_acc</th>\n",
       "      <th>u_isoform_id</th>\n",
       "      <th>u_refseq</th>\n",
       "      <th>u_ensp</th>\n",
       "      <th>u_seq_len</th>\n",
       "      <th>u_seq</th>\n",
       "      <th>u_reviewed</th>\n",
       "      <th>...</th>\n",
       "      <th>ssb_p_aln_coverage</th>\n",
       "      <th>ssb_p_percent_seq_ident</th>\n",
       "      <th>ssb_p_no_deletions_in_pdb</th>\n",
       "      <th>ssb_p_aln_coverage_sim</th>\n",
       "      <th>ssb_si_score</th>\n",
       "      <th>ssb_rez_score</th>\n",
       "      <th>ssb_raw_score</th>\n",
       "      <th>ssb_above_cutoffs</th>\n",
       "      <th>ssb_rank</th>\n",
       "      <th>ssb_best_file</th>\n",
       "    </tr>\n",
       "  </thead>\n",
       "  <tbody>\n",
       "    <tr>\n",
       "      <th>0</th>\n",
       "      <td>100.1</td>\n",
       "      <td>100</td>\n",
       "      <td>1</td>\n",
       "      <td>P00813</td>\n",
       "      <td>P00813-1</td>\n",
       "      <td>NP_000013</td>\n",
       "      <td>ENSP00000361965</td>\n",
       "      <td>363</td>\n",
       "      <td>MAQTPAFDKPKVELHVHLDGSIKPETILYYGRRRGIALPANTAEGL...</td>\n",
       "      <td>True</td>\n",
       "      <td>...</td>\n",
       "      <td>359</td>\n",
       "      <td>0.988981</td>\n",
       "      <td>True</td>\n",
       "      <td>359</td>\n",
       "      <td>1.586721</td>\n",
       "      <td>1.213333</td>\n",
       "      <td>2.800054</td>\n",
       "      <td>True</td>\n",
       "      <td>1</td>\n",
       "      <td>3iar.pdb</td>\n",
       "    </tr>\n",
       "    <tr>\n",
       "      <th>1</th>\n",
       "      <td>10005.1</td>\n",
       "      <td>10005</td>\n",
       "      <td>1</td>\n",
       "      <td>O14734</td>\n",
       "      <td>O14734-1</td>\n",
       "      <td>NP_005460</td>\n",
       "      <td>ENSP00000217455</td>\n",
       "      <td>319</td>\n",
       "      <td>MSSPQAPEDGQGCGDRGDPPGDLRSVLVTTVLNLEPLDEDLFRGRH...</td>\n",
       "      <td>True</td>\n",
       "      <td>...</td>\n",
       "      <td>NaN</td>\n",
       "      <td>NaN</td>\n",
       "      <td>NaN</td>\n",
       "      <td>NaN</td>\n",
       "      <td>NaN</td>\n",
       "      <td>NaN</td>\n",
       "      <td>NaN</td>\n",
       "      <td>NaN</td>\n",
       "      <td>NaN</td>\n",
       "      <td>NP_005460.2_model1_fix.pdb</td>\n",
       "    </tr>\n",
       "    <tr>\n",
       "      <th>2</th>\n",
       "      <td>10005.2</td>\n",
       "      <td>10005</td>\n",
       "      <td>2</td>\n",
       "      <td>NaN</td>\n",
       "      <td>NaN</td>\n",
       "      <td>NaN</td>\n",
       "      <td>NaN</td>\n",
       "      <td>NaN</td>\n",
       "      <td>NaN</td>\n",
       "      <td>NaN</td>\n",
       "      <td>...</td>\n",
       "      <td>NaN</td>\n",
       "      <td>NaN</td>\n",
       "      <td>NaN</td>\n",
       "      <td>NaN</td>\n",
       "      <td>NaN</td>\n",
       "      <td>NaN</td>\n",
       "      <td>NaN</td>\n",
       "      <td>NaN</td>\n",
       "      <td>NaN</td>\n",
       "      <td>NaN</td>\n",
       "    </tr>\n",
       "    <tr>\n",
       "      <th>3</th>\n",
       "      <td>10005.3</td>\n",
       "      <td>10005</td>\n",
       "      <td>3</td>\n",
       "      <td>NaN</td>\n",
       "      <td>NaN</td>\n",
       "      <td>NaN</td>\n",
       "      <td>NaN</td>\n",
       "      <td>NaN</td>\n",
       "      <td>NaN</td>\n",
       "      <td>NaN</td>\n",
       "      <td>...</td>\n",
       "      <td>NaN</td>\n",
       "      <td>NaN</td>\n",
       "      <td>NaN</td>\n",
       "      <td>NaN</td>\n",
       "      <td>NaN</td>\n",
       "      <td>NaN</td>\n",
       "      <td>NaN</td>\n",
       "      <td>NaN</td>\n",
       "      <td>NaN</td>\n",
       "      <td>NaN</td>\n",
       "    </tr>\n",
       "    <tr>\n",
       "      <th>4</th>\n",
       "      <td>10007.1</td>\n",
       "      <td>10007</td>\n",
       "      <td>1</td>\n",
       "      <td>P46926</td>\n",
       "      <td>P46926-1</td>\n",
       "      <td>NP_005462</td>\n",
       "      <td>ENSP00000311876</td>\n",
       "      <td>289</td>\n",
       "      <td>MKLIILEHYSQASEWAAKYIRNRIIQFNPGPEKYFTLGLPTGSTPL...</td>\n",
       "      <td>True</td>\n",
       "      <td>...</td>\n",
       "      <td>281</td>\n",
       "      <td>0.972318</td>\n",
       "      <td>True</td>\n",
       "      <td>281</td>\n",
       "      <td>1.559988</td>\n",
       "      <td>1.175000</td>\n",
       "      <td>2.734988</td>\n",
       "      <td>True</td>\n",
       "      <td>1</td>\n",
       "      <td>1ne7.pdb</td>\n",
       "    </tr>\n",
       "  </tbody>\n",
       "</table>\n",
       "<p>5 rows × 41 columns</p>\n",
       "</div>"
      ],
      "text/plain": [
       "  m_gene_original m_gene_entrez m_gene_isoform u_uniprot_acc u_isoform_id  \\\n",
       "0           100.1           100              1        P00813     P00813-1   \n",
       "1         10005.1         10005              1        O14734     O14734-1   \n",
       "2         10005.2         10005              2           NaN          NaN   \n",
       "3         10005.3         10005              3           NaN          NaN   \n",
       "4         10007.1         10007              1        P46926     P46926-1   \n",
       "\n",
       "    u_refseq           u_ensp  u_seq_len  \\\n",
       "0  NP_000013  ENSP00000361965        363   \n",
       "1  NP_005460  ENSP00000217455        319   \n",
       "2        NaN              NaN        NaN   \n",
       "3        NaN              NaN        NaN   \n",
       "4  NP_005462  ENSP00000311876        289   \n",
       "\n",
       "                                               u_seq u_reviewed  \\\n",
       "0  MAQTPAFDKPKVELHVHLDGSIKPETILYYGRRRGIALPANTAEGL...       True   \n",
       "1  MSSPQAPEDGQGCGDRGDPPGDLRSVLVTTVLNLEPLDEDLFRGRH...       True   \n",
       "2                                                NaN        NaN   \n",
       "3                                                NaN        NaN   \n",
       "4  MKLIILEHYSQASEWAAKYIRNRIIQFNPGPEKYFTLGLPTGSTPL...       True   \n",
       "\n",
       "              ...             ssb_p_aln_coverage ssb_p_percent_seq_ident  \\\n",
       "0             ...                            359                0.988981   \n",
       "1             ...                            NaN                     NaN   \n",
       "2             ...                            NaN                     NaN   \n",
       "3             ...                            NaN                     NaN   \n",
       "4             ...                            281                0.972318   \n",
       "\n",
       "  ssb_p_no_deletions_in_pdb ssb_p_aln_coverage_sim ssb_si_score ssb_rez_score  \\\n",
       "0                      True                    359     1.586721      1.213333   \n",
       "1                       NaN                    NaN          NaN           NaN   \n",
       "2                       NaN                    NaN          NaN           NaN   \n",
       "3                       NaN                    NaN          NaN           NaN   \n",
       "4                      True                    281     1.559988      1.175000   \n",
       "\n",
       "  ssb_raw_score ssb_above_cutoffs ssb_rank               ssb_best_file  \n",
       "0      2.800054              True        1                    3iar.pdb  \n",
       "1           NaN               NaN      NaN  NP_005460.2_model1_fix.pdb  \n",
       "2           NaN               NaN      NaN                         NaN  \n",
       "3           NaN               NaN      NaN                         NaN  \n",
       "4      2.734988              True        1                    1ne7.pdb  \n",
       "\n",
       "[5 rows x 41 columns]"
      ]
     },
     "execution_count": 10,
     "metadata": {},
     "output_type": "execute_result"
    }
   ],
   "source": [
    "GP = pd.read_csv('DF_GEMPRO.csv', index_col=0)\n",
    "# forcing gene IDs to be read as strings\n",
    "GP['m_gene_original'] = GP['m_gene_original'].astype(str)\n",
    "GP['m_gene_entrez'] = GP['m_gene_entrez'].astype(str)\n",
    "GP['m_gene_isoform'] = GP['m_gene_isoform'].astype(str)\n",
    "GP['m_gene_original'][1]\n",
    "GP.head()"
   ]
  },
  {
   "cell_type": "markdown",
   "metadata": {},
   "source": [
    "#### Note the excel file has the sequence IDs"
   ]
  },
  {
   "cell_type": "markdown",
   "metadata": {},
   "source": [
    "### Outputs gene of interest, most importantly identifies the best pdb structure"
   ]
  },
  {
   "cell_type": "code",
   "execution_count": 15,
   "metadata": {
    "collapsed": false
   },
   "outputs": [
    {
     "name": "stdout",
     "output_type": "stream",
     "text": [
      "What is the gene ID?   a\n"
     ]
    }
   ],
   "source": [
    "# this searches for an ID and prints out which row it is in\n",
    "gene_id = raw_input(\"What is the gene ID?   \") # this can be modified to ask for gene original, entrez, uniprot, isoform id, refseq etc.\n",
    "\n",
    "index = 0 \n",
    "for ID in  GP['m_gene_entrez']:\n",
    "    if ID == gene_id:\n",
    "        print pd.DataFrame(GP.ix[index])\n",
    "    index += 1"
   ]
  },
  {
   "cell_type": "markdown",
   "metadata": {
    "collapsed": true
   },
   "source": [
    "### Writing FASTA files"
   ]
  },
  {
   "cell_type": "code",
   "execution_count": 17,
   "metadata": {
    "collapsed": false
   },
   "outputs": [],
   "source": [
    "import os.path\n",
    "from Bio import SeqIO\n",
    "from Bio.Seq import Seq\n",
    "from Bio.SeqRecord import SeqRecord\n",
    "from Bio.Alphabet import IUPAC\n",
    "\n",
    "def write_fasta_file(sequence, fileout):\n",
    "    '''\n",
    "    This writes a fasta file for a SeqRecord object. It also checks if the file exists already and returns the filename.\n",
    "    \n",
    "    Input: sequence - Biopython SeqRecord object, identification - ID of the sequence.\n",
    "    Output: Filename of fasta file\n",
    "    '''\n",
    "    \n",
    "    outfile = \"%s\" % fileout\n",
    "    if os.path.isfile(outfile):\n",
    "        print 'FASTA file already exists %s' % outfile\n",
    "        return outfile\n",
    "    else:\n",
    "        SeqIO.write(sequence, outfile, \"fasta\")\n",
    "        return outfile"
   ]
  },
  {
   "cell_type": "code",
   "execution_count": 21,
   "metadata": {
    "collapsed": false
   },
   "outputs": [
    {
     "name": "stdout",
     "output_type": "stream",
     "text": [
      "FASTA file already exists P00813-1.faa\n"
     ]
    }
   ],
   "source": [
    "# example: for gene 100.1\n",
    "\n",
    "# getting the IDs and making output file name\n",
    "seq_id = GP[GP.m_gene_original == '100.1'].u_isoform_id.values[0]\n",
    "# the /tmp/ in '/tmp/' + seq_id + '.faa' puts it in a temporary folder; I will remove the temp saving for now\n",
    "seq_output = seq_id + '.faa'\n",
    "\n",
    "# getting the sequence and making it into a Biopython SeqRecord object\n",
    "seq = GP[GP.m_gene_original == '100.1'].u_seq.values[0]\n",
    "seq_biop = SeqRecord(Seq(seq, IUPAC.protein),id=seq_id,description='uniprot sequence')\n",
    "\n",
    "# writing the SeqRecord object (formats it as FASTA file)\n",
    "out_file = write_fasta_file(seq_biop, seq_output)"
   ]
  },
  {
   "cell_type": "code",
   "execution_count": 19,
   "metadata": {
    "collapsed": false
   },
   "outputs": [
    {
     "name": "stdout",
     "output_type": "stream",
     "text": [
      ">P00813-1 uniprot sequence\r\n",
      "MAQTPAFDKPKVELHVHLDGSIKPETILYYGRRRGIALPANTAEGLLNVIGMDKPLTLPD\r\n",
      "FLAKFDYYMPAIAGCREAIKRIAYEFVEMKAKEGVVYVEVRYSPHLLANSKVEPIPWNQA\r\n",
      "EGDLTPDEVVALVGQGLQEGERDFGVKARSILCCMRHQPNWSPKVVELCKKYQQQTVVAI\r\n",
      "DLAGDETIPGSSLLPGHVQAYQEAVKSGIHRTVHAGEVGSAEVVKEAVDILKTERLGHGY\r\n",
      "HTLEDQALYNRLRQENMHFEICPWSSYLTGAWKPDTEHAVIRLKNDQANYSLNTDDPLIF\r\n",
      "KSTLDTDYQMTKRDMGFTEEEFKRLNINAAKSSFLPEDEKRELLDLLYKAYGMPPSASAG\r\n",
      "QNL\r\n"
     ]
    }
   ],
   "source": [
    "# just saving in tmp for this example, all fasta files were already written in \"sequence_files\"\n",
    "!cat $out_file"
   ]
  },
  {
   "cell_type": "markdown",
   "metadata": {},
   "source": [
    "## aligning 2 FASTA files"
   ]
  },
  {
   "cell_type": "code",
   "execution_count": 22,
   "metadata": {
    "collapsed": true
   },
   "outputs": [],
   "source": [
    "import os.path\n",
    "from Bio.Emboss.Applications import NeedleCommandline\n",
    "\n",
    "def run_alignment(fasta1_id, fasta1, fasta2_id, fasta2):\n",
    "    '''\n",
    "    Runs the needle alignment program and writes the result to a file. Returns the filename. Standard gap inputs are used.\n",
    "    \n",
    "    Input:  fasta1 - fasta file name (\"reference\" sequence)\n",
    "            fasta2 - fasta file name (what you're interested in aligning)\n",
    "    Output: alignment_file - file name of alignment\n",
    "    '''\n",
    "\n",
    "    alignment_file = \"%s_%s_align.txt\" % (fasta1_id, fasta2_id)\n",
    "    \n",
    "    if os.path.isfile(alignment_file):\n",
    "        print 'Alignment %s file already exists' % alignment_file\n",
    "        return alignment_file\n",
    "\n",
    "    else:\n",
    "        print '**RUNNING ALIGNMENT FOR %s AND %s**' % (fasta1_id, fasta2_id)\n",
    "        needle_cline = NeedleCommandline(asequence=fasta1, bsequence=fasta2, gapopen=10, gapextend=0.5, outfile=alignment_file)\n",
    "        stdout, stderr = needle_cline()\n",
    "        return alignment_file"
   ]
  },
  {
   "cell_type": "code",
   "execution_count": 11,
   "metadata": {
    "collapsed": false
   },
   "outputs": [
    {
     "name": "stdout",
     "output_type": "stream",
     "text": [
      "Structure exists: '/Users/LAURENCE/Desktop/Senior Design/Untitled Folder/ia/pdb3iar.ent' \n"
     ]
    }
   ],
   "source": [
    "# load Biopython PDB packages\n",
    "\n",
    "# PDBList to download PDBs\n",
    "from Bio.PDB.PDBList import PDBList\n",
    "pdbl = PDBList()\n",
    "\n",
    "# PDBParser to load and work with files\n",
    "from Bio.PDB.PDBParser import PDBParser\n",
    "parser = PDBParser()\n",
    "\n",
    "import urllib2\n",
    "import uuid\n",
    "\n",
    "# download pdb\n",
    "pdb_file_path = pdbl.retrieve_pdb_file('3iar')"
   ]
  },
  {
   "cell_type": "code",
   "execution_count": 13,
   "metadata": {
    "collapsed": false
   },
   "outputs": [
    {
     "ename": "ApplicationError",
     "evalue": "Non-zero return code 127 from 'needle -outfile=needle.txt -asequence=3iar.faa -bsequence=P00813-1.faa -gapopen=10 -gapextend=0.5', message '/bin/sh: needle: command not found'",
     "output_type": "error",
     "traceback": [
      "\u001b[0;31m---------------------------------------------------------------------------\u001b[0m",
      "\u001b[0;31mApplicationError\u001b[0m                          Traceback (most recent call last)",
      "\u001b[0;32m<ipython-input-13-6427ee73b610>\u001b[0m in \u001b[0;36m<module>\u001b[0;34m()\u001b[0m\n\u001b[1;32m      3\u001b[0m needle_cline = NeedleCommandline(asequence=\"3iar.faa\", bsequence=\"P00813-1.faa\",\n\u001b[1;32m      4\u001b[0m                                 gapopen=10, gapextend=0.5, outfile=\"needle.txt\")\n\u001b[0;32m----> 5\u001b[0;31m \u001b[0mstdout\u001b[0m\u001b[0;34m,\u001b[0m\u001b[0mstderr\u001b[0m\u001b[0;34m=\u001b[0m\u001b[0mneedle_cline\u001b[0m\u001b[0;34m(\u001b[0m\u001b[0;34m)\u001b[0m\u001b[0;34m\u001b[0m\u001b[0m\n\u001b[0m",
      "\u001b[0;32m//anaconda/lib/python2.7/site-packages/Bio/Application/__init__.pyc\u001b[0m in \u001b[0;36m__call__\u001b[0;34m(self, stdin, stdout, stderr, cwd, env)\u001b[0m\n\u001b[1;32m    515\u001b[0m         \u001b[0;32mif\u001b[0m \u001b[0mreturn_code\u001b[0m\u001b[0;34m:\u001b[0m\u001b[0;34m\u001b[0m\u001b[0m\n\u001b[1;32m    516\u001b[0m             raise ApplicationError(return_code, str(self),\n\u001b[0;32m--> 517\u001b[0;31m                                    stdout_str, stderr_str)\n\u001b[0m\u001b[1;32m    518\u001b[0m         \u001b[0;32mreturn\u001b[0m \u001b[0mstdout_str\u001b[0m\u001b[0;34m,\u001b[0m \u001b[0mstderr_str\u001b[0m\u001b[0;34m\u001b[0m\u001b[0m\n\u001b[1;32m    519\u001b[0m \u001b[0;34m\u001b[0m\u001b[0m\n",
      "\u001b[0;31mApplicationError\u001b[0m: Non-zero return code 127 from 'needle -outfile=needle.txt -asequence=3iar.faa -bsequence=P00813-1.faa -gapopen=10 -gapextend=0.5', message '/bin/sh: needle: command not found'"
     ]
    }
   ],
   "source": [
    "from Bio.Emboss.Applications import NeedleCommandline\n",
    "# I manually downloaded 3iar.faa from Nathan's dropbox\n",
    "needle_cline = NeedleCommandline(asequence=\"3iar.faa\", bsequence=\"P00813-1.faa\",\n",
    "                                gapopen=10, gapextend=0.5, outfile=\"needle.txt\")\n",
    "stdout,stderr=needle_cline()"
   ]
  },
  {
   "cell_type": "code",
   "execution_count": 10,
   "metadata": {
    "collapsed": false
   },
   "outputs": [
    {
     "ename": "IOError",
     "evalue": "[Errno 2] No such file or directory: 'needle.txt'",
     "output_type": "error",
     "traceback": [
      "\u001b[0;31m---------------------------------------------------------------------------\u001b[0m",
      "\u001b[0;31mIOError\u001b[0m                                   Traceback (most recent call last)",
      "\u001b[0;32m<ipython-input-10-059c7558becb>\u001b[0m in \u001b[0;36m<module>\u001b[0;34m()\u001b[0m\n\u001b[1;32m      1\u001b[0m \u001b[0;32mfrom\u001b[0m \u001b[0mBio\u001b[0m \u001b[0;32mimport\u001b[0m \u001b[0mAlignIO\u001b[0m\u001b[0;34m\u001b[0m\u001b[0m\n\u001b[0;32m----> 2\u001b[0;31m \u001b[0malign\u001b[0m \u001b[0;34m=\u001b[0m \u001b[0mAlignIO\u001b[0m\u001b[0;34m.\u001b[0m\u001b[0mread\u001b[0m\u001b[0;34m(\u001b[0m\u001b[0;34m\"needle.txt\"\u001b[0m\u001b[0;34m,\u001b[0m\u001b[0;34m\"emboss\"\u001b[0m\u001b[0;34m)\u001b[0m\u001b[0;34m\u001b[0m\u001b[0m\n\u001b[0m\u001b[1;32m      3\u001b[0m \u001b[0;32mprint\u001b[0m \u001b[0;34m(\u001b[0m\u001b[0malign\u001b[0m\u001b[0;34m)\u001b[0m\u001b[0;34m\u001b[0m\u001b[0m\n",
      "\u001b[0;32m//anaconda/lib/python2.7/site-packages/Bio/AlignIO/__init__.pyc\u001b[0m in \u001b[0;36mread\u001b[0;34m(handle, format, seq_count, alphabet)\u001b[0m\n\u001b[1;32m    425\u001b[0m     \u001b[0miterator\u001b[0m \u001b[0;34m=\u001b[0m \u001b[0mparse\u001b[0m\u001b[0;34m(\u001b[0m\u001b[0mhandle\u001b[0m\u001b[0;34m,\u001b[0m \u001b[0mformat\u001b[0m\u001b[0;34m,\u001b[0m \u001b[0mseq_count\u001b[0m\u001b[0;34m,\u001b[0m \u001b[0malphabet\u001b[0m\u001b[0;34m)\u001b[0m\u001b[0;34m\u001b[0m\u001b[0m\n\u001b[1;32m    426\u001b[0m     \u001b[0;32mtry\u001b[0m\u001b[0;34m:\u001b[0m\u001b[0;34m\u001b[0m\u001b[0m\n\u001b[0;32m--> 427\u001b[0;31m         \u001b[0mfirst\u001b[0m \u001b[0;34m=\u001b[0m \u001b[0mnext\u001b[0m\u001b[0;34m(\u001b[0m\u001b[0miterator\u001b[0m\u001b[0;34m)\u001b[0m\u001b[0;34m\u001b[0m\u001b[0m\n\u001b[0m\u001b[1;32m    428\u001b[0m     \u001b[0;32mexcept\u001b[0m \u001b[0mStopIteration\u001b[0m\u001b[0;34m:\u001b[0m\u001b[0;34m\u001b[0m\u001b[0m\n\u001b[1;32m    429\u001b[0m         \u001b[0mfirst\u001b[0m \u001b[0;34m=\u001b[0m \u001b[0mNone\u001b[0m\u001b[0;34m\u001b[0m\u001b[0m\n",
      "\u001b[0;32m//anaconda/lib/python2.7/site-packages/Bio/AlignIO/__init__.pyc\u001b[0m in \u001b[0;36mparse\u001b[0;34m(handle, format, seq_count, alphabet)\u001b[0m\n\u001b[1;32m    348\u001b[0m         \u001b[0;32mraise\u001b[0m \u001b[0mTypeError\u001b[0m\u001b[0;34m(\u001b[0m\u001b[0;34m\"Need integer for seq_count (sequences per alignment)\"\u001b[0m\u001b[0;34m)\u001b[0m\u001b[0;34m\u001b[0m\u001b[0m\n\u001b[1;32m    349\u001b[0m \u001b[0;34m\u001b[0m\u001b[0m\n\u001b[0;32m--> 350\u001b[0;31m     \u001b[0;32mwith\u001b[0m \u001b[0mas_handle\u001b[0m\u001b[0;34m(\u001b[0m\u001b[0mhandle\u001b[0m\u001b[0;34m,\u001b[0m \u001b[0;34m'rU'\u001b[0m\u001b[0;34m)\u001b[0m \u001b[0;32mas\u001b[0m \u001b[0mfp\u001b[0m\u001b[0;34m:\u001b[0m\u001b[0;34m\u001b[0m\u001b[0m\n\u001b[0m\u001b[1;32m    351\u001b[0m         \u001b[0;31m# Map the file format to a sequence iterator:\u001b[0m\u001b[0;34m\u001b[0m\u001b[0;34m\u001b[0m\u001b[0m\n\u001b[1;32m    352\u001b[0m         \u001b[0;32mif\u001b[0m \u001b[0mformat\u001b[0m \u001b[0;32min\u001b[0m \u001b[0m_FormatToIterator\u001b[0m\u001b[0;34m:\u001b[0m\u001b[0;34m\u001b[0m\u001b[0m\n",
      "\u001b[0;32m//anaconda/lib/python2.7/contextlib.pyc\u001b[0m in \u001b[0;36m__enter__\u001b[0;34m(self)\u001b[0m\n\u001b[1;32m     15\u001b[0m     \u001b[0;32mdef\u001b[0m \u001b[0m__enter__\u001b[0m\u001b[0;34m(\u001b[0m\u001b[0mself\u001b[0m\u001b[0;34m)\u001b[0m\u001b[0;34m:\u001b[0m\u001b[0;34m\u001b[0m\u001b[0m\n\u001b[1;32m     16\u001b[0m         \u001b[0;32mtry\u001b[0m\u001b[0;34m:\u001b[0m\u001b[0;34m\u001b[0m\u001b[0m\n\u001b[0;32m---> 17\u001b[0;31m             \u001b[0;32mreturn\u001b[0m \u001b[0mself\u001b[0m\u001b[0;34m.\u001b[0m\u001b[0mgen\u001b[0m\u001b[0;34m.\u001b[0m\u001b[0mnext\u001b[0m\u001b[0;34m(\u001b[0m\u001b[0;34m)\u001b[0m\u001b[0;34m\u001b[0m\u001b[0m\n\u001b[0m\u001b[1;32m     18\u001b[0m         \u001b[0;32mexcept\u001b[0m \u001b[0mStopIteration\u001b[0m\u001b[0;34m:\u001b[0m\u001b[0;34m\u001b[0m\u001b[0m\n\u001b[1;32m     19\u001b[0m             \u001b[0;32mraise\u001b[0m \u001b[0mRuntimeError\u001b[0m\u001b[0;34m(\u001b[0m\u001b[0;34m\"generator didn't yield\"\u001b[0m\u001b[0;34m)\u001b[0m\u001b[0;34m\u001b[0m\u001b[0m\n",
      "\u001b[0;32m//anaconda/lib/python2.7/site-packages/Bio/File.pyc\u001b[0m in \u001b[0;36mas_handle\u001b[0;34m(handleish, mode, **kwargs)\u001b[0m\n\u001b[1;32m     88\u001b[0m                 \u001b[0;32myield\u001b[0m \u001b[0mfp\u001b[0m\u001b[0;34m\u001b[0m\u001b[0m\n\u001b[1;32m     89\u001b[0m         \u001b[0;32melse\u001b[0m\u001b[0;34m:\u001b[0m\u001b[0;34m\u001b[0m\u001b[0m\n\u001b[0;32m---> 90\u001b[0;31m             \u001b[0;32mwith\u001b[0m \u001b[0mopen\u001b[0m\u001b[0;34m(\u001b[0m\u001b[0mhandleish\u001b[0m\u001b[0;34m,\u001b[0m \u001b[0mmode\u001b[0m\u001b[0;34m,\u001b[0m \u001b[0;34m**\u001b[0m\u001b[0mkwargs\u001b[0m\u001b[0;34m)\u001b[0m \u001b[0;32mas\u001b[0m \u001b[0mfp\u001b[0m\u001b[0;34m:\u001b[0m\u001b[0;34m\u001b[0m\u001b[0m\n\u001b[0m\u001b[1;32m     91\u001b[0m                 \u001b[0;32myield\u001b[0m \u001b[0mfp\u001b[0m\u001b[0;34m\u001b[0m\u001b[0m\n\u001b[1;32m     92\u001b[0m     \u001b[0;32melse\u001b[0m\u001b[0;34m:\u001b[0m\u001b[0;34m\u001b[0m\u001b[0m\n",
      "\u001b[0;31mIOError\u001b[0m: [Errno 2] No such file or directory: 'needle.txt'"
     ]
    }
   ],
   "source": [
    "from Bio import AlignIO\n",
    "align = AlignIO.read(\"needle.txt\",\"emboss\")\n",
    "print (align)"
   ]
  },
  {
   "cell_type": "code",
   "execution_count": null,
   "metadata": {
    "collapsed": true
   },
   "outputs": [],
   "source": []
  }
 ],
 "metadata": {
  "kernelspec": {
   "display_name": "Python 2",
   "language": "python",
   "name": "python2"
  },
  "language_info": {
   "codemirror_mode": {
    "name": "ipython",
    "version": 2
   },
   "file_extension": ".py",
   "mimetype": "text/x-python",
   "name": "python",
   "nbconvert_exporter": "python",
   "pygments_lexer": "ipython2",
   "version": "2.7.11"
  }
 },
 "nbformat": 4,
 "nbformat_minor": 0
}
