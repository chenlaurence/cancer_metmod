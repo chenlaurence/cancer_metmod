{
 "cells": [
  {
   "cell_type": "markdown",
   "metadata": {},
   "source": [
    "# Introduction to PROVEAN and other mutation assessors"
   ]
  },
  {
   "cell_type": "markdown",
   "metadata": {},
   "source": [
    "### There are several tools that can be used to assess the effect of a mutation and they can be compared as follows"
   ]
  },
  {
   "cell_type": "markdown",
   "metadata": {
    "collapsed": false
   },
   "source": [
    "<table bgcolor=\"white\" border=\"1\" cellspacing=\"0\" style=\"text-align:right;\" class=\"padded-table\">\n",
    "\n",
    " <tbody><tr height=\"30\" style=\"text-align:center\">\n",
    "  <th rowspan=\"2\" width=\"80\">Prediction tools</th>\n",
    "  <th rowspan=\"2\" width=\"90\">Score thresholds</th>\n",
    "  <th colspan=\"5\">Human dataset</th>\n",
    "  <th rowspan=\"2\">References</th>\n",
    " </tr>\n",
    "\n",
    " <tr height=\"40\">\n",
    "\n",
    "  <td width=\"70\">Sensitivity</td>\n",
    "  <td width=\"70\">Specificity</td>\n",
    "  <td width=\"70\"><b>Accuracy*</b></td>\n",
    "    <td width=\"70\"><b>Balanced accuracy**</b></td>\n",
    "  <td width=\"70\">No prediction</td>\n",
    "\n",
    "\n",
    " </tr>\n",
    "\n",
    " <tr height=\"40\">\n",
    "  <td style=\"text-align:center\"><b>PROVEAN</b></td>\n",
    "  <td>-4.100<br><span style=\"font-size: 7pt\">(default)</span> -2.500<br>-1.300</td>\n",
    "\n",
    "  <td>56.17<br>79.76<br>90.28</td>\n",
    "  <td>90.34<br>78.63<br>61.65</td>\n",
    "  <td>78.00<br>79.04<br>71.99</td>\n",
    "  <td>73.25<br><b>79.19</b><br>75.96</td>\n",
    "  <td>0</td>\n",
    "  \n",
    "  <td><a href=\"http://dx.plos.org/10.1371/journal.pone.0046688\" target=\"_blank\">Choi et al., 2012</a>; <a target=\"_blank\" href=\"http://provean.jcvi.org\">web</a></td>\n",
    " </tr>\n",
    "\n",
    " <tr height=\"40\">\n",
    "  <td style=\"text-align:center\"><b>Mutation Assessor</b></td>\n",
    "  <td>0.800<br>1.90</td>\n",
    "\n",
    "  <td>96.54<br>85.29</td>\n",
    "  <td>40.59<br>71.02</td>\n",
    "  <td>60.90<br>76.20</td>\n",
    "    <td>68.57<br><b>78.15</b></td>\n",
    "  <td>317<br>(0.55%)</td>\n",
    "\n",
    "  <td><a target=\"_blank\" href=\"http://www.ncbi.nlm.nih.gov/pubmed/21727090\">Reva et al., 2011</a>; <a target=\"_blank\" href=\"http://mutationassessor.org\">web</a></td>\n",
    " </tr>\n",
    "\n",
    " <tr height=\"40\">\n",
    "  <td style=\"text-align:center\"><b>SIFT</b></td>\n",
    "  <td>0.050</td>\n",
    "\n",
    "  <td>85.03</td>\n",
    "  <td>68.95</td>\n",
    "  <td>74.77</td>\n",
    "    <td><b>76.99</b></td>\n",
    "  <td>1147<br>(1.99%)</td>\n",
    "\n",
    "  <td><a target=\"_blank\" href=\"http://www.ncbi.nlm.nih.gov/pubmed/19561590\">Kumar et al., 2009</a>; <a target=\"_blank\" href=\"http://sift.jcvi.org\">web</a></td>\n",
    " </tr>\n",
    "\n",
    " <tr height=\"40\">\n",
    "  <td style=\"text-align:center\"><b>PolyPhen-2</b></td>\n",
    "  <td>0.432</td>\n",
    "\n",
    "  <td>88.68</td>\n",
    "  <td>62.45</td>\n",
    "  <td>72.00</td>\n",
    "    <td><b>75.56</b></td>\n",
    "  <td>2279<br>(3.95%)</td>\n",
    "\n",
    "  <td><a target=\"_blank\" href=\"http://www.ncbi.nlm.nih.gov/pubmed/20354512\">Adzhubei et al., 2010</a>; <a target=\"_blank\" href=\"http://genetics.bwh.harvard.edu/pph2\">web</a></td>\n",
    " </tr>\n",
    "\n",
    "<tr height=\"40\">\n",
    "  <td style=\"text-align:center\"><b>Condel web server</b></td>\n",
    "  <td>0.469</td>\n",
    "\n",
    "  <td>93.84</td>\n",
    "  <td>46.23</td>\n",
    "  <td>64.67</td>\n",
    "    <td><b>70.04</b></td>\n",
    "  <td>7194<br>(12.48%)</td>\n",
    "  \n",
    "  <td><a target=\"_blank\" href=\"http://www.ncbi.nlm.nih.gov/pubmed/21457909\">González-Pérez and López-Bigas, 2011</a>; <a target=\"_blank\" href=\"http://bg.upf.edu/condel\">web</a></td>\n",
    " </tr>\n",
    "\n",
    "</tbody></table>"
   ]
  },
  {
   "cell_type": "markdown",
   "metadata": {},
   "source": [
    "## Let's start with PROVEAN http://provean.jcvi.org/seq_submit.php"
   ]
  },
  {
   "cell_type": "markdown",
   "metadata": {
    "collapsed": true
   },
   "source": [
    "#### Upload example 1 and the amino acid variant will be ***P72R***. It can be noted that the input format for PROVEAN is a protein query sequence in FASTA format ie >p53 isoform a Homo sapiens MEEPQSDPSVEPPLSQETFSDLWKLLPENN...\n",
    "\n",
    "#### The following table is how one would input the amino acid variant to analyze in PROVEAN\n",
    "\n",
    "Steps\n",
    "* go to PROVEAN, select for PROVEAN PROTEIN \n",
    "* enter the FASTA Amino Acid Sequence (to practice, click on upload example 1)\n",
    "* enter the variant as per the input that will be described (only keep the P72R amino acid variant)\n",
    "* submit the query and wait for results!"
   ]
  },
  {
   "cell_type": "code",
   "execution_count": null,
   "metadata": {
    "collapsed": true
   },
   "outputs": [],
   "source": [
    "import pandas as pd"
   ]
  },
  {
   "cell_type": "code",
   "execution_count": null,
   "metadata": {
    "collapsed": false
   },
   "outputs": [],
   "source": [
    "GP = pd.read_csv('DF_GEMPRO.csv', index_col=0)\n",
    "# forcing gene IDs to be read as strings\n",
    "GP['m_gene_original'] = GP['m_gene_original'].astype(str)\n",
    "GP['m_gene_entrez'] = GP['m_gene_entrez'].astype(str)\n",
    "GP['m_gene_isoform'] = GP['m_gene_isoform'].astype(str)\n",
    "# this searches for an ID and prints out which row it is in\n",
    "gene_id = raw_input(\"What is the uniprot ID?   \") # this can be modified to ask for gene original, entrez, uniprot, isoform id, refseq etc.\n",
    "\n",
    "\n",
    "GP[GP.u_uniprot_acc == gene_id.upper()]"
   ]
  },
  {
   "cell_type": "code",
   "execution_count": null,
   "metadata": {
    "collapsed": false
   },
   "outputs": [],
   "source": [
    "gene_original_id = raw_input(\"What is the gene original ID?   \")"
   ]
  },
  {
   "cell_type": "code",
   "execution_count": null,
   "metadata": {
    "collapsed": false
   },
   "outputs": [],
   "source": [
    "seq = GP[GP.m_gene_original == gene_original_id].u_seq.values[0]"
   ]
  },
  {
   "cell_type": "code",
   "execution_count": null,
   "metadata": {
    "collapsed": false
   },
   "outputs": [],
   "source": [
    "# outputs a fasta file format\n",
    "def fasta(seq):\n",
    "    fas_name = raw_input(\"What would you like to name this?   \")\n",
    "    fas_out1 = '> '\n",
    "    fas_out2 = '%s' %(fas_name)\n",
    "    fas_out3 = '\\n%s' %(seq)\n",
    "    fas_out = fas_out1 + fas_out2 + fas_out3\n",
    "    print \"Copy and paste this sequence into: Step 1. Enter a protein sequence \"\n",
    "    print fas_out"
   ]
  },
  {
   "cell_type": "code",
   "execution_count": null,
   "metadata": {
    "collapsed": false,
    "scrolled": true
   },
   "outputs": [],
   "source": [
    "fasta(seq)"
   ]
  },
  {
   "cell_type": "markdown",
   "metadata": {},
   "source": [
    "<tbody><tr class=\"tableHeader\"> \n",
    "\t\t\t<td rowspan=\"2\"><p>Type</p></td>\n",
    "\t\t\t<td colspan=\"2\"><p>Format</p></td>\n",
    "\t\t\t<td rowspan=\"2\"><p>Meaning</p></td>\n",
    "\t\t\t<td rowspan=\"2\"><p>Variant Sequence</p></td>\n",
    "\t\t</tr>\n",
    "\t\t<tr class=\"tableHeader\"> \n",
    "\t\t\t<td><p>Comma-separated values</p></td>\n",
    "\t\t\t<td><p>HGVS notation</p></td>\n",
    "\t\t</tr>\n",
    "\t\t<tr class=\"tableRowOdd\">\n",
    "\t\t\t<td><p>Single Amino Acid Substitution</p></td>\n",
    "\t\t\t<td><p>5,Q,A</p></td>\n",
    "\t\t\t<td><p>Q5A</p></td>\n",
    "\t\t\t<td><p>Q at position 5 is changed to A</p></td>\n",
    "\t\t\t<td><p>MEEPASDPSV</p></td>\n",
    "\t\t</tr>\n",
    "\t\t<tr class=\"tableRowEven\">\n",
    "\t\t\t<td rowspan=\"2\"><p>Deletion</p></td>\n",
    "\t\t\t<td><p>4,P,.</p></td>\n",
    "\t\t\t<td><p>P4<i>del</i></p></td>\n",
    "\t\t\t<td><p>P at position 4 is deleted</p></td>\n",
    "\t\t\t<td><p>MEEQSDPSV</p></td>\n",
    "\t\t</tr>\n",
    "\t\t<tr class=\"tableRowEven\">\n",
    "\t\t\t<td><p>4,PQS,.</p></td>\n",
    "\t\t\t<td><p>P4_S6<i>del</i></p></td>\n",
    "\t\t\t<td><p>A deletion of three amino acids, from P at position 4 to S at position 6</p></td>\n",
    "\t\t\t<td><p>MEEDPSV</p></td>\n",
    "\t\t</tr>\n",
    "\t\t<tr class=\"tableRowOdd\">\n",
    "\t\t\t<td rowspan=\"2\"><p>Insertion</p></td>\n",
    "\t\t\t<td><p>7,D,DVA</p></td>\n",
    "\t\t\t<td><p>D7_P8<i>ins</i>VA</p></td>\n",
    "\t\t\t<td><p>VA is inserted between positions 7 and 8</p></td>\n",
    "\t\t\t<td><p>MEEPQSDVAPSV</p></td>\n",
    "\t\t</tr>\n",
    "\t\t<tr class=\"tableRowOdd\">\n",
    "\t\t\t<td><p>6,S,SPQS<br>3,E,EPQS</p></td>\n",
    "\t\t\t<td><p>P4_S6<i>dup</i></p></td>\n",
    "\t\t\t<td><p>PQS is duplicated</p></td>\n",
    "\t\t\t<td><p>MEEPQSPQSDPSV</p></td>\n",
    "\t\t</tr>\n",
    "\t\t<tr class=\"tableRowEven\">\n",
    "\t\t\t<td rowspan=\"2\"><p>Insertion-deletion (Indel)</p></td>\n",
    "\t\t\t<td><p>7,DP,VA</p></td>\n",
    "\t\t\t<td><p>D7_P8<i>delins</i>VA</p></td>\n",
    "\t\t\t<td><p>DP is replaced by VA</p></td>\n",
    "\t\t\t<td><p>MEEPQSVASV</p></td>\n",
    "\t\t</tr>\n",
    "\t\t<tr class=\"tableRowEven\">\n",
    "\t\t\t<td><p>3,E,QS</p></td>\n",
    "\t\t\t<td><p>E3<i>delins</i>QS</p></td>\n",
    "\t\t\t<td><p>E is replaced by QS</p></td>\n",
    "\t\t\t<td><p>MEQSPQSDPSV</p></td>\n",
    "\t\t</tr>\n",
    "\t</tbody>"
   ]
  },
  {
   "cell_type": "code",
   "execution_count": 1,
   "metadata": {
    "collapsed": false
   },
   "outputs": [
    {
     "name": "stdout",
     "output_type": "stream",
     "text": [
      "What type of mutation is it (Single Amino Acid [SAA], Del, In, or Indel)?   indel\n",
      "Is there only one deletion or a range of deletions (answer with 'one' or 'range')   range\n",
      "What is the first AA that is being deleted?   M\n",
      "What position is that AA in?   1\n",
      "What is the last AA that is being deleted?   S\n",
      "What position is that AA in?   6\n",
      "What AAs are being inserted (can insert more than one, ie MKSS)   VSS\n",
      "this is your input: M1_S6delinsVSS\n"
     ]
    }
   ],
   "source": [
    "mut_type = raw_input(\"What type of mutation is it (Single Amino Acid [SAA], Del, In, or Indel)?   \")\n",
    "if mut_type.upper() == 'SAA':\n",
    "\tmut_loc_SAA = raw_input(\"Which amino acid position is it located in? \")\n",
    "\tmut_init = raw_input(\"Which amino acid was it initially? \")\n",
    "\tmut_out = raw_input(\"Which amino acid was it changed to? \")\n",
    "\tprint \"this is your input for Step 2: %s%s%s\" %(mut_init, mut_loc_SAA, mut_out)\n",
    "elif mut_type.upper() == 'DEL':\n",
    "\tmut_loc = raw_input(\"Which amino acid position was deleted? \")\n",
    "\tmut_init = raw_input(\"Which amino acid was it initially? \")\n",
    "\tprint \"this is your input for Step 2: %s%sdel\" %(mut_init, mut_loc)\n",
    "elif mut_type.upper() == 'IN':\n",
    "\tmut_insert = raw_input(\"Which amino acid(s) does the insertion consist of? \")\n",
    "\tmut_aa1 = raw_input(\"Which amino acid was it inserted behind of? \")\n",
    "\tmut_aa1_pos =raw_input(\"What AA position was it inserted in? \")\n",
    "\tmut_aa2 = raw_input(\"Which amino acid is the insertion in front of? \")\n",
    "\tmut_aa2_pos =raw_input(\"What AA position was it inserted behind of? \")\n",
    "\tprint \"this is your input for Step 2: %s%s_%s%sins%s\" %(mut_aa1, mut_aa1_pos, mut_aa2, mut_aa2_pos, mut_insert)\n",
    "elif mut_type.upper() == 'INDEL':\n",
    "    mut_num_t = raw_input(\"Is there only one deletion or a range of deletions (answer with 'one' or 'range')   \")\n",
    "    if mut_num_t.upper() == 'ONE':\n",
    "        mut_del1 = raw_input(\"What is the AA that is being deleted?   \")\n",
    "        mut_del1_pos = raw_input(\"What position is that AA in?   \")\n",
    "        mut_indel = raw_input(\"What AAs are being inserted (can insert more than one, ie MKSS)   \")\n",
    "        print \"this is your input for Step 2: %s%sdelins%s\" %(mut_del1, mut_del1_pos, mut_indel)\n",
    "    elif mut_num_t.upper() == 'RANGE':\n",
    "        mut_del1 = raw_input(\"What is the first AA that is being deleted?   \")\n",
    "        mut_del1_pos = raw_input(\"What position is that AA in?   \")\n",
    "        mut_del2 = raw_input(\"What is the last AA that is being deleted?   \")\n",
    "        mut_del2_pos = raw_input(\"What position is that AA in?   \")\n",
    "        mut_indel = raw_input(\"What AAs are being inserted (can insert more than one, ie MKSS)   \")\n",
    "        print \"this is your input for Step 2: %s%s_%s%sdelins%s\" %(mut_del1, mut_del1_pos, mut_del2, mut_del2_pos, mut_indel)\n",
    "    else:\n",
    "        print \"tbd\"\t\n",
    "else:\n",
    "\tredo = raw_input(\"please input SAA, Del, In, or Indel\")"
   ]
  },
  {
   "cell_type": "markdown",
   "metadata": {},
   "source": [
    "### After inputting the mutation, P72R, this is the output we will get. PROVEAN will tell you if the mutation is neutral or deleterious "
   ]
  },
  {
   "cell_type": "markdown",
   "metadata": {},
   "source": [
    "## SIFT http://sift.bii.a-star.edu.sg/www/SIFT_seq_submit2.html "
   ]
  },
  {
   "cell_type": "markdown",
   "metadata": {},
   "source": [
    "## Let's take a look at Mutation Assessor http://mutationassessor.org/r3/"
   ]
  },
  {
   "cell_type": "markdown",
   "metadata": {},
   "source": [
    "#### Let's continue with the same protein example we used in PROVEAN (link describes the protein http://www.uniprot.org/uniprot/P04637). This can be noted to only analyze for amino acid variations (no indels)"
   ]
  },
  {
   "cell_type": "markdown",
   "metadata": {},
   "source": [
    "The server accepts list of variants, one variant per line, plus optional text describing your variants,\n",
    "in genomic coordinates, \"+\" strand assumed :\n",
    "  genome build,chromosome,position,reference allele,substituted allele\n",
    "Genome build is optional (build 19 assumed), accepted values: 'hg19' and 'hg38'\n",
    "Examples:\n",
    "  hg38,13,32338418,G,T   BRCA2\n",
    "  hg19,7,55211080,G,A   EGFR\n",
    "  7,55211080,G,A   EGFR\n",
    " \n",
    "or in protein space:\n",
    "  protein ID variant text,\n",
    "where protein ID can be :\n",
    "- Uniprot protein accession (e.g. EGFR_HUMAN)\n",
    "- NCBI Refseq protein ID (e.g. NP_005219)\n",
    "Examples:\n",
    "  EGFR_HUMAN R521K\n",
    "  EGFR_HUMAN R98Q Polymorphism\n",
    "  EGFR_HUMAN G719D disease\n",
    "  NP_000537 G356A\n",
    "  NP_000537 G360A dbSNP:rs35993958\n",
    "  NP_000537 S46A Abolishes phosphorylation"
   ]
  },
  {
   "cell_type": "markdown",
   "metadata": {},
   "source": [
    "The input is: P53_HUMAN P72R (corresponding to UNIPROT ID)"
   ]
  },
  {
   "cell_type": "markdown",
   "metadata": {},
   "source": [
    "Submitting the query with the pre-selected options will give you this output, again, essentially telling you how \"deleterious\" they believe the mutation to be<img src=\"Mut_Ass.png\">"
   ]
  },
  {
   "cell_type": "markdown",
   "metadata": {},
   "source": [
    "Could also have this output/information if all options prior to submitting are selected <img src=\"Mut_Ass2.png\">"
   ]
  },
  {
   "cell_type": "markdown",
   "metadata": {},
   "source": [
    "## Let's take a look at PolyPhen-2 http://genetics.bwh.harvard.edu/pph2/"
   ]
  },
  {
   "cell_type": "markdown",
   "metadata": {},
   "source": [
    "This is the input interface  <img src=\"PP2_1.png\">"
   ]
  },
  {
   "cell_type": "markdown",
   "metadata": {},
   "source": [
    "#### Let's continue with the same protein example we used in PROVEAN (link describes the protein http://www.uniprot.org/uniprot/P04637)"
   ]
  },
  {
   "cell_type": "markdown",
   "metadata": {},
   "source": [
    "Input either the Protein identifier or the FASTA sequence <img src=\"PP2_2.png\">"
   ]
  },
  {
   "cell_type": "markdown",
   "metadata": {},
   "source": [
    "# Start of PDB Structural Visualization (PV Java)"
   ]
  },
  {
   "cell_type": "code",
   "execution_count": null,
   "metadata": {
    "collapsed": true
   },
   "outputs": [],
   "source": [
    "# load Biopython PDB packages\n",
    "\n",
    "# PDBList to download PDBs\n",
    "from Bio.PDB.PDBList import PDBList\n",
    "pdbl = PDBList()\n",
    "\n",
    "# PDBParser to load and work with files\n",
    "from Bio.PDB.PDBParser import PDBParser\n",
    "parser = PDBParser()\n",
    "\n",
    "import urllib2\n",
    "import uuid"
   ]
  },
  {
   "cell_type": "code",
   "execution_count": null,
   "metadata": {
    "collapsed": false
   },
   "outputs": [],
   "source": [
    "# download pdb\n",
    "pdb_file_path = pdbl.retrieve_pdb_file('3BWM')"
   ]
  },
  {
   "cell_type": "code",
   "execution_count": null,
   "metadata": {
    "collapsed": true
   },
   "outputs": [],
   "source": [
    "# open the downloaded file\n",
    "# COMT is just the name of this structure - can be arbitrary\n",
    "structure = parser.get_structure('COMT', pdb_file_path)"
   ]
  },
  {
   "cell_type": "code",
   "execution_count": null,
   "metadata": {
    "collapsed": false
   },
   "outputs": [],
   "source": [
    "# get the ligands within this file for display\n",
    "# from: http://stackoverflow.com/questions/25718201/remove-heteroatoms-from-pdb\n",
    "ligands = []\n",
    "\n",
    "for residue in structure.get_residues():\n",
    "    tags = residue.get_full_id()\n",
    "    # tags contains a tuple with (Structure ID, Model ID, Chain ID, (Residue ID))\n",
    "    # Residue ID is a tuple with (*Hetero Field*, Residue ID, Insertion Code)\n",
    "\n",
    "    # Thus you're interested in the Hetero Field, that is empty if the residue\n",
    "    # is not a hetero atom or have some flag if it is (W for waters, H, etc.)\n",
    "    if tags[3][0] != \" \" and tags[3][0] != \"W\":\n",
    "        ligands.append(tags[3][0].split('_')[1].strip())\n",
    "    else:\n",
    "        continue\n",
    "        \n",
    "print(ligands)"
   ]
  },
  {
   "cell_type": "code",
   "execution_count": null,
   "metadata": {
    "collapsed": true
   },
   "outputs": [],
   "source": [
    "class PDBViewer(object):\n",
    "    '''\n",
    "    Contributed by: Ali Ebrahim\n",
    "    '''\n",
    "    \n",
    "    def __init__(self, f):\n",
    "        self.pdb = open(f).read()\n",
    "\n",
    "    def _repr_html_(self):\n",
    "        div_id = str(uuid.uuid4())\n",
    "        \n",
    "        return \"\"\"<div id=\"%s\" style=\"width: 800px; height: 600px\"><div>\n",
    "        <!--script src=\"//biasmv.github.io/pv/js/pv.min.js\"></script-->\n",
    "        <script>\n",
    "        require.config({paths: {\"pv\": \"//biasmv.github.io/pv/js/pv.min\"}});\n",
    "        require([\"pv\"], function (pv) {\n",
    "            pdb = \"%s\";\n",
    "            structure = pv.io.pdb(pdb);\n",
    "            viewer = pv.Viewer(document.getElementById('%s'),\n",
    "                               {quality : 'medium', width: 'auto', height : 'auto',\n",
    "                                antialias : true, outline : true});\n",
    "            viewer.fitParent();\n",
    "            var ligand = structure.select({rnames : %s});\n",
    "            viewer.ballsAndSticks('ligand', ligand);\n",
    "            viewer.cartoon('molecule', structure);\n",
    "            viewer.centerOn(structure);\n",
    "            \n",
    "        });\n",
    "        </script>\n",
    "        \"\"\" % (div_id, self.pdb.replace(\"\\n\", \"\\\\n\"), div_id, ligands)"
   ]
  },
  {
   "cell_type": "code",
   "execution_count": null,
   "metadata": {
    "collapsed": false
   },
   "outputs": [],
   "source": [
    "PDBViewer(pdb_file_path)"
   ]
  },
  {
   "cell_type": "code",
   "execution_count": null,
   "metadata": {
    "collapsed": false
   },
   "outputs": [],
   "source": [
    "from pvviewer import PDBViewer"
   ]
  },
  {
   "cell_type": "code",
   "execution_count": null,
   "metadata": {
    "collapsed": false
   },
   "outputs": [],
   "source": [
    "import sys\n",
    "print (sys.version)"
   ]
  },
  {
   "cell_type": "code",
   "execution_count": null,
   "metadata": {
    "collapsed": true
   },
   "outputs": [],
   "source": []
  }
 ],
 "metadata": {
  "kernelspec": {
   "display_name": "Python 2",
   "language": "python",
   "name": "python2"
  },
  "language_info": {
   "codemirror_mode": {
    "name": "ipython",
    "version": 2
   },
   "file_extension": ".py",
   "mimetype": "text/x-python",
   "name": "python",
   "nbconvert_exporter": "python",
   "pygments_lexer": "ipython2",
   "version": "2.7.11"
  }
 },
 "nbformat": 4,
 "nbformat_minor": 0
}
