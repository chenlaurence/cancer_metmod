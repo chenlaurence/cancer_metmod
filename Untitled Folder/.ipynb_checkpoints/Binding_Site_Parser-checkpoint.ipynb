{
 "cells": [
  {
   "cell_type": "code",
   "execution_count": 1,
   "metadata": {
    "collapsed": true
   },
   "outputs": [],
   "source": [
    "asdf = '69, 100-108, 2, 3, 300, 14-19, 20'"
   ]
  },
  {
   "cell_type": "code",
   "execution_count": 2,
   "metadata": {
    "collapsed": false
   },
   "outputs": [
    {
     "name": "stdout",
     "output_type": "stream",
     "text": [
      "69,100-108,2,3,300,14-19,20\n"
     ]
    }
   ],
   "source": [
    "qwerty = asdf.replace(' ','')\n",
    "print qwerty\n",
    "mylist = qwerty.split(',')"
   ]
  },
  {
   "cell_type": "code",
   "execution_count": 3,
   "metadata": {
    "collapsed": false
   },
   "outputs": [
    {
     "data": {
      "text/plain": [
       "['69', '100-108', '2', '3', '300', '14-19', '20']"
      ]
     },
     "execution_count": 3,
     "metadata": {},
     "output_type": "execute_result"
    }
   ],
   "source": [
    "mylist"
   ]
  },
  {
   "cell_type": "code",
   "execution_count": 4,
   "metadata": {
    "collapsed": false
   },
   "outputs": [
    {
     "data": {
      "text/plain": [
       "7"
      ]
     },
     "execution_count": 4,
     "metadata": {},
     "output_type": "execute_result"
    }
   ],
   "source": [
    "len(mylist)"
   ]
  },
  {
   "cell_type": "code",
   "execution_count": null,
   "metadata": {
    "collapsed": true
   },
   "outputs": [],
   "source": [
    "if '-' not in mylist[0]:\n",
    "    numberz = mylist[0]\n",
    "if '-' in mylist[0]:\n",
    "    sec_counter = 0\n",
    "    for letter in mylist[0]:\n",
    "        if letter == '-':\n",
    "            first_hyphen_pos = sec_counter\n",
    "        sec_counter = sec_counter +1\n",
    "    numberz = mylist[0][:first_hyphen_pos]"
   ]
  },
  {
   "cell_type": "code",
   "execution_count": 16,
   "metadata": {
    "collapsed": false,
    "scrolled": true
   },
   "outputs": [
    {
     "name": "stdout",
     "output_type": "stream",
     "text": [
      "69, 100, 101, 102, 103, 104, 105, 106, 107, 108, 2, 3, 300, 14, 15, 16, 17, 18, 19, 20\n",
      "rnums : [69, 100, 101, 102, 103, 104, 105, 106, 107, 108, 2, 3, 300, 14, 15, 16, 17, 18, 19, 20]\n"
     ]
    }
   ],
   "source": [
    "indexx = 0\n",
    "numberz = ''\n",
    "for number in mylist:\n",
    "    if '-' not in mylist[indexx]:\n",
    "        numberz += ', ' + mylist[indexx]\n",
    "    if '-' in mylist[indexx]:\n",
    "        indexxx = 0\n",
    "        for everydigit in mylist[indexx]:\n",
    "            if everydigit == '-':\n",
    "                hyphen_pos = indexxx\n",
    "            indexxx = indexxx + 1\n",
    "        rnums_seq_script = mylist[indexx][0:hyphen_pos]\n",
    "        num_counter = mylist[indexx][0:hyphen_pos]\n",
    "        numberz += ', '+ num_counter\n",
    "        for y in range(int(mylist[indexx][(hyphen_pos + 1):]) - int(mylist[indexx][0:hyphen_pos])):\n",
    "            num_counter = str(int(num_counter) + 1)\n",
    "            numberz += ', ' + str(num_counter)\n",
    "    indexx = indexx + 1\n",
    "tidied_output = numberz[2:]\n",
    "print tidied_output\n",
    "rnums_script = \"rnums : [\" + tidied_output + \"]\"\n",
    "print rnums_script"
   ]
  },
  {
   "cell_type": "code",
   "execution_count": null,
   "metadata": {
    "collapsed": false
   },
   "outputs": [],
   "source": [
    "print mylist[3]\n",
    "indexxxx = 0\n",
    "for everydigit in mylist[3]:\n",
    "    if everydigit == '-':\n",
    "        hyphen_pos = indexxxx\n",
    "    indexxxx = indexxxx + 1\n",
    "print hyphen_pos\n",
    "type(mylist[3][hyphen_pos])\n",
    "\n",
    "rnums_seq_script = mylist[3][hyphen_pos - 1]\n",
    "for y in range(int(mylist[3][hyphen_pos - 1]) - int(mylist[3][hyphen_pos + 1])):\n",
    "     res_loop_counter = res_loop_counter + 1\n",
    "     rnums_seq_script += ', ' + str(res_loop_counter)\n",
    "rnums_script = \"rnums : [\" + rnums_seq_script + \"]\""
   ]
  },
  {
   "cell_type": "code",
   "execution_count": null,
   "metadata": {
    "collapsed": true
   },
   "outputs": [],
   "source": [
    "site_start = int(raw_input(\"Which AA sequence does it start at?   \"))\n",
    "        site_end = int(raw_input(\"Which AA sequence does it end at?   \"))\n",
    "        rnums_seq_script = str(site_start)\n",
    "        res_loop_counter = site_start\n",
    "        for a in range(site_end - site_start):\n",
    "            res_loop_counter = res_loop_counter + 1\n",
    "            rnums_seq_script += ', ' + str(res_loop_counter)\n",
    "        rnums_script = \"rnums : [\" + rnums_seq_script + \"]\"\n",
    "        is_res = ''"
   ]
  },
  {
   "cell_type": "code",
   "execution_count": null,
   "metadata": {
    "collapsed": false
   },
   "outputs": [],
   "source": [
    "aaa = 'wopwopwop'\n",
    "if aaa.find('a') == 1:\n",
    "    print \"yay\""
   ]
  },
  {
   "cell_type": "code",
   "execution_count": null,
   "metadata": {
    "collapsed": false
   },
   "outputs": [],
   "source": [
    "for a in mylist:\n",
    "    a.strip()\n",
    "    print a"
   ]
  },
  {
   "cell_type": "code",
   "execution_count": null,
   "metadata": {
    "collapsed": false
   },
   "outputs": [],
   "source": [
    "mylist"
   ]
  },
  {
   "cell_type": "code",
   "execution_count": null,
   "metadata": {
    "collapsed": false
   },
   "outputs": [],
   "source": [
    "type(mylist[0])"
   ]
  },
  {
   "cell_type": "code",
   "execution_count": null,
   "metadata": {
    "collapsed": true
   },
   "outputs": [],
   "source": []
  }
 ],
 "metadata": {
  "kernelspec": {
   "display_name": "Python 2",
   "language": "python",
   "name": "python2"
  },
  "language_info": {
   "codemirror_mode": {
    "name": "ipython",
    "version": 2
   },
   "file_extension": ".py",
   "mimetype": "text/x-python",
   "name": "python",
   "nbconvert_exporter": "python",
   "pygments_lexer": "ipython2",
   "version": "2.7.11"
  }
 },
 "nbformat": 4,
 "nbformat_minor": 0
}
