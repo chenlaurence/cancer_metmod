{
 "cells": [
  {
   "cell_type": "code",
   "execution_count": 1,
   "metadata": {
    "collapsed": true
   },
   "outputs": [],
   "source": [
    "import numpy as np\n",
    "import math\n",
    "import random"
   ]
  },
  {
   "cell_type": "code",
   "execution_count": 2,
   "metadata": {
    "collapsed": false
   },
   "outputs": [
    {
     "name": "stderr",
     "output_type": "stream",
     "text": [
      "cobra/io/__init__.py:17 \u001b[1;31mUserWarning\u001b[0m: cobra.io.sbml requires libsbml\n"
     ]
    }
   ],
   "source": [
    "import escher\n",
    "import escher.urls\n",
    "import cobra\n",
    "import cobra.test\n",
    "import json\n",
    "import os\n",
    "from IPython.display import HTML\n",
    "\n",
    "# Make this local\n",
    "b = escher.Builder(map_json='/Users/LAURENCE/Desktop/Senior Design/RECON1.Central.json')\n",
    "#b.display_in_browser(scroll_behavior='pan')"
   ]
  },
  {
   "cell_type": "code",
   "execution_count": 3,
   "metadata": {
    "collapsed": false
   },
   "outputs": [
    {
     "name": "stdout",
     "output_type": "stream",
     "text": [
      "Growth rate: 3.20\n"
     ]
    },
    {
     "name": "stderr",
     "output_type": "stream",
     "text": [
      "cobra/io/mat.py:136 \u001b[1;31mFutureWarning\u001b[0m: elementwise == comparison failed and returning scalar instead; this will raise an error or perform elementwise comparison in the future.\n"
     ]
    }
   ],
   "source": [
    "model = cobra.io.load_matlab_model('/Users/LAURENCE/Desktop/Senior Design/modelRecon2', 'modelRecon2')\n",
    "solution = model.optimize()\n",
    "print('Growth rate: %.2f' % solution.f)"
   ]
  },
  {
   "cell_type": "code",
   "execution_count": 4,
   "metadata": {
    "collapsed": true
   },
   "outputs": [],
   "source": [
    "rxn_name = 'ARGSS, ARGSL, ORNt4m, ORNt3m, OCBTm, CBPSam, CSm, PCm, ADK3, NDPK8, RNDR1'"
   ]
  },
  {
   "cell_type": "code",
   "execution_count": 5,
   "metadata": {
    "collapsed": false
   },
   "outputs": [],
   "source": [
    "v_matrix = [0]*33"
   ]
  },
  {
   "cell_type": "code",
   "execution_count": 6,
   "metadata": {
    "collapsed": false
   },
   "outputs": [
    {
     "name": "stdout",
     "output_type": "stream",
     "text": [
      "['ARGSS', 'ARGSL', 'ORNt4m', 'ORNt3m', 'OCBTm', 'CBPSam', 'CSm', 'PCm', 'ADK3', 'NDPK8', 'RNDR1']\n"
     ]
    }
   ],
   "source": [
    "#rxn_name = raw_input(\"What are the names of your reactions:   \")\n",
    "\n",
    "rxns = rxn_name.split(', ')\n",
    "print rxns"
   ]
  },
  {
   "cell_type": "code",
   "execution_count": 7,
   "metadata": {
    "collapsed": false
   },
   "outputs": [
    {
     "name": "stdout",
     "output_type": "stream",
     "text": [
      "[[ 1.  0.  0. ...,  0.  0.  0.]\n",
      " [ 0.  1.  0. ...,  0.  0.  0.]\n",
      " [ 0.  0. -1. ...,  0.  0.  0.]\n",
      " ..., \n",
      " [ 0.  0.  0. ...,  0.  0.  0.]\n",
      " [ 0.  0.  0. ...,  0.  0.  0.]\n",
      " [ 0.  0.  0. ...,  0.  0.  0.]]\n"
     ]
    }
   ],
   "source": [
    "v_count = 0\n",
    "for c in rxns:\n",
    "    v_matrix[v_count] = np.sign(model.solution.x_dict[c])\n",
    "    v_count = v_count + 1\n",
    "\n",
    "v_array = np.asarray(v_matrix)\n",
    "v_diag = np.diag(v_array)\n",
    "v_diag.shape\n",
    "print v_diag\n",
    "\n",
    "# v_diag is our sign(v)"
   ]
  },
  {
   "cell_type": "code",
   "execution_count": 8,
   "metadata": {
    "collapsed": false
   },
   "outputs": [],
   "source": [
    "import csv\n",
    "cr = csv.reader(open(\"ASS_S_matrix_3.csv\",\"rb\"))\n",
    "arr = range(33) #adjust to needed\n",
    "x = 0\n",
    "for row in cr:    \n",
    "    arr[x] = row\n",
    "    x += 1\n",
    "\n",
    "#print arr\n",
    "# arr is our S for the subnetwork"
   ]
  },
  {
   "cell_type": "code",
   "execution_count": 9,
   "metadata": {
    "collapsed": false
   },
   "outputs": [],
   "source": [
    "S = np.asarray(arr)\n",
    "S_num = np.array(S, np.float)\n",
    "\n",
    "sign_v_S = v_diag.dot(S_num)\n",
    "#print S_num\n",
    "# sign_v_S is our S normalized to v\n",
    "\n",
    "sign_v_S_T = np.transpose(sign_v_S)\n",
    "# sign_v_S_T is our sign(v)S^T array"
   ]
  },
  {
   "cell_type": "code",
   "execution_count": 10,
   "metadata": {
    "collapsed": true
   },
   "outputs": [],
   "source": [
    "Keqs = [0.501, 0.0065, 1, 1, 120000, 1.01, 0.00000086, 5.41, 1, 0.287, 1]"
   ]
  },
  {
   "cell_type": "code",
   "execution_count": 11,
   "metadata": {
    "collapsed": false
   },
   "outputs": [
    {
     "name": "stdout",
     "output_type": "stream",
     "text": [
      "[ -6.91149178e-01  -5.03595310e+00   0.00000000e+00   0.00000000e+00\n",
      "   1.16952470e+01   9.95033085e-03  -1.39663334e+01   1.68824909e+00\n",
      "   0.00000000e+00  -1.24827306e+00   0.00000000e+00]\n"
     ]
    }
   ],
   "source": [
    "lnKeqs = [0] * len(Keqs)\n",
    "Keq_counter = 0\n",
    "for d in Keqs:\n",
    "    if d == 0:\n",
    "        lnKeqs[Keq_counter] = 0\n",
    "    else:\n",
    "        lnKeqs[Keq_counter] = math.log(d)\n",
    "        Keq_counter = Keq_counter + 1\n",
    "        #print d\n",
    "        \n",
    "lnKeqs_array = np.asarray(lnKeqs)\n",
    "print lnKeqs_array"
   ]
  },
  {
   "cell_type": "code",
   "execution_count": 12,
   "metadata": {
    "collapsed": true
   },
   "outputs": [],
   "source": [
    "# setting bounds\n",
    "y_bounds = (-20,0)"
   ]
  },
  {
   "cell_type": "code",
   "execution_count": 13,
   "metadata": {
    "collapsed": false
   },
   "outputs": [
    {
     "name": "stdout",
     "output_type": "stream",
     "text": [
      "0.692816428672\n",
      "[0.6928164286715646, 0.6928164286715646, 0.6928164286715646, 0.6928164286715646, 0.6928164286715646, 0.6928164286715646, 0.6928164286715646, 0.6928164286715646, 0.6928164286715646, 0.6928164286715646, 0.6928164286715646, 0.6928164286715646, 0.6928164286715646, 0.6928164286715646, 0.6928164286715646, 0.6928164286715646, 0.6928164286715646, 0.6928164286715646, 0.6928164286715646, 0.6928164286715646, 0.6928164286715646, 0.6928164286715646, 0.6928164286715646, 0.6928164286715646, 0.6928164286715646, 0.6928164286715646, 0.6928164286715646, 0.6928164286715646, 0.6928164286715646, 0.6928164286715646, 0.6928164286715646, 0.6928164286715646, 0.6928164286715646]\n"
     ]
    }
   ],
   "source": [
    "c = random.uniform(-1,1)\n",
    "print c\n",
    "c_array = [c]*33\n",
    "print c_array"
   ]
  },
  {
   "cell_type": "markdown",
   "metadata": {},
   "source": [
    "* v_diag is our sign(v)\n",
    "* sign_v_S_T is our sign(v) S^T array\n",
    "* lnKeqs_array is an array of our ln(Keqs)\n",
    "* y_bounds is our bound\n",
    "* c_array is an array of a random float generated between -1 and 1"
   ]
  },
  {
   "cell_type": "code",
   "execution_count": 14,
   "metadata": {
    "collapsed": false
   },
   "outputs": [
    {
     "name": "stdout",
     "output_type": "stream",
     "text": [
      "Optimization failed. Unable to find a feasible starting point.\n"
     ]
    }
   ],
   "source": [
    "from scipy.optimize import linprog\n",
    "res = linprog(c_array, A_ub = sign_v_S_T, b_ub = lnKeqs_array, bounds= y_bounds, options={\"disp\": True})"
   ]
  },
  {
   "cell_type": "code",
   "execution_count": null,
   "metadata": {
    "collapsed": true
   },
   "outputs": [],
   "source": []
  }
 ],
 "metadata": {
  "kernelspec": {
   "display_name": "Python 2",
   "language": "python",
   "name": "python2"
  },
  "language_info": {
   "codemirror_mode": {
    "name": "ipython",
    "version": 2
   },
   "file_extension": ".py",
   "mimetype": "text/x-python",
   "name": "python",
   "nbconvert_exporter": "python",
   "pygments_lexer": "ipython2",
   "version": "2.7.11"
  }
 },
 "nbformat": 4,
 "nbformat_minor": 0
}
