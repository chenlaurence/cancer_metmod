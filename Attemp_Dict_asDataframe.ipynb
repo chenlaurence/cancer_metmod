{
 "cells": [
  {
   "cell_type": "code",
   "execution_count": 1,
   "metadata": {
    "collapsed": true
   },
   "outputs": [],
   "source": [
    "import pandas as pd"
   ]
  },
  {
   "cell_type": "code",
   "execution_count": 30,
   "metadata": {
    "collapsed": false
   },
   "outputs": [
    {
     "data": {
      "text/plain": [
       "3049    NP_446464\n",
       "3050          NaN\n",
       "Name: u_refseq, dtype: object"
      ]
     },
     "execution_count": 30,
     "metadata": {},
     "output_type": "execute_result"
    }
   ],
   "source": [
    "GP = pd.read_csv('DF_GEMPRO.csv', index_col=0)\n",
    "# forcing gene IDs to be read as strings\n",
    "GP['m_gene_original'] = GP['m_gene_original'].astype(str)\n",
    "GP['m_gene_entrez'] = GP['m_gene_entrez'].astype(str)\n",
    "GP['m_gene_isoform'] = GP['m_gene_isoform'].astype(str)\n",
    "# this searches for an ID and prints out which row it is in\n",
    "#gene_id = raw_input(\"What is the uniprot ID?   \") # this can be modified to ask for gene original, entrez, uniprot, isoform id, refseq etc.\n",
    "\n",
    "m_gene_entrez = '445'\n",
    "\n",
    "GP[GP.m_gene_entrez == m_gene_entrez]['u_refseq']"
   ]
  },
  {
   "cell_type": "code",
   "execution_count": 15,
   "metadata": {
    "collapsed": true
   },
   "outputs": [],
   "source": [
    "dates = pd.date_range('1/1/2000', periods=8)"
   ]
  },
  {
   "cell_type": "code",
   "execution_count": 20,
   "metadata": {
    "collapsed": false
   },
   "outputs": [],
   "source": [
    "import numpy\n",
    "df = pd.DataFrame(numpy.random.randn(8, 4), index=dates, columns=['A', 'B', 'C', 'D'])"
   ]
  },
  {
   "cell_type": "code",
   "execution_count": 21,
   "metadata": {
    "collapsed": false
   },
   "outputs": [
    {
     "data": {
      "text/html": [
       "<div>\n",
       "<table border=\"1\" class=\"dataframe\">\n",
       "  <thead>\n",
       "    <tr style=\"text-align: right;\">\n",
       "      <th></th>\n",
       "      <th>A</th>\n",
       "      <th>B</th>\n",
       "      <th>C</th>\n",
       "      <th>D</th>\n",
       "    </tr>\n",
       "  </thead>\n",
       "  <tbody>\n",
       "    <tr>\n",
       "      <th>2000-01-01</th>\n",
       "      <td>-1.053213</td>\n",
       "      <td>-0.714239</td>\n",
       "      <td>2.441591</td>\n",
       "      <td>-0.809353</td>\n",
       "    </tr>\n",
       "    <tr>\n",
       "      <th>2000-01-02</th>\n",
       "      <td>-0.868412</td>\n",
       "      <td>-0.472554</td>\n",
       "      <td>-0.975103</td>\n",
       "      <td>1.410542</td>\n",
       "    </tr>\n",
       "    <tr>\n",
       "      <th>2000-01-03</th>\n",
       "      <td>1.035355</td>\n",
       "      <td>0.664827</td>\n",
       "      <td>0.611028</td>\n",
       "      <td>0.714442</td>\n",
       "    </tr>\n",
       "    <tr>\n",
       "      <th>2000-01-04</th>\n",
       "      <td>0.858290</td>\n",
       "      <td>0.517810</td>\n",
       "      <td>-1.096096</td>\n",
       "      <td>-0.048724</td>\n",
       "    </tr>\n",
       "    <tr>\n",
       "      <th>2000-01-05</th>\n",
       "      <td>0.663525</td>\n",
       "      <td>2.123168</td>\n",
       "      <td>0.794416</td>\n",
       "      <td>-0.966268</td>\n",
       "    </tr>\n",
       "    <tr>\n",
       "      <th>2000-01-06</th>\n",
       "      <td>0.252892</td>\n",
       "      <td>0.724800</td>\n",
       "      <td>1.792529</td>\n",
       "      <td>1.726268</td>\n",
       "    </tr>\n",
       "    <tr>\n",
       "      <th>2000-01-07</th>\n",
       "      <td>-0.279919</td>\n",
       "      <td>1.061002</td>\n",
       "      <td>-0.729654</td>\n",
       "      <td>-0.193512</td>\n",
       "    </tr>\n",
       "    <tr>\n",
       "      <th>2000-01-08</th>\n",
       "      <td>0.947796</td>\n",
       "      <td>-0.815010</td>\n",
       "      <td>-1.681352</td>\n",
       "      <td>1.435552</td>\n",
       "    </tr>\n",
       "  </tbody>\n",
       "</table>\n",
       "</div>"
      ],
      "text/plain": [
       "                   A         B         C         D\n",
       "2000-01-01 -1.053213 -0.714239  2.441591 -0.809353\n",
       "2000-01-02 -0.868412 -0.472554 -0.975103  1.410542\n",
       "2000-01-03  1.035355  0.664827  0.611028  0.714442\n",
       "2000-01-04  0.858290  0.517810 -1.096096 -0.048724\n",
       "2000-01-05  0.663525  2.123168  0.794416 -0.966268\n",
       "2000-01-06  0.252892  0.724800  1.792529  1.726268\n",
       "2000-01-07 -0.279919  1.061002 -0.729654 -0.193512\n",
       "2000-01-08  0.947796 -0.815010 -1.681352  1.435552"
      ]
     },
     "execution_count": 21,
     "metadata": {},
     "output_type": "execute_result"
    }
   ],
   "source": [
    "df"
   ]
  },
  {
   "cell_type": "code",
   "execution_count": 29,
   "metadata": {
    "collapsed": false
   },
   "outputs": [
    {
     "data": {
      "text/plain": [
       "2000-01-01   -0.809353\n",
       "2000-01-02    1.410542\n",
       "2000-01-03    0.714442\n",
       "2000-01-04   -0.048724\n",
       "2000-01-05   -0.966268\n",
       "2000-01-06    1.726268\n",
       "2000-01-07   -0.193512\n",
       "2000-01-08    1.435552\n",
       "Freq: D, Name: D, dtype: float64"
      ]
     },
     "execution_count": 29,
     "metadata": {},
     "output_type": "execute_result"
    }
   ],
   "source": [
    "df.iloc[:,3]"
   ]
  },
  {
   "cell_type": "code",
   "execution_count": null,
   "metadata": {
    "collapsed": true
   },
   "outputs": [],
   "source": []
  }
 ],
 "metadata": {
  "kernelspec": {
   "display_name": "Python 2",
   "language": "python",
   "name": "python2"
  },
  "language_info": {
   "codemirror_mode": {
    "name": "ipython",
    "version": 2
   },
   "file_extension": ".py",
   "mimetype": "text/x-python",
   "name": "python",
   "nbconvert_exporter": "python",
   "pygments_lexer": "ipython2",
   "version": "2.7.11"
  }
 },
 "nbformat": 4,
 "nbformat_minor": 0
}
