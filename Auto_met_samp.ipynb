{
 "cells": [
  {
   "cell_type": "code",
   "execution_count": 1,
   "metadata": {
    "collapsed": false
   },
   "outputs": [
    {
     "name": "stderr",
     "output_type": "stream",
     "text": [
      "cobra/io/__init__.py:17 \u001b[1;31mUserWarning\u001b[0m: cobra.io.sbml requires libsbml\n",
      "cobra/io/mat.py:136 \u001b[1;31mFutureWarning\u001b[0m: elementwise == comparison failed and returning scalar instead; this will raise an error or perform elementwise comparison in the future.\n"
     ]
    }
   ],
   "source": [
    "import numpy as np\n",
    "import math\n",
    "import random\n",
    "from cobra import Reaction\n",
    "import escher\n",
    "import escher.urls\n",
    "import cobra\n",
    "import cobra.test\n",
    "import json\n",
    "import os\n",
    "from IPython.display import HTML\n",
    "model = cobra.io.load_matlab_model('/Users/LAURENCE/Desktop/Senior Design/RECON1', 'RECON1')"
   ]
  },
  {
   "cell_type": "code",
   "execution_count": 2,
   "metadata": {
    "collapsed": false
   },
   "outputs": [
    {
     "name": "stdout",
     "output_type": "stream",
     "text": [
      "['DM_etha_c', 'EX_peplys_e', 'EX_Tyr_ggn_e', 'EX_arg__L_e', 'EX_asn__L_e', 'EX_asp__L_e', 'EX_chol_e', 'EX_cl_e', 'EX_glc__D_e', 'EX_gln__L_e', 'EX_gly_e', 'EX_h_e', 'EX_h2o_e', 'EX_ile__L_e', 'EX_k_e', 'EX_leu__L_e', 'EX_lys__L_e', 'EX_na1_e', 'EX_nh4_e', 'EX_o2_e', 'EX_phe__L_e', 'EX_pi_e', 'EX_pro__L_e', 'EX_ser__L_e', 'EX_thr__L_e', 'EX_trp__L_e', 'EX_tyr__L_e', 'EX_val__L_e']\n"
     ]
    }
   ],
   "source": [
    "#creat ethanalamine demand\n",
    "#metabolite is etha_c\n",
    "\n",
    "DM_etha_c = Reaction('DM_etha_c')\n",
    "DM_etha_c.name = DM_etha_c\n",
    "\n",
    "etha_c = model.metabolites.get_by_id('etha_c')\n",
    "\n",
    "DM_etha_c.add_metabolites({etha_c: -1})\n",
    "model.add_reaction(DM_etha_c)\n",
    "\n",
    "#create a transporter for this\n",
    "\n",
    "Tyr_ggnt = Reaction('Tyr_ggnt')\n",
    "Tyr_ggnt.name = Tyr_ggnt\n",
    "\n",
    "Tyr_ggn_e = model.metabolites.get_by_id('Tyr_ggn_e')\n",
    "Tyr_ggn_c = model.metabolites.get_by_id('Tyr_ggn_c')\n",
    "\n",
    "Tyr_ggnt.add_metabolites({Tyr_ggn_e: -1, Tyr_ggn_c: 1})\n",
    "model.add_reaction(Tyr_ggnt)\n",
    "\n",
    "DM_etha_c.lower_bound = -1\n",
    "Tyr_ggnt.lower_bound = -1000\n",
    "\n",
    "except_EX_names = '''DM_etha_c, EX_peplys_e, EX_Tyr_ggn_e, EX_arg__L_e, EX_asn__L_e, EX_asp__L_e, EX_chol_e, EX_cl_e, EX_glc__D_e, EX_gln__L_e, EX_gly_e, EX_h_e, EX_h2o_e, EX_ile__L_e, EX_k_e, EX_leu__L_e, EX_lys__L_e, EX_na1_e, EX_nh4_e, EX_o2_e, EX_phe__L_e, EX_pi_e, EX_pro__L_e, EX_ser__L_e, EX_thr__L_e, EX_trp__L_e, EX_tyr__L_e, EX_val__L_e'''\n",
    "except_EX_names_split = except_EX_names.split(', ')\n",
    "print except_EX_names_split\n",
    "\n",
    "# Changing all lower bounds to 0 except the given reactions above\n",
    "\n",
    "for a in model.reactions[1188:1591]:\n",
    "    a.lower_bound = 0\n",
    "\n",
    "for b in model.reactions[1188:1591]:\n",
    "    for c in range(len(except_EX_names_split)):  \n",
    "        if b.id  == except_EX_names_split[c]:\n",
    "            b.lower_bound = -1\n",
    "            \n",
    "biomass_NCI60 = Reaction('biomass_NCI60')\n",
    "biomass_NCI60.name = biomass_NCI60\n",
    "\n",
    "ala_L_c = model.metabolites.get_by_id('ala__L_c')\n",
    "arg_L_c = model.metabolites.get_by_id('arg__L_c')\n",
    "asn_L_c = model.metabolites.get_by_id('asn__L_c')\n",
    "asp_L_c = model.metabolites.get_by_id('asp__L_c')\n",
    "atp_c = model.metabolites.get_by_id('atp_c')\n",
    "clpn_hs_c = model.metabolites.get_by_id('clpn_hs_c')\n",
    "ctp_c = model.metabolites.get_by_id('ctp_c')\n",
    "dag_hs_c = model.metabolites.get_by_id('dag_hs_c')\n",
    "datp_c = model.metabolites.get_by_id('datp_c')\n",
    "dctp_c = model.metabolites.get_by_id('dctp_c')\n",
    "dgtp_c = model.metabolites.get_by_id('dgtp_c')\n",
    "dttp_c = model.metabolites.get_by_id('dttp_c')\n",
    "gln_L_c = model.metabolites.get_by_id('gln__L_c')\n",
    "glu_L_c = model.metabolites.get_by_id('glu__L_c')\n",
    "gly_c = model.metabolites.get_by_id('gly_c')\n",
    "glygn2_c = model.metabolites.get_by_id('glygn2_c')\n",
    "gtp_c = model.metabolites.get_by_id('gtp_c')\n",
    "h2o_c = model.metabolites.get_by_id('h2o_c')\n",
    "hdca_c = model.metabolites.get_by_id('hdca_c')\n",
    "hdcea_c = model.metabolites.get_by_id('hdcea_c')\n",
    "ile_L_c = model.metabolites.get_by_id('ile__L_c')\n",
    "leu_L_c = model.metabolites.get_by_id('leu__L_c')\n",
    "lpchol_hs_c = model.metabolites.get_by_id('lpchol_hs_c')\n",
    "lys_L_c = model.metabolites.get_by_id('lys__L_c')\n",
    "mag_hs_c = model.metabolites.get_by_id('mag_hs_c')\n",
    "ocdca_c = model.metabolites.get_by_id('ocdca_c')\n",
    "ocdcea_c = model.metabolites.get_by_id('ocdcea_c')\n",
    "pa_hs_c = model.metabolites.get_by_id('pa_hs_c')\n",
    "pail_hs_c = model.metabolites.get_by_id('pail_hs_c')\n",
    "pchol_hs_c = model.metabolites.get_by_id('pchol_hs_c')\n",
    "pe_hs_c = model.metabolites.get_by_id('pe_hs_c')\n",
    "phe_L_c = model.metabolites.get_by_id('phe__L_c')\n",
    "ps_hs_c = model.metabolites.get_by_id('ps_hs_c')\n",
    "ser_L_c = model.metabolites.get_by_id('ser__L_c')\n",
    "sphmyln_hs_c = model.metabolites.get_by_id('sphmyln_hs_c')\n",
    "thr_L_c = model.metabolites.get_by_id('thr__L_c')\n",
    "trp_L_c = model.metabolites.get_by_id('trp__L_c')\n",
    "tyr_L_c = model.metabolites.get_by_id('tyr__L_c')\n",
    "utp_c = model.metabolites.get_by_id('utp_c')\n",
    "val_L_c = model.metabolites.get_by_id('val__L_c')\n",
    "pro_L_m = model.metabolites.get_by_id('pro__L_m')\n",
    "chsterol_r = model.metabolites.get_by_id('chsterol_r')\n",
    "xolest_hs_r = model.metabolites.get_by_id('xolest_hs_r')\n",
    "adp_c = model.metabolites.get_by_id('adp_c')\n",
    "h_c = model.metabolites.get_by_id('h_c')\n",
    "pi_c = model.metabolites.get_by_id('pi_c')\n",
    "\n",
    "#remove ocdca and ocdcea\n",
    "# added xolest value to cholesterol in biomass and remove xolest\n",
    "\n",
    "biomass_NCI60.add_metabolites({ala_L_c: -0.587929, arg_L_c: -0.380280, asn_L_c: -0.323313, asp_L_c: -0.261396, \n",
    "                               atp_c: -35.033540, clpn_hs_c: -0.000624, ctp_c: -0.033435, dag_hs_c: -0.001032, \n",
    "                               datp_c: -0.014557, dctp_c: -0.009770, dgtp_c: -0.009748, dttp_c: -0.014546,\n",
    "                               gln_L_c: -0.319051, glu_L_c: -0.387401, gly_c: -0.504294, glygn2_c: -0.034479,\n",
    "                               gtp_c: -0.055967, h2o_c: -35.000000, hdca_c: -0.008293, hdcea_c: -0.003315, \n",
    "                               ile_L_c: -0.319813, leu_L_c: -0.548692, lpchol_hs_c: -0.002470, lys_L_c: -0.552717, \n",
    "                               mag_hs_c: -0.001456, pa_hs_c: -0.010645,\n",
    "                               pail_hs_c: -0.005016, pchol_hs_c: -0.022878, pe_hs_c: -0.018211, phe_L_c: -0.170743,\n",
    "                               ps_hs_c: -0.006808, ser_L_c: -0.385852, sphmyln_hs_c: -0.010215, thr_L_c: -0.378004, \n",
    "                               trp_L_c: -0.039847, tyr_L_c: -0.150141, utp_c: -0.063323, val_L_c: -0.385554,\n",
    "                               pro_L_m: -0.237850, chsterol_r: -0.054102,  adp_c: 35.000000, \n",
    "                               h_c: 35.000000, pi_c: 35.000000})\n",
    "\n",
    "model.add_reaction(biomass_NCI60)\n",
    "my_objective = model.reactions.get_by_id('biomass_NCI60')\n",
    "model.change_objective(my_objective)\n",
    "\n",
    "# setting arginine uptake to 0\n",
    "\n",
    "model.reactions[model.reactions.index('EX_arg__L_e')].lower_bound = 0\n",
    "\n",
    "from cobra.flux_analysis.parsimonious import optimize_minimal_flux\n",
    "solution = cobra.flux_analysis.parsimonious.optimize_minimal_flux(model)"
   ]
  },
  {
   "cell_type": "code",
   "execution_count": 3,
   "metadata": {
    "collapsed": false
   },
   "outputs": [],
   "source": [
    "# rxn_name = raw_input('What reactions would you like to build the kinetic model with?   ')\n",
    "# hard coded the rxns for this example so it's easier to run\n",
    "rxn_name = 'ARGSS, ARGSL, CITRtm, OCBTm, PRASCSi'\n",
    "#CITRtm?"
   ]
  },
  {
   "cell_type": "code",
   "execution_count": 4,
   "metadata": {
    "collapsed": false
   },
   "outputs": [],
   "source": [
    "v_matrix = [0]*32"
   ]
  },
  {
   "cell_type": "code",
   "execution_count": 5,
   "metadata": {
    "collapsed": false
   },
   "outputs": [
    {
     "name": "stdout",
     "output_type": "stream",
     "text": [
      "['ARGSS', 'ARGSL', 'CITRtm', 'OCBTm', 'PRASCSi']\n"
     ]
    }
   ],
   "source": [
    "#rxn_name = raw_input(\"What are the names of your reactions:   \")\n",
    "\n",
    "rxns = rxn_name.split(', ')\n",
    "print rxns"
   ]
  },
  {
   "cell_type": "code",
   "execution_count": 6,
   "metadata": {
    "collapsed": false
   },
   "outputs": [
    {
     "name": "stdout",
     "output_type": "stream",
     "text": [
      "0.486198921177\n",
      "0.486198921177\n",
      "0.486198921177\n",
      "0.486198921177\n",
      "0.145511916527\n"
     ]
    }
   ],
   "source": [
    "print model.solution.x_dict['ARGSS']\n",
    "print model.solution.x_dict['ARGSL']\n",
    "print model.solution.x_dict['CITRtm']\n",
    "print model.solution.x_dict['OCBTm']\n",
    "print model.solution.x_dict['PRASCSi']"
   ]
  },
  {
   "cell_type": "code",
   "execution_count": 7,
   "metadata": {
    "collapsed": false
   },
   "outputs": [
    {
     "name": "stdout",
     "output_type": "stream",
     "text": [
      "[[ 1.  0.  0.  0.  0.]\n",
      " [ 0.  1.  0.  0.  0.]\n",
      " [ 0.  0.  1.  0.  0.]\n",
      " [ 0.  0.  0.  1.  0.]\n",
      " [ 0.  0.  0.  0.  1.]]\n"
     ]
    }
   ],
   "source": [
    "v_count = 0\n",
    "for c in rxns:\n",
    "    v_matrix[v_count] = np.sign(model.solution.x_dict[c])\n",
    "    v_count = v_count + 1\n",
    "\n",
    "v_array = np.asarray(v_matrix)\n",
    "v_diag = np.diag(v_array)\n",
    "v_diag.shape\n",
    "#print v_diag\n",
    "\n",
    "new_v_diag = np.delete(v_diag, np.s_[len(rxns):], axis =1)\n",
    "#print new_v_diag\n",
    "new_new_v_diag = np.delete(new_v_diag, np.s_[len(rxns):], axis = 0)\n",
    "print new_new_v_diag\n",
    "# new_v_diag is our sign(v)"
   ]
  },
  {
   "cell_type": "code",
   "execution_count": 8,
   "metadata": {
    "collapsed": false
   },
   "outputs": [
    {
     "name": "stdout",
     "output_type": "stream",
     "text": [
      "[[ 0.  0.  0.  0.  1.]\n",
      " [ 0.  0.  0.  0.  0.]\n",
      " [ 1.  0.  0.  0.  0.]\n",
      " [ 0.  1.  0.  0.  0.]\n",
      " [ 1. -1.  0.  0.  0.]\n",
      " [-1.  0.  0.  0. -1.]\n",
      " [-1.  0.  0.  0. -1.]\n",
      " [ 0.  0.  0.  0.  0.]\n",
      " [ 0.  0. -1.  0.  0.]\n",
      " [ 0.  0.  0.  0.  0.]\n",
      " [-1.  0.  0.  1.  0.]\n",
      " [ 0.  0.  1. -1.  0.]\n",
      " [ 0.  0.  0.  0.  0.]\n",
      " [ 0.  0.  0.  0.  0.]\n",
      " [ 0.  1.  0.  0.  0.]\n",
      " [ 0.  0.  0.  0.  0.]\n",
      " [ 0.  0.  0.  0.  0.]\n",
      " [ 0.  0.  0.  0.  0.]\n",
      " [ 0.  0.  0.  0.  0.]\n",
      " [ 0.  0.  0.  0.  0.]\n",
      " [ 0.  0.  0.  0.  0.]\n",
      " [ 0.  0. -1.  0.  0.]\n",
      " [ 0.  0.  1.  0.  0.]\n",
      " [ 1.  0.  0.  0.  0.]\n",
      " [ 0.  0.  0.  0.  0.]\n",
      " [ 0.  0.  0.  0.  0.]\n",
      " [ 0.  0.  0.  0.  0.]\n",
      " [ 0.  0.  0.  0.  0.]\n",
      " [ 0.  0.  0.  0.  0.]\n",
      " [ 0.  0.  0.  0. -1.]\n",
      " [ 0.  0.  0.  0.  1.]\n",
      " [ 0.  0.  0.  0.  1.]]\n",
      "(32, 5)\n"
     ]
    }
   ],
   "source": [
    "import csv\n",
    "cr = csv.reader(open(\"ARGSS_S_matrix_6.csv\",\"rb\"))\n",
    "arr = range(32) #adjust to needed\n",
    "x = 0\n",
    "for row in cr:    \n",
    "    arr[x] = row\n",
    "    x += 1\n",
    "\n",
    "#print arr\n",
    "# arr is our S for the subnetwork\n",
    "\n",
    "S = np.asarray(arr)\n",
    "S_num = np.array(S, np.float)\n",
    "print S_num\n",
    "print S_num.shape"
   ]
  },
  {
   "cell_type": "code",
   "execution_count": 9,
   "metadata": {
    "collapsed": false
   },
   "outputs": [
    {
     "name": "stdout",
     "output_type": "stream",
     "text": [
      "[[ 0.  0.  1.  0.  1. -1. -1.  0.  0.  0. -1.  0.  0.  0.  0.  0.  0.  0.\n",
      "   0.  0.  0.  0.  0.  1.  0.  0.  0.  0.  0.  0.  0.  0.]\n",
      " [ 0.  0.  0.  1. -1.  0.  0.  0.  0.  0.  0.  0.  0.  0.  1.  0.  0.  0.\n",
      "   0.  0.  0.  0.  0.  0.  0.  0.  0.  0.  0.  0.  0.  0.]\n",
      " [ 0.  0.  0.  0.  0.  0.  0.  0. -1.  0.  0.  1.  0.  0.  0.  0.  0.  0.\n",
      "   0.  0.  0. -1.  1.  0.  0.  0.  0.  0.  0.  0.  0.  0.]\n",
      " [ 0.  0.  0.  0.  0.  0.  0.  0.  0.  0.  1. -1.  0.  0.  0.  0.  0.  0.\n",
      "   0.  0.  0.  0.  0.  0.  0.  0.  0.  0.  0.  0.  0.  0.]\n",
      " [ 1.  0.  0.  0.  0. -1. -1.  0.  0.  0.  0.  0.  0.  0.  0.  0.  0.  0.\n",
      "   0.  0.  0.  0.  0.  0.  0.  0.  0.  0.  0. -1.  1.  1.]]\n",
      "(5, 32)\n"
     ]
    }
   ],
   "source": [
    "sign_v_S = np.dot(new_new_v_diag, np.transpose(S_num))\n",
    "print sign_v_S\n",
    "# sign_v_S is our S normalized to v\n",
    "\n",
    "#sign_v_S_T = np.transpose(sign_v_S)\n",
    "# sign_v_S_T is our sign(v)S^T array\n",
    "\n",
    "print sign_v_S.shape"
   ]
  },
  {
   "cell_type": "code",
   "execution_count": 10,
   "metadata": {
    "collapsed": true
   },
   "outputs": [],
   "source": [
    "Keqs = [0.501, 0.0065, 120000, 1, 160000000000]"
   ]
  },
  {
   "cell_type": "code",
   "execution_count": 11,
   "metadata": {
    "collapsed": false
   },
   "outputs": [
    {
     "name": "stdout",
     "output_type": "stream",
     "text": [
      "[ -0.69114918  -5.0359531   11.69524702   0.          25.79843965]\n"
     ]
    }
   ],
   "source": [
    "lnKeqs = [0] * len(Keqs)\n",
    "Keq_counter = 0\n",
    "for d in Keqs:\n",
    "    if d == 0:\n",
    "        lnKeqs[Keq_counter] = 0\n",
    "    else:\n",
    "        lnKeqs[Keq_counter] = math.log(d)\n",
    "        Keq_counter = Keq_counter + 1\n",
    "        #print d\n",
    "        \n",
    "lnKeqs_array = np.asarray(lnKeqs)\n",
    "print lnKeqs_array"
   ]
  },
  {
   "cell_type": "code",
   "execution_count": 12,
   "metadata": {
    "collapsed": true
   },
   "outputs": [],
   "source": [
    "# setting bounds\n",
    "y_bounds = (-20,0)"
   ]
  },
  {
   "cell_type": "code",
   "execution_count": 13,
   "metadata": {
    "collapsed": false
   },
   "outputs": [
    {
     "name": "stdout",
     "output_type": "stream",
     "text": [
      "-0.53448355923\n",
      "[-0.5344835592296697, -0.5344835592296697, -0.5344835592296697, -0.5344835592296697, -0.5344835592296697, -0.5344835592296697, -0.5344835592296697, -0.5344835592296697, -0.5344835592296697, -0.5344835592296697, -0.5344835592296697, -0.5344835592296697, -0.5344835592296697, -0.5344835592296697, -0.5344835592296697, -0.5344835592296697, -0.5344835592296697, -0.5344835592296697, -0.5344835592296697, -0.5344835592296697, -0.5344835592296697, -0.5344835592296697, -0.5344835592296697, -0.5344835592296697, -0.5344835592296697, -0.5344835592296697, -0.5344835592296697, -0.5344835592296697, -0.5344835592296697, -0.5344835592296697, -0.5344835592296697, -0.5344835592296697]\n"
     ]
    }
   ],
   "source": [
    "c = random.uniform(-1,1)\n",
    "print c\n",
    "c_array = [c]*32\n",
    "print c_array"
   ]
  },
  {
   "cell_type": "markdown",
   "metadata": {},
   "source": [
    "* v_diag is our sign(v)\n",
    "* sign_v_Sis our sign(v) S^T array\n",
    "* lnKeqs_array is an array of our ln(Keqs)\n",
    "* y_bounds is our bound\n",
    "* c_array is an array of a random float generated between -1 and 1"
   ]
  },
  {
   "cell_type": "code",
   "execution_count": 14,
   "metadata": {
    "collapsed": false
   },
   "outputs": [],
   "source": [
    "from scipy.optimize import linprog\n",
    "res = linprog(c_array, A_ub = sign_v_S, b_ub = lnKeqs_array, bounds= y_bounds, options=dict(bland=True))"
   ]
  },
  {
   "cell_type": "code",
   "execution_count": 15,
   "metadata": {
    "collapsed": false
   },
   "outputs": [
    {
     "data": {
      "text/plain": [
       "  status: 0\n",
       "   slack: array([  0.        ,  11.69524702,   0.        ,  25.79843965,\n",
       "         0.        ,   0.        ,   0.        ,   0.        ,\n",
       "         0.        ,   0.        ,   0.        ,   0.        ,\n",
       "         0.        ,   0.        ,   0.        ,   0.        ,\n",
       "         0.        ,   0.        ,   5.0359531 ,   0.        ,\n",
       "         0.        ,   0.        ,   0.        ,   0.        ,\n",
       "         0.        ,   0.        ,   0.        ,   0.69114918,\n",
       "         0.        ,   0.        ,   0.        ,   0.        ,\n",
       "         0.        ,   0.        ,   0.        ,   0.        ,   0.        ])\n",
       " success: True\n",
       "     fun: 3.0610420106750098\n",
       "       x: array([ 0.        ,  0.        ,  0.        ,  0.        ,  0.        ,\n",
       "        0.        ,  0.        ,  0.        ,  0.        ,  0.        ,\n",
       "        0.        ,  0.        ,  0.        ,  0.        , -5.0359531 ,\n",
       "        0.        ,  0.        ,  0.        ,  0.        ,  0.        ,\n",
       "        0.        ,  0.        ,  0.        , -0.69114918,  0.        ,\n",
       "        0.        ,  0.        ,  0.        ,  0.        ,  0.        ,\n",
       "        0.        ,  0.        ])\n",
       " message: 'Optimization terminated successfully.'\n",
       "     nit: 32"
      ]
     },
     "execution_count": 15,
     "metadata": {},
     "output_type": "execute_result"
    }
   ],
   "source": [
    "res"
   ]
  },
  {
   "cell_type": "code",
   "execution_count": 16,
   "metadata": {
    "collapsed": false
   },
   "outputs": [
    {
     "data": {
      "text/plain": [
       "array([ 0.        ,  0.        ,  0.        ,  0.        ,  0.        ,\n",
       "        0.        ,  0.        ,  0.        ,  0.        ,  0.        ,\n",
       "        0.        ,  0.        ,  0.        ,  0.        , -5.0359531 ,\n",
       "        0.        ,  0.        ,  0.        ,  0.        ,  0.        ,\n",
       "        0.        ,  0.        ,  0.        , -0.69114918,  0.        ,\n",
       "        0.        ,  0.        ,  0.        ,  0.        ,  0.        ,\n",
       "        0.        ,  0.        ])"
      ]
     },
     "execution_count": 16,
     "metadata": {},
     "output_type": "execute_result"
    }
   ],
   "source": [
    "res.x"
   ]
  },
  {
   "cell_type": "markdown",
   "metadata": {},
   "source": [
    "### Takes e^(metabolite conc) output from linprog array"
   ]
  },
  {
   "cell_type": "code",
   "execution_count": 17,
   "metadata": {
    "collapsed": true
   },
   "outputs": [],
   "source": [
    "met_samp_conc = [0] * len(res.x)\n",
    "for i in range(len(res.x)):\n",
    "    met_samp_conc[i] = math.exp(res.x[i])"
   ]
  },
  {
   "cell_type": "markdown",
   "metadata": {},
   "source": [
    "### Sampled met concentrations"
   ]
  },
  {
   "cell_type": "code",
   "execution_count": 18,
   "metadata": {
    "collapsed": false
   },
   "outputs": [
    {
     "data": {
      "text/plain": [
       "[1.0,\n",
       " 1.0,\n",
       " 1.0,\n",
       " 1.0,\n",
       " 1.0,\n",
       " 1.0,\n",
       " 1.0,\n",
       " 1.0,\n",
       " 1.0,\n",
       " 1.0,\n",
       " 1.0,\n",
       " 1.0,\n",
       " 1.0,\n",
       " 1.0,\n",
       " 0.006499999999999998,\n",
       " 1.0,\n",
       " 1.0,\n",
       " 1.0,\n",
       " 1.0,\n",
       " 1.0,\n",
       " 1.0,\n",
       " 1.0,\n",
       " 1.0,\n",
       " 0.5009999999999996,\n",
       " 1.0,\n",
       " 1.0,\n",
       " 1.0,\n",
       " 1.0,\n",
       " 1.0,\n",
       " 1.0,\n",
       " 1.0,\n",
       " 1.0]"
      ]
     },
     "execution_count": 18,
     "metadata": {},
     "output_type": "execute_result"
    }
   ],
   "source": [
    "met_samp_conc"
   ]
  },
  {
   "cell_type": "code",
   "execution_count": null,
   "metadata": {
    "collapsed": true
   },
   "outputs": [],
   "source": []
  }
 ],
 "metadata": {
  "kernelspec": {
   "display_name": "Python 2",
   "language": "python",
   "name": "python2"
  },
  "language_info": {
   "codemirror_mode": {
    "name": "ipython",
    "version": 2
   },
   "file_extension": ".py",
   "mimetype": "text/x-python",
   "name": "python",
   "nbconvert_exporter": "python",
   "pygments_lexer": "ipython2",
   "version": "2.7.11"
  }
 },
 "nbformat": 4,
 "nbformat_minor": 0
}
