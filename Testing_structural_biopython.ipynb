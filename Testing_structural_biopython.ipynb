{
 "cells": [
  {
   "cell_type": "code",
   "execution_count": 1,
   "metadata": {
    "collapsed": true
   },
   "outputs": [],
   "source": [
    "# load Biopython PDB packages\n",
    "\n",
    "# PDBList to download PDBs\n",
    "from Bio.PDB.PDBList import PDBList\n",
    "pdbl = PDBList()\n",
    "\n",
    "# PDBParser to load and work with files\n",
    "from Bio.PDB.PDBParser import PDBParser\n",
    "parser = PDBParser()\n",
    "\n",
    "import urllib2\n",
    "import uuid"
   ]
  },
  {
   "cell_type": "code",
   "execution_count": 2,
   "metadata": {
    "collapsed": false
   },
   "outputs": [
    {
     "name": "stdout",
     "output_type": "stream",
     "text": [
      "Structure exists: '/Users/LAURENCE/Desktop/Senior Design/vf/pdb2vfa.ent' \n"
     ]
    }
   ],
   "source": [
    "# download pdb\n",
    "pdb_file_path = pdbl.retrieve_pdb_file('2VFA')"
   ]
  },
  {
   "cell_type": "code",
   "execution_count": null,
   "metadata": {
    "collapsed": false,
    "scrolled": true
   },
   "outputs": [],
   "source": [
    "structure = parser.get_structure('someprotein', pdb_file_path)"
   ]
  },
  {
   "cell_type": "code",
   "execution_count": null,
   "metadata": {
    "collapsed": false
   },
   "outputs": [],
   "source": [
    "# get the ligands within this file for display\n",
    "# from: http://stackoverflow.com/questions/25718201/remove-heteroatoms-from-pdb\n",
    "ligands = []\n",
    "\n",
    "for residue in structure.get_residues():\n",
    "    tags = residue.get_full_id()\n",
    "    # tags contains a tuple with (Structure ID, Model ID, Chain ID, (Residue ID))\n",
    "    # Residue ID is a tuple with (*Hetero Field*, Residue ID, Insertion Code)\n",
    "\n",
    "    # Thus you're interested in the Hetero Field, that is empty if the residue\n",
    "    # is not a hetero atom or have some flag if it is (W for waters, H, etc.)\n",
    "    if tags[3][0] != \" \" and tags[3][0] != \"W\":\n",
    "        ligands.append(tags[3][0].split('_')[1].strip())\n",
    "    else:\n",
    "        continue\n",
    "        \n",
    "print(ligands)"
   ]
  },
  {
   "cell_type": "markdown",
   "metadata": {},
   "source": [
    "### Do we want to display ligands?"
   ]
  },
  {
   "cell_type": "code",
   "execution_count": null,
   "metadata": {
    "collapsed": true
   },
   "outputs": [],
   "source": [
    "class PDBViewer(object):\n",
    "    '''\n",
    "    Contributed by: Ali Ebrahim\n",
    "    '''\n",
    "    \n",
    "    def __init__(self, f):\n",
    "        self.pdb = open(f).read()\n",
    "\n",
    "    def _repr_html_(self):\n",
    "        div_id = str(uuid.uuid4())\n",
    "        \n",
    "        return \"\"\"<div id=\"%s\" style=\"width: 800px; height: 600px\"><div>\n",
    "        <!--script src=\"//biasmv.github.io/pv/js/pv.min.js\"></script-->\n",
    "        <script>\n",
    "        require.config({paths: {\"pv\": \"//biasmv.github.io/pv/js/pv.min\"}});\n",
    "        require([\"pv\"], function (pv) {\n",
    "            pdb = \"%s\";\n",
    "            structure = pv.io.pdb(pdb);\n",
    "            viewer = pv.Viewer(document.getElementById('%s'),\n",
    "                               {quality : 'medium', width: 'auto', height : 'auto',\n",
    "                                antialias : true, outline : true});\n",
    "            viewer.fitParent();\n",
    "            var ligand = structure.select({rnames : %s});\n",
    "            viewer.ballsAndSticks('ligand', ligand);\n",
    "            viewer.cartoon('molecule', structure);\n",
    "            viewer.centerOn(structure);\n",
    "            \n",
    "        });\n",
    "        </script>\n",
    "        \"\"\" % (div_id, self.pdb.replace(\"\\n\", \"\\\\n\"), div_id, ligands)"
   ]
  },
  {
   "cell_type": "code",
   "execution_count": null,
   "metadata": {
    "collapsed": false
   },
   "outputs": [],
   "source": [
    "PDBViewer(pdb_file_path)"
   ]
  },
  {
   "cell_type": "code",
   "execution_count": null,
   "metadata": {
    "collapsed": true
   },
   "outputs": [],
   "source": [
    "from Bio.Seq import Seq\n",
    "from Bio.SeqRecord import SeqRecord\n",
    "from Bio.Alphabet import IUPAC\n",
    "from Bio.PDB import Polypeptide"
   ]
  },
  {
   "cell_type": "code",
   "execution_count": null,
   "metadata": {
    "collapsed": true
   },
   "outputs": [],
   "source": [
    "def get_pdb_seq(structure):\n",
    "    '''\n",
    "    Takes in a Biopython structure object and returns a list of the structure's sequences\n",
    "    :param structure: Biopython structure object\n",
    "    :return: Dictionary of sequence strings with chain IDs as the key\n",
    "    '''\n",
    "    \n",
    "    structure_seqs = {}\n",
    "    \n",
    "    # loop over each chain of the PDB\n",
    "    for chain in structure[0]:\n",
    "        \n",
    "        chain_it = iter(chain) \n",
    "        \n",
    "        chain_seq = ''\n",
    "        tracker = 0\n",
    "        \n",
    "        # loop over the residues\n",
    "        for res in chain.get_residues():\n",
    "            # NOTE: you can get the residue number too\n",
    "            res_num = res.id[1]\n",
    "            \n",
    "            # double check if the residue name is a standard residue\n",
    "            # if it is not a standard residue (ie. selenomethionine),\n",
    "            # it will be filled in with an X on the next iteration)\n",
    "            if Polypeptide.is_aa(res, standard=True):\n",
    "                full_id = res.get_full_id()\n",
    "                end_tracker = full_id[3][1]\n",
    "                i_code = full_id[3][2]\n",
    "                aa = Polypeptide.three_to_one(res.get_resname())\n",
    "                \n",
    "                # tracker to fill in X's\n",
    "                if end_tracker != (tracker + 1):# and first == False:\n",
    "                    if i_code != ' ':\n",
    "                        chain_seq += aa\n",
    "                        tracker = end_tracker + 1\n",
    "                        continue\n",
    "                    else:\n",
    "                        chain_seq += 'X'*(end_tracker - tracker - 1)\n",
    "                        \n",
    "                chain_seq += aa\n",
    "                tracker = end_tracker\n",
    "                \n",
    "            else:\n",
    "                continue\n",
    "\n",
    "        structure_seqs[chain.get_id()] = chain_seq\n",
    "\n",
    "    return structure_seqs"
   ]
  },
  {
   "cell_type": "code",
   "execution_count": null,
   "metadata": {
    "collapsed": false
   },
   "outputs": [],
   "source": [
    "def get_pdb_seq2(structure):\n",
    "    '''\n",
    "    Takes in a Biopython structure object and returns a list of the structure's sequences\n",
    "    :param structure: Biopython structure object\n",
    "    :return: Dictionary of sequence strings with chain IDs as the key\n",
    "    '''\n",
    "    \n",
    "    structure_seqs = {}\n",
    "    \n",
    "    # loop over each chain of the PDB\n",
    "    for chain in structure[0]:\n",
    "        \n",
    "        chain_it = iter(chain) \n",
    "        \n",
    "        chain_seq = []\n",
    "        tracker = 0\n",
    "        \n",
    "        # loop over the residues\n",
    "        for res in chain.get_residues():\n",
    "            # NOTE: you can get the residue number too\n",
    "            res_num = res.id[1]\n",
    "            \n",
    "            # double check if the residue name is a standard residue\n",
    "            # if it is not a standard residue (ie. selenomethionine),\n",
    "            # it will be filled in with an X on the next iteration)\n",
    "            # TODO: except when it's at the beginning or end...\n",
    "            if Polypeptide.is_aa(res, standard=True):\n",
    "                full_id = res.get_full_id()\n",
    "                end_tracker = full_id[3][1]\n",
    "                i_code = full_id[3][2]\n",
    "                aa = Polypeptide.three_to_one(res.get_resname())\n",
    "                \n",
    "                # tracker to fill in X's\n",
    "                if end_tracker != (tracker + 1):\n",
    "                    if i_code != ' ':\n",
    "                        chain_seq.append((aa,end_tracker))\n",
    "                        tracker = end_tracker + 1\n",
    "                        continue\n",
    "                    else:\n",
    "                        xes = 'X'*(end_tracker - tracker - 1)\n",
    "                        for x in xes:\n",
    "                            chain_seq.append((x,end_tracker))\n",
    "                        \n",
    "                chain_seq.append((aa,end_tracker))\n",
    "                tracker = end_tracker\n",
    "                \n",
    "            else:\n",
    "                continue\n",
    "\n",
    "        structure_seqs[chain.get_id()] = chain_seq\n",
    "\n",
    "    return structure_seqs"
   ]
  },
  {
   "cell_type": "code",
   "execution_count": null,
   "metadata": {
    "collapsed": false
   },
   "outputs": [],
   "source": [
    "my_structure_sequence = get_pdb_seq2(structure)"
   ]
  },
  {
   "cell_type": "code",
   "execution_count": null,
   "metadata": {
    "collapsed": false
   },
   "outputs": [],
   "source": [
    "from Bio.PDB import Selection"
   ]
  },
  {
   "cell_type": "code",
   "execution_count": null,
   "metadata": {
    "collapsed": false
   },
   "outputs": [],
   "source": [
    "# let's say after aligning, this is the residue that matches the structure\n",
    "# I think this A refers to A chain and B chain if B\n",
    "my_structure_sequence['A'][26]"
   ]
  },
  {
   "cell_type": "code",
   "execution_count": null,
   "metadata": {
    "collapsed": false
   },
   "outputs": [],
   "source": [
    "# so we want to look at residue number 27\n",
    "my_mutation_resnum = my_structure_sequence['A'][26][1]\n",
    "print my_mutation_resnum"
   ]
  },
  {
   "cell_type": "code",
   "execution_count": null,
   "metadata": {
    "collapsed": false
   },
   "outputs": [],
   "source": [
    "# let's get the info from the structure\n",
    "my_mutation_residue = structure[0]['A'][my_mutation_resnum]\n",
    "print my_mutation_residue"
   ]
  },
  {
   "cell_type": "code",
   "execution_count": null,
   "metadata": {
    "collapsed": false
   },
   "outputs": [],
   "source": [
    "# we can use the Selection class to select all atoms of this residue\n",
    "# 'A' here stands for ATOM (http://biopython.org/DIST/docs/api/Bio.PDB.Selection-module.html)\n",
    "atom_list = Selection.unfold_entities(my_mutation_residue, 'A')\n",
    "atom_list"
   ]
  },
  {
   "cell_type": "code",
   "execution_count": null,
   "metadata": {
    "collapsed": false
   },
   "outputs": [],
   "source": [
    "# then you can format this information for PV:\n",
    "for a in atom_list:\n",
    "    print('{}.{}.{}').format('A',27,a.id)"
   ]
  },
  {
   "cell_type": "markdown",
   "metadata": {},
   "source": [
    "### Let's do a case study w DNMT3A"
   ]
  },
  {
   "cell_type": "markdown",
   "metadata": {},
   "source": [
    "#### Got the homology from Nathan's filter"
   ]
  },
  {
   "cell_type": "code",
   "execution_count": null,
   "metadata": {
    "collapsed": true
   },
   "outputs": [],
   "source": [
    "from Bio.PDB.PDBParser import PDBParser"
   ]
  },
  {
   "cell_type": "code",
   "execution_count": null,
   "metadata": {
    "collapsed": true
   },
   "outputs": [],
   "source": [
    "DNMT3A_struc = parser.get_structure('DNMT3A', 'NP_783329.1_model1_fix.pdb')"
   ]
  },
  {
   "cell_type": "code",
   "execution_count": null,
   "metadata": {
    "collapsed": false
   },
   "outputs": [],
   "source": [
    "# get the ligands within this file for display\n",
    "# from: http://stackoverflow.com/questions/25718201/remove-heteroatoms-from-pdb\n",
    "ligands = []\n",
    "\n",
    "for residue in DNMT3A_struc.get_residues():\n",
    "    tags = residue.get_full_id()\n",
    "    # tags contains a tuple with (Structure ID, Model ID, Chain ID, (Residue ID))\n",
    "    # Residue ID is a tuple with (*Hetero Field*, Residue ID, Insertion Code)\n",
    "\n",
    "    # Thus you're interested in the Hetero Field, that is empty if the residue\n",
    "    # is not a hetero atom or have some flag if it is (W for waters, H, etc.)\n",
    "    if tags[3][0] != \" \" and tags[3][0] != \"W\":\n",
    "        ligands.append(tags[3][0].split('_')[1].strip())\n",
    "    else:\n",
    "        continue\n",
    "        \n",
    "print(ligands)"
   ]
  },
  {
   "cell_type": "code",
   "execution_count": null,
   "metadata": {
    "collapsed": false
   },
   "outputs": [],
   "source": [
    "PDBViewer('NP_783329.1_model1_fix.pdb')"
   ]
  },
  {
   "cell_type": "code",
   "execution_count": null,
   "metadata": {
    "collapsed": true
   },
   "outputs": [],
   "source": [
    "from Bio.Seq import Seq\n",
    "from Bio.SeqRecord import SeqRecord\n",
    "from Bio.Alphabet import IUPAC\n",
    "from Bio.PDB import Polypeptide"
   ]
  },
  {
   "cell_type": "code",
   "execution_count": null,
   "metadata": {
    "collapsed": true
   },
   "outputs": [],
   "source": [
    "from Bio.PDB import Selection"
   ]
  },
  {
   "cell_type": "code",
   "execution_count": null,
   "metadata": {
    "collapsed": true
   },
   "outputs": [],
   "source": [
    "DNMT3A_structure_sequence = get_pdb_seq2(DNMT3A_struc)"
   ]
  },
  {
   "cell_type": "code",
   "execution_count": null,
   "metadata": {
    "collapsed": false
   },
   "outputs": [],
   "source": [
    "DNMT3A_structure_sequence;"
   ]
  },
  {
   "cell_type": "code",
   "execution_count": null,
   "metadata": {
    "collapsed": false
   },
   "outputs": [],
   "source": [
    "# let's say after aligning, this is the residue that matches the structure\n",
    "# I think this A refers to A chain and B chain if B\n",
    "DNMT3A_structure_sequence['X'][26]"
   ]
  },
  {
   "cell_type": "markdown",
   "metadata": {},
   "source": [
    "### ^Not sure what to do for the first ['letter'] b/c sometimes it's A chain, B chain, X chain...how to automate?"
   ]
  },
  {
   "cell_type": "code",
   "execution_count": null,
   "metadata": {
    "collapsed": false
   },
   "outputs": [],
   "source": [
    "# so we want to look at residue number 27\n",
    "DNMT3A_mutation_resnum = DNMT3A_structure_sequence['X'][26][1]\n",
    "print my_mutation_resnum"
   ]
  },
  {
   "cell_type": "code",
   "execution_count": null,
   "metadata": {
    "collapsed": false
   },
   "outputs": [],
   "source": [
    "# let's get the info from the structure\n",
    "DNMT3A_mutation_residue = structure[0]['A'][DNMT3A_mutation_resnum]\n",
    "print my_mutation_residue"
   ]
  },
  {
   "cell_type": "code",
   "execution_count": null,
   "metadata": {
    "collapsed": false
   },
   "outputs": [],
   "source": [
    "# we can use the Selection class to select all atoms of this residue\n",
    "# 'A' here stands for ATOM (http://biopython.org/DIST/docs/api/Bio.PDB.Selection-module.html)\n",
    "atom_list = Selection.unfold_entities(DNMT3A_mutation_residue, 'A')\n",
    "atom_list"
   ]
  },
  {
   "cell_type": "code",
   "execution_count": null,
   "metadata": {
    "collapsed": false
   },
   "outputs": [],
   "source": [
    "# then you can format this information for PV:\n",
    "for a in atom_list:\n",
    "    print('{}.{}.{}').format('A',27,a.id)"
   ]
  },
  {
   "cell_type": "code",
   "execution_count": null,
   "metadata": {
    "collapsed": true
   },
   "outputs": [],
   "source": [
    "class PDBViewer2(object):\n",
    "    '''\n",
    "    Contributed by: Ali Ebrahim\n",
    "    '''\n",
    "    \n",
    "    def __init__(self, f):\n",
    "        self.pdb = open(f).read()\n",
    "\n",
    "    def _repr_html_(self):\n",
    "        div_id = str(uuid.uuid4())\n",
    "        \n",
    "        return \"\"\"<div id=\"%s\" style=\"width: 800px; height: 600px\"><div>\n",
    "        <!--script src=\"//biasmv.github.io/pv/js/pv.min.js\"></script-->\n",
    "        <script>\n",
    "        require.config({paths: {\"pv\": \"//biasmv.github.io/pv/js/pv.min\"}});\n",
    "        require([\"pv\"], function (pv) {\n",
    "            pdb = \"%s\";\n",
    "            structure = pv.io.pdb(pdb);\n",
    "            viewer = pv.Viewer(document.getElementById('%s'),\n",
    "                               {quality : 'medium', width: 'auto', height : 'auto',\n",
    "                                antialias : true, outline : true});\n",
    "            viewer.fitParent();\n",
    "            \n",
    "            viewer.cartoon('molecule', structure);\n",
    "            viewer.centerOn(structure);\n",
    "           \n",
    "                   \n",
    "            viewer.on('viewerReady', function() {\n",
    "            viewer.cartoon('crambin', s);\n",
    "            var carbonAlpha = s.atom('A.27.N');\n",
    "            var options = {\n",
    "             fontSize : 16, fontColor: '#f22', backgroundAlpha : 0.4\n",
    "            };\n",
    "            viewer.label('label', carbonAlpha.qualifiedName(),\n",
    "                         carbonAlpha.pos(), options);\n",
    "            viewer.autoZoom();\n",
    "          });\n",
    "        ;\n",
    "\n",
    "            viewer.label('label', carbonAlpha.qualifiedName(),\n",
    "                 carbonAlpha.pos(), options);\n",
    "            \n",
    "        });\n",
    "        </script>\n",
    "        \"\"\" % (div_id, self.pdb.replace(\"\\n\", \"\\\\n\"), div_id)"
   ]
  },
  {
   "cell_type": "code",
   "execution_count": null,
   "metadata": {
    "collapsed": false
   },
   "outputs": [],
   "source": [
    "PDBViewer2(pdb_file_path)"
   ]
  },
  {
   "cell_type": "code",
   "execution_count": 3,
   "metadata": {
    "collapsed": false
   },
   "outputs": [],
   "source": [
    "class PDBViewer3():\n",
    "    \n",
    "    \n",
    "    '''\n",
    "    Contributed by: Ali Ebrahim\n",
    "    '''\n",
    "    def _repr_html_(self):\n",
    "        div_id = str(uuid.uuid4())\n",
    "        \n",
    "        return \"\"\"<div id=\"%s\" style=\"width: 800px; height: 600px\"><div>\n",
    "        <!--script src=\"//biasmv.github.io/pv/js/pv.min.js\"></script-->\n",
    "        <script>\n",
    "        var parent = document.getElementById('viewer');\n",
    "        viewer = pv.Viewer(parent, {\n",
    "            width : '300', height: '300', antialias : true,\n",
    "            outline : true, quality : 'medium', style : 'hemilight',\n",
    "            background : 'white', animateTime: 500,\n",
    "            selectionColor : '#f00'\n",
    "        });\n",
    "\n",
    "        pv.io.fetchPdb('_static/2vfa.pdb', function(s) {\n",
    "          viewer.on('viewerReady', function() {\n",
    "            viewer.cartoon('crambin', s);\n",
    "            var carbonAlpha = s.atom('A.27.CA');\n",
    "            // override a few default options to show their effect\n",
    "            var options = {\n",
    "             fontSize : 16, fontColor: '#f22', backgroundAlpha : 0.4\n",
    "            };\n",
    "            viewer.label('label', carbonAlpha.qualifiedName(),\n",
    "                         carbonAlpha.pos(), options);\n",
    "            viewer.autoZoom();\n",
    "          });\n",
    "        });\n",
    "\n",
    "        </script>\n",
    "        \"\"\" %(div_id)"
   ]
  },
  {
   "cell_type": "code",
   "execution_count": 4,
   "metadata": {
    "collapsed": false
   },
   "outputs": [
    {
     "data": {
      "text/html": [
       "<div id=\"ac450515-55df-417b-bde5-0bb87e3b157f\" style=\"width: 800px; height: 600px\"><div>\n",
       "        <!--script src=\"//biasmv.github.io/pv/js/pv.min.js\"></script-->\n",
       "        <script>\n",
       "        var parent = document.getElementById('viewer');\n",
       "        viewer = pv.Viewer(parent, {\n",
       "            width : '300', height: '300', antialias : true,\n",
       "            outline : true, quality : 'medium', style : 'hemilight',\n",
       "            background : 'white', animateTime: 500,\n",
       "            selectionColor : '#f00'\n",
       "        });\n",
       "\n",
       "        pv.io.fetchPdb('_static/2vfa.pdb', function(s) {\n",
       "          viewer.on('viewerReady', function() {\n",
       "            viewer.cartoon('crambin', s);\n",
       "            var carbonAlpha = s.atom('A.27.CA');\n",
       "            // override a few default options to show their effect\n",
       "            var options = {\n",
       "             fontSize : 16, fontColor: '#f22', backgroundAlpha : 0.4\n",
       "            };\n",
       "            viewer.label('label', carbonAlpha.qualifiedName(),\n",
       "                         carbonAlpha.pos(), options);\n",
       "            viewer.autoZoom();\n",
       "          });\n",
       "        });\n",
       "\n",
       "        </script>\n",
       "        "
      ],
      "text/plain": [
       "<__main__.PDBViewer3 instance at 0x105595248>"
      ]
     },
     "execution_count": 4,
     "metadata": {},
     "output_type": "execute_result"
    }
   ],
   "source": [
    "PDBViewer3()"
   ]
  },
  {
   "cell_type": "code",
   "execution_count": null,
   "metadata": {
    "collapsed": true
   },
   "outputs": [],
   "source": []
  }
 ],
 "metadata": {
  "kernelspec": {
   "display_name": "Python 2",
   "language": "python",
   "name": "python2"
  },
  "language_info": {
   "codemirror_mode": {
    "name": "ipython",
    "version": 2
   },
   "file_extension": ".py",
   "mimetype": "text/x-python",
   "name": "python",
   "nbconvert_exporter": "python",
   "pygments_lexer": "ipython2",
   "version": "2.7.11"
  }
 },
 "nbformat": 4,
 "nbformat_minor": 0
}
