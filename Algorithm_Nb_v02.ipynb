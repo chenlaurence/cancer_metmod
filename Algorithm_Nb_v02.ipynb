{
 "cells": [
  {
   "cell_type": "markdown",
   "metadata": {},
   "source": [
    "# What is the gene knockout you are interested in studying?"
   ]
  },
  {
   "cell_type": "code",
   "execution_count": 1,
   "metadata": {
    "collapsed": true
   },
   "outputs": [],
   "source": [
    "# This version of the algorithm uses FBA and not pFBA\n",
    "# fluxes below 10^-5 are rounded to 0 for ranking purposes"
   ]
  },
  {
   "cell_type": "code",
   "execution_count": 2,
   "metadata": {
    "collapsed": false
   },
   "outputs": [
    {
     "name": "stdout",
     "output_type": "stream",
     "text": [
      "Enter the name of the gene you are interested in studying as named in model RECON1:   FUMm\n"
     ]
    }
   ],
   "source": [
    "gene_name = raw_input('Enter the name of the gene you are interested in studying as named in model RECON1:   ')"
   ]
  },
  {
   "cell_type": "code",
   "execution_count": 3,
   "metadata": {
    "collapsed": false
   },
   "outputs": [
    {
     "name": "stderr",
     "output_type": "stream",
     "text": [
      "cobra/io/__init__.py:17 \u001b[1;31mUserWarning\u001b[0m: cobra.io.sbml requires libsbml\n",
      "cobra/io/mat.py:136 \u001b[1;31mFutureWarning\u001b[0m: elementwise == comparison failed and returning scalar instead; this will raise an error or perform elementwise comparison in the future.\n"
     ]
    }
   ],
   "source": [
    "from cobra import Reaction\n",
    "import escher\n",
    "import escher.urls\n",
    "import cobra\n",
    "import cobra.test\n",
    "import json\n",
    "import os\n",
    "import string\n",
    "from IPython.display import HTML\n",
    "from cobra import Model, Reaction, Metabolite\n",
    "from cobra.flux_analysis.parsimonious import optimize_minimal_flux\n",
    "model = cobra.io.load_matlab_model('/Users/LAURENCE/Desktop/Senior Design/RECON1', 'RECON1')"
   ]
  },
  {
   "cell_type": "markdown",
   "metadata": {},
   "source": [
    "## Run all of this to set up RECON1"
   ]
  },
  {
   "cell_type": "code",
   "execution_count": 4,
   "metadata": {
    "collapsed": false
   },
   "outputs": [
    {
     "name": "stdout",
     "output_type": "stream",
     "text": [
      "['DM_etha_c', 'EX_peplys_e', 'EX_Tyr_ggn_e', 'EX_arg__L_e', 'EX_asn__L_e', 'EX_asp__L_e', 'EX_chol_e', 'EX_cl_e', 'EX_glc__D_e', 'EX_gln__L_e', 'EX_gly_e', 'EX_h_e', 'EX_h2o_e', 'EX_ile__L_e', 'EX_k_e', 'EX_leu__L_e', 'EX_lys__L_e', 'EX_na1_e', 'EX_nh4_e', 'EX_o2_e', 'EX_phe__L_e', 'EX_pi_e', 'EX_pro__L_e', 'EX_ser__L_e', 'EX_thr__L_e', 'EX_trp__L_e', 'EX_tyr__L_e', 'EX_val__L_e']\n"
     ]
    },
    {
     "name": "stderr",
     "output_type": "stream",
     "text": [
      "cobra/core/Model.py:306 \u001b[1;31mUserWarning\u001b[0m: need to pass in a list\n"
     ]
    }
   ],
   "source": [
    "#creat ethanalamine demand\n",
    "#metabolite is etha_c\n",
    "\n",
    "DM_etha_c = Reaction('DM_etha_c')\n",
    "DM_etha_c.name = DM_etha_c\n",
    "\n",
    "etha_c = model.metabolites.get_by_id('etha_c')\n",
    "\n",
    "DM_etha_c.add_metabolites({etha_c: -1})\n",
    "model.add_reaction(DM_etha_c)\n",
    "\n",
    "#create a transporter for this\n",
    "\n",
    "Tyr_ggnt = Reaction('Tyr_ggnt')\n",
    "Tyr_ggnt.name = Tyr_ggnt\n",
    "\n",
    "Tyr_ggn_e = model.metabolites.get_by_id('Tyr_ggn_e')\n",
    "Tyr_ggn_c = model.metabolites.get_by_id('Tyr_ggn_c')\n",
    "\n",
    "Tyr_ggnt.add_metabolites({Tyr_ggn_e: -1, Tyr_ggn_c: 1})\n",
    "model.add_reaction(Tyr_ggnt)\n",
    "\n",
    "DM_etha_c.lower_bound = -1\n",
    "Tyr_ggnt.lower_bound = -1000\n",
    "\n",
    "except_EX_names = '''DM_etha_c, EX_peplys_e, EX_Tyr_ggn_e, EX_arg__L_e, EX_asn__L_e, EX_asp__L_e, EX_chol_e, EX_cl_e, EX_glc__D_e, EX_gln__L_e, EX_gly_e, EX_h_e, EX_h2o_e, EX_ile__L_e, EX_k_e, EX_leu__L_e, EX_lys__L_e, EX_na1_e, EX_nh4_e, EX_o2_e, EX_phe__L_e, EX_pi_e, EX_pro__L_e, EX_ser__L_e, EX_thr__L_e, EX_trp__L_e, EX_tyr__L_e, EX_val__L_e'''\n",
    "except_EX_names_split = except_EX_names.split(', ')\n",
    "print except_EX_names_split\n",
    "\n",
    "# Changing all lower bounds to 0 except the given reactions above\n",
    "\n",
    "for a in model.reactions[1188:1591]:\n",
    "    a.lower_bound = 0\n",
    "\n",
    "model.reactions.get_by_id('EX_yvite_e').lower_bound = 0\n",
    "model.reactions.get_by_id('EX_10fthf5glu_e').lower_bound = 0\n",
    "    \n",
    "for b in model.reactions[1188:1591]:\n",
    "    for c in range(len(except_EX_names_split)):  \n",
    "        if b.id  == except_EX_names_split[c]:\n",
    "            b.lower_bound = -1\n",
    "            \n",
    "biomass_NCI60 = Reaction('biomass_NCI60')\n",
    "biomass_NCI60.name = biomass_NCI60\n",
    "\n",
    "ala_L_c = model.metabolites.get_by_id('ala__L_c')\n",
    "arg_L_c = model.metabolites.get_by_id('arg__L_c')\n",
    "asn_L_c = model.metabolites.get_by_id('asn__L_c')\n",
    "asp_L_c = model.metabolites.get_by_id('asp__L_c')\n",
    "atp_c = model.metabolites.get_by_id('atp_c')\n",
    "clpn_hs_c = model.metabolites.get_by_id('clpn_hs_c')\n",
    "ctp_c = model.metabolites.get_by_id('ctp_c')\n",
    "dag_hs_c = model.metabolites.get_by_id('dag_hs_c')\n",
    "datp_c = model.metabolites.get_by_id('datp_c')\n",
    "dctp_c = model.metabolites.get_by_id('dctp_c')\n",
    "dgtp_c = model.metabolites.get_by_id('dgtp_c')\n",
    "dttp_c = model.metabolites.get_by_id('dttp_c')\n",
    "gln_L_c = model.metabolites.get_by_id('gln__L_c')\n",
    "glu_L_c = model.metabolites.get_by_id('glu__L_c')\n",
    "gly_c = model.metabolites.get_by_id('gly_c')\n",
    "glygn2_c = model.metabolites.get_by_id('glygn2_c')\n",
    "gtp_c = model.metabolites.get_by_id('gtp_c')\n",
    "h2o_c = model.metabolites.get_by_id('h2o_c')\n",
    "hdca_c = model.metabolites.get_by_id('hdca_c')\n",
    "hdcea_c = model.metabolites.get_by_id('hdcea_c')\n",
    "ile_L_c = model.metabolites.get_by_id('ile__L_c')\n",
    "leu_L_c = model.metabolites.get_by_id('leu__L_c')\n",
    "lpchol_hs_c = model.metabolites.get_by_id('lpchol_hs_c')\n",
    "lys_L_c = model.metabolites.get_by_id('lys__L_c')\n",
    "mag_hs_c = model.metabolites.get_by_id('mag_hs_c')\n",
    "ocdca_c = model.metabolites.get_by_id('ocdca_c')\n",
    "ocdcea_c = model.metabolites.get_by_id('ocdcea_c')\n",
    "pa_hs_c = model.metabolites.get_by_id('pa_hs_c')\n",
    "pail_hs_c = model.metabolites.get_by_id('pail_hs_c')\n",
    "pchol_hs_c = model.metabolites.get_by_id('pchol_hs_c')\n",
    "pe_hs_c = model.metabolites.get_by_id('pe_hs_c')\n",
    "phe_L_c = model.metabolites.get_by_id('phe__L_c')\n",
    "ps_hs_c = model.metabolites.get_by_id('ps_hs_c')\n",
    "ser_L_c = model.metabolites.get_by_id('ser__L_c')\n",
    "sphmyln_hs_c = model.metabolites.get_by_id('sphmyln_hs_c')\n",
    "thr_L_c = model.metabolites.get_by_id('thr__L_c')\n",
    "trp_L_c = model.metabolites.get_by_id('trp__L_c')\n",
    "tyr_L_c = model.metabolites.get_by_id('tyr__L_c')\n",
    "utp_c = model.metabolites.get_by_id('utp_c')\n",
    "val_L_c = model.metabolites.get_by_id('val__L_c')\n",
    "pro_L_m = model.metabolites.get_by_id('pro__L_m')\n",
    "chsterol_r = model.metabolites.get_by_id('chsterol_r')\n",
    "xolest_hs_r = model.metabolites.get_by_id('xolest_hs_r')\n",
    "adp_c = model.metabolites.get_by_id('adp_c')\n",
    "h_c = model.metabolites.get_by_id('h_c')\n",
    "pi_c = model.metabolites.get_by_id('pi_c')\n",
    "\n",
    "#remove ocdca and ocdcea\n",
    "# added xolest value to cholesterol in biomass and remove xolest\n",
    "\n",
    "biomass_NCI60.add_metabolites({ala_L_c: -0.587929, arg_L_c: -0.380280, asn_L_c: -0.323313, asp_L_c: -0.261396, \n",
    "                               atp_c: -35.033540, clpn_hs_c: -0.000624, ctp_c: -0.033435, dag_hs_c: -0.001032, \n",
    "                               datp_c: -0.014557, dctp_c: -0.009770, dgtp_c: -0.009748, dttp_c: -0.014546,\n",
    "                               gln_L_c: -0.319051, glu_L_c: -0.387401, gly_c: -0.504294, glygn2_c: -0.034479,\n",
    "                               gtp_c: -0.055967, h2o_c: -35.000000, hdca_c: -0.008293, hdcea_c: -0.003315, \n",
    "                               ile_L_c: -0.319813, leu_L_c: -0.548692, lpchol_hs_c: -0.002470, lys_L_c: -0.552717, \n",
    "                               mag_hs_c: -0.001456, pa_hs_c: -0.010645,\n",
    "                               pail_hs_c: -0.005016, pchol_hs_c: -0.022878, pe_hs_c: -0.018211, phe_L_c: -0.170743,\n",
    "                               ps_hs_c: -0.006808, ser_L_c: -0.385852, sphmyln_hs_c: -0.010215, thr_L_c: -0.378004, \n",
    "                               trp_L_c: -0.039847, tyr_L_c: -0.150141, utp_c: -0.063323, val_L_c: -0.385554,\n",
    "                               pro_L_m: -0.237850, chsterol_r: -0.054102,  adp_c: 35.000000, \n",
    "                               h_c: 35.000000, pi_c: 35.000000})\n",
    "\n",
    "model.add_reaction(biomass_NCI60)\n",
    "my_objective = model.reactions.get_by_id('biomass_NCI60')\n",
    "model.change_objective(my_objective)\n",
    "\n",
    "# Adding DM_atp_c reaction\n",
    "\n",
    "DM_atp_c = Reaction('DM_atp_c')\n",
    "DM_atp_c.name = DM_atp_c\n",
    "\n",
    "atp_c = model.metabolites.get_by_id('atp_c')\n",
    "adp_c = model.metabolites.get_by_id('adp_c')\n",
    "h2o_c = model.metabolites.get_by_id('h2o_c')\n",
    "h_c = model.metabolites.get_by_id('h_c')\n",
    "pi_c = model.metabolites.get_by_id('pi_c')\n",
    "\n",
    "\n",
    "DM_atp_c.add_metabolites({atp_c: -1, h2o_c: -1, adp_c: 1, pi_c: 1, h_c: 1})\n",
    "model.add_reaction(DM_atp_c)\n",
    "\n",
    "# Setting lower bounds for DM_atp_c as per Dan\n",
    "\n",
    "#model.reactions.get_by_id('DM_atp_c').lower_bound = 0.9*7.9939\n",
    "\n",
    "model.reactions.get_by_id('EX_h_e').lower_bound = -1000\n",
    "model.reactions.get_by_id('EX_o2_e').lower_bound = -1000\n",
    "model.reactions.get_by_id('EX_fe2_e').lower_bound = -1000\n",
    "model.reactions.get_by_id('EX_nh4_e').lower_bound = -1000\n",
    "\n",
    "model.reactions.get_by_id('EX_glc__D_e').lower_bound = -0.4882\n",
    "\n",
    "# constrained as per calculate fluxes \n",
    "model.reactions.get_by_id('biomass_NCI60').lower_bound = 0.0177\n",
    "model.reactions.get_by_id('biomass_NCI60').upper_bound = 0.0177\n",
    "\n",
    "model.reactions.get_by_id('EX_pi_e').lower_bound = -1000\n",
    "\n",
    "# 6/16/16 Changing amino acid uptake constraints\n",
    "\n",
    "model.reactions.get_by_id('EX_arg__L_e').lower_bound = -0.0022\n",
    "\n",
    "model.reactions.get_by_id('EX_asn__L_e').lower_bound = -0.0058\n",
    "model.reactions.get_by_id('EX_asp__L_e').lower_bound = -0.0081\n",
    "model.reactions.get_by_id('EX_chol_e').lower_bound = -0.00062386\n",
    "model.reactions.get_by_id('EX_gln__L_e').lower_bound = -0.1202\n",
    "model.reactions.get_by_id('EX_gly_e').lower_bound = -0.0019\n",
    "model.reactions.get_by_id('EX_ile__L_e').lower_bound = -0.0081\n",
    "model.reactions.get_by_id('EX_leu__L_e').lower_bound = -0.0110\n",
    "model.reactions.get_by_id('EX_lys__L_e').lower_bound = -0.0111\n",
    "model.reactions.get_by_id('EX_phe__L_e').lower_bound = -0.0040\n",
    "\n",
    "model.reactions.get_by_id('EX_pro__L_e').lower_bound = -0.0045\n",
    "\n",
    "model.reactions.get_by_id('EX_ser__L_e').lower_bound = -0.0167\n",
    "model.reactions.get_by_id('EX_trp__L_e').lower_bound = -0.0013\n",
    "model.reactions.get_by_id('EX_tyr__L_e').lower_bound = -0.0068\n",
    "model.reactions.get_by_id('EX_val__L_e').lower_bound = -0.0079\n",
    "\n",
    "#6/24/16 lowerbound changes\n",
    "\n",
    "model.reactions.get_by_id('FTHFLi').lower_bound = 0\n",
    "model.reactions.get_by_id('FTHFLmi').lower_bound = 0\n",
    "\n",
    "model.reactions.get_by_id('FUM').lower_bound = 0\n",
    "model.reactions.get_by_id('FUM').upper_bound = 0\n",
    "\n",
    "model.reactions.get_by_id('BILGLCURte').lower_bound = 0\n",
    "model.reactions.get_by_id('BILDGLCURte').lower_bound = 0\n",
    "\n",
    "h_i = Metabolite('h_i', formula='h', name='h_i', compartment='i')\n",
    "model.add_metabolites(h_i)\n",
    "\n",
    "\n",
    "# delete reaction\n",
    "model.remove_reactions('ATPS4m')\n",
    "\n",
    "# re-add the reaction while replacing h_c with h_i\n",
    "ATPS4m = Reaction('ATPS4m')\n",
    "ATPS4m.name = ATPS4m\n",
    "\n",
    "adp_m = model.metabolites.get_by_id('adp_m')\n",
    "h_i = model.metabolites.get_by_id('h_i')\n",
    "pi_m = model.metabolites.get_by_id('pi_m')\n",
    "h2o_m = model.metabolites.get_by_id('h2o_m')\n",
    "h_m = model.metabolites.get_by_id('h_m')\n",
    "atp_m = model.metabolites.get_by_id('atp_m')\n",
    "\n",
    "ATPS4m.add_metabolites({adp_m: -1, h_i: -4, pi_m: -1, h2o_m: 1, h_m: 3, atp_m: 1})\n",
    "model.add_reaction(ATPS4m)\n",
    "\n",
    "model.remove_reactions('CYOOm3')\n",
    "\n",
    "CYOOm2 = Reaction('CYOOm2')\n",
    "CYOOm2.name = CYOOm2\n",
    "\n",
    "h_m = model.metabolites.get_by_id('h_m')\n",
    "o2_m = model.metabolites.get_by_id('o2_m')\n",
    "focytC_m = model.metabolites.get_by_id('focytC_m')\n",
    "h_i = model.metabolites.get_by_id('h_i')\n",
    "h2o_m = model.metabolites.get_by_id('h2o_m')\n",
    "ficytC_m = model.metabolites.get_by_id('ficytC_m')\n",
    "\n",
    "\n",
    "CYOOm2.add_metabolites({h_m: -8, o2_m: -1, focytC_m: -4, h_i: 4, h2o_m: 2, ficytC_m: 4})\n",
    "model.add_reaction(CYOOm2)\n",
    "\n",
    "# delete reaction\n",
    "model.remove_reactions('NADH2_u10m')\n",
    "\n",
    "# re-add the reaction while replacing h_c with h_i\n",
    "NADH2_u10m = Reaction('NADH2_u10m')\n",
    "NADH2_u10m.name = NADH2_u10m\n",
    "\n",
    "q10_m = model.metabolites.get_by_id('q10_m')\n",
    "h_m = model.metabolites.get_by_id('h_m')\n",
    "nadh_m = model.metabolites.get_by_id('nadh_m')\n",
    "nad_m = model.metabolites.get_by_id('nad_m')\n",
    "h_i = model.metabolites.get_by_id('h_i')\n",
    "q10h2_m = model.metabolites.get_by_id('q10h2_m')\n",
    "\n",
    "\n",
    "\n",
    "NADH2_u10m.add_metabolites({q10_m: -1, h_m: -5, nadh_m: -1, nad_m: 1, h_i: 4, q10h2_m: 1})\n",
    "model.add_reaction(NADH2_u10m)\n",
    "\n",
    "# delete reaction\n",
    "model.remove_reactions('CYOR_u10m')\n",
    "\n",
    "# re-add the reaction while replacing h_c with h_i\n",
    "CYOR_u10m = Reaction('CYOR_u10m')\n",
    "CYOR_u10m.name = NADH2_u10m\n",
    "\n",
    "ficytC_m = model.metabolites.get_by_id('ficytC_m')\n",
    "h_m = model.metabolites.get_by_id('h_m')\n",
    "q10h2_m = model.metabolites.get_by_id('q10h2_m')\n",
    "q10_m = model.metabolites.get_by_id('q10_m')\n",
    "focytC_m = model.metabolites.get_by_id('focytC_m')\n",
    "h_i = model.metabolites.get_by_id('h_i')\n",
    "\n",
    "\n",
    "CYOR_u10m.add_metabolites({ficytC_m: -2, h_m: -2, q10h2_m: -1, q10_m: 1, focytC_m: 2, h_i: 4})\n",
    "model.add_reaction(CYOR_u10m)"
   ]
  },
  {
   "cell_type": "markdown",
   "metadata": {},
   "source": [
    "## Calculating the normal, healthy demands"
   ]
  },
  {
   "cell_type": "code",
   "execution_count": 5,
   "metadata": {
    "collapsed": true
   },
   "outputs": [],
   "source": [
    "p_solution = cobra.flux_analysis.parsimonious.optimize_minimal_flux(model)"
   ]
  },
  {
   "cell_type": "code",
   "execution_count": 6,
   "metadata": {
    "collapsed": true
   },
   "outputs": [],
   "source": [
    "# constraining the upper and lower bound of the gene of interest to an optimized value\n",
    "\n",
    "model.reactions.get_by_id(str(gene_name)).upper_bound = p_solution.x_dict[str(gene_name)]\n",
    "model.reactions.get_by_id(str(gene_name)).lower_bound = p_solution.x_dict[str(gene_name)]"
   ]
  },
  {
   "cell_type": "code",
   "execution_count": 7,
   "metadata": {
    "collapsed": true
   },
   "outputs": [],
   "source": [
    "# This creates an array of modified met names\n",
    "\n",
    "newmet_array = [0] * len(model.metabolites)\n",
    "met_count = 0\n",
    "for i in range(len(model.metabolites)):\n",
    "    newmet_array[met_count] = string.replace(model.metabolites[i].id, \" \", \"_\")\n",
    "    met_count = met_count + 1"
   ]
  },
  {
   "cell_type": "code",
   "execution_count": 8,
   "metadata": {
    "collapsed": true
   },
   "outputs": [],
   "source": [
    "# creates an empty dict to store DM_rxns as keys and the p_solution.f values\n",
    "normal_maxmet_dict = {}\n",
    "\n",
    "#for i in range(len(model.metabolites)):\n",
    "for i in range(200):\n",
    "\n",
    "    # this part creates a demand reaction for each metabolite\n",
    "    temp_DM = 'DM_' + str(newmet_array[i])\n",
    "    \n",
    "    # this nested for loop tries to catch if a demand reaction already exists in the model\n",
    "    for ii in model.reactions:\n",
    "        if temp_DM == str(ii):\n",
    "            # this part sets the newly created demand as the objective\n",
    "            my_objective = model.reactions.get_by_id(str(temp_DM))\n",
    "            model.change_objective(my_objective)\n",
    "\n",
    "            # this part runs FBA on the new demand\n",
    "            p_solution = model.optimize()\n",
    "\n",
    "            # this stores the demand flux into a dictionary where its demand rxn is the key\n",
    "            normal_maxmet_dict[str(temp_DM)] = p_solution.f\n",
    "\n",
    "            # this deletes the demand at the end of each iteration\n",
    "            model.reactions.get_by_id(str(temp_DM)).delete()\n",
    "            \n",
    "    temp_DM = Reaction(str(temp_DM))\n",
    "    newmet_array[i] = model.metabolites.get_by_id(model.metabolites[i].id)\n",
    "    temp_DM.add_metabolites({newmet_array[i]: -1})\n",
    "    model.add_reaction(temp_DM)\n",
    "    \n",
    "    # this part sets the newly created demand as the objective\n",
    "    my_objective = model.reactions.get_by_id(str(temp_DM))\n",
    "    model.change_objective(my_objective)\n",
    "    \n",
    "    # this part runs FBA on the new demand\n",
    "    p_solution = model.optimize()\n",
    "    \n",
    "    # this stores the demand flux into a dictionary where its demand rxn is the key\n",
    "    normal_maxmet_dict[str(temp_DM)] = p_solution.f\n",
    "    \n",
    "    # this deletes the demand at the end of each iteration\n",
    "    model.reactions.get_by_id(str(temp_DM)).delete()"
   ]
  },
  {
   "cell_type": "markdown",
   "metadata": {},
   "source": [
    "## Calculating the gene KO demands"
   ]
  },
  {
   "cell_type": "code",
   "execution_count": 10,
   "metadata": {
    "collapsed": true
   },
   "outputs": [],
   "source": [
    "# Knocking out your gene\n",
    "\n",
    "model.reactions.get_by_id(str(gene_name)).upper_bound = 0\n",
    "model.reactions.get_by_id(str(gene_name)).lower_bound = 0"
   ]
  },
  {
   "cell_type": "code",
   "execution_count": 11,
   "metadata": {
    "collapsed": true
   },
   "outputs": [],
   "source": [
    "# working copy!\n",
    "# This creates an array of modified met names since I'm getting errors accessing model.metabolites[i].id in some of the code\n",
    "\n",
    "\n",
    "newmet_array = [0] * len(model.metabolites)\n",
    "met_count = 0\n",
    "for i in range(len(model.metabolites)):\n",
    "    newmet_array[met_count] = string.replace(model.metabolites[i].id, \" \", \"_\")\n",
    "    met_count = met_count + 1"
   ]
  },
  {
   "cell_type": "code",
   "execution_count": 12,
   "metadata": {
    "collapsed": true
   },
   "outputs": [],
   "source": [
    "# creates an empty dict to store DM_rxns as keys and the p_solution.f values\n",
    "KO_maxmet_dict = {}\n",
    "\n",
    "#for i in range(len(model.metabolites)):\n",
    "for i in range(200):\n",
    "    \n",
    "    # this part creates a demand reaction for each metabolite\n",
    "    temp_DM = 'DM_' + str(newmet_array[i])\n",
    "    \n",
    "    # this nested for loop tries to catch if a demand reaction already exists in the model\n",
    "    for ii in model.reactions:\n",
    "        if temp_DM == str(ii):\n",
    "            # this part sets the newly created demand as the objective\n",
    "            my_objective = model.reactions.get_by_id(str(temp_DM))\n",
    "            model.change_objective(my_objective)\n",
    "\n",
    "            # this part runs FBA on the new demand\n",
    "            p_solution = model.optimize()\n",
    "\n",
    "            # this stores the demand flux into a dictionary where its demand rxn is the key\n",
    "            KO_maxmet_dict[str(temp_DM)] = p_solution.f\n",
    "\n",
    "            # this deletes the demand at the end of each iteration\n",
    "            model.reactions.get_by_id(str(temp_DM)).delete()\n",
    "            \n",
    "    temp_DM = Reaction(str(temp_DM))\n",
    "    newmet_array[i] = model.metabolites.get_by_id(model.metabolites[i].id)\n",
    "    temp_DM.add_metabolites({newmet_array[i]: -1})\n",
    "    model.add_reaction(temp_DM)\n",
    "    \n",
    "    # this part sets the newly created demand as the objective\n",
    "    my_objective = model.reactions.get_by_id(str(temp_DM))\n",
    "    model.change_objective(my_objective)\n",
    "    \n",
    "    # this part runs FBA on the new demand\n",
    "    p_solution = model.optimize()\n",
    "    \n",
    "    # this stores the demand flux into a dictionary where its demand rxn is the key\n",
    "    KO_maxmet_dict[str(temp_DM)] = p_solution.f\n",
    "    \n",
    "    # this deletes the demand at the end of each iteration\n",
    "    model.reactions.get_by_id(str(temp_DM)).delete()"
   ]
  },
  {
   "cell_type": "markdown",
   "metadata": {},
   "source": [
    "## Computing and normalizing the demands to generate metabolite scores"
   ]
  },
  {
   "cell_type": "code",
   "execution_count": 13,
   "metadata": {
    "collapsed": true
   },
   "outputs": [],
   "source": [
    "# This combines the normal_flux solutions and KO_flux solutions into one dictionary\n",
    "# The same key, the reaction, and stores 2 flux values as a list to the dic key where [0] is normal and [1] is KO\n",
    "\n",
    "combined_dic = {key: {'init_flux': normal_maxmet_dict[key], 'KO_flux': KO_maxmet_dict[key]}\n",
    "                for key in KO_maxmet_dict if key in normal_maxmet_dict}"
   ]
  },
  {
   "cell_type": "code",
   "execution_count": 14,
   "metadata": {
    "collapsed": false
   },
   "outputs": [],
   "source": [
    "# Setting the cutoff to 10^-5\n",
    "\n",
    "for rxn, flux in combined_dic.iteritems():\n",
    "    # 10^-5\n",
    "    if round(flux['init_flux'], 6) < 0.00001:\n",
    "        flux['init_flux'] = 0\n",
    "    if round(flux['KO_flux'], 6) < 0.00001:\n",
    "        flux['KO_flux'] = 0"
   ]
  },
  {
   "cell_type": "code",
   "execution_count": 15,
   "metadata": {
    "collapsed": false
   },
   "outputs": [
    {
     "data": {
      "text/plain": [
       "{'DM_10fthf5glu_c': {'KO_flux': 0, 'init_flux': 0},\n",
       " 'DM_10fthf5glu_l': {'KO_flux': 0, 'init_flux': 0},\n",
       " 'DM_10fthf5glu_m': {'KO_flux': 0, 'init_flux': 0},\n",
       " 'DM_10fthf6glu_c': {'KO_flux': 0, 'init_flux': 0},\n",
       " 'DM_10fthf6glu_l': {'KO_flux': 0, 'init_flux': 0},\n",
       " 'DM_10fthf6glu_m': {'KO_flux': 0, 'init_flux': 0},\n",
       " 'DM_10fthf7glu_c': {'KO_flux': 0, 'init_flux': 0},\n",
       " 'DM_10fthf7glu_l': {'KO_flux': 0, 'init_flux': 0},\n",
       " 'DM_10fthf7glu_m': {'KO_flux': 0, 'init_flux': 0},\n",
       " 'DM_10fthf_c': {'KO_flux': 0, 'init_flux': 0},\n",
       " 'DM_10fthf_l': {'KO_flux': 0, 'init_flux': 0},\n",
       " 'DM_10fthf_m': {'KO_flux': 0, 'init_flux': 0},\n",
       " 'DM_11docrtsl_c': {'KO_flux': 0, 'init_flux': 0},\n",
       " 'DM_11docrtsl_m': {'KO_flux': 0, 'init_flux': 0},\n",
       " 'DM_11docrtsl_r': {'KO_flux': 0, 'init_flux': 0},\n",
       " 'DM_11docrtstrn_c': {'KO_flux': 0, 'init_flux': 0},\n",
       " 'DM_11docrtstrn_m': {'KO_flux': 0, 'init_flux': 0},\n",
       " 'DM_11docrtstrn_r': {'KO_flux': 0, 'init_flux': 0},\n",
       " 'DM_13dampp_c': {'KO_flux': 0.32365321437828243,\n",
       "  'init_flux': 0.3424975186231412},\n",
       " 'DM_1a2425thvitd2_m': {'KO_flux': 0, 'init_flux': 0},\n",
       " 'DM_1a2425thvitd3_m': {'KO_flux': 0.06272455777587854,\n",
       "  'init_flux': 0.06373711004361808},\n",
       " 'DM_1a25dhvitd2_m': {'KO_flux': 0, 'init_flux': 0},\n",
       " 'DM_1a25dhvitd3_m': {'KO_flux': 0.06327964087379066,\n",
       "  'init_flux': 0.06430115427386111},\n",
       " 'DM_1mncam_c': {'KO_flux': 0.0005947054887656022,\n",
       "  'init_flux': 0.0005947088357061148},\n",
       " 'DM_1mncam_e': {'KO_flux': 0.0005947086028754711,\n",
       "  'init_flux': 0.0005947103127252818},\n",
       " 'DM_1pipdn2c_x': {'KO_flux': 0.0013169089797884224,\n",
       "  'init_flux': 0.0013169089797884226},\n",
       " 'DM_2425dhvitd2_c': {'KO_flux': 0, 'init_flux': 0},\n",
       " 'DM_2425dhvitd2_e': {'KO_flux': 0, 'init_flux': 0},\n",
       " 'DM_2425dhvitd2_m': {'KO_flux': 0, 'init_flux': 0},\n",
       " 'DM_2425dhvitd3_c': {'KO_flux': 0.0632796417016329,\n",
       "  'init_flux': 0.06430115566425285},\n",
       " 'DM_2425dhvitd3_e': {'KO_flux': 0.06327964341186959,\n",
       "  'init_flux': 0.06430115498892168},\n",
       " 'DM_2425dhvitd3_m': {'KO_flux': 0.06327964131358182,\n",
       "  'init_flux': 0.06430115578014517},\n",
       " 'DM_24nph_c': {'KO_flux': 0, 'init_flux': 0},\n",
       " 'DM_24nph_e': {'KO_flux': 0, 'init_flux': 0},\n",
       " 'DM_25hvitd2_c': {'KO_flux': 0, 'init_flux': 0},\n",
       " 'DM_25hvitd2_e': {'KO_flux': 0, 'init_flux': 0},\n",
       " 'DM_25hvitd2_m': {'KO_flux': 0, 'init_flux': 0},\n",
       " 'DM_25hvitd3_c': {'KO_flux': 0.06384463769852702,\n",
       "  'init_flux': 0.06487527388063344},\n",
       " 'DM_25hvitd3_e': {'KO_flux': 0.0638446398571344,\n",
       "  'init_flux': 0.06487527377400311},\n",
       " 'DM_25hvitd3_m': {'KO_flux': 0.06384463755693048,\n",
       "  'init_flux': 0.06487527433684183},\n",
       " 'DM_2amac_c': {'KO_flux': 1.2171082576819754,\n",
       "  'init_flux': 1.2416080716066062},\n",
       " 'DM_2dr1p_c': {'KO_flux': 0.5031597418488216, 'init_flux': 0.515896133706481},\n",
       " 'DM_2hb_c': {'KO_flux': 0.993309329263866, 'init_flux': 0.993309329263866},\n",
       " 'DM_2hb_e': {'KO_flux': 0.993309329263866, 'init_flux': 0.993309329263866},\n",
       " 'DM_2mcit_c': {'KO_flux': 0.993309329263866, 'init_flux': 0.9933093292638658},\n",
       " 'DM_2mcit_e': {'KO_flux': 0.9933093298459426, 'init_flux': 0.993309329263866},\n",
       " 'DM_2mop_m': {'KO_flux': 0.0010756943374872208,\n",
       "  'init_flux': 0.0010756943374872208},\n",
       " 'DM_2obut_c': {'KO_flux': 0.993309329263866, 'init_flux': 0.993309329263866},\n",
       " 'DM_2oxoadp_c': {'KO_flux': 0.0019116171170026064,\n",
       "  'init_flux': 0.0019116171170026064},\n",
       " 'DM_2oxoadp_m': {'KO_flux': 0.0019116171170026064,\n",
       "  'init_flux': 0.0019116171170026064},\n",
       " 'DM_34dhmald_c': {'KO_flux': 0.005120353307574987,\n",
       "  'init_flux': 0.005120353191159666},\n",
       " 'DM_34dhoxmand_c': {'KO_flux': 0.005120353191159666,\n",
       "  'init_flux': 0.005120353191159666},\n",
       " 'DM_34dhoxpeg_c': {'KO_flux': 0.005120353191159666,\n",
       "  'init_flux': 0.005120353191159666},\n",
       " 'DM_34dhoxpeg_e': {'KO_flux': 0.005120353191159666,\n",
       "  'init_flux': 0.005120353191159666},\n",
       " 'DM_34dhpac_c': {'KO_flux': 0.005120353191159666,\n",
       "  'init_flux': 0.005120353191159666},\n",
       " 'DM_34dhpha_c': {'KO_flux': 0.005120353191159666,\n",
       "  'init_flux': 0.005120353191159666},\n",
       " 'DM_34dhphe_c': {'KO_flux': 0.005120353191159666,\n",
       "  'init_flux': 0.005120353191159666},\n",
       " 'DM_34dhphe_e': {'KO_flux': 0.005120353191159666,\n",
       "  'init_flux': 0.005120353191159666},\n",
       " 'DM_34hpl_m': {'KO_flux': 0, 'init_flux': 0},\n",
       " 'DM_34hpp_c': {'KO_flux': 0.005120353191159666,\n",
       "  'init_flux': 0.005120353191159666},\n",
       " 'DM_34hpp_m': {'KO_flux': 0, 'init_flux': 0},\n",
       " 'DM_35cgmp_c': {'KO_flux': 0.2354096140608958,\n",
       "  'init_flux': 0.24966008914634585},\n",
       " 'DM_35cgmp_n': {'KO_flux': 0.23540960729587823,\n",
       "  'init_flux': 0.24966008905609757},\n",
       " 'DM_3aib_c': {'KO_flux': 0.0010756943374872208,\n",
       "  'init_flux': 0.0010756943374872208},\n",
       " 'DM_3aib_e': {'KO_flux': 0.0010756943374872208,\n",
       "  'init_flux': 0.0010756943374872208},\n",
       " 'DM_3aib_m': {'KO_flux': 0.0010756943374872208,\n",
       "  'init_flux': 0.0010756943374872208},\n",
       " 'DM_3amp_l': {'KO_flux': 0, 'init_flux': 0},\n",
       " 'DM_3dpdhb_m': {'KO_flux': 0, 'init_flux': 0},\n",
       " 'DM_3dphb_m': {'KO_flux': 0, 'init_flux': 0},\n",
       " 'DM_3dsphgn_c': {'KO_flux': 0.11618084108005423,\n",
       "  'init_flux': 0.11855014025239094},\n",
       " 'DM_3hanthrn_c': {'KO_flux': 0.0005947081372141838,\n",
       "  'init_flux': 0.0005947081372141838},\n",
       " 'DM_3hbcoa__R_m': {'KO_flux': 0.33952614094596356,\n",
       "  'init_flux': 0.3464476843364537},\n",
       " 'DM_3hibutcoa_m': {'KO_flux': 0.0010756943374872208,\n",
       "  'init_flux': 0.0010756943374872208},\n",
       " 'DM_3hmp_m': {'KO_flux': 0.0010756943374872208,\n",
       "  'init_flux': 0.0010756943374872208},\n",
       " 'DM_3hpcoa_c': {'KO_flux': 0, 'init_flux': 0},\n",
       " 'DM_3hpp_c': {'KO_flux': 0, 'init_flux': 0},\n",
       " 'DM_3hxkynam_c': {'KO_flux': 0.0005947081372141838,\n",
       "  'init_flux': 0.0005947081372141838},\n",
       " 'DM_3m4hpga_c': {'KO_flux': 0.005120353191159666,\n",
       "  'init_flux': 0.005120353191159666},\n",
       " 'DM_3mlda_c': {'KO_flux': 0, 'init_flux': 0},\n",
       " 'DM_3mlda_e': {'KO_flux': 0, 'init_flux': 0},\n",
       " 'DM_3mob_c': {'KO_flux': 0.0010756943374872208,\n",
       "  'init_flux': 0.0010756943374872208},\n",
       " 'DM_3mob_m': {'KO_flux': 0.0010756943374872208,\n",
       "  'init_flux': 0.0010756943374872205},\n",
       " 'DM_3mop_c': {'KO_flux': 0.0024393098428845406,\n",
       "  'init_flux': 0.0024393098428845406},\n",
       " 'DM_3mop_m': {'KO_flux': 0.0024393098428845406,\n",
       "  'init_flux': 0.0024393098428845406},\n",
       " 'DM_3mox4hoxm_c': {'KO_flux': 0.005120353191159666,\n",
       "  'init_flux': 0.005120353191159666},\n",
       " 'DM_3mox4hpac_c': {'KO_flux': 0.005120353191159666,\n",
       "  'init_flux': 0.005120353191159666},\n",
       " 'DM_3moxtyr_c': {'KO_flux': 0.005120353191159666,\n",
       "  'init_flux': 0.005120353191159666},\n",
       " 'DM_3sala_c': {'KO_flux': 0, 'init_flux': 0},\n",
       " 'DM_3sala_m': {'KO_flux': 0, 'init_flux': 0},\n",
       " 'DM_3snpyr_c': {'KO_flux': 0, 'init_flux': 0},\n",
       " 'DM_3snpyr_m': {'KO_flux': 0, 'init_flux': 0},\n",
       " 'DM_42A3HP24DB_c': {'KO_flux': 0.0005947081372141838,\n",
       "  'init_flux': 0.0005947081372141838},\n",
       " 'DM_48dhoxquin_c': {'KO_flux': 0.0005947081372141838,\n",
       "  'init_flux': 0.0005947081372141838},\n",
       " 'DM_4abut_c': {'KO_flux': 0.6950502092950046,\n",
       "  'init_flux': 0.7060030256318333},\n",
       " 'DM_4abut_m': {'KO_flux': 0.695050213893407, 'init_flux': 0.7060029850588923},\n",
       " 'DM_4hbz_m': {'KO_flux': 0, 'init_flux': 0},\n",
       " 'DM_4hbzcoa_m': {'KO_flux': 0, 'init_flux': 0},\n",
       " 'DM_4hdebrisoquine_c': {'KO_flux': 0, 'init_flux': 0},\n",
       " 'DM_4hdebrisoquine_e': {'KO_flux': 0, 'init_flux': 0},\n",
       " 'DM_4hglusa_m': {'KO_flux': 0, 'init_flux': 0},\n",
       " 'DM_4hoxpacd_c': {'KO_flux': 0.005120353191159666,\n",
       "  'init_flux': 0.005120353191159666},\n",
       " 'DM_4hphac_c': {'KO_flux': 0.005120353191159666,\n",
       "  'init_flux': 0.005120353191159666},\n",
       " 'DM_4mop_c': {'KO_flux': 0.0012881513684988022,\n",
       "  'init_flux': 0.0012881513684988022},\n",
       " 'DM_4mop_m': {'KO_flux': 0.0012881513684988022,\n",
       "  'init_flux': 0.0012881513684988022},\n",
       " 'DM_4mtolbutamide_c': {'KO_flux': 0, 'init_flux': 0},\n",
       " 'DM_4mtolbutamide_e': {'KO_flux': 0, 'init_flux': 0},\n",
       " 'DM_4nph_c': {'KO_flux': 0, 'init_flux': 0},\n",
       " 'DM_4nph_e': {'KO_flux': 0, 'init_flux': 0},\n",
       " 'DM_4nphsf_c': {'KO_flux': 0, 'init_flux': 0},\n",
       " 'DM_4nphsf_e': {'KO_flux': 0, 'init_flux': 0},\n",
       " 'DM_4pyrdx_c': {'KO_flux': 0, 'init_flux': 0},\n",
       " 'DM_4pyrdx_e': {'KO_flux': 0, 'init_flux': 0},\n",
       " 'DM_5adtststerone_c': {'KO_flux': 0, 'init_flux': 0},\n",
       " 'DM_5adtststerone_e': {'KO_flux': 0, 'init_flux': 0},\n",
       " 'DM_5adtststerone_r': {'KO_flux': 0, 'init_flux': 0},\n",
       " 'DM_5adtststeroneglc_c': {'KO_flux': 0, 'init_flux': 0},\n",
       " 'DM_5adtststeroneglc_e': {'KO_flux': 0, 'init_flux': 0},\n",
       " 'DM_5adtststeroneglc_r': {'KO_flux': 0, 'init_flux': 0},\n",
       " 'DM_5adtststerones_c': {'KO_flux': 0, 'init_flux': 0},\n",
       " 'DM_5adtststerones_e': {'KO_flux': 0, 'init_flux': 0},\n",
       " 'DM_5aop_c': {'KO_flux': 0.6327092684805393, 'init_flux': 0.6314267895650119},\n",
       " 'DM_5aop_m': {'KO_flux': 0.632709265453741, 'init_flux': 0.6314267895650119},\n",
       " 'DM_5dhf_c': {'KO_flux': 0, 'init_flux': 0},\n",
       " 'DM_5dhf_l': {'KO_flux': 0, 'init_flux': 0},\n",
       " 'DM_5fthf_c': {'KO_flux': 0, 'init_flux': 0},\n",
       " 'DM_5fthf_e': {'KO_flux': 0, 'init_flux': 0},\n",
       " 'DM_L2aadp_c': {'KO_flux': 0.0013169089797884226,\n",
       "  'init_flux': 0.0013169089797884226},\n",
       " 'DM_L2aadp_m': {'KO_flux': 0.0013169089797884226,\n",
       "  'init_flux': 0.0013169089797884226},\n",
       " 'DM_Lcyst_c': {'KO_flux': 0, 'init_flux': 0},\n",
       " 'DM_Lpipecol_x': {'KO_flux': 0.0013169089797884226,\n",
       "  'init_flux': 0.0013169089797884226},\n",
       " 'DM_acald_c': {'KO_flux': 1.01023111566022, 'init_flux': 1.0350041119381785},\n",
       " 'DM_acald_x': {'KO_flux': 1.0102311354130507,\n",
       "  'init_flux': 1.0350041337096936},\n",
       " 'DM_accoa_m': {'KO_flux': 0.4578458529431373, 'init_flux': 0.467179465948859},\n",
       " 'DM_adn_l': {'KO_flux': 0.19466565556022183,\n",
       "  'init_flux': 0.20644968911074102},\n",
       " 'DM_adp_c': {'KO_flux': 0.18979901281616476,\n",
       "  'init_flux': 0.20128844469909374},\n",
       " 'DM_adrnl_c': {'KO_flux': 0.005120353191159666,\n",
       "  'init_flux': 0.0051203531911596665},\n",
       " 'DM_ahcys_c': {'KO_flux': 0, 'init_flux': 0},\n",
       " 'DM_akg_c': {'KO_flux': 0.743666505467392, 'init_flux': 0.7561715430114938},\n",
       " 'DM_akg_m': {'KO_flux': 0.743666548281908, 'init_flux': 0.7561715552583286},\n",
       " 'DM_amet_c': {'KO_flux': 0, 'init_flux': 0},\n",
       " 'DM_asp__L_c': {'KO_flux': 1.0397726762614459,\n",
       "  'init_flux': 1.0662245072890078},\n",
       " 'DM_asp__L_m': {'KO_flux': 1.0397726282247495,\n",
       "  'init_flux': 1.0662245482672026},\n",
       " 'DM_atp_c': {'KO_flux': 0.18745580792892713,\n",
       "  'init_flux': 0.19880340463504043},\n",
       " 'DM_b2coa_m': {'KO_flux': 0.33952613215688876,\n",
       "  'init_flux': 0.34644768259022385},\n",
       " 'DM_bamppald_c': {'KO_flux': 0.3236532327706969,\n",
       "  'init_flux': 0.3424975252588984},\n",
       " 'DM_cmusa_c': {'KO_flux': 0.0005947081372141838,\n",
       "  'init_flux': 0.0005947081372141838},\n",
       " 'DM_co2_c': {'KO_flux': 5.3056629011407495, 'init_flux': 5.369791323784739},\n",
       " 'DM_co2_m': {'KO_flux': 5.305662917167518, 'init_flux': 5.369791084434837},\n",
       " 'DM_coa_c': {'KO_flux': 0.6209518607811007, 'init_flux': 0.6362651799807565},\n",
       " 'DM_coa_m': {'KO_flux': 0.620951839722693, 'init_flux': 0.6362651844929235},\n",
       " 'DM_coucoa_m': {'KO_flux': 0, 'init_flux': 0},\n",
       " 'DM_dopa_c': {'KO_flux': 0.005120353191159666,\n",
       "  'init_flux': 0.005120353191159666},\n",
       " 'DM_drib_c': {'KO_flux': 0.5031597317930614, 'init_flux': 0.5158961375709623},\n",
       " 'DM_e4hglu_m': {'KO_flux': 0, 'init_flux': 0},\n",
       " 'DM_glu__L_c': {'KO_flux': 0.6950501726444007,\n",
       "  'init_flux': 0.7060030018910766},\n",
       " 'DM_glu__L_m': {'KO_flux': 0.6950501501560211,\n",
       "  'init_flux': 0.7060030056163669},\n",
       " 'DM_glutcoa_m': {'KO_flux': 0.0019116171170026077,\n",
       "  'init_flux': 0.0019116171170026064},\n",
       " 'DM_h2o2_c': {'KO_flux': 6.273545274394564, 'init_flux': 6.43544195429422},\n",
       " 'DM_h2o_c': {'KO_flux': 7.21016713231802, 'init_flux': 7.4049820585707264},\n",
       " 'DM_h2o_l': {'KO_flux': 7.210167117649689, 'init_flux': 7.4049820585707264},\n",
       " 'DM_h2o_m': {'KO_flux': 7.2101671390701085, 'init_flux': 7.4049820585707264},\n",
       " 'DM_hLkynr_c': {'KO_flux': 0.0005947081372141838,\n",
       "  'init_flux': 0.0005947081372141838},\n",
       " 'DM_h_c': {'KO_flux': 1000.0, 'init_flux': 1000.0},\n",
       " 'DM_h_e': {'KO_flux': 1000.0, 'init_flux': 1000.0},\n",
       " 'DM_h_m': {'KO_flux': 1000.0, 'init_flux': 1000.0},\n",
       " 'DM_h_x': {'KO_flux': 1000.0, 'init_flux': 1000.0},\n",
       " 'DM_hco3_c': {'KO_flux': 5.305662789299386, 'init_flux': 5.3697912848018445},\n",
       " 'DM_hco3_e': {'KO_flux': 5.305662806276036, 'init_flux': 5.369791215973157},\n",
       " 'DM_hgentis_c': {'KO_flux': 0.005120353191159666,\n",
       "  'init_flux': 0.005120353074744344},\n",
       " 'DM_homoval_c': {'KO_flux': 0.005120352958329022,\n",
       "  'init_flux': 0.005120353191159666},\n",
       " 'DM_hyptaur_c': {'KO_flux': 0, 'init_flux': 0},\n",
       " 'DM_mma_c': {'KO_flux': 0.005120353191159666,\n",
       "  'init_flux': 0.005120353191159666},\n",
       " 'DM_msa_c': {'KO_flux': 0, 'init_flux': 0},\n",
       " 'DM_na1_c': {'KO_flux': 1.0, 'init_flux': 0.99999999278225},\n",
       " 'DM_na1_e': {'KO_flux': 0.9999999925494194, 'init_flux': 0.9999999995343387},\n",
       " 'DM_nad_c': {'KO_flux': 0.0005947081006039186,\n",
       "  'init_flux': 0.0005947081372141838},\n",
       " 'DM_nad_m': {'KO_flux': 0, 'init_flux': 0},\n",
       " 'DM_nad_x': {'KO_flux': 0.0005947086428932446,\n",
       "  'init_flux': 0.0005947043246123923},\n",
       " 'DM_nadh_c': {'KO_flux': 0.0005947079916950532,\n",
       "  'init_flux': 0.0005947076715528965},\n",
       " 'DM_nadh_m': {'KO_flux': 0, 'init_flux': 0},\n",
       " 'DM_nadh_x': {'KO_flux': 0.0005947079916950532,\n",
       "  'init_flux': 0.0005947081372141838},\n",
       " 'DM_nadp_c': {'KO_flux': 0.0005947081917622235,\n",
       "  'init_flux': 0.0005947075837564591},\n",
       " 'DM_nadp_m': {'KO_flux': 0, 'init_flux': 0},\n",
       " 'DM_nadph_c': {'KO_flux': 0.00059470534324646,\n",
       "  'init_flux': 0.000594709999859333},\n",
       " 'DM_nadph_m': {'KO_flux': 0, 'init_flux': 0},\n",
       " 'DM_nh4_c': {'KO_flux': 1000.0, 'init_flux': 1000.0},\n",
       " 'DM_nrpphr_c': {'KO_flux': 0.005120353191159666,\n",
       "  'init_flux': 0.005120353307574987},\n",
       " 'DM_o2_c': {'KO_flux': 999.9902513648849, 'init_flux': 999.9902513709385},\n",
       " 'DM_o2_m': {'KO_flux': 999.9902513594134, 'init_flux': 999.99025137024},\n",
       " 'DM_oh1_c': {'KO_flux': 0, 'init_flux': 0},\n",
       " 'DM_oh1_e': {'KO_flux': 0, 'init_flux': 0},\n",
       " 'DM_pap_c': {'KO_flux': 0.1851697671227157, 'init_flux': 0.1963789735455066},\n",
       " 'DM_paps_c': {'KO_flux': 0, 'init_flux': 0},\n",
       " 'DM_pi_c': {'KO_flux': 999.9861559654531, 'init_flux': 999.9861559517867},\n",
       " 'DM_pi_l': {'KO_flux': 14.843211917069011, 'init_flux': 15.218936220451727},\n",
       " 'DM_pyr_c': {'KO_flux': 1.2547534976360089, 'init_flux': 1.2793124446179718},\n",
       " 'DM_pyr_m': {'KO_flux': 1.2547535171033815, 'init_flux': 1.2793124707208805},\n",
       " 'DM_so3_c': {'KO_flux': 0, 'init_flux': 0},\n",
       " 'DM_so3_m': {'KO_flux': 0, 'init_flux': 0},\n",
       " 'DM_sphgn_c': {'KO_flux': 0.1139887489641057,\n",
       "  'init_flux': 0.11631334537168972}}"
      ]
     },
     "execution_count": 15,
     "metadata": {},
     "output_type": "execute_result"
    }
   ],
   "source": [
    "combined_dic"
   ]
  },
  {
   "cell_type": "code",
   "execution_count": 16,
   "metadata": {
    "collapsed": true
   },
   "outputs": [],
   "source": [
    "G1 = {}\n",
    "G2 = {}\n",
    "G3 = {}\n",
    "\n",
    "for rxn, flux in combined_dic.iteritems():\n",
    "    # if both init and final are 0, stored into group 1\n",
    "    if flux['init_flux'] == 0 and flux['KO_flux'] == 0:\n",
    "        G1[rxn] = {'init_flux': flux['init_flux'], 'KO_flux': flux['KO_flux']}\n",
    "        \n",
    "    # if both init and final are non-zero, stored into group 1\n",
    "    if flux['init_flux'] != 0 and flux['KO_flux'] != 0:\n",
    "        G1[rxn] = {'init_flux': flux['init_flux'], 'KO_flux': flux['KO_flux']}\n",
    "        \n",
    "    # if init is 0 and final is non-zero, stored into group 2\n",
    "    if flux['init_flux'] == 0 and flux['KO_flux'] != 0:\n",
    "        G2[rxn] = {'init_flux': flux['init_flux'], 'KO_flux': flux['KO_flux']}\n",
    "        \n",
    "    # if init is non-zero and final is 0, stored into group 3\n",
    "    if flux['init_flux'] != 0 and flux['KO_flux'] == 0:\n",
    "        G3[rxn] = {'init_flux': flux['init_flux'], 'KO_flux': flux['KO_flux']}"
   ]
  },
  {
   "cell_type": "markdown",
   "metadata": {},
   "source": [
    "### G1"
   ]
  },
  {
   "cell_type": "code",
   "execution_count": 17,
   "metadata": {
    "collapsed": true
   },
   "outputs": [],
   "source": [
    "# Execute divisions using this function\n",
    "# This catches divisions of denominator 0 and just outputs 0\n",
    "def safe_div(x,y):\n",
    "    if y == 0:\n",
    "        return 0\n",
    "    return x / y"
   ]
  },
  {
   "cell_type": "code",
   "execution_count": 18,
   "metadata": {
    "collapsed": true
   },
   "outputs": [],
   "source": [
    "# This is the first step of normalization\n",
    "# This is the flux of KO - initial flux\n",
    "G1_output_norm_dic = {a: {'init_flux': b['init_flux'], 'KO_flux': b['KO_flux'], 'normalized_flux':\n",
    "                       safe_div((b['KO_flux']-b['init_flux']),b['init_flux']), \n",
    "                          'absolute_normalized_flux': abs(safe_div((b['KO_flux']-b['init_flux']),b['init_flux']))} for a,b in G1.iteritems()}"
   ]
  },
  {
   "cell_type": "code",
   "execution_count": 19,
   "metadata": {
    "collapsed": true
   },
   "outputs": [],
   "source": [
    "# Ranks based on criteria by creating an ordered dictionary\n",
    "# G1 -- normalized flux ranking (ratio)\n",
    "import operator\n",
    "import collections\n",
    "\n",
    "\n",
    "G1_descending = collections.OrderedDict(sorted(G1_output_norm_dic.items(),\n",
    "                                               key=lambda kv: kv[1]['absolute_normalized_flux'], reverse=True))\n"
   ]
  },
  {
   "cell_type": "code",
   "execution_count": 20,
   "metadata": {
    "collapsed": false
   },
   "outputs": [],
   "source": [
    "# writing KO_maxmet_dict as a .csv file\n",
    "\n",
    "metabolite_demand_dic = [0] * len(G1_descending)\n",
    "init_flux_out_dic = [0] * len(G1_descending)\n",
    "KO_flux_out_dic = [0] * len(G1_descending)\n",
    "normalized_flux_out_dic = [0] * len(G1_descending)\n",
    "absolute_normalized_flux_out_dic = [0] * len(G1_descending)\n",
    "\n",
    "metabolite_demand_count = 0\n",
    "init_flux_count = 0\n",
    "KO_flux_count = 0\n",
    "normalized_flux_count = 0\n",
    "absolute_normalized_flux_count = 0\n",
    "\n",
    "for key, value in G1_descending.iteritems():\n",
    "    metabolite_demand_dic[metabolite_demand_count] = key\n",
    "    metabolite_demand_count = metabolite_demand_count + 1\n",
    "    \n",
    "for a, b in G1_descending.iteritems():\n",
    "    init_flux_out_dic[init_flux_count] = b['init_flux']\n",
    "    init_flux_count = init_flux_count + 1\n",
    "    \n",
    "for c, d in G1_descending.iteritems():\n",
    "    KO_flux_out_dic[KO_flux_count] = d['KO_flux']\n",
    "    KO_flux_count = KO_flux_count + 1\n",
    "    \n",
    "\n",
    "for e, f in G1_descending.iteritems():\n",
    "    normalized_flux_out_dic[normalized_flux_count] = f['normalized_flux']\n",
    "    normalized_flux_count = normalized_flux_count + 1  \n",
    "    \n",
    "for g, h in G1_descending.iteritems():\n",
    "    absolute_normalized_flux_out_dic[absolute_normalized_flux_count] = h['absolute_normalized_flux']\n",
    "    absolute_normalized_flux_count = absolute_normalized_flux_count + 1  \n",
    "    \n",
    "# this saves the array into a .csv file as named\n",
    "\n",
    "import csv\n",
    "from itertools import izip\n",
    "\n",
    "with open(str(gene_name)+'_G1_ranked_fluxes.csv', 'wb') as f:\n",
    "    writer = csv.writer(f)\n",
    "    writer.writerow(['metabolite_demand', 'init_flux', 'KO_flux', 'normalized_flux', 'absolute_normalized_flux'])\n",
    "    writer.writerows(izip(metabolite_demand_dic, init_flux_out_dic, KO_flux_out_dic, normalized_flux_out_dic, absolute_normalized_flux_out_dic))"
   ]
  },
  {
   "cell_type": "markdown",
   "metadata": {},
   "source": [
    "### G2"
   ]
  },
  {
   "cell_type": "code",
   "execution_count": 21,
   "metadata": {
    "collapsed": true
   },
   "outputs": [],
   "source": [
    "# Ranks based on criteria by creating an ordered dictionary\n",
    "# G2 -- ranked based on final KO flux value\n",
    "\n",
    "G2_descending = collections.OrderedDict(sorted(G2.items(),key=lambda kv: kv[1]['KO_flux'], reverse=True))"
   ]
  },
  {
   "cell_type": "code",
   "execution_count": 22,
   "metadata": {
    "collapsed": false
   },
   "outputs": [
    {
     "data": {
      "text/plain": [
       "OrderedDict()"
      ]
     },
     "execution_count": 22,
     "metadata": {},
     "output_type": "execute_result"
    }
   ],
   "source": [
    "G2_descending"
   ]
  },
  {
   "cell_type": "code",
   "execution_count": 23,
   "metadata": {
    "collapsed": false
   },
   "outputs": [],
   "source": [
    "# writing ARGSSKO_maxmet_dict as a .csv file\n",
    "\n",
    "metabolite_demand_dic = [0] * len(G2_descending)\n",
    "init_flux_out_dic = [0] * len(G2_descending)\n",
    "KO_flux_out_dic = [0] * len(G2_descending)\n",
    "\n",
    "\n",
    "metabolite_demand_count = 0\n",
    "init_flux_count = 0\n",
    "KO_flux_count = 0\n",
    "\n",
    "\n",
    "for key, value in G2_descending.iteritems():\n",
    "    metabolite_demand_dic[metabolite_demand_count] = key\n",
    "    metabolite_demand_count = metabolite_demand_count + 1\n",
    "    \n",
    "for a, b in G2_descending.iteritems():\n",
    "    init_flux_out_dic[init_flux_count] = b['init_flux']\n",
    "    init_flux_count = init_flux_count + 1\n",
    "    \n",
    "for c, d in G2_descending.iteritems():\n",
    "    KO_flux_out_dic[KO_flux_count] = d['KO_flux']\n",
    "    KO_flux_count = KO_flux_count + 1"
   ]
  },
  {
   "cell_type": "code",
   "execution_count": 24,
   "metadata": {
    "collapsed": true
   },
   "outputs": [],
   "source": [
    "# this saves the array into a .csv file as named\n",
    "\n",
    "import csv\n",
    "from itertools import izip\n",
    "\n",
    "with open(str(gene_name)+'_G2_ranked_fluxes.csv', 'wb') as f:\n",
    "    writer = csv.writer(f)\n",
    "    writer.writerow(['metabolite_demand', 'init_flux', 'KO_flux'])\n",
    "    writer.writerows(izip(metabolite_demand_dic, init_flux_out_dic, KO_flux_out_dic, normalized_flux_out_dic, absolute_normalized_flux_out_dic))"
   ]
  },
  {
   "cell_type": "markdown",
   "metadata": {},
   "source": [
    "### G3"
   ]
  },
  {
   "cell_type": "code",
   "execution_count": 25,
   "metadata": {
    "collapsed": true
   },
   "outputs": [],
   "source": [
    "# Ranks based on criteria by creating an ordered dictionary\n",
    "# G3 -- ranked based on initial flux value\n",
    "\n",
    "G3_descending = collections.OrderedDict(sorted(G3.items(),key=lambda kv: kv[1]['init_flux'], reverse=True))"
   ]
  },
  {
   "cell_type": "code",
   "execution_count": 26,
   "metadata": {
    "collapsed": false
   },
   "outputs": [],
   "source": [
    "# writing ARGSSKO_maxmet_dict as a .csv file\n",
    "\n",
    "metabolite_demand_dic = [0] * len(G3_descending)\n",
    "init_flux_out_dic = [0] * len(G3_descending)\n",
    "KO_flux_out_dic = [0] * len(G3_descending)\n",
    "\n",
    "\n",
    "metabolite_demand_count = 0\n",
    "init_flux_count = 0\n",
    "KO_flux_count = 0\n",
    "\n",
    "\n",
    "for key, value in G3_descending.iteritems():\n",
    "    metabolite_demand_dic[metabolite_demand_count] = key\n",
    "    metabolite_demand_count = metabolite_demand_count + 1\n",
    "    \n",
    "for a, b in G3_descending.iteritems():\n",
    "    init_flux_out_dic[init_flux_count] = b['init_flux']\n",
    "    init_flux_count = init_flux_count + 1\n",
    "    \n",
    "for c, d in G3_descending.iteritems():\n",
    "    KO_flux_out_dic[KO_flux_count] = d['KO_flux']\n",
    "    KO_flux_count = KO_flux_count + 1\n",
    "    "
   ]
  },
  {
   "cell_type": "code",
   "execution_count": 27,
   "metadata": {
    "collapsed": true
   },
   "outputs": [],
   "source": [
    "# this saves the array into a .csv file as named\n",
    "\n",
    "import csv\n",
    "from itertools import izip\n",
    "\n",
    "with open(str(gene_name)+'_G3_ranked_fluxes.csv', 'wb') as f:\n",
    "    writer = csv.writer(f)\n",
    "    writer.writerow(['metabolite_demand', 'init_flux', 'KO_flux'])\n",
    "    writer.writerows(izip(metabolite_demand_dic, init_flux_out_dic, KO_flux_out_dic, normalized_flux_out_dic, absolute_normalized_flux_out_dic))"
   ]
  },
  {
   "cell_type": "code",
   "execution_count": null,
   "metadata": {
    "collapsed": true
   },
   "outputs": [],
   "source": []
  },
  {
   "cell_type": "code",
   "execution_count": null,
   "metadata": {
    "collapsed": true
   },
   "outputs": [],
   "source": []
  },
  {
   "cell_type": "code",
   "execution_count": null,
   "metadata": {
    "collapsed": true
   },
   "outputs": [],
   "source": []
  },
  {
   "cell_type": "code",
   "execution_count": 45,
   "metadata": {
    "collapsed": true
   },
   "outputs": [],
   "source": [
    "v = 0.000000000000000000005"
   ]
  },
  {
   "cell_type": "code",
   "execution_count": 65,
   "metadata": {
    "collapsed": false
   },
   "outputs": [],
   "source": [
    "v=0.0000049"
   ]
  },
  {
   "cell_type": "code",
   "execution_count": 100,
   "metadata": {
    "collapsed": true
   },
   "outputs": [],
   "source": [
    "v=0.00001"
   ]
  },
  {
   "cell_type": "code",
   "execution_count": 101,
   "metadata": {
    "collapsed": false
   },
   "outputs": [
    {
     "data": {
      "text/plain": [
       "1e-05"
      ]
     },
     "execution_count": 101,
     "metadata": {},
     "output_type": "execute_result"
    }
   ],
   "source": [
    "v"
   ]
  },
  {
   "cell_type": "code",
   "execution_count": 73,
   "metadata": {
    "collapsed": false
   },
   "outputs": [
    {
     "data": {
      "text/plain": [
       "2e-05"
      ]
     },
     "execution_count": 73,
     "metadata": {},
     "output_type": "execute_result"
    }
   ],
   "source": [
    "round(v,5)"
   ]
  },
  {
   "cell_type": "code",
   "execution_count": null,
   "metadata": {
    "collapsed": true
   },
   "outputs": [],
   "source": []
  }
 ],
 "metadata": {
  "kernelspec": {
   "display_name": "Python 2",
   "language": "python",
   "name": "python2"
  },
  "language_info": {
   "codemirror_mode": {
    "name": "ipython",
    "version": 2
   },
   "file_extension": ".py",
   "mimetype": "text/x-python",
   "name": "python",
   "nbconvert_exporter": "python",
   "pygments_lexer": "ipython2",
   "version": "2.7.11"
  }
 },
 "nbformat": 4,
 "nbformat_minor": 0
}
