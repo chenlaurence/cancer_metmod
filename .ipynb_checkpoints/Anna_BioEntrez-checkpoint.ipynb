{
 "cells": [
  {
   "cell_type": "code",
   "execution_count": 5,
   "metadata": {
    "collapsed": false
   },
   "outputs": [
    {
     "name": "stdout",
     "output_type": "stream",
     "text": [
      "Enter a Gene ID:'445'\n",
      "Name:\n"
     ]
    },
    {
     "data": {
      "text/plain": [
       "'ASS1'"
      ]
     },
     "execution_count": 5,
     "metadata": {},
     "output_type": "execute_result"
    }
   ],
   "source": [
    "from Bio import Entrez\n",
    "Entrez.email=\"asleung@ucsd.edu\"\n",
    "geneid=input('Enter a Gene ID:')\n",
    "handle = Entrez.efetch(db=\"gene\", id=geneid ,rettype=\"fasta\", retmode=\"xml\")\n",
    "records=Entrez.read(handle)\n",
    "#records[0].keys()\n",
    "print(\"Name:\")\n",
    "records[0][\"Entrezgene_gene\"][\"Gene-ref\"][\"Gene-ref_locus\"]"
   ]
  },
  {
   "cell_type": "code",
   "execution_count": 6,
   "metadata": {
    "collapsed": false
   },
   "outputs": [
    {
     "name": "stdout",
     "output_type": "stream",
     "text": [
      "Location:\n"
     ]
    },
    {
     "data": {
      "text/plain": [
       "'9q34.1'"
      ]
     },
     "execution_count": 6,
     "metadata": {},
     "output_type": "execute_result"
    }
   ],
   "source": [
    "print(\"Location:\")\n",
    "records[0][\"Entrezgene_gene\"][\"Gene-ref\"][\"Gene-ref_maploc\"]"
   ]
  },
  {
   "cell_type": "code",
   "execution_count": 7,
   "metadata": {
    "collapsed": false
   },
   "outputs": [
    {
     "name": "stdout",
     "output_type": "stream",
     "text": [
      "Synonyms:\n"
     ]
    },
    {
     "data": {
      "text/plain": [
       "['ASS', 'CTLN1']"
      ]
     },
     "execution_count": 7,
     "metadata": {},
     "output_type": "execute_result"
    }
   ],
   "source": [
    "print (\"Synonyms:\")\n",
    "records[0][\"Entrezgene_gene\"][\"Gene-ref\"][\"Gene-ref_syn\"]"
   ]
  },
  {
   "cell_type": "code",
   "execution_count": 8,
   "metadata": {
    "collapsed": false
   },
   "outputs": [
    {
     "name": "stdout",
     "output_type": "stream",
     "text": [
      "ID: CAA31017.1\n",
      "Name: CAA31017\n",
      "Description: pre-interleukin-1 alpha [Bos taurus].\n",
      "Number of features: 9\n",
      "/sequence_version=1\n",
      "/source=Bos taurus (cattle)\n",
      "/taxonomy=['Eukaryota', 'Metazoa', 'Chordata', 'Craniata', 'Vertebrata', 'Euteleostomi', 'Mammalia', 'Eutheria', 'Laurasiatheria', 'Cetartiodactyla', 'Ruminantia', 'Pecora', 'Bovidae', 'Bovinae', 'Bos']\n",
      "/data_file_division=MAM\n",
      "/keywords=['']\n",
      "/references=[Reference(title='The nucleotide sequence for the cDNA of bovine interleukin-1 alpha', ...), Reference(title='Direct Submission', ...)]\n",
      "/accessions=['CAA31017']\n",
      "/db_source=embl accession X12497.1\n",
      "/date=18-APR-2005\n",
      "/organism=Bos taurus\n",
      "/gi=445\n",
      "Seq('MAKVPDLFEDLKNCYSENEDYSSEIDHLSLNQKSFYDASYEPLREDQMNKFMSL...LEK', IUPACProtein())\n",
      "MAKVPDLFEDLKNCYSENEDYSSEIDHLSLNQKSFYDASYEPLREDQMNKFMSLDTSETSKTSKLSFKENVVMVAASGKILKKRRLSLNQFITDDDLEAIANNTEEEIIKPRSAHYSFQSNVKYNFMRVIHQECILNDALNQSIIRDMSGPYLTATTLNNLEEAVKFDMVAYVSEEDSQLPVTLRISKTQLFVSAQNEDEPVLLKEMPETPKIIKDETNLLFFWEKHGSMDYFKSVAHPKLFIATKQEKLVHMASGPPSITDFQILEK\n"
     ]
    }
   ],
   "source": [
    "from Bio import SeqIO\n",
    "from Bio import Entrez\n",
    "Entrez.email='asdf@ucsd.edu'\n",
    "temp = Entrez.efetch(db=\"nucleotide\",rettype=\"gb\",id=geneid)\n",
    "out = open(\"geneid.fasta\",'w')\n",
    "gbseq = SeqIO.read(temp, \"genbank\")\n",
    "SeqIO.write(gbseq,out,\"fasta\")\n",
    "temp.close()\n",
    "out.close()\n",
    "print(gbseq)\n",
    "print(gbseq.seq)"
   ]
  },
  {
   "cell_type": "code",
   "execution_count": null,
   "metadata": {
    "collapsed": true
   },
   "outputs": [],
   "source": []
  }
 ],
 "metadata": {
  "kernelspec": {
   "display_name": "Python 2",
   "language": "python",
   "name": "python2"
  },
  "language_info": {
   "codemirror_mode": {
    "name": "ipython",
    "version": 2
   },
   "file_extension": ".py",
   "mimetype": "text/x-python",
   "name": "python",
   "nbconvert_exporter": "python",
   "pygments_lexer": "ipython2",
   "version": "2.7.11"
  }
 },
 "nbformat": 4,
 "nbformat_minor": 0
}
