{
 "cells": [
  {
   "cell_type": "code",
   "execution_count": null,
   "metadata": {
    "collapsed": true
   },
   "outputs": [],
   "source": []
  },
  {
   "cell_type": "markdown",
   "metadata": {},
   "source": [
    "### Mutation Assessment Tools"
   ]
  },
  {
   "cell_type": "markdown",
   "metadata": {},
   "source": [
    "<table bgcolor=\"white\" border=\"1\" cellspacing=\"0\" style=\"text-align:right;\" class=\"padded-table\">\n",
    "\n",
    " <tbody><tr height=\"30\" style=\"text-align:center\">\n",
    "  <th rowspan=\"2\" width=\"80\">Prediction tools</th>\n",
    "  <th rowspan=\"2\" width=\"90\">Score thresholds</th>\n",
    "  <th colspan=\"5\">Human dataset</th>\n",
    "  <th rowspan=\"2\">References</th>\n",
    " </tr>\n",
    "\n",
    " <tr height=\"40\">\n",
    "\n",
    "  <td width=\"70\">Sensitivity</td>\n",
    "  <td width=\"70\">Specificity</td>\n",
    "  <td width=\"70\"><b>Accuracy*</b></td>\n",
    "    <td width=\"70\"><b>Balanced accuracy**</b></td>\n",
    "  <td width=\"70\">No prediction</td>\n",
    "\n",
    "\n",
    " </tr>\n",
    "\n",
    " <tr height=\"40\">\n",
    "  <td style=\"text-align:center\"><b>PROVEAN</b></td>\n",
    "  <td>-4.100<br><span style=\"font-size: 7pt\">(default)</span> -2.500<br>-1.300</td>\n",
    "\n",
    "  <td>56.17<br>79.76<br>90.28</td>\n",
    "  <td>90.34<br>78.63<br>61.65</td>\n",
    "  <td>78.00<br>79.04<br>71.99</td>\n",
    "  <td>73.25<br><b>79.19</b><br>75.96</td>\n",
    "  <td>0</td>\n",
    "  \n",
    "  <td><a href=\"http://dx.plos.org/10.1371/journal.pone.0046688\" target=\"_blank\">Choi et al., 2012</a>; <a target=\"_blank\" href=\"http://provean.jcvi.org\">web</a></td>\n",
    " </tr>\n",
    "\n",
    " <tr height=\"40\">\n",
    "  <td style=\"text-align:center\"><b>Mutation Assessor</b></td>\n",
    "  <td>0.800<br>1.90</td>\n",
    "\n",
    "  <td>96.54<br>85.29</td>\n",
    "  <td>40.59<br>71.02</td>\n",
    "  <td>60.90<br>76.20</td>\n",
    "    <td>68.57<br><b>78.15</b></td>\n",
    "  <td>317<br>(0.55%)</td>\n",
    "\n",
    "  <td><a target=\"_blank\" href=\"http://www.ncbi.nlm.nih.gov/pubmed/21727090\">Reva et al., 2011</a>; <a target=\"_blank\" href=\"http://mutationassessor.org\">web</a></td>\n",
    " </tr>\n",
    "\n",
    " <tr height=\"40\">\n",
    "  <td style=\"text-align:center\"><b>SIFT</b></td>\n",
    "  <td>0.050</td>\n",
    "\n",
    "  <td>85.03</td>\n",
    "  <td>68.95</td>\n",
    "  <td>74.77</td>\n",
    "    <td><b>76.99</b></td>\n",
    "  <td>1147<br>(1.99%)</td>\n",
    "\n",
    "  <td><a target=\"_blank\" href=\"http://www.ncbi.nlm.nih.gov/pubmed/19561590\">Kumar et al., 2009</a>; <a target=\"_blank\" href=\"http://sift.jcvi.org\">web</a></td>\n",
    " </tr>\n",
    "\n",
    " <tr height=\"40\">\n",
    "  <td style=\"text-align:center\"><b>PolyPhen-2</b></td>\n",
    "  <td>0.432</td>\n",
    "\n",
    "  <td>88.68</td>\n",
    "  <td>62.45</td>\n",
    "  <td>72.00</td>\n",
    "    <td><b>75.56</b></td>\n",
    "  <td>2279<br>(3.95%)</td>\n",
    "\n",
    "  <td><a target=\"_blank\" href=\"http://www.ncbi.nlm.nih.gov/pubmed/20354512\">Adzhubei et al., 2010</a>; <a target=\"_blank\" href=\"http://genetics.bwh.harvard.edu/pph2\">web</a></td>\n",
    " </tr>\n",
    "\n",
    "<tr height=\"40\">\n",
    "  <td style=\"text-align:center\"><b>Condel web server</b></td>\n",
    "  <td>0.469</td>\n",
    "\n",
    "  <td>93.84</td>\n",
    "  <td>46.23</td>\n",
    "  <td>64.67</td>\n",
    "    <td><b>70.04</b></td>\n",
    "  <td>7194<br>(12.48%)</td>\n",
    "  \n",
    "  <td><a target=\"_blank\" href=\"http://www.ncbi.nlm.nih.gov/pubmed/21457909\">González-Pérez and López-Bigas, 2011</a>; <a target=\"_blank\" href=\"http://bg.upf.edu/condel\">web</a></td>\n",
    " </tr>\n",
    "\n",
    "</tbody></table>"
   ]
  },
  {
   "cell_type": "markdown",
   "metadata": {},
   "source": [
    "### Provean input format"
   ]
  },
  {
   "cell_type": "markdown",
   "metadata": {},
   "source": [
    "<tbody><tr class=\"tableHeader\"> \n",
    "\t\t\t<td rowspan=\"2\"><p>Type</p></td>\n",
    "\t\t\t<td colspan=\"2\"><p>Format</p></td>\n",
    "\t\t\t<td rowspan=\"2\"><p>Meaning</p></td>\n",
    "\t\t\t<td rowspan=\"2\"><p>Variant Sequence</p></td>\n",
    "\t\t</tr>\n",
    "\t\t<tr class=\"tableHeader\"> \n",
    "\t\t\t<td><p>Comma-separated values</p></td>\n",
    "\t\t\t<td><p>HGVS notation</p></td>\n",
    "\t\t</tr>\n",
    "\t\t<tr class=\"tableRowOdd\">\n",
    "\t\t\t<td><p>Single Amino Acid Substitution</p></td>\n",
    "\t\t\t<td><p>5,Q,A</p></td>\n",
    "\t\t\t<td><p>Q5A</p></td>\n",
    "\t\t\t<td><p>Q at position 5 is changed to A</p></td>\n",
    "\t\t\t<td><p>MEEPASDPSV</p></td>\n",
    "\t\t</tr>\n",
    "\t\t<tr class=\"tableRowEven\">\n",
    "\t\t\t<td rowspan=\"2\"><p>Deletion</p></td>\n",
    "\t\t\t<td><p>4,P,.</p></td>\n",
    "\t\t\t<td><p>P4<i>del</i></p></td>\n",
    "\t\t\t<td><p>P at position 4 is deleted</p></td>\n",
    "\t\t\t<td><p>MEEQSDPSV</p></td>\n",
    "\t\t</tr>\n",
    "\t\t<tr class=\"tableRowEven\">\n",
    "\t\t\t<td><p>4,PQS,.</p></td>\n",
    "\t\t\t<td><p>P4_S6<i>del</i></p></td>\n",
    "\t\t\t<td><p>A deletion of three amino acids, from P at position 4 to S at position 6</p></td>\n",
    "\t\t\t<td><p>MEEDPSV</p></td>\n",
    "\t\t</tr>\n",
    "\t\t<tr class=\"tableRowOdd\">\n",
    "\t\t\t<td rowspan=\"2\"><p>Insertion</p></td>\n",
    "\t\t\t<td><p>7,D,DVA</p></td>\n",
    "\t\t\t<td><p>D7_P8<i>ins</i>VA</p></td>\n",
    "\t\t\t<td><p>VA is inserted between positions 7 and 8</p></td>\n",
    "\t\t\t<td><p>MEEPQSDVAPSV</p></td>\n",
    "\t\t</tr>\n",
    "\t\t<tr class=\"tableRowOdd\">\n",
    "\t\t\t<td><p>6,S,SPQS<br>3,E,EPQS</p></td>\n",
    "\t\t\t<td><p>P4_S6<i>dup</i></p></td>\n",
    "\t\t\t<td><p>PQS is duplicated</p></td>\n",
    "\t\t\t<td><p>MEEPQSPQSDPSV</p></td>\n",
    "\t\t</tr>\n",
    "\t\t<tr class=\"tableRowEven\">\n",
    "\t\t\t<td rowspan=\"2\"><p>Insertion-deletion (Indel)</p></td>\n",
    "\t\t\t<td><p>7,DP,VA</p></td>\n",
    "\t\t\t<td><p>D7_P8<i>delins</i>VA</p></td>\n",
    "\t\t\t<td><p>DP is replaced by VA</p></td>\n",
    "\t\t\t<td><p>MEEPQSVASV</p></td>\n",
    "\t\t</tr>\n",
    "\t\t<tr class=\"tableRowEven\">\n",
    "\t\t\t<td><p>3,E,QS</p></td>\n",
    "\t\t\t<td><p>E3<i>delins</i>QS</p></td>\n",
    "\t\t\t<td><p>E is replaced by QS</p></td>\n",
    "\t\t\t<td><p>MEQSPQSDPSV</p></td>\n",
    "\t\t</tr>\n",
    "\t</tbody>"
   ]
  },
  {
   "cell_type": "markdown",
   "metadata": {},
   "source": [
    "## Escher Map"
   ]
  },
  {
   "cell_type": "code",
   "execution_count": null,
   "metadata": {
    "collapsed": true
   },
   "outputs": [],
   "source": [
    "import escher\n",
    "import escher.urls\n",
    "import cobra\n",
    "import cobra.test\n",
    "import json\n",
    "import os\n",
    "from IPython.display import HTML\n",
    "\n",
    "b = escher.Builder(map_json='/Users/LAURENCE/Desktop/Senior Design/RECON1.Central.json')\n",
    "b.display_in_notebook(scroll_behavior='pan')"
   ]
  },
  {
   "cell_type": "markdown",
   "metadata": {},
   "source": [
    "### load a model"
   ]
  },
  {
   "cell_type": "code",
   "execution_count": null,
   "metadata": {
    "collapsed": true
   },
   "outputs": [],
   "source": [
    "model = cobra.io.load_matlab_model('/Users/LAURENCE/Desktop/code/modelRecon2', 'modelRecon2')"
   ]
  },
  {
   "cell_type": "markdown",
   "metadata": {},
   "source": [
    "### optimize"
   ]
  },
  {
   "cell_type": "code",
   "execution_count": null,
   "metadata": {
    "collapsed": true
   },
   "outputs": [],
   "source": [
    "solution = model.optimize()\n",
    "print('Growth rate: %.2f' % solution.f)"
   ]
  },
  {
   "cell_type": "markdown",
   "metadata": {},
   "source": [
    "### load the optimized solution onto map"
   ]
  },
  {
   "cell_type": "code",
   "execution_count": null,
   "metadata": {
    "collapsed": true
   },
   "outputs": [],
   "source": [
    "b = escher.Builder(map_json='/Users/LAURENCE/Desktop/Senior Design/RECON1.Central.json',\n",
    "                   reaction_data=solution.x_dict,\n",
    "                   # color and size according to the absolute value\n",
    "                   reaction_styles=['color', 'size', 'abs', 'text'],\n",
    "                   # change the default colors\n",
    "                   reaction_scale=[{'type': 'min', 'color': 'red', 'size': 4},\n",
    "                                   {'type': 'mean', 'color': 'green', 'size': 20},\n",
    "                                   {'type': 'max', 'color': 'blue', 'size': 40}],\n",
    "                   # only show the primary metabolites\n",
    "                   hide_secondary_metabolites=True)\n",
    "b.display_in_notebook(scroll_behavior='pan')"
   ]
  },
  {
   "cell_type": "markdown",
   "metadata": {},
   "source": [
    "### deleting reaction"
   ]
  },
  {
   "cell_type": "code",
   "execution_count": null,
   "metadata": {
    "collapsed": true
   },
   "outputs": [],
   "source": [
    "model_modified = model.copy()\n",
    "# for example, delete a reaction\n",
    "model_modified.reactions.ARGSS.delete()"
   ]
  },
  {
   "cell_type": "code",
   "execution_count": null,
   "metadata": {
    "collapsed": true
   },
   "outputs": [],
   "source": [
    "b_m = escher.Builder(map_json='/Users/LAURENCE/Desktop/Senior Design/RECON1.Central.json',\n",
    "                   model=model_modified,\n",
    "                   # in the map, highlight all reactions that are missing from the model\n",
    "                   highlight_missing=True)\n",
    "b_m.display_in_notebook()"
   ]
  },
  {
   "cell_type": "code",
   "execution_count": null,
   "metadata": {
    "collapsed": true
   },
   "outputs": [],
   "source": [
    "solution_m = model_modified.optimize()\n",
    "print('Growth rate: %.2f' % solution.f)"
   ]
  }
 ],
 "metadata": {
  "kernelspec": {
   "display_name": "Python 2",
   "language": "python",
   "name": "python2"
  },
  "language_info": {
   "codemirror_mode": {
    "name": "ipython",
    "version": 2
   },
   "file_extension": ".py",
   "mimetype": "text/x-python",
   "name": "python",
   "nbconvert_exporter": "python",
   "pygments_lexer": "ipython2",
   "version": "2.7.11"
  }
 },
 "nbformat": 4,
 "nbformat_minor": 0
}
