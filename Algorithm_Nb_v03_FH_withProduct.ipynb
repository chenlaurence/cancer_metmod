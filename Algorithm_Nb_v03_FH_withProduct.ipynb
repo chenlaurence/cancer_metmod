{
 "cells": [
  {
   "cell_type": "markdown",
   "metadata": {},
   "source": [
    "# What is the gene knockout you are interested in studying?"
   ]
  },
  {
   "cell_type": "code",
   "execution_count": null,
   "metadata": {
    "collapsed": true
   },
   "outputs": [],
   "source": [
    "# This version of the algorithm uses FBA and not pFBA\n",
    "# fluxes below 10^-5 are rounded to 0 for ranking purposes"
   ]
  },
  {
   "cell_type": "code",
   "execution_count": null,
   "metadata": {
    "collapsed": false
   },
   "outputs": [],
   "source": [
    "gene_name = raw_input('Enter the name of the gene you are interested in studying as named in model RECON1:   ')"
   ]
  },
  {
   "cell_type": "code",
   "execution_count": null,
   "metadata": {
    "collapsed": false
   },
   "outputs": [],
   "source": [
    "from cobra import Reaction\n",
    "import escher\n",
    "import escher.urls\n",
    "import cobra\n",
    "import cobra.test\n",
    "import json\n",
    "import os\n",
    "import string\n",
    "from IPython.display import HTML\n",
    "from cobra import Model, Reaction, Metabolite\n",
    "from cobra.flux_analysis.parsimonious import optimize_minimal_flux\n",
    "model = cobra.io.load_matlab_model('/Users/LAURENCE/Desktop/Senior Design/RECON1', 'RECON1')"
   ]
  },
  {
   "cell_type": "markdown",
   "metadata": {},
   "source": [
    "# 1. Set up RECON1/add biomass reaction, set biomass as objective"
   ]
  },
  {
   "cell_type": "markdown",
   "metadata": {},
   "source": [
    "## Run all of this to set up RECON1"
   ]
  },
  {
   "cell_type": "code",
   "execution_count": null,
   "metadata": {
    "collapsed": false
   },
   "outputs": [],
   "source": [
    "#creat ethanalamine demand\n",
    "#metabolite is etha_c\n",
    "\n",
    "DM_etha_c = Reaction('DM_etha_c')\n",
    "DM_etha_c.name = DM_etha_c\n",
    "\n",
    "etha_c = model.metabolites.get_by_id('etha_c')\n",
    "\n",
    "DM_etha_c.add_metabolites({etha_c: -1})\n",
    "model.add_reaction(DM_etha_c)\n",
    "\n",
    "#create a transporter for this\n",
    "\n",
    "Tyr_ggnt = Reaction('Tyr_ggnt')\n",
    "Tyr_ggnt.name = Tyr_ggnt\n",
    "\n",
    "Tyr_ggn_e = model.metabolites.get_by_id('Tyr_ggn_e')\n",
    "Tyr_ggn_c = model.metabolites.get_by_id('Tyr_ggn_c')\n",
    "\n",
    "Tyr_ggnt.add_metabolites({Tyr_ggn_e: -1, Tyr_ggn_c: 1})\n",
    "model.add_reaction(Tyr_ggnt)\n",
    "\n",
    "DM_etha_c.lower_bound = -1\n",
    "Tyr_ggnt.lower_bound = -1000\n",
    "\n",
    "except_EX_names = '''DM_etha_c, EX_peplys_e, EX_Tyr_ggn_e, EX_arg__L_e, EX_asn__L_e, EX_asp__L_e, EX_chol_e, EX_cl_e, EX_glc__D_e, EX_gln__L_e, EX_gly_e, EX_h_e, EX_h2o_e, EX_ile__L_e, EX_k_e, EX_leu__L_e, EX_lys__L_e, EX_na1_e, EX_nh4_e, EX_o2_e, EX_phe__L_e, EX_pi_e, EX_pro__L_e, EX_ser__L_e, EX_thr__L_e, EX_trp__L_e, EX_tyr__L_e, EX_val__L_e'''\n",
    "except_EX_names_split = except_EX_names.split(', ')\n",
    "print except_EX_names_split\n",
    "\n",
    "# Changing all lower bounds to 0 except the given reactions above\n",
    "\n",
    "for a in model.reactions[1188:1591]:\n",
    "    a.lower_bound = 0\n",
    "\n",
    "model.reactions.get_by_id('EX_yvite_e').lower_bound = 0\n",
    "model.reactions.get_by_id('EX_10fthf5glu_e').lower_bound = 0\n",
    "    \n",
    "for b in model.reactions[1188:1591]:\n",
    "    for c in range(len(except_EX_names_split)):  \n",
    "        if b.id  == except_EX_names_split[c]:\n",
    "            b.lower_bound = -1\n",
    "            \n",
    "biomass_NCI60 = Reaction('biomass_NCI60')\n",
    "biomass_NCI60.name = biomass_NCI60\n",
    "\n",
    "ala_L_c = model.metabolites.get_by_id('ala__L_c')\n",
    "arg_L_c = model.metabolites.get_by_id('arg__L_c')\n",
    "asn_L_c = model.metabolites.get_by_id('asn__L_c')\n",
    "asp_L_c = model.metabolites.get_by_id('asp__L_c')\n",
    "atp_c = model.metabolites.get_by_id('atp_c')\n",
    "clpn_hs_c = model.metabolites.get_by_id('clpn_hs_c')\n",
    "ctp_c = model.metabolites.get_by_id('ctp_c')\n",
    "dag_hs_c = model.metabolites.get_by_id('dag_hs_c')\n",
    "datp_c = model.metabolites.get_by_id('datp_c')\n",
    "dctp_c = model.metabolites.get_by_id('dctp_c')\n",
    "dgtp_c = model.metabolites.get_by_id('dgtp_c')\n",
    "dttp_c = model.metabolites.get_by_id('dttp_c')\n",
    "gln_L_c = model.metabolites.get_by_id('gln__L_c')\n",
    "glu_L_c = model.metabolites.get_by_id('glu__L_c')\n",
    "gly_c = model.metabolites.get_by_id('gly_c')\n",
    "glygn2_c = model.metabolites.get_by_id('glygn2_c')\n",
    "gtp_c = model.metabolites.get_by_id('gtp_c')\n",
    "h2o_c = model.metabolites.get_by_id('h2o_c')\n",
    "hdca_c = model.metabolites.get_by_id('hdca_c')\n",
    "hdcea_c = model.metabolites.get_by_id('hdcea_c')\n",
    "ile_L_c = model.metabolites.get_by_id('ile__L_c')\n",
    "leu_L_c = model.metabolites.get_by_id('leu__L_c')\n",
    "lpchol_hs_c = model.metabolites.get_by_id('lpchol_hs_c')\n",
    "lys_L_c = model.metabolites.get_by_id('lys__L_c')\n",
    "mag_hs_c = model.metabolites.get_by_id('mag_hs_c')\n",
    "ocdca_c = model.metabolites.get_by_id('ocdca_c')\n",
    "ocdcea_c = model.metabolites.get_by_id('ocdcea_c')\n",
    "pa_hs_c = model.metabolites.get_by_id('pa_hs_c')\n",
    "pail_hs_c = model.metabolites.get_by_id('pail_hs_c')\n",
    "pchol_hs_c = model.metabolites.get_by_id('pchol_hs_c')\n",
    "pe_hs_c = model.metabolites.get_by_id('pe_hs_c')\n",
    "phe_L_c = model.metabolites.get_by_id('phe__L_c')\n",
    "ps_hs_c = model.metabolites.get_by_id('ps_hs_c')\n",
    "ser_L_c = model.metabolites.get_by_id('ser__L_c')\n",
    "sphmyln_hs_c = model.metabolites.get_by_id('sphmyln_hs_c')\n",
    "thr_L_c = model.metabolites.get_by_id('thr__L_c')\n",
    "trp_L_c = model.metabolites.get_by_id('trp__L_c')\n",
    "tyr_L_c = model.metabolites.get_by_id('tyr__L_c')\n",
    "utp_c = model.metabolites.get_by_id('utp_c')\n",
    "val_L_c = model.metabolites.get_by_id('val__L_c')\n",
    "pro_L_m = model.metabolites.get_by_id('pro__L_m')\n",
    "chsterol_r = model.metabolites.get_by_id('chsterol_r')\n",
    "xolest_hs_r = model.metabolites.get_by_id('xolest_hs_r')\n",
    "adp_c = model.metabolites.get_by_id('adp_c')\n",
    "h_c = model.metabolites.get_by_id('h_c')\n",
    "pi_c = model.metabolites.get_by_id('pi_c')\n",
    "\n",
    "#remove ocdca and ocdcea\n",
    "# added xolest value to cholesterol in biomass and remove xolest\n",
    "\n",
    "biomass_NCI60.add_metabolites({ala_L_c: -0.587929, arg_L_c: -0.380280, asn_L_c: -0.323313, asp_L_c: -0.261396, \n",
    "                               atp_c: -35.033540, clpn_hs_c: -0.000624, ctp_c: -0.033435, dag_hs_c: -0.001032, \n",
    "                               datp_c: -0.014557, dctp_c: -0.009770, dgtp_c: -0.009748, dttp_c: -0.014546,\n",
    "                               gln_L_c: -0.319051, glu_L_c: -0.387401, gly_c: -0.504294, glygn2_c: -0.034479,\n",
    "                               gtp_c: -0.055967, h2o_c: -35.000000, hdca_c: -0.008293, hdcea_c: -0.003315, \n",
    "                               ile_L_c: -0.319813, leu_L_c: -0.548692, lpchol_hs_c: -0.002470, lys_L_c: -0.552717, \n",
    "                               mag_hs_c: -0.001456, pa_hs_c: -0.010645,\n",
    "                               pail_hs_c: -0.005016, pchol_hs_c: -0.022878, pe_hs_c: -0.018211, phe_L_c: -0.170743,\n",
    "                               ps_hs_c: -0.006808, ser_L_c: -0.385852, sphmyln_hs_c: -0.010215, thr_L_c: -0.378004, \n",
    "                               trp_L_c: -0.039847, tyr_L_c: -0.150141, utp_c: -0.063323, val_L_c: -0.385554,\n",
    "                               pro_L_m: -0.237850, chsterol_r: -0.054102,  adp_c: 35.000000, \n",
    "                               h_c: 35.000000, pi_c: 35.000000})\n",
    "\n",
    "model.add_reaction(biomass_NCI60)\n",
    "my_objective = model.reactions.get_by_id('biomass_NCI60')\n",
    "model.change_objective(my_objective)\n",
    "\n",
    "# Adding DM_atp_c reaction\n",
    "\n",
    "DM_atp_c = Reaction('DM_atp_c')\n",
    "DM_atp_c.name = DM_atp_c\n",
    "\n",
    "atp_c = model.metabolites.get_by_id('atp_c')\n",
    "adp_c = model.metabolites.get_by_id('adp_c')\n",
    "h2o_c = model.metabolites.get_by_id('h2o_c')\n",
    "h_c = model.metabolites.get_by_id('h_c')\n",
    "pi_c = model.metabolites.get_by_id('pi_c')\n",
    "\n",
    "\n",
    "DM_atp_c.add_metabolites({atp_c: -1, h2o_c: -1, adp_c: 1, pi_c: 1, h_c: 1})\n",
    "model.add_reaction(DM_atp_c)\n",
    "\n",
    "# Setting lower bounds for DM_atp_c as per Dan\n",
    "\n",
    "model.reactions.get_by_id('DM_atp_c').lower_bound = 0.9*7.9939\n",
    "\n",
    "model.reactions.get_by_id('EX_h_e').lower_bound = -1000\n",
    "model.reactions.get_by_id('EX_o2_e').lower_bound = -1000\n",
    "model.reactions.get_by_id('EX_fe2_e').lower_bound = -1000\n",
    "model.reactions.get_by_id('EX_nh4_e').lower_bound = -1000\n",
    "\n",
    "model.reactions.get_by_id('EX_glc__D_e').lower_bound = -0.4882\n",
    "\n",
    "# constrained as per calculate fluxes \n",
    "model.reactions.get_by_id('biomass_NCI60').lower_bound = 0.0177\n",
    "model.reactions.get_by_id('biomass_NCI60').upper_bound = 0.0177\n",
    "\n",
    "model.reactions.get_by_id('EX_pi_e').lower_bound = -1000\n",
    "\n",
    "# 6/16/16 Changing amino acid uptake constraints\n",
    "\n",
    "model.reactions.get_by_id('EX_arg__L_e').lower_bound = -0.0022\n",
    "\n",
    "model.reactions.get_by_id('EX_asn__L_e').lower_bound = -0.0058\n",
    "model.reactions.get_by_id('EX_asp__L_e').lower_bound = -0.0081\n",
    "model.reactions.get_by_id('EX_chol_e').lower_bound = -0.00062386\n",
    "model.reactions.get_by_id('EX_gln__L_e').lower_bound = -0.1202\n",
    "model.reactions.get_by_id('EX_gly_e').lower_bound = -0.0019\n",
    "model.reactions.get_by_id('EX_ile__L_e').lower_bound = -0.0081\n",
    "model.reactions.get_by_id('EX_leu__L_e').lower_bound = -0.0110\n",
    "model.reactions.get_by_id('EX_lys__L_e').lower_bound = -0.0111\n",
    "model.reactions.get_by_id('EX_phe__L_e').lower_bound = -0.0040\n",
    "\n",
    "model.reactions.get_by_id('EX_pro__L_e').lower_bound = -0.0045\n",
    "\n",
    "model.reactions.get_by_id('EX_ser__L_e').lower_bound = -0.0167\n",
    "model.reactions.get_by_id('EX_trp__L_e').lower_bound = -0.0013\n",
    "model.reactions.get_by_id('EX_tyr__L_e').lower_bound = -0.0068\n",
    "model.reactions.get_by_id('EX_val__L_e').lower_bound = -0.0079\n",
    "\n",
    "#6/24/16 lowerbound changes\n",
    "\n",
    "model.reactions.get_by_id('FTHFLi').lower_bound = 0\n",
    "model.reactions.get_by_id('FTHFLmi').lower_bound = 0\n",
    "\n",
    "model.reactions.get_by_id('FUM').lower_bound = 0\n",
    "model.reactions.get_by_id('FUM').upper_bound = 0\n",
    "\n",
    "model.reactions.get_by_id('BILGLCURte').lower_bound = 0\n",
    "model.reactions.get_by_id('BILDGLCURte').lower_bound = 0\n",
    "\n",
    "h_i = Metabolite('h_i', formula='h', name='h_i', compartment='i')\n",
    "model.add_metabolites(h_i)\n",
    "\n",
    "\n",
    "# delete reaction\n",
    "model.remove_reactions('ATPS4m')\n",
    "\n",
    "# re-add the reaction while replacing h_c with h_i\n",
    "ATPS4m = Reaction('ATPS4m')\n",
    "ATPS4m.name = ATPS4m\n",
    "\n",
    "adp_m = model.metabolites.get_by_id('adp_m')\n",
    "h_i = model.metabolites.get_by_id('h_i')\n",
    "pi_m = model.metabolites.get_by_id('pi_m')\n",
    "h2o_m = model.metabolites.get_by_id('h2o_m')\n",
    "h_m = model.metabolites.get_by_id('h_m')\n",
    "atp_m = model.metabolites.get_by_id('atp_m')\n",
    "\n",
    "ATPS4m.add_metabolites({adp_m: -1, h_i: -4, pi_m: -1, h2o_m: 1, h_m: 3, atp_m: 1})\n",
    "model.add_reaction(ATPS4m)\n",
    "\n",
    "model.remove_reactions('CYOOm3')\n",
    "\n",
    "CYOOm2 = Reaction('CYOOm2')\n",
    "CYOOm2.name = CYOOm2\n",
    "\n",
    "h_m = model.metabolites.get_by_id('h_m')\n",
    "o2_m = model.metabolites.get_by_id('o2_m')\n",
    "focytC_m = model.metabolites.get_by_id('focytC_m')\n",
    "h_i = model.metabolites.get_by_id('h_i')\n",
    "h2o_m = model.metabolites.get_by_id('h2o_m')\n",
    "ficytC_m = model.metabolites.get_by_id('ficytC_m')\n",
    "\n",
    "\n",
    "CYOOm2.add_metabolites({h_m: -8, o2_m: -1, focytC_m: -4, h_i: 4, h2o_m: 2, ficytC_m: 4})\n",
    "model.add_reaction(CYOOm2)\n",
    "\n",
    "# delete reaction\n",
    "model.remove_reactions('NADH2_u10m')\n",
    "\n",
    "# re-add the reaction while replacing h_c with h_i\n",
    "NADH2_u10m = Reaction('NADH2_u10m')\n",
    "NADH2_u10m.name = NADH2_u10m\n",
    "\n",
    "q10_m = model.metabolites.get_by_id('q10_m')\n",
    "h_m = model.metabolites.get_by_id('h_m')\n",
    "nadh_m = model.metabolites.get_by_id('nadh_m')\n",
    "nad_m = model.metabolites.get_by_id('nad_m')\n",
    "h_i = model.metabolites.get_by_id('h_i')\n",
    "q10h2_m = model.metabolites.get_by_id('q10h2_m')\n",
    "\n",
    "\n",
    "\n",
    "NADH2_u10m.add_metabolites({q10_m: -1, h_m: -5, nadh_m: -1, nad_m: 1, h_i: 4, q10h2_m: 1})\n",
    "model.add_reaction(NADH2_u10m)\n",
    "\n",
    "# delete reaction\n",
    "model.remove_reactions('CYOR_u10m')\n",
    "\n",
    "# re-add the reaction while replacing h_c with h_i\n",
    "CYOR_u10m = Reaction('CYOR_u10m')\n",
    "CYOR_u10m.name = NADH2_u10m\n",
    "\n",
    "ficytC_m = model.metabolites.get_by_id('ficytC_m')\n",
    "h_m = model.metabolites.get_by_id('h_m')\n",
    "q10h2_m = model.metabolites.get_by_id('q10h2_m')\n",
    "q10_m = model.metabolites.get_by_id('q10_m')\n",
    "focytC_m = model.metabolites.get_by_id('focytC_m')\n",
    "h_i = model.metabolites.get_by_id('h_i')\n",
    "\n",
    "\n",
    "CYOR_u10m.add_metabolites({ficytC_m: -2, h_m: -2, q10h2_m: -1, q10_m: 1, focytC_m: 2, h_i: 4})\n",
    "model.add_reaction(CYOR_u10m)"
   ]
  },
  {
   "cell_type": "markdown",
   "metadata": {},
   "source": [
    "## Calculating the normal, healthy demands"
   ]
  },
  {
   "cell_type": "markdown",
   "metadata": {},
   "source": [
    "# 2. Run pFBA"
   ]
  },
  {
   "cell_type": "code",
   "execution_count": null,
   "metadata": {
    "collapsed": true
   },
   "outputs": [],
   "source": [
    "p_solution = cobra.flux_analysis.parsimonious.optimize_minimal_flux(model)"
   ]
  },
  {
   "cell_type": "markdown",
   "metadata": {},
   "source": [
    "# 3. Constrain the lowerbound of FH to the pFBA flux solution of FH"
   ]
  },
  {
   "cell_type": "code",
   "execution_count": null,
   "metadata": {
    "collapsed": true
   },
   "outputs": [],
   "source": [
    "# constraining the upper and lower bound of the gene of interest to an optimized value\n",
    "\n",
    "#model.reactions.get_by_id(str(gene_name)).upper_bound = p_solution.x_dict[str(gene_name)]\n",
    "model.reactions.get_by_id(str(gene_name)).lower_bound = p_solution.x_dict[str(gene_name)]"
   ]
  },
  {
   "cell_type": "markdown",
   "metadata": {},
   "source": [
    "# 4. Add a malate demand, and constrain that lower bound to the pFBA flux solution of FH"
   ]
  },
  {
   "cell_type": "code",
   "execution_count": null,
   "metadata": {
    "collapsed": true
   },
   "outputs": [],
   "source": [
    "mal__L_m = model.metabolites.get_by_id('mal__L_m')\n",
    "\n",
    "DM_mal = Reaction('DM_mal')\n",
    "DM_mal.name = DM_mal\n",
    "\n",
    "DM_mal.add_metabolites({mal__L_m: -1})\n",
    "\n",
    "model.add_reaction(DM_mal)"
   ]
  },
  {
   "cell_type": "code",
   "execution_count": null,
   "metadata": {
    "collapsed": true
   },
   "outputs": [],
   "source": [
    "#model.reactions.get_by_id('DM_mal').upper_bound = p_solution.x_dict[str(gene_name)]\n",
    "model.reactions.get_by_id('DM_mal').lower_bound = p_solution.x_dict[str(gene_name)]"
   ]
  },
  {
   "cell_type": "markdown",
   "metadata": {},
   "source": [
    "# 5. Run the algorithm for healthy state"
   ]
  },
  {
   "cell_type": "code",
   "execution_count": null,
   "metadata": {
    "collapsed": true
   },
   "outputs": [],
   "source": [
    "# This creates an array of modified met names\n",
    "\n",
    "newmet_array = [0] * len(model.metabolites)\n",
    "met_count = 0\n",
    "for i in range(len(model.metabolites)):\n",
    "    newmet_array[met_count] = string.replace(model.metabolites[i].id, \" \", \"_\")\n",
    "    met_count = met_count + 1"
   ]
  },
  {
   "cell_type": "code",
   "execution_count": null,
   "metadata": {
    "collapsed": false
   },
   "outputs": [],
   "source": [
    "# creates an empty dict to store DM_rxns as keys and the p_solution.f values\n",
    "normal_maxmet_dict = {}\n",
    "\n",
    "for i in range(len(model.metabolites)):\n",
    "#for i in range(80):\n",
    "\n",
    "    #  switch toggle\n",
    "    switch = True\n",
    "\n",
    "    # this part creates a demand reaction for each metabolite\n",
    "    temp_DM = 'DM_' + str(newmet_array[i])\n",
    "    \n",
    "    # this nested for loop tries to catch if a demand reaction already exists in the model\n",
    "    for ii in model.reactions:\n",
    "        if temp_DM == str(ii):\n",
    "            # this part sets the newly created demand as the objective\n",
    "            my_objective = model.reactions.get_by_id(str(temp_DM))\n",
    "            model.change_objective(my_objective)\n",
    "\n",
    "            # this part runs FBA on the new demand\n",
    "            p_solution = model.optimize()\n",
    "\n",
    "            # this stores the demand flux into a dictionary where its demand rxn is the key\n",
    "            normal_maxmet_dict[str(temp_DM)] = p_solution.f\n",
    "            \n",
    "            # a toggle to see if the reaction is to be deleted or not\n",
    "            switch = False\n",
    "            \n",
    "    if switch is True:\n",
    "        temp_DM = Reaction(str(temp_DM))\n",
    "        newmet_array[i] = model.metabolites.get_by_id(model.metabolites[i].id)\n",
    "        temp_DM.add_metabolites({newmet_array[i]: -1})\n",
    "        model.add_reaction(temp_DM)\n",
    "\n",
    "        # this part sets the newly created demand as the objective\n",
    "        my_objective = model.reactions.get_by_id(str(temp_DM))\n",
    "        model.change_objective(my_objective)\n",
    "\n",
    "        # this part runs FBA on the new demand\n",
    "        p_solution = model.optimize()\n",
    "\n",
    "        # this stores the demand flux into a dictionary where its demand rxn is the key\n",
    "        normal_maxmet_dict[str(temp_DM)] = p_solution.f\n",
    "\n",
    "        # this deletes the demand at the end of each iteration\n",
    "        model.reactions.get_by_id(str(temp_DM)).delete()"
   ]
  },
  {
   "cell_type": "markdown",
   "metadata": {},
   "source": [
    "## Calculating the gene KO demands"
   ]
  },
  {
   "cell_type": "markdown",
   "metadata": {},
   "source": [
    "# 6. KO FH by setting ub and lb to 0"
   ]
  },
  {
   "cell_type": "code",
   "execution_count": null,
   "metadata": {
    "collapsed": true
   },
   "outputs": [],
   "source": [
    "# Knocking out your gene\n",
    "\n",
    "model.reactions.get_by_id(str(gene_name)).upper_bound = 0\n",
    "model.reactions.get_by_id(str(gene_name)).lower_bound = 0\n"
   ]
  },
  {
   "cell_type": "markdown",
   "metadata": {},
   "source": [
    "# 7. Set the ub and lb of the malate demand to 0"
   ]
  },
  {
   "cell_type": "code",
   "execution_count": null,
   "metadata": {
    "collapsed": true
   },
   "outputs": [],
   "source": [
    "model.reactions.get_by_id('DM_mal').upper_bound = 0\n",
    "model.reactions.get_by_id('DM_mal').lower_bound = 0"
   ]
  },
  {
   "cell_type": "markdown",
   "metadata": {},
   "source": [
    "# 8. Run the algorithm for the KO state"
   ]
  },
  {
   "cell_type": "code",
   "execution_count": null,
   "metadata": {
    "collapsed": true
   },
   "outputs": [],
   "source": [
    "# working copy!\n",
    "# This creates an array of modified met names since I'm getting errors accessing model.metabolites[i].id in some of the code\n",
    "\n",
    "\n",
    "newmet_array = [0] * len(model.metabolites)\n",
    "met_count = 0\n",
    "for i in range(len(model.metabolites)):\n",
    "    newmet_array[met_count] = string.replace(model.metabolites[i].id, \" \", \"_\")\n",
    "    met_count = met_count + 1"
   ]
  },
  {
   "cell_type": "code",
   "execution_count": null,
   "metadata": {
    "collapsed": true
   },
   "outputs": [],
   "source": [
    "# creates an empty dict to store DM_rxns as keys and the p_solution.f values\n",
    "KO_maxmet_dict = {}\n",
    "\n",
    "for i in range(len(model.metabolites)):\n",
    "#for i in range(80):\n",
    "\n",
    "    # switch toggle\n",
    "    switch = True\n",
    "    \n",
    "    # this part creates a demand reaction for each metabolite\n",
    "    temp_DM = 'DM_' + str(newmet_array[i])\n",
    "    \n",
    "    # this nested for loop tries to catch if a demand reaction already exists in the model\n",
    "    for ii in model.reactions:\n",
    "        if temp_DM == str(ii):\n",
    "            # this part sets the newly created demand as the objective\n",
    "            my_objective = model.reactions.get_by_id(str(temp_DM))\n",
    "            model.change_objective(my_objective)\n",
    "\n",
    "            # this part runs FBA on the new demand\n",
    "            p_solution = model.optimize()\n",
    "\n",
    "            # this stores the demand flux into a dictionary where its demand rxn is the key\n",
    "            KO_maxmet_dict[str(temp_DM)] = p_solution.f\n",
    "            \n",
    "            # a toggle to see if the reaction is to be deleted or not\n",
    "            switch = False\n",
    "            \n",
    "    if switch is True:\n",
    "        temp_DM = Reaction(str(temp_DM))\n",
    "        newmet_array[i] = model.metabolites.get_by_id(model.metabolites[i].id)\n",
    "        temp_DM.add_metabolites({newmet_array[i]: -1})\n",
    "        model.add_reaction(temp_DM)\n",
    "\n",
    "        # this part sets the newly created demand as the objective\n",
    "        my_objective = model.reactions.get_by_id(str(temp_DM))\n",
    "        model.change_objective(my_objective)\n",
    "\n",
    "        # this part runs FBA on the new demand\n",
    "        p_solution = model.optimize()\n",
    "\n",
    "        # this stores the demand flux into a dictionary where its demand rxn is the key\n",
    "        KO_maxmet_dict[str(temp_DM)] = p_solution.f\n",
    "\n",
    "        # this deletes the demand at the end of each iteration\n",
    "        model.reactions.get_by_id(str(temp_DM)).delete()"
   ]
  },
  {
   "cell_type": "markdown",
   "metadata": {},
   "source": [
    "# 9. Normalize and compute scores"
   ]
  },
  {
   "cell_type": "markdown",
   "metadata": {},
   "source": [
    "## Computing and normalizing the demands to generate metabolite scores"
   ]
  },
  {
   "cell_type": "code",
   "execution_count": null,
   "metadata": {
    "collapsed": true
   },
   "outputs": [],
   "source": [
    "# This combines the normal_flux solutions and KO_flux solutions into one dictionary\n",
    "# The same key, the reaction, and stores 2 flux values as a list to the dic key where [0] is normal and [1] is KO\n",
    "\n",
    "combined_dic = {key: {'init_flux': normal_maxmet_dict[key], 'KO_flux': KO_maxmet_dict[key]}\n",
    "                for key in KO_maxmet_dict if key in normal_maxmet_dict}"
   ]
  },
  {
   "cell_type": "code",
   "execution_count": null,
   "metadata": {
    "collapsed": false
   },
   "outputs": [],
   "source": [
    "# Setting the cutoff to 10^-5\n",
    "\n",
    "for rxn, flux in combined_dic.iteritems():\n",
    "    # 10^-5\n",
    "    if round(flux['init_flux'], 6) < 0.00001:\n",
    "        flux['init_flux'] = 0\n",
    "    if round(flux['KO_flux'], 6) < 0.00001:\n",
    "        flux['KO_flux'] = 0"
   ]
  },
  {
   "cell_type": "code",
   "execution_count": null,
   "metadata": {
    "collapsed": true
   },
   "outputs": [],
   "source": [
    "G1 = {}\n",
    "G2 = {}\n",
    "G3 = {}\n",
    "\n",
    "for rxn, flux in combined_dic.iteritems():\n",
    "    # if both init and final are 0, stored into group 1\n",
    "    if flux['init_flux'] == 0 and flux['KO_flux'] == 0:\n",
    "        G1[rxn] = {'init_flux': flux['init_flux'], 'KO_flux': flux['KO_flux']}\n",
    "        \n",
    "    # if both init and final are non-zero, stored into group 1\n",
    "    if flux['init_flux'] != 0 and flux['KO_flux'] != 0:\n",
    "        G1[rxn] = {'init_flux': flux['init_flux'], 'KO_flux': flux['KO_flux']}\n",
    "        \n",
    "    # if init is 0 and final is non-zero, stored into group 2\n",
    "    if flux['init_flux'] == 0 and flux['KO_flux'] != 0:\n",
    "        G2[rxn] = {'init_flux': flux['init_flux'], 'KO_flux': flux['KO_flux']}\n",
    "        \n",
    "    # if init is non-zero and final is 0, stored into group 3\n",
    "    if flux['init_flux'] != 0 and flux['KO_flux'] == 0:\n",
    "        G3[rxn] = {'init_flux': flux['init_flux'], 'KO_flux': flux['KO_flux']}"
   ]
  },
  {
   "cell_type": "markdown",
   "metadata": {},
   "source": [
    "### G1"
   ]
  },
  {
   "cell_type": "code",
   "execution_count": null,
   "metadata": {
    "collapsed": true
   },
   "outputs": [],
   "source": [
    "# Execute divisions using this function\n",
    "# This catches divisions of denominator 0 and just outputs 0\n",
    "def safe_div(x,y):\n",
    "    if y == 0:\n",
    "        return 0\n",
    "    return x / y"
   ]
  },
  {
   "cell_type": "code",
   "execution_count": null,
   "metadata": {
    "collapsed": true
   },
   "outputs": [],
   "source": [
    "# This is the first step of normalization\n",
    "# This is the flux of KO - initial flux\n",
    "G1_output_norm_dic = {a: {'init_flux': b['init_flux'], 'KO_flux': b['KO_flux'], 'normalized_flux':\n",
    "                       safe_div((b['KO_flux']-b['init_flux']),b['init_flux']), \n",
    "                          'absolute_normalized_flux': abs(safe_div((b['KO_flux']-b['init_flux']),b['init_flux']))} for a,b in G1.iteritems()}"
   ]
  },
  {
   "cell_type": "code",
   "execution_count": null,
   "metadata": {
    "collapsed": true
   },
   "outputs": [],
   "source": [
    "# Ranks based on criteria by creating an ordered dictionary\n",
    "# G1 -- normalized flux ranking (ratio)\n",
    "import operator\n",
    "import collections\n",
    "\n",
    "\n",
    "G1_descending = collections.OrderedDict(sorted(G1_output_norm_dic.items(),\n",
    "                                               key=lambda kv: kv[1]['absolute_normalized_flux'], reverse=True))\n"
   ]
  },
  {
   "cell_type": "code",
   "execution_count": null,
   "metadata": {
    "collapsed": false
   },
   "outputs": [],
   "source": [
    "# writing KO_maxmet_dict as a .csv file\n",
    "\n",
    "metabolite_demand_dic = [0] * len(G1_descending)\n",
    "init_flux_out_dic = [0] * len(G1_descending)\n",
    "KO_flux_out_dic = [0] * len(G1_descending)\n",
    "normalized_flux_out_dic = [0] * len(G1_descending)\n",
    "absolute_normalized_flux_out_dic = [0] * len(G1_descending)\n",
    "\n",
    "metabolite_demand_count = 0\n",
    "init_flux_count = 0\n",
    "KO_flux_count = 0\n",
    "normalized_flux_count = 0\n",
    "absolute_normalized_flux_count = 0\n",
    "\n",
    "for key, value in G1_descending.iteritems():\n",
    "    metabolite_demand_dic[metabolite_demand_count] = key\n",
    "    metabolite_demand_count = metabolite_demand_count + 1\n",
    "    \n",
    "for a, b in G1_descending.iteritems():\n",
    "    init_flux_out_dic[init_flux_count] = b['init_flux']\n",
    "    init_flux_count = init_flux_count + 1\n",
    "    \n",
    "for c, d in G1_descending.iteritems():\n",
    "    KO_flux_out_dic[KO_flux_count] = d['KO_flux']\n",
    "    KO_flux_count = KO_flux_count + 1\n",
    "    \n",
    "\n",
    "for e, f in G1_descending.iteritems():\n",
    "    normalized_flux_out_dic[normalized_flux_count] = f['normalized_flux']\n",
    "    normalized_flux_count = normalized_flux_count + 1  \n",
    "    \n",
    "for g, h in G1_descending.iteritems():\n",
    "    absolute_normalized_flux_out_dic[absolute_normalized_flux_count] = h['absolute_normalized_flux']\n",
    "    absolute_normalized_flux_count = absolute_normalized_flux_count + 1  \n",
    "    \n",
    "# this saves the array into a .csv file as named\n",
    "\n",
    "import csv\n",
    "from itertools import izip\n",
    "\n",
    "with open(str(gene_name)+'_withProduct_G1_ranked_fluxes.csv', 'wb') as f:\n",
    "    writer = csv.writer(f)\n",
    "    writer.writerow(['metabolite_demand', 'init_flux', 'KO_flux', 'normalized_flux', 'absolute_normalized_flux'])\n",
    "    writer.writerows(izip(metabolite_demand_dic, init_flux_out_dic, KO_flux_out_dic, normalized_flux_out_dic, absolute_normalized_flux_out_dic))"
   ]
  },
  {
   "cell_type": "markdown",
   "metadata": {},
   "source": [
    "### G2"
   ]
  },
  {
   "cell_type": "code",
   "execution_count": null,
   "metadata": {
    "collapsed": true
   },
   "outputs": [],
   "source": [
    "# Ranks based on criteria by creating an ordered dictionary\n",
    "# G2 -- ranked based on final KO flux value\n",
    "\n",
    "G2_descending = collections.OrderedDict(sorted(G2.items(),key=lambda kv: kv[1]['KO_flux'], reverse=True))"
   ]
  },
  {
   "cell_type": "code",
   "execution_count": null,
   "metadata": {
    "collapsed": false
   },
   "outputs": [],
   "source": [
    "G2_descending"
   ]
  },
  {
   "cell_type": "code",
   "execution_count": null,
   "metadata": {
    "collapsed": false
   },
   "outputs": [],
   "source": [
    "# writing ARGSSKO_maxmet_dict as a .csv file\n",
    "\n",
    "metabolite_demand_dic = [0] * len(G2_descending)\n",
    "init_flux_out_dic = [0] * len(G2_descending)\n",
    "KO_flux_out_dic = [0] * len(G2_descending)\n",
    "\n",
    "\n",
    "metabolite_demand_count = 0\n",
    "init_flux_count = 0\n",
    "KO_flux_count = 0\n",
    "\n",
    "\n",
    "for key, value in G2_descending.iteritems():\n",
    "    metabolite_demand_dic[metabolite_demand_count] = key\n",
    "    metabolite_demand_count = metabolite_demand_count + 1\n",
    "    \n",
    "for a, b in G2_descending.iteritems():\n",
    "    init_flux_out_dic[init_flux_count] = b['init_flux']\n",
    "    init_flux_count = init_flux_count + 1\n",
    "    \n",
    "for c, d in G2_descending.iteritems():\n",
    "    KO_flux_out_dic[KO_flux_count] = d['KO_flux']\n",
    "    KO_flux_count = KO_flux_count + 1"
   ]
  },
  {
   "cell_type": "code",
   "execution_count": null,
   "metadata": {
    "collapsed": true
   },
   "outputs": [],
   "source": [
    "# this saves the array into a .csv file as named\n",
    "\n",
    "import csv\n",
    "from itertools import izip\n",
    "\n",
    "with open(str(gene_name)+'_witProduct_G2_ranked_fluxes.csv', 'wb') as f:\n",
    "    writer = csv.writer(f)\n",
    "    writer.writerow(['metabolite_demand', 'init_flux', 'KO_flux'])\n",
    "    writer.writerows(izip(metabolite_demand_dic, init_flux_out_dic, KO_flux_out_dic, normalized_flux_out_dic, absolute_normalized_flux_out_dic))"
   ]
  },
  {
   "cell_type": "markdown",
   "metadata": {},
   "source": [
    "### G3"
   ]
  },
  {
   "cell_type": "code",
   "execution_count": null,
   "metadata": {
    "collapsed": true
   },
   "outputs": [],
   "source": [
    "# Ranks based on criteria by creating an ordered dictionary\n",
    "# G3 -- ranked based on initial flux value\n",
    "\n",
    "G3_descending = collections.OrderedDict(sorted(G3.items(),key=lambda kv: kv[1]['init_flux'], reverse=True))"
   ]
  },
  {
   "cell_type": "code",
   "execution_count": null,
   "metadata": {
    "collapsed": false
   },
   "outputs": [],
   "source": [
    "# writing ARGSSKO_maxmet_dict as a .csv file\n",
    "\n",
    "metabolite_demand_dic = [0] * len(G3_descending)\n",
    "init_flux_out_dic = [0] * len(G3_descending)\n",
    "KO_flux_out_dic = [0] * len(G3_descending)\n",
    "\n",
    "\n",
    "metabolite_demand_count = 0\n",
    "init_flux_count = 0\n",
    "KO_flux_count = 0\n",
    "\n",
    "\n",
    "for key, value in G3_descending.iteritems():\n",
    "    metabolite_demand_dic[metabolite_demand_count] = key\n",
    "    metabolite_demand_count = metabolite_demand_count + 1\n",
    "    \n",
    "for a, b in G3_descending.iteritems():\n",
    "    init_flux_out_dic[init_flux_count] = b['init_flux']\n",
    "    init_flux_count = init_flux_count + 1\n",
    "    \n",
    "for c, d in G3_descending.iteritems():\n",
    "    KO_flux_out_dic[KO_flux_count] = d['KO_flux']\n",
    "    KO_flux_count = KO_flux_count + 1\n",
    "    "
   ]
  },
  {
   "cell_type": "code",
   "execution_count": null,
   "metadata": {
    "collapsed": true
   },
   "outputs": [],
   "source": [
    "# this saves the array into a .csv file as named\n",
    "\n",
    "import csv\n",
    "from itertools import izip\n",
    "\n",
    "with open(str(gene_name)+'_withProduct_G3_ranked_fluxes.csv', 'wb') as f:\n",
    "    writer = csv.writer(f)\n",
    "    writer.writerow(['metabolite_demand', 'init_flux', 'KO_flux'])\n",
    "    writer.writerows(izip(metabolite_demand_dic, init_flux_out_dic, KO_flux_out_dic, normalized_flux_out_dic, absolute_normalized_flux_out_dic))"
   ]
  },
  {
   "cell_type": "code",
   "execution_count": null,
   "metadata": {
    "collapsed": true
   },
   "outputs": [],
   "source": []
  },
  {
   "cell_type": "code",
   "execution_count": null,
   "metadata": {
    "collapsed": true
   },
   "outputs": [],
   "source": []
  },
  {
   "cell_type": "code",
   "execution_count": null,
   "metadata": {
    "collapsed": true
   },
   "outputs": [],
   "source": []
  }
 ],
 "metadata": {
  "kernelspec": {
   "display_name": "Python 2",
   "language": "python",
   "name": "python2"
  },
  "language_info": {
   "codemirror_mode": {
    "name": "ipython",
    "version": 2
   },
   "file_extension": ".py",
   "mimetype": "text/x-python",
   "name": "python",
   "nbconvert_exporter": "python",
   "pygments_lexer": "ipython2",
   "version": "2.7.11"
  }
 },
 "nbformat": 4,
 "nbformat_minor": 0
}
