{
 "cells": [
  {
   "cell_type": "code",
   "execution_count": 3,
   "metadata": {
    "collapsed": false
   },
   "outputs": [
    {
     "name": "stdout",
     "output_type": "stream",
     "text": [
      "What is an e-mail you would like to provide to query the Entrez database?    lac018@ucsd.edu\n",
      "Enter Gene Entrez ID:445\n",
      "\n",
      "Name: ASS1\n",
      "\n",
      "Location: 9q34.11\n",
      "\n",
      "Synonyms: ['ASS', 'CTLN1'] \n",
      "\n",
      "Summary: The protein encoded by this gene catalyzes the penultimate step of the arginine biosynthetic pathway. There are approximately 10 to 14 copies of this gene including the pseudogenes scattered across the human genome, among which the one located on chromosome 9 appears to be the only functional gene for argininosuccinate synthetase. Mutations in the chromosome 9 copy of this gene cause citrullinemia. Two transcript variants encoding the same protein have been found for this gene. [provided by RefSeq, Aug 2012]\n"
     ]
    }
   ],
   "source": [
    "from Bio import Entrez\n",
    "entrez_email = raw_input(\"What is an e-mail you would like to provide to query the Entrez database?    \")\n",
    "Entrez.email = entrez_email\n",
    "gene_entrez_id = raw_input('Enter Gene Entrez ID:')\n",
    "handle = Entrez.efetch(db=\"gene\", id=gene_entrez_id ,rettype=\"fasta\", retmode=\"xml\")\n",
    "records=Entrez.read(handle)\n",
    "#records[0].keys()\n",
    "gene_entrez_name = records[0][\"Entrezgene_gene\"][\"Gene-ref\"][\"Gene-ref_locus\"]\n",
    "gene_entrez_location = records[0][\"Entrezgene_gene\"][\"Gene-ref\"][\"Gene-ref_maploc\"]\n",
    "gene_entrez_syn = records[0][\"Entrezgene_gene\"][\"Gene-ref\"][\"Gene-ref_syn\"]\n",
    "gene_entrez_summary=records[0][\"Entrezgene_summary\"]\n",
    "print \"\\nName: %s\\n\\nLocation: %s\\n\\nSynonyms: %s \\n\\nSummary: %s\" %(gene_entrez_name, gene_entrez_location, gene_entrez_syn, gene_entrez_summary)\n",
    "import os \n",
    "current_fp = os.getcwd()"
   ]
  },
  {
   "cell_type": "markdown",
   "metadata": {},
   "source": [
    "#### Refseq ID for ARGSS/ASS1 (Gene Entrez ID: 445) is  NP_446464 according to GEMPRO"
   ]
  },
  {
   "cell_type": "code",
   "execution_count": 4,
   "metadata": {
    "collapsed": false
   },
   "outputs": [
    {
     "name": "stdout",
     "output_type": "stream",
     "text": [
      "Enter the refseq ID (u_refseq) of the sequence you would like to download:    NP_446464\n"
     ]
    },
    {
     "ename": "HTTPError",
     "evalue": "HTTP Error 400: Bad Request",
     "output_type": "error",
     "traceback": [
      "\u001b[0;31m---------------------------------------------------------------------------\u001b[0m",
      "\u001b[0;31mHTTPError\u001b[0m                                 Traceback (most recent call last)",
      "\u001b[0;32m<ipython-input-4-3744e6a60a71>\u001b[0m in \u001b[0;36m<module>\u001b[0;34m()\u001b[0m\n\u001b[1;32m      3\u001b[0m \u001b[0;32mfrom\u001b[0m \u001b[0mBio\u001b[0m \u001b[0;32mimport\u001b[0m \u001b[0mEntrez\u001b[0m\u001b[0;34m\u001b[0m\u001b[0m\n\u001b[1;32m      4\u001b[0m \u001b[0mEntrez\u001b[0m\u001b[0;34m.\u001b[0m\u001b[0memail\u001b[0m \u001b[0;34m=\u001b[0m \u001b[0mentrez_email\u001b[0m\u001b[0;34m\u001b[0m\u001b[0m\n\u001b[0;32m----> 5\u001b[0;31m \u001b[0mtemp\u001b[0m \u001b[0;34m=\u001b[0m \u001b[0mEntrez\u001b[0m\u001b[0;34m.\u001b[0m\u001b[0mefetch\u001b[0m\u001b[0;34m(\u001b[0m\u001b[0mdb\u001b[0m\u001b[0;34m=\u001b[0m\u001b[0;34m\"nucleotide\"\u001b[0m\u001b[0;34m,\u001b[0m\u001b[0mrettype\u001b[0m\u001b[0;34m=\u001b[0m\u001b[0;34m\"gb\"\u001b[0m\u001b[0;34m,\u001b[0m\u001b[0mid\u001b[0m\u001b[0;34m=\u001b[0m\u001b[0macc\u001b[0m\u001b[0;34m)\u001b[0m\u001b[0;34m\u001b[0m\u001b[0m\n\u001b[0m\u001b[1;32m      6\u001b[0m \u001b[0mout\u001b[0m \u001b[0;34m=\u001b[0m \u001b[0mopen\u001b[0m\u001b[0;34m(\u001b[0m\u001b[0macc\u001b[0m\u001b[0;34m+\u001b[0m\u001b[0;34m\".faa\"\u001b[0m\u001b[0;34m,\u001b[0m\u001b[0;34m'w'\u001b[0m\u001b[0;34m)\u001b[0m\u001b[0;34m\u001b[0m\u001b[0m\n\u001b[1;32m      7\u001b[0m \u001b[0mgbseq\u001b[0m \u001b[0;34m=\u001b[0m \u001b[0mSeqIO\u001b[0m\u001b[0;34m.\u001b[0m\u001b[0mread\u001b[0m\u001b[0;34m(\u001b[0m\u001b[0mtemp\u001b[0m\u001b[0;34m,\u001b[0m \u001b[0;34m\"genbank\"\u001b[0m\u001b[0;34m)\u001b[0m\u001b[0;34m\u001b[0m\u001b[0m\n",
      "\u001b[0;32m//anaconda/lib/python2.7/site-packages/Bio/Entrez/__init__.pyc\u001b[0m in \u001b[0;36mefetch\u001b[0;34m(db, **keywords)\u001b[0m\n\u001b[1;32m    153\u001b[0m             \u001b[0;31m# more than about 200 IDs\u001b[0m\u001b[0;34m\u001b[0m\u001b[0;34m\u001b[0m\u001b[0m\n\u001b[1;32m    154\u001b[0m             \u001b[0mpost\u001b[0m \u001b[0;34m=\u001b[0m \u001b[0mTrue\u001b[0m\u001b[0;34m\u001b[0m\u001b[0m\n\u001b[0;32m--> 155\u001b[0;31m     \u001b[0;32mreturn\u001b[0m \u001b[0m_open\u001b[0m\u001b[0;34m(\u001b[0m\u001b[0mcgi\u001b[0m\u001b[0;34m,\u001b[0m \u001b[0mvariables\u001b[0m\u001b[0;34m,\u001b[0m \u001b[0mpost\u001b[0m\u001b[0;34m)\u001b[0m\u001b[0;34m\u001b[0m\u001b[0m\n\u001b[0m\u001b[1;32m    156\u001b[0m \u001b[0;34m\u001b[0m\u001b[0m\n\u001b[1;32m    157\u001b[0m \u001b[0;34m\u001b[0m\u001b[0m\n",
      "\u001b[0;32m//anaconda/lib/python2.7/site-packages/Bio/Entrez/__init__.pyc\u001b[0m in \u001b[0;36m_open\u001b[0;34m(cgi, params, post, ecitmatch)\u001b[0m\n\u001b[1;32m    516\u001b[0m             \u001b[0mhandle\u001b[0m \u001b[0;34m=\u001b[0m \u001b[0m_urlopen\u001b[0m\u001b[0;34m(\u001b[0m\u001b[0mcgi\u001b[0m\u001b[0;34m)\u001b[0m\u001b[0;34m\u001b[0m\u001b[0m\n\u001b[1;32m    517\u001b[0m     \u001b[0;32mexcept\u001b[0m \u001b[0m_HTTPError\u001b[0m \u001b[0;32mas\u001b[0m \u001b[0mexception\u001b[0m\u001b[0;34m:\u001b[0m\u001b[0;34m\u001b[0m\u001b[0m\n\u001b[0;32m--> 518\u001b[0;31m         \u001b[0;32mraise\u001b[0m \u001b[0mexception\u001b[0m\u001b[0;34m\u001b[0m\u001b[0m\n\u001b[0m\u001b[1;32m    519\u001b[0m \u001b[0;34m\u001b[0m\u001b[0m\n\u001b[1;32m    520\u001b[0m     \u001b[0;32mreturn\u001b[0m \u001b[0m_binary_to_string_handle\u001b[0m\u001b[0;34m(\u001b[0m\u001b[0mhandle\u001b[0m\u001b[0;34m)\u001b[0m\u001b[0;34m\u001b[0m\u001b[0m\n",
      "\u001b[0;31mHTTPError\u001b[0m: HTTP Error 400: Bad Request"
     ]
    }
   ],
   "source": [
    "acc = raw_input('Enter the refseq ID (u_refseq) of the sequence you would like to download:   ')\n",
    "from Bio import SeqIO\n",
    "from Bio import Entrez\n",
    "Entrez.email = entrez_email\n",
    "temp = Entrez.efetch(db=\"nucleotide\",rettype=\"gb\",id=acc)\n",
    "out = open(acc+\".faa\",'w')\n",
    "gbseq = SeqIO.read(temp, \"genbank\")\n",
    "SeqIO.write(gbseq,out,\"fasta\")\n",
    "temp.close()\n",
    "out.close()\n",
    "print(gbseq)"
   ]
  },
  {
   "cell_type": "markdown",
   "metadata": {},
   "source": [
    "#### Example with different refseq ID\n",
    "\n",
    "For example: NP_000041.2  (also for ASS1), taken from https://www.ncbi.nlm.nih.gov/gene/445. It seems like some refseq IDs give the same error as above while others work"
   ]
  },
  {
   "cell_type": "code",
   "execution_count": 7,
   "metadata": {
    "collapsed": false
   },
   "outputs": [
    {
     "name": "stdout",
     "output_type": "stream",
     "text": [
      "Enter the refseq ID (u_refseq) of the sequence you would like to download:   NM_000050.4\n",
      "ID: NM_000050.4\n",
      "Name: NM_000050\n",
      "Description: Homo sapiens argininosuccinate synthase 1 (ASS1), transcript variant 1, mRNA.\n",
      "Number of features: 31\n",
      "/comment=REVIEWED REFSEQ: This record has been curated by NCBI staff. The\n",
      "reference sequence was derived from DB496935.1, AL354898.10 and\n",
      "BC013224.1.\n",
      "This sequence is a reference standard in the RefSeqGene project.\n",
      "On Aug 25, 2006 this sequence version replaced gi:53759106.\n",
      "Summary: The protein encoded by this gene catalyzes the penultimate\n",
      "step of the arginine biosynthetic pathway. There are approximately\n",
      "10 to 14 copies of this gene including the pseudogenes scattered\n",
      "across the human genome, among which the one located on chromosome\n",
      "9 appears to be the only functional gene for argininosuccinate\n",
      "synthetase. Mutations in the chromosome 9 copy of this gene cause\n",
      "citrullinemia. Two transcript variants encoding the same protein\n",
      "have been found for this gene. [provided by RefSeq, Aug 2012].\n",
      "Transcript Variant: This variant (1) represents the longer variant.\n",
      "Publication Note:  This RefSeq record includes a subset of the\n",
      "publications that are available for this gene. Please see the Gene\n",
      "record to access additional publications.\n",
      "##RefSeq-Attributes-START##\n",
      "CDS uses downstream in-frame AUG :: community standard\n",
      "                                    (PMID:19006241)\n",
      "##RefSeq-Attributes-END##\n",
      "##Evidence-Data-START##\n",
      "Transcript exon combination :: SRR1660807.166648.1,\n",
      "                               SRR1660805.65486.1 [ECO:0000332]\n",
      "RNAseq introns              :: single sample supports all introns\n",
      "                               SAMEA1966682, SAMEA1968189\n",
      "                               [ECO:0000348]\n",
      "##Evidence-Data-END##\n",
      "COMPLETENESS: complete on the 3' end.\n",
      "/source=Homo sapiens (human)\n",
      "/taxonomy=['Eukaryota', 'Metazoa', 'Chordata', 'Craniata', 'Vertebrata', 'Euteleostomi', 'Mammalia', 'Eutheria', 'Euarchontoglires', 'Primates', 'Haplorrhini', 'Catarrhini', 'Hominidae', 'Homo']\n",
      "/keywords=['RefSeq']\n",
      "/references=[Reference(title='Arginine Deprivation With Pegylated Arginine Deiminase in Patients With Argininosuccinate Synthetase 1-Deficient Malignant Pleural Mesothelioma: A Randomized Clinical Trial', ...), Reference(title='Kinetic mutations in argininosuccinate synthetase deficiency: characterisation and in vitro correction by substrate supplementation', ...), Reference(title='Analysis of Gene Expression in 3D Spheroids Highlights a Survival Role for ASS1 in Mesothelioma', ...), Reference(title='Hypoxia-induced nitric oxide production and tumour perfusion is inhibited by pegylated arginine deiminase (ADI-PEG20)', ...), Reference(title='Mutations and polymorphisms in the human argininosuccinate synthetase (ASS1) gene', ...), Reference(title='Citrullinemia Type I', ...), Reference(title='Urea Cycle Disorders Overview', ...), Reference(title='Cellular and subcellular localization of enzymes of arginine metabolism in rat kidney', ...), Reference(title='Chromosome assignment of a human gene for argininosuccinate synthetase expression in Chinese hamsterxhuman somatic cell hybrids', ...), Reference(title='Somatic cell genetic evidence for the presence of a gene for citrullinemia on human chromosome 9', ...)]\n",
      "/accessions=['NM_000050']\n",
      "/data_file_division=PRI\n",
      "/date=15-JUN-2017\n",
      "/organism=Homo sapiens\n",
      "/sequence_version=4\n",
      "Seq('GCCGGCGCGCCCCTGGGAGGGTGAGCCGGCGCCGGGCCCAGGCCCGGACCTGGT...AAA', IUPACAmbiguousDNA())\n"
     ]
    }
   ],
   "source": [
    "acc = raw_input('Enter the refseq ID (u_refseq) of the sequence you would like to download:   ')\n",
    "from Bio import SeqIO\n",
    "from Bio import Entrez\n",
    "Entrez.email = entrez_email\n",
    "temp = Entrez.efetch(db=\"nucleotide\",rettype=\"gb\",id=acc)\n",
    "out = open(acc+\".faa\",'w')\n",
    "gbseq = SeqIO.read(temp, \"genbank\")\n",
    "SeqIO.write(gbseq,out,\"fasta\")\n",
    "temp.close()\n",
    "out.close()\n",
    "print(gbseq)"
   ]
  },
  {
   "cell_type": "code",
   "execution_count": null,
   "metadata": {
    "collapsed": true
   },
   "outputs": [],
   "source": []
  }
 ],
 "metadata": {
  "kernelspec": {
   "display_name": "Python 2",
   "language": "python",
   "name": "python2"
  },
  "language_info": {
   "codemirror_mode": {
    "name": "ipython",
    "version": 2
   },
   "file_extension": ".py",
   "mimetype": "text/x-python",
   "name": "python",
   "nbconvert_exporter": "python",
   "pygments_lexer": "ipython2",
   "version": "2.7.12"
  }
 },
 "nbformat": 4,
 "nbformat_minor": 0
}
