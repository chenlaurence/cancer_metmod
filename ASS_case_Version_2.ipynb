{
 "cells": [
  {
   "cell_type": "markdown",
   "metadata": {},
   "source": [
    "# Argininosuccinate Synthetase (ASS1 or ARGSS) Case Study"
   ]
  },
  {
   "cell_type": "markdown",
   "metadata": {},
   "source": [
    "Last edited by: Anna, to add Gene ID--> Accession number\n",
    "\n",
    "Key Information: \n",
    "    * Uniprot ID: P00966\n",
    "    * Entrez ID:445\n",
    "    * Perturbation: Low levels of ARGSS expression observed (Bowles, Int J Cancer 2008)\n",
    "    \n",
    "\n",
    "   "
   ]
  },
  {
   "cell_type": "markdown",
   "metadata": {},
   "source": [
    "## BioEntrez"
   ]
  },
  {
   "cell_type": "code",
   "execution_count": 1,
   "metadata": {
    "collapsed": false
   },
   "outputs": [
    {
     "name": "stdout",
     "output_type": "stream",
     "text": [
      "Enter Gene Entrez ID:445\n",
      "\n",
      "Name: ASS1\n",
      "\n",
      "Location: 9q34.1\n",
      "\n",
      "Synonyms: ['ASS', 'CTLN1'] \n",
      "\n",
      "Summary: The protein encoded by this gene catalyzes the penultimate step of the arginine biosynthetic pathway. There are approximately 10 to 14 copies of this gene including the pseudogenes scattered across the human genome, among which the one located on chromosome 9 appears to be the only functional gene for argininosuccinate synthetase. Mutations in the chromosome 9 copy of this gene cause citrullinemia. Two transcript variants encoding the same protein have been found for this gene. [provided by RefSeq, Aug 2012]\n"
     ]
    }
   ],
   "source": [
    "from Bio import Entrez\n",
    "Entrez.email=\"asleung@ucsd.edu\"\n",
    "gene_entrez_id=raw_input('Enter Gene Entrez ID:')\n",
    "handle = Entrez.efetch(db=\"gene\", id=gene_entrez_id ,rettype=\"fasta\", retmode=\"xml\")\n",
    "records=Entrez.read(handle)\n",
    "#records[0].keys()\n",
    "gene_entrez_name = records[0][\"Entrezgene_gene\"][\"Gene-ref\"][\"Gene-ref_locus\"]\n",
    "gene_entrez_location = records[0][\"Entrezgene_gene\"][\"Gene-ref\"][\"Gene-ref_maploc\"]\n",
    "gene_entrez_syn = records[0][\"Entrezgene_gene\"][\"Gene-ref\"][\"Gene-ref_syn\"]\n",
    "gene_entrez_summary=records[0][\"Entrezgene_summary\"]\n",
    "print \"\\nName: %s\\n\\nLocation: %s\\n\\nSynonyms: %s \\n\\nSummary: %s\" %(gene_entrez_name, gene_entrez_location, gene_entrez_syn, gene_entrez_summary)"
   ]
  },
  {
   "cell_type": "markdown",
   "metadata": {},
   "source": [
    "#### Entrez Gene ID to Accession Numbers"
   ]
  },
  {
   "cell_type": "code",
   "execution_count": 2,
   "metadata": {
    "collapsed": true
   },
   "outputs": [],
   "source": [
    "# pip install mygene         <-- on terminal\n",
    "import mygene"
   ]
  },
  {
   "cell_type": "code",
   "execution_count": 3,
   "metadata": {
    "collapsed": true
   },
   "outputs": [],
   "source": [
    "mg = mygene.MyGeneInfo()"
   ]
  },
  {
   "cell_type": "code",
   "execution_count": 5,
   "metadata": {
    "collapsed": false
   },
   "outputs": [
    {
     "data": {
      "text/plain": [
       "{u'_id': u'445',\n",
       " u'name': u'argininosuccinate synthase 1',\n",
       " u'refseq': {u'genomic': [u'NC_000009',\n",
       "   u'NC_018920',\n",
       "   u'NG_011542',\n",
       "   u'NT_008470',\n",
       "   u'NW_004929367'],\n",
       "  u'protein': [u'NP_000041', u'NP_446464', u'XP_005272257', u'XP_011517007'],\n",
       "  u'rna': [u'NM_000050', u'NM_054012', u'XM_005272200', u'XM_011518705']},\n",
       " u'symbol': u'ASS1'}"
      ]
     },
     "execution_count": 5,
     "metadata": {},
     "output_type": "execute_result"
    }
   ],
   "source": [
    "mg.getgene(gene_entrez_id, 'name,symbol,refseq')"
   ]
  },
  {
   "cell_type": "code",
   "execution_count": 6,
   "metadata": {
    "collapsed": false
   },
   "outputs": [
    {
     "name": "stdout",
     "output_type": "stream",
     "text": [
      "These are the refseq IDs compatible with our workflow\n"
     ]
    },
    {
     "data": {
      "text/html": [
       "<div>\n",
       "<table border=\"1\" class=\"dataframe\">\n",
       "  <thead>\n",
       "    <tr style=\"text-align: right;\">\n",
       "      <th></th>\n",
       "      <th>u_refseq</th>\n",
       "    </tr>\n",
       "  </thead>\n",
       "  <tbody>\n",
       "    <tr>\n",
       "      <th>3049</th>\n",
       "      <td>NP_446464</td>\n",
       "    </tr>\n",
       "    <tr>\n",
       "      <th>3050</th>\n",
       "      <td>NaN</td>\n",
       "    </tr>\n",
       "  </tbody>\n",
       "</table>\n",
       "</div>"
      ],
      "text/plain": [
       "       u_refseq\n",
       "3049  NP_446464\n",
       "3050        NaN"
      ]
     },
     "execution_count": 6,
     "metadata": {},
     "output_type": "execute_result"
    }
   ],
   "source": [
    "import pandas as pd\n",
    "GP = pd.read_csv('DF_GEMPRO.csv', index_col=0)\n",
    "# forcing gene IDs to be read as strings\n",
    "GP['m_gene_original'] = GP['m_gene_original'].astype(str)\n",
    "GP['m_gene_entrez'] = GP['m_gene_entrez'].astype(str)\n",
    "GP['m_gene_isoform'] = GP['m_gene_isoform'].astype(str)\n",
    "GEM_PRO_available_refseq = GP[GP.m_gene_entrez == gene_entrez_id]['u_refseq']\n",
    "print \"These are the refseq IDs compatible with our workflow\"\n",
    "pd.DataFrame(GEM_PRO_available_refseq)"
   ]
  },
  {
   "cell_type": "code",
   "execution_count": 7,
   "metadata": {
    "collapsed": false
   },
   "outputs": [
    {
     "name": "stdout",
     "output_type": "stream",
     "text": [
      "Enter the accession number of the sequence you would like to download:NP_446464\n"
     ]
    }
   ],
   "source": [
    "acc=raw_input('Enter the accession number of the sequence you would like to download:')"
   ]
  },
  {
   "cell_type": "code",
   "execution_count": 8,
   "metadata": {
    "collapsed": false
   },
   "outputs": [
    {
     "name": "stdout",
     "output_type": "stream",
     "text": [
      "ID: NP_446464.1\n",
      "Name: NP_446464\n",
      "Description: argininosuccinate synthase [Homo sapiens].\n",
      "Number of features: 10\n",
      "/comment=REVIEWED REFSEQ: This record has been curated by NCBI staff. The\n",
      "reference sequence was derived from DB496935.1 and BC013224.1.\n",
      "Summary: The protein encoded by this gene catalyzes the penultimate\n",
      "step of the arginine biosynthetic pathway. There are approximately\n",
      "10 to 14 copies of this gene including the pseudogenes scattered\n",
      "across the human genome, among which the one located on chromosome\n",
      "9 appears to be the only functional gene for argininosuccinate\n",
      "synthetase. Mutations in the chromosome 9 copy of this gene cause\n",
      "citrullinemia. Two transcript variants encoding the same protein\n",
      "have been found for this gene. [provided by RefSeq, Aug 2012].\n",
      "Transcript Variant: This variant (2) lacks an exon in the 5' UTR,\n",
      "compared to variant 1. Variants 1 and 2 encode the same protein.\n",
      "Publication Note:  This RefSeq record includes a subset of the\n",
      "publications that are available for this gene. Please see the Gene\n",
      "record to access additional publications.\n",
      "##Evidence-Data-START##\n",
      "Transcript exon combination :: BC009243.2, AK293114.1 [ECO:0000332]\n",
      "RNAseq introns              :: single sample supports all introns\n",
      "                               SAMEA1965299, SAMEA1966682\n",
      "                               [ECO:0000348]\n",
      "##Evidence-Data-END##\n",
      "/sequence_version=1\n",
      "/source=Homo sapiens (human)\n",
      "/taxonomy=['Eukaryota', 'Metazoa', 'Chordata', 'Craniata', 'Vertebrata', 'Euteleostomi', 'Mammalia', 'Eutheria', 'Euarchontoglires', 'Primates', 'Haplorrhini', 'Catarrhini', 'Hominidae', 'Homo']\n",
      "/data_file_division=PRI\n",
      "/keywords=['RefSeq']\n",
      "/references=[Reference(title='Deficiency in expression and epigenetic DNA Methylation of ASS1 gene in nasopharyngeal carcinoma: negative prognostic impact and therapeutic relevance', ...), Reference(title='Argininosuccinate synthetase 1 depletion produces a metabolic state conducive to herpes simplex virus 1 infection', ...), Reference(title='ASS1 as a novel tumor suppressor gene in myxofibrosarcomas: aberrant loss via epigenetic DNA methylation confers aggressive phenotypes, negative prognostic impact, and therapeutic relevance', ...), Reference(title='Expression of argininosuccinate synthetase in patients with hepatocellular carcinoma', ...), Reference(title='Mutations and polymorphisms in the human argininosuccinate synthetase (ASS1) gene', ...), Reference(title='Argininosuccinate synthetase is reversibly inactivated by S-nitrosylation in vitro and in vivo', ...), Reference(title='Citrullinemia Type I', ...), Reference(title='Urea Cycle Disorders Overview', ...), Reference(title='Cellular and subcellular localization of enzymes of arginine metabolism in rat kidney', ...), Reference(title='Chromosome assignment of a human gene for argininosuccinate synthetase expression in Chinese hamsterxhuman somatic cell hybrids', ...), Reference(title='Somatic cell genetic evidence for the presence of a gene for citrullinemia on human chromosome 9', ...)]\n",
      "/accessions=['NP_446464']\n",
      "/db_source=REFSEQ: accession NM_054012.3\n",
      "/date=15-MAR-2015\n",
      "/organism=Homo sapiens\n",
      "/gi=16950633\n",
      "Seq('MSSKGSVVLAYSGGLDTSCILVWLKEQGYDVIAYLANIGQKEDFEEARKKALKL...TAK', IUPACProtein())\n"
     ]
    }
   ],
   "source": [
    "from Bio import SeqIO\n",
    "from Bio import Entrez\n",
    "Entrez.email='asleung@ucsd.edu'\n",
    "temp = Entrez.efetch(db=\"nucleotide\",rettype=\"gb\",id=acc)\n",
    "out = open(acc+\".fasta\",'w')\n",
    "gbseq = SeqIO.read(temp, \"genbank\")\n",
    "SeqIO.write(gbseq,out,\"fasta\")\n",
    "temp.close()\n",
    "out.close()\n",
    "print(gbseq)"
   ]
  },
  {
   "cell_type": "markdown",
   "metadata": {},
   "source": [
    "## Is there an associated Mutation to be studied?\n",
    "#### User provides own mutation. For instance, we can analyze a mutation obtained from COSMIC:\n",
    "\n",
    "Mutation S6F http://cancer.sanger.ac.uk/cosmic/gene/samples?coords=AA%3AAA&src=gene&end=413&mut=substitution_missense&ln=ASS1&all_data=&id=60232&seqlen=413&start=1\n",
    "\n",
    "Two mutation assessors can be used to assess the effect of the mutation:\n",
    "    * PROVEAN http://provean.jcvi.org/seq_submit.php\n",
    "    * SIFT http://sift.bii.a-star.edu.sg/www/SIFT_seq_submit2.html"
   ]
  },
  {
   "cell_type": "code",
   "execution_count": 10,
   "metadata": {
    "collapsed": false
   },
   "outputs": [
    {
     "name": "stdout",
     "output_type": "stream",
     "text": [
      "Which mutation assessor would you like to use (answer with PROVEAN or SIFT)?   SIFT\n",
      "Which amino acid position is it located in? 6\n",
      "Which amino acid was it initially? S\n",
      "Which amino acid was it changed to? F\n",
      "\n",
      "\n",
      "\n",
      "First open the mutation assessor website of choice\n",
      "copy and paste the amino acid FASTA file\n",
      "Submit the following for step 2: this is your input for Step 2: S6F\n"
     ]
    }
   ],
   "source": [
    "assessor_choice = raw_input(\"Which mutation assessor would you like to use (answer with PROVEAN or SIFT)?   \")\n",
    "if assessor_choice.upper() == 'SIFT':\n",
    "    mut_loc_SAA = raw_input(\"Which amino acid position is it located in? \")\n",
    "    mut_init = raw_input(\"Which amino acid was it initially? \")\n",
    "    mut_out = raw_input(\"Which amino acid was it changed to? \")\n",
    "    answer = \"this is your input for Step 2: %s%s%s\" %(mut_init, mut_loc_SAA, mut_out)\n",
    "elif assessor_choice.upper() == 'PROVEAN':\n",
    "    mut_type = raw_input(\"What type of mutation is it (Single Amino Acid [SAA], Del, In, or Indel)?   \")\n",
    "    if mut_type.upper() == 'SAA':\n",
    "        mut_loc_SAA = raw_input(\"Which amino acid position is it located in? \")\n",
    "        mut_init = raw_input(\"Which amino acid was it initially? \")\n",
    "        mut_out = raw_input(\"Which amino acid was it changed to? \")\n",
    "        answer = \"this is your input for Step 2: %s%s%s\" %(mut_init, mut_loc_SAA, mut_out)\n",
    "    elif mut_type.upper() == 'DEL':\n",
    "        mut_loc = raw_input(\"Which amino acid position was deleted? \")\n",
    "        mut_init = raw_input(\"Which amino acid was it initially? \")\n",
    "        answer = \"this is your input for Step 2: %s%sdel\" %(mut_init, mut_loc)\n",
    "    elif mut_type.upper() == 'IN':\n",
    "        mut_insert = raw_input(\"Which amino acid(s) does the insertion consist of? \")\n",
    "        mut_aa1 = raw_input(\"Which amino acid was it inserted behind of? \")\n",
    "        mut_aa1_pos =raw_input(\"What AA position was it inserted in? \")\n",
    "        mut_aa2 = raw_input(\"Which amino acid is the insertion in front of? \")\n",
    "        mut_aa2_pos =raw_input(\"What AA position was it inserted behind of? \")\n",
    "        answer = \"this is your input for Step 2: %s%s_%s%sins%s\" %(mut_aa1, mut_aa1_pos, mut_aa2, mut_aa2_pos, mut_insert)\n",
    "    elif mut_type.upper() == 'INDEL':\n",
    "        mut_num_t = raw_input(\"Is there only one deletion or a range of deletions (answer with 'one' or 'range')   \")\n",
    "        if mut_num_t.upper() == 'ONE':\n",
    "            mut_del1 = raw_input(\"What is the AA that is being deleted?   \")\n",
    "            mut_del1_pos = raw_input(\"What position is that AA in?   \")\n",
    "            mut_indel = raw_input(\"What AAs are being inserted (can insert more than one, ie MKSS)   \")\n",
    "            answer = \"this is your input for Step 2: %s%sdelins%s\" %(mut_del1, mut_del1_pos, mut_indel)\n",
    "        elif mut_num_t.upper() == 'RANGE':\n",
    "            mut_del1 = raw_input(\"What is the first AA that is being deleted?   \")\n",
    "            mut_del1_pos = raw_input(\"What position is that AA in?   \")\n",
    "            mut_del2 = raw_input(\"What is the last AA that is being deleted?   \")\n",
    "            mut_del2_pos = raw_input(\"What position is that AA in?   \")\n",
    "            mut_indel = raw_input(\"What AAs are being inserted (can insert more than one, ie MKSS)   \")\n",
    "            answer = \"this is your input for Step 2: %s%s_%s%sdelins%s\" %(mut_del1, mut_del1_pos, mut_del2, mut_del2_pos, mut_indel)\n",
    "        else:\n",
    "            print \"tbd\"\t\n",
    "    else:\n",
    "        redo = raw_input(\"please input SAA, Del, In, or Indel\")\n",
    "else:\n",
    "    print \"Please redo\"\n",
    "print '\\n\\n\\nFirst open the mutation assessor website of choice'\n",
    "print \"copy and paste the amino acid FASTA file\"\n",
    "print \"Submit the following for step 2: %s\" %(answer)"
   ]
  },
  {
   "cell_type": "markdown",
   "metadata": {},
   "source": [
    "## Visualizing the protein and its mutation"
   ]
  },
  {
   "cell_type": "markdown",
   "metadata": {},
   "source": [
    "*Note: Need to have DF_GEMPRO.csv in local directory*"
   ]
  },
  {
   "cell_type": "code",
   "execution_count": 14,
   "metadata": {
    "collapsed": false
   },
   "outputs": [
    {
     "data": {
      "text/html": [
       "<div>\n",
       "<table border=\"1\" class=\"dataframe\">\n",
       "  <thead>\n",
       "    <tr style=\"text-align: right;\">\n",
       "      <th></th>\n",
       "      <th>m_gene_original</th>\n",
       "      <th>m_gene_entrez</th>\n",
       "      <th>m_gene_isoform</th>\n",
       "      <th>u_uniprot_acc</th>\n",
       "      <th>u_isoform_id</th>\n",
       "      <th>u_refseq</th>\n",
       "      <th>u_ensp</th>\n",
       "      <th>u_seq_len</th>\n",
       "      <th>u_seq</th>\n",
       "      <th>u_reviewed</th>\n",
       "      <th>...</th>\n",
       "      <th>ssb_p_aln_coverage</th>\n",
       "      <th>ssb_p_percent_seq_ident</th>\n",
       "      <th>ssb_p_no_deletions_in_pdb</th>\n",
       "      <th>ssb_p_aln_coverage_sim</th>\n",
       "      <th>ssb_si_score</th>\n",
       "      <th>ssb_rez_score</th>\n",
       "      <th>ssb_raw_score</th>\n",
       "      <th>ssb_above_cutoffs</th>\n",
       "      <th>ssb_rank</th>\n",
       "      <th>ssb_best_file</th>\n",
       "    </tr>\n",
       "  </thead>\n",
       "  <tbody>\n",
       "    <tr>\n",
       "      <th>3049</th>\n",
       "      <td>445.1</td>\n",
       "      <td>445</td>\n",
       "      <td>1</td>\n",
       "      <td>P00966</td>\n",
       "      <td>P00966-1</td>\n",
       "      <td>NP_446464</td>\n",
       "      <td>ENSP00000253004</td>\n",
       "      <td>412</td>\n",
       "      <td>MSSKGSVVLAYSGGLDTSCILVWLKEQGYDVIAYLANIGQKEDFEE...</td>\n",
       "      <td>True</td>\n",
       "      <td>...</td>\n",
       "      <td>402</td>\n",
       "      <td>0.975728</td>\n",
       "      <td>True</td>\n",
       "      <td>402</td>\n",
       "      <td>1.565458</td>\n",
       "      <td>1.066667</td>\n",
       "      <td>2.632125</td>\n",
       "      <td>True</td>\n",
       "      <td>1</td>\n",
       "      <td>2nz2.pdb</td>\n",
       "    </tr>\n",
       "  </tbody>\n",
       "</table>\n",
       "<p>1 rows × 41 columns</p>\n",
       "</div>"
      ],
      "text/plain": [
       "     m_gene_original m_gene_entrez m_gene_isoform u_uniprot_acc u_isoform_id  \\\n",
       "3049           445.1           445              1        P00966     P00966-1   \n",
       "\n",
       "       u_refseq           u_ensp  u_seq_len  \\\n",
       "3049  NP_446464  ENSP00000253004        412   \n",
       "\n",
       "                                                  u_seq u_reviewed  \\\n",
       "3049  MSSKGSVVLAYSGGLDTSCILVWLKEQGYDVIAYLANIGQKEDFEE...       True   \n",
       "\n",
       "          ...      ssb_p_aln_coverage ssb_p_percent_seq_ident  \\\n",
       "3049      ...                     402                0.975728   \n",
       "\n",
       "     ssb_p_no_deletions_in_pdb ssb_p_aln_coverage_sim ssb_si_score  \\\n",
       "3049                      True                    402     1.565458   \n",
       "\n",
       "     ssb_rez_score ssb_raw_score ssb_above_cutoffs ssb_rank ssb_best_file  \n",
       "3049      1.066667      2.632125              True        1      2nz2.pdb  \n",
       "\n",
       "[1 rows x 41 columns]"
      ]
     },
     "execution_count": 14,
     "metadata": {},
     "output_type": "execute_result"
    }
   ],
   "source": [
    "GP = pd.read_csv('DF_GEMPRO.csv', index_col=0)\n",
    "# forcing gene IDs to be read as strings\n",
    "GP['m_gene_original'] = GP['m_gene_original'].astype(str)\n",
    "GP['m_gene_entrez'] = GP['m_gene_entrez'].astype(str)\n",
    "GP['m_gene_isoform'] = GP['m_gene_isoform'].astype(str)\n",
    "# this searches for an ID and prints out which row it is in\n",
    "\n",
    "GP[GP.u_refseq == acc]"
   ]
  },
  {
   "cell_type": "code",
   "execution_count": null,
   "metadata": {
    "collapsed": false
   },
   "outputs": [],
   "source": [
    "gene_original_id = raw_input(\"What is the gene original ID?   \")"
   ]
  },
  {
   "cell_type": "code",
   "execution_count": null,
   "metadata": {
    "collapsed": true
   },
   "outputs": [],
   "source": [
    "# This extracts all chains present\n",
    "#print \"These chains are present in the pdb structure: %s\" %(chain_strings)\n",
    "#pdb_chain_choose = raw_input(\"Which chain are you interested in?   \")\n",
    "chains_avail = GP[GP.m_gene_original == gene_original_id].p_chains\n",
    "chains_present = \"\"\n",
    "for a in chains_avail:\n",
    "    chains_present = a\n",
    "\n",
    "# This automatically displays/chooses which chain to align as it is the \"best\"; a string of A,B,C is returned\n",
    "best_pdb_chain = GP[GP.m_gene_original == gene_original_id].p_chain_uniprot_map.values[0][2]"
   ]
  },
  {
   "cell_type": "code",
   "execution_count": null,
   "metadata": {
    "collapsed": false
   },
   "outputs": [],
   "source": [
    "# load Biopython PDB packages\n",
    "\n",
    "# PDBList to download PDBs\n",
    "from Bio.PDB.PDBList import PDBList\n",
    "pdbl = PDBList()\n",
    "\n",
    "# PDBParser to load and work with files\n",
    "from Bio.PDB.PDBParser import PDBParser\n",
    "parser = PDBParser()\n",
    "\n",
    "import urllib2\n",
    "import uuid\n",
    "\n",
    "pdb_name = raw_input(\"What is the pdb ID?   \")\n",
    "\n",
    "# download pdb\n",
    "pdb_file_path = pdbl.retrieve_pdb_file(pdb_name)"
   ]
  },
  {
   "cell_type": "code",
   "execution_count": null,
   "metadata": {
    "collapsed": true
   },
   "outputs": [],
   "source": [
    "# we can put a raw input to name the structure as well\n",
    "pdb_structure = parser.get_structure('ARGSS', pdb_file_path)"
   ]
  },
  {
   "cell_type": "code",
   "execution_count": null,
   "metadata": {
    "collapsed": false
   },
   "outputs": [],
   "source": [
    "# get the ligands within this file for display\n",
    "# from: http://stackoverflow.com/questions/25718201/remove-heteroatoms-from-pdb\n",
    "ligands = []\n",
    "\n",
    "for residue in pdb_structure.get_residues():\n",
    "    tags = residue.get_full_id()\n",
    "    # tags contains a tuple with (Structure ID, Model ID, Chain ID, (Residue ID))\n",
    "    # Residue ID is a tuple with (*Hetero Field*, Residue ID, Insertion Code)\n",
    "\n",
    "    # Thus you're interested in the Hetero Field, that is empty if the residue\n",
    "    # is not a hetero atom or have some flag if it is (W for waters, H, etc.)\n",
    "    if tags[3][0] != \" \" and tags[3][0] != \"W\":\n",
    "        ligands.append(tags[3][0].split('_')[1].strip())\n",
    "    else:\n",
    "        continue\n",
    "        \n",
    "print(ligands)"
   ]
  },
  {
   "cell_type": "code",
   "execution_count": null,
   "metadata": {
    "collapsed": true
   },
   "outputs": [],
   "source": [
    "from Bio.Seq import Seq\n",
    "from Bio.SeqRecord import SeqRecord\n",
    "from Bio.Alphabet import IUPAC\n",
    "from Bio.PDB import Polypeptide"
   ]
  },
  {
   "cell_type": "code",
   "execution_count": null,
   "metadata": {
    "collapsed": true
   },
   "outputs": [],
   "source": [
    "def get_pdb_seq(structure):\n",
    "    '''\n",
    "    Takes in a Biopython structure object and returns a list of the structure's sequences\n",
    "    :param structure: Biopython structure object\n",
    "    :return: Dictionary of sequence strings with chain IDs as the key\n",
    "    '''\n",
    "    \n",
    "    structure_seqs = {}\n",
    "    \n",
    "    # loop over each chain of the PDB\n",
    "    for chain in structure[0]:\n",
    "        \n",
    "        chain_it = iter(chain) \n",
    "        \n",
    "        chain_seq = ''\n",
    "        tracker = 0\n",
    "        \n",
    "        # loop over the residues\n",
    "        for res in chain.get_residues():\n",
    "            # NOTE: you can get the residue number too\n",
    "            res_num = res.id[1]\n",
    "            \n",
    "            # double check if the residue name is a standard residue\n",
    "            # if it is not a standard residue (ie. selenomethionine),\n",
    "            # it will be filled in with an X on the next iteration)\n",
    "            if Polypeptide.is_aa(res, standard=True):\n",
    "                full_id = res.get_full_id()\n",
    "                end_tracker = full_id[3][1]\n",
    "                i_code = full_id[3][2]\n",
    "                aa = Polypeptide.three_to_one(res.get_resname())\n",
    "                \n",
    "                # tracker to fill in X's\n",
    "                if end_tracker != (tracker + 1):# and first == False:\n",
    "                    if i_code != ' ':\n",
    "                        chain_seq += aa\n",
    "                        tracker = end_tracker + 1\n",
    "                        continue\n",
    "                    else:\n",
    "                        chain_seq += 'X'*(end_tracker - tracker - 1)\n",
    "                        \n",
    "                chain_seq += aa\n",
    "                tracker = end_tracker\n",
    "                \n",
    "            else:\n",
    "                continue\n",
    "\n",
    "        structure_seqs[chain.get_id()] = chain_seq\n",
    "\n",
    "    return structure_seqs"
   ]
  },
  {
   "cell_type": "code",
   "execution_count": null,
   "metadata": {
    "collapsed": true
   },
   "outputs": [],
   "source": [
    "# represented in a single string\n",
    "pdb_sequence = get_pdb_seq(pdb_structure)\n",
    "string_pdb_seq = pdb_sequence[best_pdb_chain]"
   ]
  },
  {
   "cell_type": "code",
   "execution_count": null,
   "metadata": {
    "collapsed": false
   },
   "outputs": [],
   "source": [
    "# outputs a fasta file format\n",
    "faa_out1 = '> '\n",
    "faa_out2 = '%s pdb sequence fasta' %(pdb_name)\n",
    "faa_out3 = '\\n%s' %(string_pdb_seq)\n",
    "faa_out = faa_out1 + faa_out2 + faa_out3\n",
    "print faa_out"
   ]
  },
  {
   "cell_type": "code",
   "execution_count": null,
   "metadata": {
    "collapsed": true
   },
   "outputs": [],
   "source": [
    "file = open(faa_out2 + '.faa', \"w\")\n",
    "# note the fasta file name is named faa_out2\n",
    "file.write(faa_out)\n",
    "file.close()"
   ]
  },
  {
   "cell_type": "code",
   "execution_count": null,
   "metadata": {
    "collapsed": true
   },
   "outputs": [],
   "source": [
    "import os.path\n",
    "from Bio import SeqIO\n",
    "from Bio.Seq import Seq\n",
    "from Bio.SeqRecord import SeqRecord\n",
    "from Bio.Alphabet import IUPAC\n",
    "\n",
    "def write_fasta_file(sequence, fileout):\n",
    "    '''\n",
    "    This writes a fasta file for a SeqRecord object. It also checks if the file exists already and returns the filename.\n",
    "    \n",
    "    Input: sequence - Biopython SeqRecord object, identification - ID of the sequence.\n",
    "    Output: Filename of fasta file\n",
    "    '''\n",
    "    \n",
    "    outfile = \"%s\" % fileout\n",
    "    if os.path.isfile(outfile):\n",
    "        print 'FASTA file already exists %s' % outfile\n",
    "        return outfile\n",
    "    else:\n",
    "        SeqIO.write(sequence, outfile, \"fasta\")\n",
    "        return outfile"
   ]
  },
  {
   "cell_type": "code",
   "execution_count": null,
   "metadata": {
    "collapsed": false
   },
   "outputs": [],
   "source": [
    "# example: for gene argss\n",
    "\n",
    "# getting the IDs and making output file name \n",
    "seq_id = GP[GP.m_gene_original == gene_original_id].u_isoform_id.values[0]\n",
    "# the /tmp/ in '/tmp/' + seq_id + '.faa' puts it in a temporary folder; I will remove the temp saving for now\n",
    "seq_output = seq_id + '.faa'\n",
    "\n",
    "# getting the sequence and making it into a Biopython SeqRecord object\n",
    "seq = GP[GP.m_gene_original == gene_original_id].u_seq.values[0]\n",
    "seq_biop = SeqRecord(Seq(seq, IUPAC.protein),id=seq_id,description='uniprot sequence')\n",
    "\n",
    "# writing the SeqRecord object (formats it as FASTA file)\n",
    "out_file = write_fasta_file(seq_biop, seq_output)"
   ]
  },
  {
   "cell_type": "code",
   "execution_count": null,
   "metadata": {
    "collapsed": true
   },
   "outputs": [],
   "source": [
    "import os.path\n",
    "from Bio.Emboss.Applications import NeedleCommandline\n",
    "\n",
    "def run_alignment(fasta1_id, fasta1, fasta2_id, fasta2):\n",
    "    '''\n",
    "    Runs the needle alignment program and writes the result to a file. Returns the filename. Standard gap inputs are used.\n",
    "    \n",
    "    Input:  fasta1 - fasta file name (\"reference\" sequence)\n",
    "            fasta2 - fasta file name (what you're interested in aligning)\n",
    "    Output: alignment_file - file name of alignment\n",
    "    '''\n",
    "\n",
    "    alignment_file = \"%s_%s_align.txt\" % (fasta1_id, fasta2_id)\n",
    "    \n",
    "    if os.path.isfile(alignment_file):\n",
    "        print 'Alignment %s file already exists' % alignment_file\n",
    "        return alignment_file\n",
    "\n",
    "    else:\n",
    "        print '**RUNNING ALIGNMENT FOR %s AND %s**' % (fasta1_id, fasta2_id)\n",
    "        needle_cline = NeedleCommandline(asequence=fasta1, bsequence=fasta2, gapopen=10, gapextend=0.5, outfile=alignment_file)\n",
    "        stdout, stderr = needle_cline()\n",
    "        return alignment_file"
   ]
  },
  {
   "cell_type": "code",
   "execution_count": null,
   "metadata": {
    "collapsed": false
   },
   "outputs": [],
   "source": [
    "SEQUENCE_FILES = '/Users/LAURENCE/Desktop/Senior Design/Untitled Folder'\n",
    "UNIPROT_FILES = '/Users/LAURENCE/Desktop/Senior Design/Untitled Folder'\n",
    "PDB_SEQ_FILES = '/Users/LAURENCE/Desktop/Senior Design/Untitled Folder'\n",
    "\n",
    "# 1. get the uniprot sequence file\n",
    "seq_id = GP[GP.m_gene_original == gene_original_id].u_isoform_id.values[0]\n",
    "seq_fasta = os.path.join(UNIPROT_FILES, seq_id + '.faa')\n",
    "\n",
    "if os.path.exists(seq_fasta):\n",
    "    print('found uniprot fasta file {}'.format(seq_fasta))\n",
    "    \n",
    "# 2. get the pdb sequence file\n",
    "pdb_id = GP[GP.m_gene_original == gene_original_id].ssb_best_file.values[0].strip('.pdb')\n",
    "pdb_fasta = os.path.join(PDB_SEQ_FILES, faa_out2 + '.faa')\n",
    "\n",
    "if os.path.exists(pdb_fasta):\n",
    "    print('found pdb fasta file {}'.format(pdb_fasta))\n",
    "    \n",
    "# 3. run the alignment using the function above\n",
    "os.chdir('/tmp/')\n",
    "alignment_filename = run_alignment(seq_id, seq_fasta, pdb_id, pdb_fasta)"
   ]
  },
  {
   "cell_type": "code",
   "execution_count": null,
   "metadata": {
    "collapsed": false
   },
   "outputs": [],
   "source": [
    "!cat $alignment_filename"
   ]
  },
  {
   "cell_type": "code",
   "execution_count": null,
   "metadata": {
    "collapsed": true
   },
   "outputs": [],
   "source": [
    "import numpy as np\n",
    "from Bio import AlignIO\n",
    "from collections import defaultdict\n",
    "\n",
    "def get_alignment_allpos_df(alignment_file, a_seq_id=None, b_seq_id=None):\n",
    "    '''\n",
    "    Takes in a needle alignment file and returns a pandas dataframe of the results\n",
    "    Input: alignment_file - the path to the alignment file, \n",
    "            a_seq_id - optional ID of the reference sequence, \n",
    "            b_seq_id - optional ID of the second sequence\n",
    "    Output: alignment_df - a pandas dataframe of the alignment results\n",
    "    '''\n",
    "    alignments = list(AlignIO.parse(alignment_file, \"emboss\"))\n",
    "\n",
    "    appender = defaultdict(dict)\n",
    "    idx = 0\n",
    "    for alignment in alignments:\n",
    "    #         if not switch:\n",
    "        if not a_seq_id:\n",
    "            a_seq_id = list(alignment)[0].id\n",
    "        a_seq = str(list(alignment)[0].seq)\n",
    "        if not b_seq_id:\n",
    "            b_seq_id = list(alignment)[1].id\n",
    "        b_seq = str(list(alignment)[1].seq)\n",
    "\n",
    "        a_idx = 1\n",
    "        b_idx = 1\n",
    "\n",
    "        for i, (a,b) in enumerate(zip(a_seq,b_seq)):\n",
    "            if a == b and a != '-' and b != '-':\n",
    "                aa_flag = 'match'\n",
    "            if a != b and a == '-' and b != '-':\n",
    "                aa_flag = 'insertion'\n",
    "            if a != b and a != '-' and b == '-':\n",
    "                aa_flag = 'deletion'\n",
    "            if a != b and a != '-' and b == 'X':\n",
    "                aa_flag = 'unresolved'\n",
    "            if a != b and b != '-' and a == 'X':\n",
    "                aa_flag = 'unresolved'\n",
    "            elif a != b and a != '-' and b != '-':\n",
    "                aa_flag = 'mutation'\n",
    "                \n",
    "            appender[idx]['Uniprot_ID'] = a_seq_id\n",
    "            appender[idx]['Structure'] = b_seq_id\n",
    "            appender[idx]['type'] = aa_flag\n",
    "            \n",
    "            if aa_flag == 'match' or aa_flag == 'unresolved' or aa_flag == 'mutation':\n",
    "                appender[idx]['Uniprot_sequence'] = a\n",
    "                appender[idx]['Uniprot_sequence_position'] = a_idx\n",
    "                appender[idx]['PDB_sequence'] = b\n",
    "                appender[idx]['PDB_sequence_position'] = b_idx\n",
    "                a_idx += 1\n",
    "                b_idx += 1\n",
    "\n",
    "            if aa_flag == 'deletion':\n",
    "                appender[idx]['Uniprot_sequence'] = a\n",
    "                appender[idx]['Uniprot_sequence_position'] = a_idx\n",
    "                a_idx += 1\n",
    "\n",
    "            if aa_flag == 'insertion':\n",
    "                appender[idx]['PDB_sequence'] = b\n",
    "                appender[idx]['PDB_sequence_position'] = b_idx\n",
    "                b_idx += 1\n",
    "            \n",
    "            idx += 1\n",
    "\n",
    "    alignment_df = pd.DataFrame.from_dict(appender, orient='index')\n",
    "    alignment_df = alignment_df[['Uniprot_ID', 'Structure', 'type', 'Uniprot_sequence', 'Uniprot_sequence_position', 'PDB_sequence', 'PDB_sequence_position']].fillna(value=np.nan)\n",
    "    \n",
    "    return alignment_df"
   ]
  },
  {
   "cell_type": "code",
   "execution_count": null,
   "metadata": {
    "collapsed": true
   },
   "outputs": [],
   "source": [
    "# load Biopython PDB packages\n",
    "\n",
    "# PDBList to download PDBs\n",
    "from Bio.PDB.PDBList import PDBList\n",
    "pdbl = PDBList()\n",
    "\n",
    "# PDBParser to load and work with files\n",
    "from Bio.PDB.PDBParser import PDBParser\n",
    "parser = PDBParser()\n",
    "\n",
    "import urllib2\n",
    "import uuid"
   ]
  },
  {
   "cell_type": "code",
   "execution_count": null,
   "metadata": {
    "collapsed": true
   },
   "outputs": [],
   "source": [
    "structure = parser.get_structure('someprotein', pdb_file_path)"
   ]
  },
  {
   "cell_type": "code",
   "execution_count": null,
   "metadata": {
    "collapsed": true
   },
   "outputs": [],
   "source": [
    "def get_pdb_seq2(structure):\n",
    "    '''\n",
    "    Takes in a Biopython structure object and returns a list of the structure's sequences\n",
    "    :param structure: Biopython structure object\n",
    "    :return: Dictionary of sequence strings with chain IDs as the key\n",
    "    '''\n",
    "    \n",
    "    structure_seqs = {}\n",
    "    \n",
    "    # loop over each chain of the PDB\n",
    "    for chain in structure[0]:\n",
    "        \n",
    "        chain_it = iter(chain) \n",
    "        \n",
    "        chain_seq = []\n",
    "        tracker = 0\n",
    "        \n",
    "        # loop over the residues\n",
    "        for res in chain.get_residues():\n",
    "            # NOTE: you can get the residue number too\n",
    "            res_num = res.id[1]\n",
    "            \n",
    "            # double check if the residue name is a standard residue\n",
    "            # if it is not a standard residue (ie. selenomethionine),\n",
    "            # it will be filled in with an X on the next iteration)\n",
    "            # TODO: except when it's at the beginning or end...\n",
    "            if Polypeptide.is_aa(res, standard=True):\n",
    "                full_id = res.get_full_id()\n",
    "                end_tracker = full_id[3][1]\n",
    "                i_code = full_id[3][2]\n",
    "                aa = Polypeptide.three_to_one(res.get_resname())\n",
    "                \n",
    "                # tracker to fill in X's\n",
    "                if end_tracker != (tracker + 1):\n",
    "                    if i_code != ' ':\n",
    "                        chain_seq.append((aa,end_tracker))\n",
    "                        tracker = end_tracker + 1\n",
    "                        continue\n",
    "                    else:\n",
    "                        xes = 'X'*(end_tracker - tracker - 1)\n",
    "                        for x in xes:\n",
    "                            chain_seq.append((x,end_tracker))\n",
    "                        \n",
    "                chain_seq.append((aa,end_tracker))\n",
    "                tracker = end_tracker\n",
    "                \n",
    "            else:\n",
    "                continue\n",
    "\n",
    "        structure_seqs[chain.get_id()] = chain_seq\n",
    "\n",
    "    return structure_seqs"
   ]
  },
  {
   "cell_type": "code",
   "execution_count": null,
   "metadata": {
    "collapsed": true
   },
   "outputs": [],
   "source": [
    "my_structure_sequence = get_pdb_seq2(structure)\n",
    "from Bio.PDB import Selection"
   ]
  },
  {
   "cell_type": "code",
   "execution_count": null,
   "metadata": {
    "collapsed": false
   },
   "outputs": [],
   "source": [
    "get_alignment_allpos_df(alignment_filename).head(30) #How many rows does the user want to see?"
   ]
  },
  {
   "cell_type": "code",
   "execution_count": null,
   "metadata": {
    "collapsed": false
   },
   "outputs": [],
   "source": [
    "# again, open debate as to how this can be called\n",
    "my_mutation_resnum = int(raw_input(\"What is the corresponding mutation on the PDB structure?   \"))"
   ]
  },
  {
   "cell_type": "code",
   "execution_count": null,
   "metadata": {
    "collapsed": false
   },
   "outputs": [],
   "source": [
    "# let's get the info from the structure\n",
    "my_mutation_residue = structure[0][best_pdb_chain][my_mutation_resnum]\n",
    "#print my_mutation_residue\n",
    "# we can use the Selection class to select all atoms of this residue\n",
    "# 'A' here stands for ATOM (http://biopython.org/DIST/docs/api/Bio.PDB.Selection-module.html)\n",
    "atom_list = Selection.unfold_entities(my_mutation_residue, 'A')\n",
    "\n",
    "# then you can format this information for PV:\n",
    "for a in atom_list:\n",
    "    print('{}.{}.{}').format('A',my_mutation_resnum,a.id)"
   ]
  },
  {
   "cell_type": "code",
   "execution_count": null,
   "metadata": {
    "collapsed": false
   },
   "outputs": [],
   "source": [
    "# how to guide user through this??\n",
    "label_input = raw_input(\"Copy and paste the desired label  \")"
   ]
  },
  {
   "cell_type": "code",
   "execution_count": null,
   "metadata": {
    "collapsed": false
   },
   "outputs": [],
   "source": [
    "print \"These are the chains present in the structure:   \" + chains_present\n",
    "chain_display = raw_input(\"Would you like to display all chains (answer with yes or no)?   \")\n",
    "if chain_display.upper() == 'YES':\n",
    "    cnames_pv_var = ''\n",
    "    structure_var = 'structure'\n",
    "    chain_iso = ''\n",
    "elif chain_display.upper() == 'NO':\n",
    "    cnames = raw_input(\"Type in the chain you would like to display:   \")\n",
    "    cnames_pv = \"cname: '\" + cnames + \"'\"\n",
    "    cnames_pv_var = \"var chain = structure.select({cname: '\" + cnames + \"'})\"\n",
    "    structure_var = 'chain'\n",
    "else:\n",
    "    print \"not sure what's here yet...\""
   ]
  },
  {
   "cell_type": "code",
   "execution_count": null,
   "metadata": {
    "collapsed": false
   },
   "outputs": [],
   "source": [
    "bind_site_avail = raw_input(\"Is there a binding or active site you would like to display (answer with yes or no)?   \")\n",
    "if bind_site_avail.upper() == 'YES':\n",
    "    chain_res_disp_choice = raw_input(\"Would you like to display the site on both chains (answer with yes or no)?   \")\n",
    "    if chain_res_disp_choice.upper() == 'YES':\n",
    "        chain_iso = ''\n",
    "        is_res = ''\n",
    "    elif chain_res_disp_choice.upper() == 'NO':\n",
    "        chain_res_disp_chain_choice = raw_input(\"Which chain would you like to display the site on?   \")\n",
    "        is_res = ''\n",
    "    else:\n",
    "        print \"tbd\"\n",
    "elif bind_site_avail.upper() == 'NO':\n",
    "    site_start = 0\n",
    "    site_end = 0\n",
    "    rnums_script = ''\n",
    "    is_res = '//'\n",
    "else:\n",
    "    print \"tbd\"\n",
    "    \n",
    "print chain_iso\n",
    "print rnums_script"
   ]
  },
  {
   "cell_type": "code",
   "execution_count": null,
   "metadata": {
    "collapsed": false
   },
   "outputs": [],
   "source": [
    "from IPython.display import Image\n",
    "binding_url = ('http://www.rcsb.org/pdb/explore/remediatedChain.do?structureId=' + '%s' + '&chainId=A') %(pdb_name)\n",
    "Image(url = binding_url)"
   ]
  },
  {
   "cell_type": "code",
   "execution_count": null,
   "metadata": {
    "collapsed": false
   },
   "outputs": [],
   "source": [
    "binding_site_list = raw_input(\"List the sequences of the active sites (ie 6, 7, 120-134):   \")\n",
    "binding_site_list_strip = binding_site_list.replace(' ','')\n",
    "mylist = binding_site_list_strip.split(',')\n",
    "indexx = 0\n",
    "numberz = ''\n",
    "for number in mylist:\n",
    "    if '-' not in mylist[indexx]:\n",
    "        numberz += ', ' + mylist[indexx]\n",
    "    if '-' in mylist[indexx]:\n",
    "        indexxx = 0\n",
    "        for everydigit in mylist[indexx]:\n",
    "            if everydigit == '-':\n",
    "                hyphen_pos = indexxx\n",
    "            indexxx = indexxx + 1\n",
    "        rnums_seq_script = mylist[indexx][0:hyphen_pos]\n",
    "        num_counter = mylist[indexx][0:hyphen_pos]\n",
    "        numberz += ', '+ num_counter\n",
    "        for y in range(int(mylist[indexx][(hyphen_pos + 1):]) - int(mylist[indexx][0:hyphen_pos])):\n",
    "            num_counter = str(int(num_counter) + 1)\n",
    "            numberz += ', ' + str(num_counter)\n",
    "    indexx = indexx + 1\n",
    "tidied_output = numberz[2:]\n",
    "rnums_script = \"rnums : [\" + tidied_output + \"]\"\n",
    "print rnums_script"
   ]
  },
  {
   "cell_type": "code",
   "execution_count": null,
   "metadata": {
    "collapsed": true
   },
   "outputs": [],
   "source": [
    "class PDBViewer_options(object):\n",
    "    '''\n",
    "    Contributed by: Ali Ebrahim\n",
    "    '''\n",
    "    \n",
    "    def __init__(self, f):\n",
    "        self.pdb = open(f).read()\n",
    "\n",
    "    def _repr_html_(self):\n",
    "        div_id = str(uuid.uuid4())\n",
    "        \n",
    "        return \"\"\"<div id=\"%s\" style=\"width: 800px; height: 600px\">\n",
    "    <div>\n",
    "    \n",
    "        <!--testing static label-->\n",
    "        <style>\n",
    "            .static-label {\n",
    "                position: absolute;\n",
    "                background: #0000;\n",
    "                text-align: right;\n",
    "                z-index: 1;\n",
    "                font-weight: bold;\n",
    "                width: 800px;\n",
    "            }\n",
    "        </style>\n",
    "        \n",
    "        <script>\n",
    "            require.config({\n",
    "                paths: {\n",
    "                    \"pv\": \"//biasmv.github.io/pv/js/pv.min\"\n",
    "                }\n",
    "            });\n",
    "            \n",
    "            require([\"pv\"], function(pv) {\n",
    "                pdb = \"%s\";\n",
    "                \n",
    "                <!--append the static label to the parent-->\n",
    "                var parent = document.getElementById('%s');\n",
    "                var staticLabel = document.createElement('div');\n",
    "                staticLabel.innerHTML = 'myProtein';\n",
    "                staticLabel.className = 'static-label';\n",
    "                parent.appendChild(staticLabel);\n",
    "                \n",
    "                <!--load the structure-->\n",
    "                structure = pv.io.pdb(pdb);\n",
    "                \n",
    "                // select a chain to display and see if user wants to only display one\n",
    "                %s\n",
    "                \n",
    "                <!--choose atom to label-->\n",
    "                var carbonAlpha = structure.atom(\"A.6.CA\");\n",
    "                \n",
    "                // choose a ligand to color (later on), if want to see on both chains remove cname\n",
    "                %s var residues = structure.select({%s %s});\n",
    "                \n",
    "                viewer = pv.Viewer(parent, {\n",
    "                    width: '800',\n",
    "                    height: '600',\n",
    "                    antialias: true,\n",
    "                    outline: true,\n",
    "                    quality: 'medium',\n",
    "                    style: 'hemilight',\n",
    "                    background: 'white',\n",
    "                    animateTime: 500,\n",
    "                    selectionColor: '#f00'\n",
    "                });\n",
    "            \n",
    "                \n",
    "                <!--misc viewer functions-->\n",
    "                viewer.fitParent();\n",
    "                \n",
    "                // add cartoon visualization\n",
    "                viewer.cartoon('molecule', %s);\n",
    "                \n",
    "                // color the selected residues in red, and display as red lines\n",
    "                %s viewer.spheres('residues', residues,  { color: pv.color.uniform('red') });\n",
    "                \n",
    "                // center on the structure\n",
    "                viewer.centerOn(%s);\n",
    "                \n",
    "                <!--atom label options-->\n",
    "                var options = {\n",
    "                 fontSize : 16, fontColor: '#f22', backgroundAlpha : 0.4\n",
    "                };\n",
    "                \n",
    "                <!--display the label-->\n",
    "                viewer.label('label', carbonAlpha.qualifiedName(), carbonAlpha.pos(), options);\n",
    "                \n",
    "                <!--not sure how the auto zoom works-->\n",
    "                viewer.autoZoom();\n",
    "            });\n",
    "        </script>\n",
    "        \"\"\" % (div_id, self.pdb.replace(\"\\n\", \"\\\\n\"), div_id, cnames_pv_var, is_res, chain_iso, rnums_script, structure_var, is_res, structure_var)"
   ]
  },
  {
   "cell_type": "code",
   "execution_count": null,
   "metadata": {
    "collapsed": false
   },
   "outputs": [],
   "source": [
    "PDBViewer_options(pdb_file_path)"
   ]
  },
  {
   "cell_type": "markdown",
   "metadata": {},
   "source": [
    "## Cobrapy and ESCHER Map"
   ]
  },
  {
   "cell_type": "code",
   "execution_count": null,
   "metadata": {
    "collapsed": false
   },
   "outputs": [],
   "source": [
    "import escher\n",
    "import escher.urls\n",
    "import cobra\n",
    "import cobra.test\n",
    "import json\n",
    "import os\n",
    "from IPython.display import HTML\n",
    "\n",
    "# Make this local\n",
    "b = escher.Builder(map_json='/Users/LAURENCE/Desktop/Senior Design/RECON1.Central.json')\n",
    "b.display_in_browser(scroll_behavior='pan')"
   ]
  },
  {
   "cell_type": "code",
   "execution_count": null,
   "metadata": {
    "collapsed": false
   },
   "outputs": [],
   "source": [
    "model = cobra.io.load_matlab_model('/Users/LAURENCE/Desktop/Senior Design/modelRecon2', 'modelRecon2')"
   ]
  },
  {
   "cell_type": "markdown",
   "metadata": {},
   "source": [
    "### Default is set to optimize growth? "
   ]
  },
  {
   "cell_type": "code",
   "execution_count": null,
   "metadata": {
    "collapsed": false
   },
   "outputs": [],
   "source": [
    "solution = model.optimize()\n",
    "print('Growth rate: %.2f' % solution.f)"
   ]
  },
  {
   "cell_type": "code",
   "execution_count": null,
   "metadata": {
    "collapsed": false
   },
   "outputs": [],
   "source": [
    "b = escher.Builder(map_json='/Users/LAURENCE/Desktop/Senior Design/RECON1.Central.json',\n",
    "                   reaction_data=solution.x_dict,\n",
    "                   # color and size according to the absolute value\n",
    "                   reaction_styles=['color', 'size', 'abs', 'text'],\n",
    "                   # change the default colors\n",
    "                   reaction_scale=[{'type': 'min', 'color': 'red', 'size': 4},\n",
    "                                   {'type': 'mean', 'color': 'green', 'size': 20},\n",
    "                                   {'type': 'max', 'color': 'blue', 'size': 40}],\n",
    "                   # only show the primary metabolites\n",
    "                   hide_secondary_metabolites=True)\n",
    "b.display_in_browser(scroll_behavior='pan')"
   ]
  },
  {
   "cell_type": "markdown",
   "metadata": {},
   "source": [
    "#### Normalizing reaction fluxes for better ESCHER visualization"
   ]
  },
  {
   "cell_type": "code",
   "execution_count": null,
   "metadata": {
    "collapsed": false
   },
   "outputs": [],
   "source": [
    "### Normalizing the values in solution.x_dict\n",
    "import math\n",
    "normalized_x_dict = {}\n",
    "for a, b in solution.x_dict.iteritems():\n",
    "    if b == 0:\n",
    "        solution.x_dict[a]==0\n",
    "    elif b != 0:\n",
    "        solution.x_dict[a] = math.log10(abs(b)*1000000)\n",
    "    else:\n",
    "        print \"error\""
   ]
  },
  {
   "cell_type": "code",
   "execution_count": null,
   "metadata": {
    "collapsed": false
   },
   "outputs": [],
   "source": [
    "### Remapping\n",
    "b = escher.Builder(map_json='/Users/LAURENCE/Desktop/Senior Design/RECON1.Central.json',\n",
    "                   reaction_data=solution.x_dict,\n",
    "                   # color and size according to the absolute value\n",
    "                   reaction_styles=['color', 'size', 'abs', 'text'],\n",
    "                   # change the default colors\n",
    "                   reaction_scale=[{'type': 'min', 'color': 'red', 'size': 4},\n",
    "                                   {'type': 'mean', 'color': 'green', 'size': 20},\n",
    "                                   {'type': 'max', 'color': 'blue', 'size': 40}],\n",
    "                   # only show the primary metabolites\n",
    "                   hide_secondary_metabolites=True)\n",
    "b.display_in_browser(scroll_behavior='pan')"
   ]
  },
  {
   "cell_type": "markdown",
   "metadata": {},
   "source": [
    "### Deleting ARGSS (SIFT/PROVEAN also indicates mutation is deleterious -- treat as gene ko)"
   ]
  },
  {
   "cell_type": "code",
   "execution_count": null,
   "metadata": {
    "collapsed": true
   },
   "outputs": [],
   "source": [
    "model_modified = model.copy()\n",
    "# for example, delete a reaction\n",
    "model_modified.reactions.ARGSS.delete()"
   ]
  },
  {
   "cell_type": "code",
   "execution_count": null,
   "metadata": {
    "collapsed": false
   },
   "outputs": [],
   "source": [
    "model_modified.reactions.get_by_id(\"ARGSS\")\n",
    "# An error indicates that the gene has succesfully been deleted"
   ]
  },
  {
   "cell_type": "code",
   "execution_count": null,
   "metadata": {
    "collapsed": false
   },
   "outputs": [],
   "source": [
    "b_m = escher.Builder(map_json='/Users/LAURENCE/Desktop/Senior Design/RECON1.Central.json',\n",
    "                   model=model_modified,\n",
    "                   # in the map, highlight all reactions that are missing from the model\n",
    "                   highlight_missing=True)\n",
    "b_m.display_in_browser()"
   ]
  },
  {
   "cell_type": "markdown",
   "metadata": {},
   "source": [
    "### Newly optimized growth rate with gene knockout"
   ]
  },
  {
   "cell_type": "code",
   "execution_count": null,
   "metadata": {
    "collapsed": false
   },
   "outputs": [],
   "source": [
    "solution_m = model_modified.optimize()\n",
    "print('Growth rate: %.2f' % solution.f)\n",
    "b_m.display_in_browser()"
   ]
  },
  {
   "cell_type": "code",
   "execution_count": null,
   "metadata": {
    "collapsed": true
   },
   "outputs": [],
   "source": []
  }
 ],
 "metadata": {
  "kernelspec": {
   "display_name": "Python 2",
   "language": "python",
   "name": "python2"
  },
  "language_info": {
   "codemirror_mode": {
    "name": "ipython",
    "version": 2
   },
   "file_extension": ".py",
   "mimetype": "text/x-python",
   "name": "python",
   "nbconvert_exporter": "python",
   "pygments_lexer": "ipython2",
   "version": "2.7.11"
  }
 },
 "nbformat": 4,
 "nbformat_minor": 0
}
